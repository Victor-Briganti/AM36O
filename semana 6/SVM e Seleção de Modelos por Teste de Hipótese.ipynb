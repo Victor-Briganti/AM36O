{
 "cells": [
  {
   "cell_type": "code",
   "execution_count": 24,
   "id": "be5953c8-c746-4ffa-85cc-243b3708e442",
   "metadata": {},
   "outputs": [],
   "source": [
    "import pandas as pd\n",
    "import numpy as np\n",
    "\n",
    "from sklearn.metrics import accuracy_score, classification_report, f1_score\n",
    "from sklearn.preprocessing import StandardScaler\n",
    "from sklearn.model_selection import train_test_split, StratifiedKFold\n",
    "from joblib import Parallel, delayed\n",
    "from tqdm.notebook import tqdm\n",
    "\n",
    "from utils import do_cv_knn"
   ]
  },
  {
   "cell_type": "code",
   "execution_count": 3,
   "id": "07b74202-f3f8-4526-8494-05e2dcabf12c",
   "metadata": {},
   "outputs": [
    {
     "data": {
      "text/html": [
       "<div>\n",
       "<style scoped>\n",
       "    .dataframe tbody tr th:only-of-type {\n",
       "        vertical-align: middle;\n",
       "    }\n",
       "\n",
       "    .dataframe tbody tr th {\n",
       "        vertical-align: top;\n",
       "    }\n",
       "\n",
       "    .dataframe thead th {\n",
       "        text-align: right;\n",
       "    }\n",
       "</style>\n",
       "<table border=\"1\" class=\"dataframe\">\n",
       "  <thead>\n",
       "    <tr style=\"text-align: right;\">\n",
       "      <th></th>\n",
       "      <th>AGE_50</th>\n",
       "      <th>MD_50</th>\n",
       "      <th>SBP_50</th>\n",
       "      <th>DBP_50</th>\n",
       "      <th>HT_50</th>\n",
       "      <th>WT_50</th>\n",
       "      <th>CHOL_50</th>\n",
       "      <th>SES</th>\n",
       "      <th>CL_STATUS</th>\n",
       "      <th>MD_62</th>\n",
       "      <th>SBP_62</th>\n",
       "      <th>DBP_62</th>\n",
       "      <th>CHOL_62</th>\n",
       "      <th>WT_62</th>\n",
       "      <th>IHD_DX</th>\n",
       "      <th>DEATH</th>\n",
       "    </tr>\n",
       "  </thead>\n",
       "  <tbody>\n",
       "    <tr>\n",
       "      <th>0</th>\n",
       "      <td>42</td>\n",
       "      <td>1</td>\n",
       "      <td>110</td>\n",
       "      <td>65</td>\n",
       "      <td>64</td>\n",
       "      <td>147</td>\n",
       "      <td>291</td>\n",
       "      <td>2</td>\n",
       "      <td>8</td>\n",
       "      <td>4</td>\n",
       "      <td>120</td>\n",
       "      <td>78</td>\n",
       "      <td>271</td>\n",
       "      <td>146</td>\n",
       "      <td>2</td>\n",
       "      <td>1</td>\n",
       "    </tr>\n",
       "    <tr>\n",
       "      <th>1</th>\n",
       "      <td>53</td>\n",
       "      <td>1</td>\n",
       "      <td>130</td>\n",
       "      <td>72</td>\n",
       "      <td>69</td>\n",
       "      <td>167</td>\n",
       "      <td>278</td>\n",
       "      <td>1</td>\n",
       "      <td>6</td>\n",
       "      <td>2</td>\n",
       "      <td>122</td>\n",
       "      <td>68</td>\n",
       "      <td>250</td>\n",
       "      <td>165</td>\n",
       "      <td>9</td>\n",
       "      <td>1</td>\n",
       "    </tr>\n",
       "    <tr>\n",
       "      <th>2</th>\n",
       "      <td>53</td>\n",
       "      <td>2</td>\n",
       "      <td>120</td>\n",
       "      <td>90</td>\n",
       "      <td>70</td>\n",
       "      <td>222</td>\n",
       "      <td>342</td>\n",
       "      <td>4</td>\n",
       "      <td>8</td>\n",
       "      <td>1</td>\n",
       "      <td>132</td>\n",
       "      <td>90</td>\n",
       "      <td>304</td>\n",
       "      <td>223</td>\n",
       "      <td>2</td>\n",
       "      <td>1</td>\n",
       "    </tr>\n",
       "    <tr>\n",
       "      <th>3</th>\n",
       "      <td>48</td>\n",
       "      <td>4</td>\n",
       "      <td>120</td>\n",
       "      <td>80</td>\n",
       "      <td>72</td>\n",
       "      <td>229</td>\n",
       "      <td>239</td>\n",
       "      <td>4</td>\n",
       "      <td>8</td>\n",
       "      <td>2</td>\n",
       "      <td>118</td>\n",
       "      <td>68</td>\n",
       "      <td>209</td>\n",
       "      <td>227</td>\n",
       "      <td>3</td>\n",
       "      <td>1</td>\n",
       "    </tr>\n",
       "    <tr>\n",
       "      <th>4</th>\n",
       "      <td>53</td>\n",
       "      <td>3</td>\n",
       "      <td>118</td>\n",
       "      <td>74</td>\n",
       "      <td>66</td>\n",
       "      <td>134</td>\n",
       "      <td>243</td>\n",
       "      <td>3</td>\n",
       "      <td>8</td>\n",
       "      <td>5</td>\n",
       "      <td>118</td>\n",
       "      <td>56</td>\n",
       "      <td>261</td>\n",
       "      <td>138</td>\n",
       "      <td>2</td>\n",
       "      <td>1</td>\n",
       "    </tr>\n",
       "    <tr>\n",
       "      <th>...</th>\n",
       "      <td>...</td>\n",
       "      <td>...</td>\n",
       "      <td>...</td>\n",
       "      <td>...</td>\n",
       "      <td>...</td>\n",
       "      <td>...</td>\n",
       "      <td>...</td>\n",
       "      <td>...</td>\n",
       "      <td>...</td>\n",
       "      <td>...</td>\n",
       "      <td>...</td>\n",
       "      <td>...</td>\n",
       "      <td>...</td>\n",
       "      <td>...</td>\n",
       "      <td>...</td>\n",
       "      <td>...</td>\n",
       "    </tr>\n",
       "    <tr>\n",
       "      <th>195</th>\n",
       "      <td>50</td>\n",
       "      <td>1</td>\n",
       "      <td>115</td>\n",
       "      <td>80</td>\n",
       "      <td>66</td>\n",
       "      <td>148</td>\n",
       "      <td>300</td>\n",
       "      <td>2</td>\n",
       "      <td>8</td>\n",
       "      <td>1</td>\n",
       "      <td>115</td>\n",
       "      <td>65</td>\n",
       "      <td>273</td>\n",
       "      <td>152</td>\n",
       "      <td>0</td>\n",
       "      <td>0</td>\n",
       "    </tr>\n",
       "    <tr>\n",
       "      <th>196</th>\n",
       "      <td>23</td>\n",
       "      <td>1</td>\n",
       "      <td>110</td>\n",
       "      <td>70</td>\n",
       "      <td>69</td>\n",
       "      <td>137</td>\n",
       "      <td>120</td>\n",
       "      <td>3</td>\n",
       "      <td>8</td>\n",
       "      <td>2</td>\n",
       "      <td>112</td>\n",
       "      <td>76</td>\n",
       "      <td>198</td>\n",
       "      <td>153</td>\n",
       "      <td>0</td>\n",
       "      <td>0</td>\n",
       "    </tr>\n",
       "    <tr>\n",
       "      <th>197</th>\n",
       "      <td>20</td>\n",
       "      <td>3</td>\n",
       "      <td>130</td>\n",
       "      <td>80</td>\n",
       "      <td>66</td>\n",
       "      <td>150</td>\n",
       "      <td>210</td>\n",
       "      <td>5</td>\n",
       "      <td>0</td>\n",
       "      <td>1</td>\n",
       "      <td>130</td>\n",
       "      <td>85</td>\n",
       "      <td>274</td>\n",
       "      <td>158</td>\n",
       "      <td>0</td>\n",
       "      <td>0</td>\n",
       "    </tr>\n",
       "    <tr>\n",
       "      <th>198</th>\n",
       "      <td>46</td>\n",
       "      <td>3</td>\n",
       "      <td>140</td>\n",
       "      <td>84</td>\n",
       "      <td>66</td>\n",
       "      <td>138</td>\n",
       "      <td>130</td>\n",
       "      <td>4</td>\n",
       "      <td>6</td>\n",
       "      <td>2</td>\n",
       "      <td>148</td>\n",
       "      <td>88</td>\n",
       "      <td>160</td>\n",
       "      <td>157</td>\n",
       "      <td>0</td>\n",
       "      <td>0</td>\n",
       "    </tr>\n",
       "    <tr>\n",
       "      <th>199</th>\n",
       "      <td>36</td>\n",
       "      <td>1</td>\n",
       "      <td>100</td>\n",
       "      <td>70</td>\n",
       "      <td>70</td>\n",
       "      <td>157</td>\n",
       "      <td>260</td>\n",
       "      <td>3</td>\n",
       "      <td>8</td>\n",
       "      <td>3</td>\n",
       "      <td>120</td>\n",
       "      <td>86</td>\n",
       "      <td>251</td>\n",
       "      <td>152</td>\n",
       "      <td>0</td>\n",
       "      <td>0</td>\n",
       "    </tr>\n",
       "  </tbody>\n",
       "</table>\n",
       "<p>200 rows × 16 columns</p>\n",
       "</div>"
      ],
      "text/plain": [
       "     AGE_50  MD_50  SBP_50  DBP_50  HT_50  WT_50  CHOL_50  SES  CL_STATUS  \\\n",
       "0        42      1     110      65     64    147      291    2          8   \n",
       "1        53      1     130      72     69    167      278    1          6   \n",
       "2        53      2     120      90     70    222      342    4          8   \n",
       "3        48      4     120      80     72    229      239    4          8   \n",
       "4        53      3     118      74     66    134      243    3          8   \n",
       "..      ...    ...     ...     ...    ...    ...      ...  ...        ...   \n",
       "195      50      1     115      80     66    148      300    2          8   \n",
       "196      23      1     110      70     69    137      120    3          8   \n",
       "197      20      3     130      80     66    150      210    5          0   \n",
       "198      46      3     140      84     66    138      130    4          6   \n",
       "199      36      1     100      70     70    157      260    3          8   \n",
       "\n",
       "     MD_62  SBP_62  DBP_62  CHOL_62  WT_62  IHD_DX  DEATH  \n",
       "0        4     120      78      271    146       2      1  \n",
       "1        2     122      68      250    165       9      1  \n",
       "2        1     132      90      304    223       2      1  \n",
       "3        2     118      68      209    227       3      1  \n",
       "4        5     118      56      261    138       2      1  \n",
       "..     ...     ...     ...      ...    ...     ...    ...  \n",
       "195      1     115      65      273    152       0      0  \n",
       "196      2     112      76      198    153       0      0  \n",
       "197      1     130      85      274    158       0      0  \n",
       "198      2     148      88      160    157       0      0  \n",
       "199      3     120      86      251    152       0      0  \n",
       "\n",
       "[200 rows x 16 columns]"
      ]
     },
     "execution_count": 3,
     "metadata": {},
     "output_type": "execute_result"
    }
   ],
   "source": [
    "df = pd.read_csv('heart.csv')\n",
    "df"
   ]
  },
  {
   "cell_type": "code",
   "execution_count": 4,
   "id": "dca2c30d-b4d8-4614-828f-bebfaed476b4",
   "metadata": {},
   "outputs": [
    {
     "data": {
      "text/plain": [
       "0"
      ]
     },
     "execution_count": 4,
     "metadata": {},
     "output_type": "execute_result"
    }
   ],
   "source": [
    "df.isnull().sum().sum()"
   ]
  },
  {
   "cell_type": "code",
   "execution_count": 5,
   "id": "3aee2c38-3e90-4f50-ba7c-d97e7823fdd9",
   "metadata": {},
   "outputs": [],
   "source": [
    "y = df['DEATH'].values.ravel()\n",
    "X = df.drop('DEATH', axis=1)"
   ]
  },
  {
   "cell_type": "code",
   "execution_count": 10,
   "id": "bde8a446-7dad-4641-996d-f7c7dcdf6511",
   "metadata": {},
   "outputs": [
    {
     "data": {
      "application/vnd.jupyter.widget-view+json": {
       "model_id": "ae18acda59a64a1a8006b76484fb172d",
       "version_major": 2,
       "version_minor": 0
      },
      "text/plain": [
       "Folds avaliados:   0%|          | 0/10 [00:00<?, ?it/s]"
      ]
     },
     "metadata": {},
     "output_type": "display_data"
    }
   ],
   "source": [
    "accs_knn = do_cv_knn(X.values, y, 10, range(1, 20, 2))"
   ]
  },
  {
   "cell_type": "code",
   "execution_count": 14,
   "id": "09d7ba16-bc69-4689-aa8e-af59eddf94db",
   "metadata": {},
   "outputs": [],
   "source": [
    "def calcular_estatisticas(resultados):\n",
    "    return np.mean(resultados), np.std(resultados), np.min(resultados), np.max(resultados)\n",
    "\n",
    "def imprimir_estatisticas(resultados):\n",
    "    media, desvio, mini, maxi = calcular_estatisticas(resultados)\n",
    "    print(\"Resultados: %.2f +- %.2f, min: %.2f, max: %.2f\" % (media, desvio, mini, maxi))"
   ]
  },
  {
   "cell_type": "code",
   "execution_count": 15,
   "id": "d3ed1e4e-5a90-47a7-8214-def3ef1307ad",
   "metadata": {},
   "outputs": [
    {
     "name": "stdout",
     "output_type": "stream",
     "text": [
      "Resultados: 0.69 +- 0.06, min: 0.60, max: 0.80\n"
     ]
    }
   ],
   "source": [
    "imprimir_estatisticas(accs_knn)"
   ]
  },
  {
   "cell_type": "code",
   "execution_count": 21,
   "id": "39d37a8e-7cc1-4fc1-8918-991a7495643a",
   "metadata": {},
   "outputs": [],
   "source": [
    "from sklearn.svm import SVC\n",
    "import itertools"
   ]
  },
  {
   "cell_type": "code",
   "execution_count": 26,
   "id": "b97c5733-d448-4c2a-8d9c-bcb1f62320b3",
   "metadata": {},
   "outputs": [],
   "source": [
    "def selecionar_melhor_svm(Cs, gammas, X_treino, X_val, y_treino, y_val):\n",
    "    \n",
    "    def treinar_svm(C, gamma, X_treino, X_val, y_treino, y_val):\n",
    "        svm = SVC(C=C, gamma=gamma)\n",
    "        svm.fit(X_treino, y_treino)\n",
    "        pred = svm.predict(X_val)\n",
    "        return accuracy_score(y_val, pred)\n",
    "        \n",
    "    combinacoes_parametros = list(itertools.product(Cs, gammas))\n",
    "        \n",
    "    acuracias_val = Parallel(n_jobs=4)(delayed(treinar_svm)\n",
    "                                       (c, g, X_treino, X_val, y_treino, y_val) for c, g in combinacoes_parametros)       \n",
    "        \n",
    "    melhor_val = max(acuracias_val)\n",
    "    melhor_comb = combinacoes_parametros[np.argmax(acuracias_val)]   \n",
    "    melhor_c = melhor_comb[0]\n",
    "    melhor_gamma = melhor_comb[1]\n",
    "    svm = SVC(C=melhor_c, gamma=melhor_gamma)\n",
    "    svm.fit(np.vstack((X_treino, X_val)), [*y_treino, *y_val])\n",
    "\n",
    "    return svm, melhor_comb, melhor_val\n",
    "    \n",
    "def do_cv_svm(X, y, cv_splits, Cs=[1], gammas=['scale']):\n",
    "\n",
    "    skf = StratifiedKFold(n_splits=cv_splits, shuffle=True, random_state=1)\n",
    "\n",
    "    acuracias = []\n",
    "    \n",
    "    pgb = tqdm(total=cv_splits, desc='Folds avaliados')\n",
    "    \n",
    "    for treino_idx, teste_idx in skf.split(X, y):\n",
    "\n",
    "        X_treino = X[treino_idx]\n",
    "        y_treino = y[treino_idx]\n",
    "\n",
    "        X_teste = X[teste_idx]\n",
    "        y_teste = y[teste_idx]\n",
    "\n",
    "        X_treino, X_val, y_treino, y_val = train_test_split(X_treino, y_treino, stratify=y_treino, test_size=0.2, random_state=1)\n",
    "\n",
    "        ss = StandardScaler()\n",
    "        ss.fit(X_treino)\n",
    "        X_treino = ss.transform(X_treino)\n",
    "        X_teste = ss.transform(X_teste)\n",
    "        X_val = ss.transform(X_val)\n",
    "\n",
    "        svm, _, _ = selecionar_melhor_svm(Cs, gammas, X_treino, X_val, y_treino, y_val)\n",
    "        pred = svm.predict(X_teste)\n",
    "\n",
    "        acuracias.append(accuracy_score(y_teste, pred))\n",
    "        \n",
    "        #print(classification_report(y_teste, pred, output_dict=True))\n",
    "        \n",
    "        pgb.update(1)\n",
    "        \n",
    "    pgb.close()\n",
    "    \n",
    "    return acuracias"
   ]
  },
  {
   "cell_type": "code",
   "execution_count": 33,
   "id": "e3bed179-32a1-417a-ba67-d73fb5a801b9",
   "metadata": {},
   "outputs": [
    {
     "data": {
      "application/vnd.jupyter.widget-view+json": {
       "model_id": "0ec246a2387c435790ae1fc639bcbf3c",
       "version_major": 2,
       "version_minor": 0
      },
      "text/plain": [
       "Folds avaliados:   0%|          | 0/10 [00:00<?, ?it/s]"
      ]
     },
     "metadata": {},
     "output_type": "display_data"
    }
   ],
   "source": [
    "accs_svm = do_cv_svm(X.values, y, 10, Cs=[1, 10, 100, 1000], gammas=['scale', 'auto', 2e-2, 2e-3, 2e-4])"
   ]
  },
  {
   "cell_type": "code",
   "execution_count": 34,
   "id": "b1470763-a9c8-4904-9960-458f711aefd6",
   "metadata": {},
   "outputs": [
    {
     "name": "stdout",
     "output_type": "stream",
     "text": [
      "Resultados: 0.69 +- 0.06, min: 0.60, max: 0.80\n"
     ]
    }
   ],
   "source": [
    "imprimir_estatisticas(accs_knn)"
   ]
  },
  {
   "cell_type": "code",
   "execution_count": 35,
   "id": "dd2c7fe5-f29e-4186-9749-b7de5265a2ea",
   "metadata": {},
   "outputs": [
    {
     "name": "stdout",
     "output_type": "stream",
     "text": [
      "Resultados: 0.71 +- 0.05, min: 0.65, max: 0.80\n"
     ]
    }
   ],
   "source": [
    "imprimir_estatisticas(accs_svm)"
   ]
  },
  {
   "cell_type": "code",
   "execution_count": 36,
   "id": "3cd61f1f-c4b2-4a7a-b70a-efddea1175da",
   "metadata": {},
   "outputs": [],
   "source": [
    "from scipy.stats import ttest_ind_from_stats"
   ]
  },
  {
   "cell_type": "code",
   "execution_count": 37,
   "id": "82d738a5-32dc-493e-9b83-3af5ebf8bfa7",
   "metadata": {},
   "outputs": [
    {
     "data": {
      "text/plain": [
       "Ttest_indResult(statistic=-0.4099600308453987, pvalue=0.6866732489128373)"
      ]
     },
     "execution_count": 37,
     "metadata": {},
     "output_type": "execute_result"
    }
   ],
   "source": [
    "media_knn, std_knn, _, _ = calcular_estatisticas(accs_knn)\n",
    "media_svm, std_svm, _, _ = calcular_estatisticas(accs_svm)\n",
    "ttest_ind_from_stats(media_knn, std_knn, len(accs_knn), media_svm, std_svm, len(accs_svm))"
   ]
  },
  {
   "cell_type": "code",
   "execution_count": 43,
   "id": "c955bd14-d58b-4c80-a2cb-ae80378ab4ae",
   "metadata": {},
   "outputs": [
    {
     "data": {
      "text/plain": [
       "Ttest_indResult(statistic=1.7888543819998317, pvalue=0.08161241660950144)"
      ]
     },
     "execution_count": 43,
     "metadata": {},
     "output_type": "execute_result"
    }
   ],
   "source": [
    "ttest_ind_from_stats(12, 3, 20, 10,4, 20)"
   ]
  },
  {
   "cell_type": "code",
   "execution_count": 19,
   "id": "5856bedf-8287-4a2d-bf79-ecf0056ea31b",
   "metadata": {},
   "outputs": [
    {
     "name": "stdout",
     "output_type": "stream",
     "text": [
      "1 auto\n",
      "1 scale\n",
      "1 0.2\n",
      "1 0.02\n",
      "1 0.002\n",
      "10 auto\n",
      "10 scale\n",
      "10 0.2\n",
      "10 0.02\n",
      "10 0.002\n",
      "100 auto\n",
      "100 scale\n",
      "100 0.2\n",
      "100 0.02\n",
      "100 0.002\n",
      "1000 auto\n",
      "1000 scale\n",
      "1000 0.2\n",
      "1000 0.02\n",
      "1000 0.002\n"
     ]
    }
   ],
   "source": [
    "import itertools\n",
    "Cs = [1, 10, 100, 1000]\n",
    "gammas = ['auto', 'scale', 2e-1, 2e-2, 2e-3]\n",
    "\n",
    "for c, k in itertools.product(Cs, gammas):\n",
    "    print (c, k)\n"
   ]
  },
  {
   "cell_type": "code",
   "execution_count": null,
   "id": "ea0e54da-88ff-476f-bf80-5a3a9777e316",
   "metadata": {},
   "outputs": [],
   "source": []
  }
 ],
 "metadata": {
  "kernelspec": {
   "display_name": "Python 3",
   "language": "python",
   "name": "python3"
  },
  "language_info": {
   "codemirror_mode": {
    "name": "ipython",
    "version": 3
   },
   "file_extension": ".py",
   "mimetype": "text/x-python",
   "name": "python",
   "nbconvert_exporter": "python",
   "pygments_lexer": "ipython3",
   "version": "3.8.8"
  }
 },
 "nbformat": 4,
 "nbformat_minor": 5
}
