{
 "cells": [
  {
   "cell_type": "code",
   "execution_count": null,
   "id": "904e7e40",
   "metadata": {},
   "outputs": [],
   "source": [
    "import pandas as pd\n",
    "import numpy as np\n",
    "import seaborn as sns\n",
    "import matplotlib.pyplot as plt\n",
    "from sklearn.compose import ColumnTransformer\n",
    "from sklearn.preprocessing import OneHotEncoder\n",
    "from utils import calcular_estatisticas, imprimir_estatisticas, rejeitar_hip_nula, do_cv, print_t_tests"
   ]
  },
  {
   "cell_type": "code",
   "execution_count": 2,
   "id": "e73c4dc6",
   "metadata": {},
   "outputs": [
    {
     "data": {
      "text/plain": [
       "(452, 280)"
      ]
     },
     "execution_count": 2,
     "metadata": {},
     "output_type": "execute_result"
    }
   ],
   "source": [
    "df = pd.read_csv('arrhythmia.csv')\n",
    "df.shape"
   ]
  },
  {
   "cell_type": "code",
   "execution_count": 3,
   "id": "c5a69cbc",
   "metadata": {},
   "outputs": [
    {
     "data": {
      "text/plain": [
       "[('T', 8), ('P', 22), ('QRST', 1), ('J', 376), ('heartrate', 1)]"
      ]
     },
     "execution_count": 3,
     "metadata": {},
     "output_type": "execute_result"
    }
   ],
   "source": [
    "[(i, df[i].isnull().sum()) for i in df.columns if df[i].isnull().any()]"
   ]
  },
  {
   "cell_type": "code",
   "execution_count": 4,
   "id": "280c2a74",
   "metadata": {},
   "outputs": [
    {
     "data": {
      "text/plain": [
       "(452, 279)"
      ]
     },
     "execution_count": 4,
     "metadata": {},
     "output_type": "execute_result"
    }
   ],
   "source": [
    "df.drop('J', axis=1, inplace=True)\n",
    "df.shape"
   ]
  },
  {
   "cell_type": "code",
   "execution_count": 5,
   "id": "d427a22f",
   "metadata": {},
   "outputs": [],
   "source": [
    "X = df.drop('class', axis=1)\n",
    "y = df['class'].values.ravel()\n",
    "y-=1\n",
    "y[y>0] = 1"
   ]
  },
  {
   "cell_type": "code",
   "execution_count": 6,
   "id": "17a99f4a",
   "metadata": {},
   "outputs": [
    {
     "data": {
      "text/plain": [
       "(array([0, 1]), array([245, 207]))"
      ]
     },
     "execution_count": 6,
     "metadata": {},
     "output_type": "execute_result"
    }
   ],
   "source": [
    "np.unique(y, return_counts=True)"
   ]
  },
  {
   "cell_type": "markdown",
   "id": "1274d521",
   "metadata": {},
   "source": [
    "# Codificação de atributos nominais"
   ]
  },
  {
   "cell_type": "code",
   "execution_count": 7,
   "id": "ac8f7835",
   "metadata": {},
   "outputs": [],
   "source": [
    "#pegando o nome de todas as colunas nominais\n",
    "nominais = ['sex', *[i for i in df.columns if 'Exists' in i]]"
   ]
  },
  {
   "cell_type": "code",
   "execution_count": 8,
   "id": "6f2a4767",
   "metadata": {},
   "outputs": [
    {
     "data": {
      "text/html": [
       "<div>\n",
       "<style scoped>\n",
       "    .dataframe tbody tr th:only-of-type {\n",
       "        vertical-align: middle;\n",
       "    }\n",
       "\n",
       "    .dataframe tbody tr th {\n",
       "        vertical-align: top;\n",
       "    }\n",
       "\n",
       "    .dataframe thead th {\n",
       "        text-align: right;\n",
       "    }\n",
       "</style>\n",
       "<table border=\"1\" class=\"dataframe\">\n",
       "  <thead>\n",
       "    <tr style=\"text-align: right;\">\n",
       "      <th></th>\n",
       "      <th>sex_0</th>\n",
       "      <th>sex_1</th>\n",
       "      <th>chDI_RRwaveExists_0</th>\n",
       "      <th>chDI_RRwaveExists_1</th>\n",
       "      <th>chDI_DD_RRwaveExists_0</th>\n",
       "      <th>chDI_DD_RRwaveExists_1</th>\n",
       "      <th>chDI_RPwaveExists_0</th>\n",
       "      <th>chDI_RPwaveExists_1</th>\n",
       "      <th>chDI_DD_RPwaveExists_0</th>\n",
       "      <th>chDI_DD_RPwaveExists_1</th>\n",
       "      <th>...</th>\n",
       "      <th>chV6_JJwaveAmp</th>\n",
       "      <th>chV6_QwaveAmp</th>\n",
       "      <th>chV6_RwaveAmp</th>\n",
       "      <th>chV6_SwaveAmp</th>\n",
       "      <th>chV6_RPwaveAmp</th>\n",
       "      <th>chV6_SPwaveAmp</th>\n",
       "      <th>chV6_PwaveAmp</th>\n",
       "      <th>chV6_TwaveAmp</th>\n",
       "      <th>chV6_QRSA</th>\n",
       "      <th>chV6_QRSTA</th>\n",
       "    </tr>\n",
       "  </thead>\n",
       "  <tbody>\n",
       "    <tr>\n",
       "      <th>0</th>\n",
       "      <td>1.0</td>\n",
       "      <td>0.0</td>\n",
       "      <td>1.0</td>\n",
       "      <td>0.0</td>\n",
       "      <td>1.0</td>\n",
       "      <td>0.0</td>\n",
       "      <td>1.0</td>\n",
       "      <td>0.0</td>\n",
       "      <td>1.0</td>\n",
       "      <td>0.0</td>\n",
       "      <td>...</td>\n",
       "      <td>-0.3</td>\n",
       "      <td>0.0</td>\n",
       "      <td>9.0</td>\n",
       "      <td>-0.9</td>\n",
       "      <td>0.0</td>\n",
       "      <td>0.0</td>\n",
       "      <td>0.9</td>\n",
       "      <td>2.9</td>\n",
       "      <td>23.3</td>\n",
       "      <td>49.4</td>\n",
       "    </tr>\n",
       "    <tr>\n",
       "      <th>1</th>\n",
       "      <td>0.0</td>\n",
       "      <td>1.0</td>\n",
       "      <td>1.0</td>\n",
       "      <td>0.0</td>\n",
       "      <td>1.0</td>\n",
       "      <td>0.0</td>\n",
       "      <td>1.0</td>\n",
       "      <td>0.0</td>\n",
       "      <td>1.0</td>\n",
       "      <td>0.0</td>\n",
       "      <td>...</td>\n",
       "      <td>-0.5</td>\n",
       "      <td>0.0</td>\n",
       "      <td>8.5</td>\n",
       "      <td>0.0</td>\n",
       "      <td>0.0</td>\n",
       "      <td>0.0</td>\n",
       "      <td>0.2</td>\n",
       "      <td>2.1</td>\n",
       "      <td>20.4</td>\n",
       "      <td>38.8</td>\n",
       "    </tr>\n",
       "    <tr>\n",
       "      <th>2</th>\n",
       "      <td>1.0</td>\n",
       "      <td>0.0</td>\n",
       "      <td>1.0</td>\n",
       "      <td>0.0</td>\n",
       "      <td>1.0</td>\n",
       "      <td>0.0</td>\n",
       "      <td>1.0</td>\n",
       "      <td>0.0</td>\n",
       "      <td>1.0</td>\n",
       "      <td>0.0</td>\n",
       "      <td>...</td>\n",
       "      <td>0.9</td>\n",
       "      <td>0.0</td>\n",
       "      <td>9.5</td>\n",
       "      <td>-2.4</td>\n",
       "      <td>0.0</td>\n",
       "      <td>0.0</td>\n",
       "      <td>0.3</td>\n",
       "      <td>3.4</td>\n",
       "      <td>12.3</td>\n",
       "      <td>49.0</td>\n",
       "    </tr>\n",
       "    <tr>\n",
       "      <th>3</th>\n",
       "      <td>1.0</td>\n",
       "      <td>0.0</td>\n",
       "      <td>1.0</td>\n",
       "      <td>0.0</td>\n",
       "      <td>1.0</td>\n",
       "      <td>0.0</td>\n",
       "      <td>1.0</td>\n",
       "      <td>0.0</td>\n",
       "      <td>1.0</td>\n",
       "      <td>0.0</td>\n",
       "      <td>...</td>\n",
       "      <td>0.1</td>\n",
       "      <td>0.0</td>\n",
       "      <td>12.2</td>\n",
       "      <td>-2.2</td>\n",
       "      <td>0.0</td>\n",
       "      <td>0.0</td>\n",
       "      <td>0.4</td>\n",
       "      <td>2.6</td>\n",
       "      <td>34.6</td>\n",
       "      <td>61.6</td>\n",
       "    </tr>\n",
       "    <tr>\n",
       "      <th>4</th>\n",
       "      <td>1.0</td>\n",
       "      <td>0.0</td>\n",
       "      <td>1.0</td>\n",
       "      <td>0.0</td>\n",
       "      <td>1.0</td>\n",
       "      <td>0.0</td>\n",
       "      <td>1.0</td>\n",
       "      <td>0.0</td>\n",
       "      <td>1.0</td>\n",
       "      <td>0.0</td>\n",
       "      <td>...</td>\n",
       "      <td>-0.4</td>\n",
       "      <td>0.0</td>\n",
       "      <td>13.1</td>\n",
       "      <td>-3.6</td>\n",
       "      <td>0.0</td>\n",
       "      <td>0.0</td>\n",
       "      <td>-0.1</td>\n",
       "      <td>3.9</td>\n",
       "      <td>25.4</td>\n",
       "      <td>62.8</td>\n",
       "    </tr>\n",
       "    <tr>\n",
       "      <th>...</th>\n",
       "      <td>...</td>\n",
       "      <td>...</td>\n",
       "      <td>...</td>\n",
       "      <td>...</td>\n",
       "      <td>...</td>\n",
       "      <td>...</td>\n",
       "      <td>...</td>\n",
       "      <td>...</td>\n",
       "      <td>...</td>\n",
       "      <td>...</td>\n",
       "      <td>...</td>\n",
       "      <td>...</td>\n",
       "      <td>...</td>\n",
       "      <td>...</td>\n",
       "      <td>...</td>\n",
       "      <td>...</td>\n",
       "      <td>...</td>\n",
       "      <td>...</td>\n",
       "      <td>...</td>\n",
       "      <td>...</td>\n",
       "      <td>...</td>\n",
       "    </tr>\n",
       "    <tr>\n",
       "      <th>447</th>\n",
       "      <td>0.0</td>\n",
       "      <td>1.0</td>\n",
       "      <td>1.0</td>\n",
       "      <td>0.0</td>\n",
       "      <td>1.0</td>\n",
       "      <td>0.0</td>\n",
       "      <td>1.0</td>\n",
       "      <td>0.0</td>\n",
       "      <td>1.0</td>\n",
       "      <td>0.0</td>\n",
       "      <td>...</td>\n",
       "      <td>0.0</td>\n",
       "      <td>0.0</td>\n",
       "      <td>4.3</td>\n",
       "      <td>-5.0</td>\n",
       "      <td>0.0</td>\n",
       "      <td>0.0</td>\n",
       "      <td>0.7</td>\n",
       "      <td>0.6</td>\n",
       "      <td>-4.4</td>\n",
       "      <td>-0.5</td>\n",
       "    </tr>\n",
       "    <tr>\n",
       "      <th>448</th>\n",
       "      <td>1.0</td>\n",
       "      <td>0.0</td>\n",
       "      <td>1.0</td>\n",
       "      <td>0.0</td>\n",
       "      <td>1.0</td>\n",
       "      <td>0.0</td>\n",
       "      <td>1.0</td>\n",
       "      <td>0.0</td>\n",
       "      <td>1.0</td>\n",
       "      <td>0.0</td>\n",
       "      <td>...</td>\n",
       "      <td>-0.5</td>\n",
       "      <td>0.0</td>\n",
       "      <td>15.6</td>\n",
       "      <td>-1.6</td>\n",
       "      <td>0.0</td>\n",
       "      <td>0.0</td>\n",
       "      <td>0.4</td>\n",
       "      <td>2.4</td>\n",
       "      <td>38.0</td>\n",
       "      <td>62.4</td>\n",
       "    </tr>\n",
       "    <tr>\n",
       "      <th>449</th>\n",
       "      <td>1.0</td>\n",
       "      <td>0.0</td>\n",
       "      <td>1.0</td>\n",
       "      <td>0.0</td>\n",
       "      <td>1.0</td>\n",
       "      <td>0.0</td>\n",
       "      <td>1.0</td>\n",
       "      <td>0.0</td>\n",
       "      <td>1.0</td>\n",
       "      <td>0.0</td>\n",
       "      <td>...</td>\n",
       "      <td>1.2</td>\n",
       "      <td>0.0</td>\n",
       "      <td>16.3</td>\n",
       "      <td>-28.6</td>\n",
       "      <td>0.0</td>\n",
       "      <td>0.0</td>\n",
       "      <td>1.5</td>\n",
       "      <td>1.0</td>\n",
       "      <td>-44.2</td>\n",
       "      <td>-33.2</td>\n",
       "    </tr>\n",
       "    <tr>\n",
       "      <th>450</th>\n",
       "      <td>0.0</td>\n",
       "      <td>1.0</td>\n",
       "      <td>1.0</td>\n",
       "      <td>0.0</td>\n",
       "      <td>1.0</td>\n",
       "      <td>0.0</td>\n",
       "      <td>1.0</td>\n",
       "      <td>0.0</td>\n",
       "      <td>1.0</td>\n",
       "      <td>0.0</td>\n",
       "      <td>...</td>\n",
       "      <td>0.2</td>\n",
       "      <td>-0.4</td>\n",
       "      <td>12.0</td>\n",
       "      <td>-0.7</td>\n",
       "      <td>0.0</td>\n",
       "      <td>0.0</td>\n",
       "      <td>0.5</td>\n",
       "      <td>2.4</td>\n",
       "      <td>25.0</td>\n",
       "      <td>46.6</td>\n",
       "    </tr>\n",
       "    <tr>\n",
       "      <th>451</th>\n",
       "      <td>0.0</td>\n",
       "      <td>1.0</td>\n",
       "      <td>1.0</td>\n",
       "      <td>0.0</td>\n",
       "      <td>1.0</td>\n",
       "      <td>0.0</td>\n",
       "      <td>1.0</td>\n",
       "      <td>0.0</td>\n",
       "      <td>1.0</td>\n",
       "      <td>0.0</td>\n",
       "      <td>...</td>\n",
       "      <td>-0.3</td>\n",
       "      <td>0.0</td>\n",
       "      <td>10.4</td>\n",
       "      <td>-1.8</td>\n",
       "      <td>0.0</td>\n",
       "      <td>0.0</td>\n",
       "      <td>0.5</td>\n",
       "      <td>1.6</td>\n",
       "      <td>21.3</td>\n",
       "      <td>32.8</td>\n",
       "    </tr>\n",
       "  </tbody>\n",
       "</table>\n",
       "<p>452 rows × 342 columns</p>\n",
       "</div>"
      ],
      "text/plain": [
       "     sex_0  sex_1  chDI_RRwaveExists_0  chDI_RRwaveExists_1  \\\n",
       "0      1.0    0.0                  1.0                  0.0   \n",
       "1      0.0    1.0                  1.0                  0.0   \n",
       "2      1.0    0.0                  1.0                  0.0   \n",
       "3      1.0    0.0                  1.0                  0.0   \n",
       "4      1.0    0.0                  1.0                  0.0   \n",
       "..     ...    ...                  ...                  ...   \n",
       "447    0.0    1.0                  1.0                  0.0   \n",
       "448    1.0    0.0                  1.0                  0.0   \n",
       "449    1.0    0.0                  1.0                  0.0   \n",
       "450    0.0    1.0                  1.0                  0.0   \n",
       "451    0.0    1.0                  1.0                  0.0   \n",
       "\n",
       "     chDI_DD_RRwaveExists_0  chDI_DD_RRwaveExists_1  chDI_RPwaveExists_0  \\\n",
       "0                       1.0                     0.0                  1.0   \n",
       "1                       1.0                     0.0                  1.0   \n",
       "2                       1.0                     0.0                  1.0   \n",
       "3                       1.0                     0.0                  1.0   \n",
       "4                       1.0                     0.0                  1.0   \n",
       "..                      ...                     ...                  ...   \n",
       "447                     1.0                     0.0                  1.0   \n",
       "448                     1.0                     0.0                  1.0   \n",
       "449                     1.0                     0.0                  1.0   \n",
       "450                     1.0                     0.0                  1.0   \n",
       "451                     1.0                     0.0                  1.0   \n",
       "\n",
       "     chDI_RPwaveExists_1  chDI_DD_RPwaveExists_0  chDI_DD_RPwaveExists_1  ...  \\\n",
       "0                    0.0                     1.0                     0.0  ...   \n",
       "1                    0.0                     1.0                     0.0  ...   \n",
       "2                    0.0                     1.0                     0.0  ...   \n",
       "3                    0.0                     1.0                     0.0  ...   \n",
       "4                    0.0                     1.0                     0.0  ...   \n",
       "..                   ...                     ...                     ...  ...   \n",
       "447                  0.0                     1.0                     0.0  ...   \n",
       "448                  0.0                     1.0                     0.0  ...   \n",
       "449                  0.0                     1.0                     0.0  ...   \n",
       "450                  0.0                     1.0                     0.0  ...   \n",
       "451                  0.0                     1.0                     0.0  ...   \n",
       "\n",
       "     chV6_JJwaveAmp  chV6_QwaveAmp  chV6_RwaveAmp  chV6_SwaveAmp  \\\n",
       "0              -0.3            0.0            9.0           -0.9   \n",
       "1              -0.5            0.0            8.5            0.0   \n",
       "2               0.9            0.0            9.5           -2.4   \n",
       "3               0.1            0.0           12.2           -2.2   \n",
       "4              -0.4            0.0           13.1           -3.6   \n",
       "..              ...            ...            ...            ...   \n",
       "447             0.0            0.0            4.3           -5.0   \n",
       "448            -0.5            0.0           15.6           -1.6   \n",
       "449             1.2            0.0           16.3          -28.6   \n",
       "450             0.2           -0.4           12.0           -0.7   \n",
       "451            -0.3            0.0           10.4           -1.8   \n",
       "\n",
       "     chV6_RPwaveAmp  chV6_SPwaveAmp  chV6_PwaveAmp  chV6_TwaveAmp  chV6_QRSA  \\\n",
       "0               0.0             0.0            0.9            2.9       23.3   \n",
       "1               0.0             0.0            0.2            2.1       20.4   \n",
       "2               0.0             0.0            0.3            3.4       12.3   \n",
       "3               0.0             0.0            0.4            2.6       34.6   \n",
       "4               0.0             0.0           -0.1            3.9       25.4   \n",
       "..              ...             ...            ...            ...        ...   \n",
       "447             0.0             0.0            0.7            0.6       -4.4   \n",
       "448             0.0             0.0            0.4            2.4       38.0   \n",
       "449             0.0             0.0            1.5            1.0      -44.2   \n",
       "450             0.0             0.0            0.5            2.4       25.0   \n",
       "451             0.0             0.0            0.5            1.6       21.3   \n",
       "\n",
       "     chV6_QRSTA  \n",
       "0          49.4  \n",
       "1          38.8  \n",
       "2          49.0  \n",
       "3          61.6  \n",
       "4          62.8  \n",
       "..          ...  \n",
       "447        -0.5  \n",
       "448        62.4  \n",
       "449       -33.2  \n",
       "450        46.6  \n",
       "451        32.8  \n",
       "\n",
       "[452 rows x 342 columns]"
      ]
     },
     "execution_count": 8,
     "metadata": {},
     "output_type": "execute_result"
    }
   ],
   "source": [
    "#codificar todas as colunas nominais com one-hot encoding\n",
    "transformers = [(i, OneHotEncoder(), [i]) for i in nominais]\n",
    "\n",
    "ct = ColumnTransformer(transformers, remainder='passthrough', sparse_threshold=0, verbose_feature_names_out=False)\n",
    "X_ohoe = ct.fit_transform(X)\n",
    "X_ohoe = pd.DataFrame(X_ohoe, columns=ct.get_feature_names_out())\n",
    "X_ohoe"
   ]
  },
  {
   "cell_type": "markdown",
   "id": "22a5a4d2",
   "metadata": {},
   "source": [
    "# Imputando valores faltantes"
   ]
  },
  {
   "cell_type": "code",
   "execution_count": 9,
   "id": "3adb0d13",
   "metadata": {},
   "outputs": [
    {
     "data": {
      "text/plain": [
       "[('T', 8), ('P', 22), ('QRST', 1), ('heartrate', 1)]"
      ]
     },
     "execution_count": 9,
     "metadata": {},
     "output_type": "execute_result"
    }
   ],
   "source": [
    "#verificar quais colunas possuem valores faltantes, exceto pela coluna J (que já foi retirada)\n",
    "missing_data_cols = [(i, df[i].isnull().sum()) for i in df.columns if df[i].isnull().any()]\n",
    "missing_data_cols"
   ]
  },
  {
   "cell_type": "code",
   "execution_count": 10,
   "id": "0489e661",
   "metadata": {},
   "outputs": [],
   "source": [
    "#De acordo com os histogramas acima, podemos ver que a média ou a mediana podem oferecer boas estimativas\n",
    "#sem alterar o a distribuição estatística de forma significativa.\n",
    "from sklearn.impute import SimpleImputer\n",
    "\n",
    "transformers = [(col, SimpleImputer(strategy='median'), [col] ) for col in ['T', 'P', 'QRST', 'heartrate']]\n",
    "\n",
    "ctimp = ColumnTransformer(transformers, remainder='passthrough', sparse_threshold=0)"
   ]
  },
  {
   "cell_type": "code",
   "execution_count": 11,
   "id": "9586242b",
   "metadata": {},
   "outputs": [],
   "source": [
    "from sklearn.svm import SVC\n",
    "from sklearn.neighbors import KNeighborsClassifier\n",
    "from sklearn.ensemble import RandomForestClassifier"
   ]
  },
  {
   "cell_type": "code",
   "execution_count": 12,
   "id": "7a00d1ce",
   "metadata": {},
   "outputs": [],
   "source": [
    "resultados = {}\n",
    "\n",
    "svm_teste = ('svm', SVC, True, {'C' : [1, 10, 100, 1000], 'gamma' : ['auto', 'scale']})\n",
    "knn_teste = ('knn', KNeighborsClassifier, True, {'n_neighbors' : range(1,30,2)})\n",
    "rf_teste = ('rf', RandomForestClassifier, False, {\n",
    "        'criterion' : ['gini', 'entropy'], \n",
    "        'random_state' : [1],\n",
    "#         'max_depth' : [2, 3, None],\n",
    "#         'min_samples_leaf' : [1, 5, 10, 15, 20]\n",
    "})\n",
    "\n",
    "testes = [svm_teste, knn_teste, rf_teste]"
   ]
  },
  {
   "cell_type": "code",
   "execution_count": 13,
   "id": "1798e199",
   "metadata": {},
   "outputs": [
    {
     "name": "stdout",
     "output_type": "stream",
     "text": [
      "Executando teste svm\n"
     ]
    },
    {
     "data": {
      "application/vnd.jupyter.widget-view+json": {
       "model_id": "a9d7a478656e4116b1be7eeaebcfeeb5",
       "version_major": 2,
       "version_minor": 0
      },
      "text/plain": [
       "Folds avaliados:   0%|          | 0/10 [00:00<?, ?it/s]"
      ]
     },
     "metadata": {},
     "output_type": "display_data"
    },
    {
     "name": "stdout",
     "output_type": "stream",
     "text": [
      "Executando teste knn\n"
     ]
    },
    {
     "data": {
      "application/vnd.jupyter.widget-view+json": {
       "model_id": "c22d053615014038866d0875bed0216c",
       "version_major": 2,
       "version_minor": 0
      },
      "text/plain": [
       "Folds avaliados:   0%|          | 0/10 [00:00<?, ?it/s]"
      ]
     },
     "metadata": {},
     "output_type": "display_data"
    },
    {
     "name": "stdout",
     "output_type": "stream",
     "text": [
      "Executando teste rf\n"
     ]
    },
    {
     "data": {
      "application/vnd.jupyter.widget-view+json": {
       "model_id": "2cacfd35569f49a487e222ca77cddc02",
       "version_major": 2,
       "version_minor": 0
      },
      "text/plain": [
       "Folds avaliados:   0%|          | 0/10 [00:00<?, ?it/s]"
      ]
     },
     "metadata": {},
     "output_type": "display_data"
    }
   ],
   "source": [
    "for nome, classificador, scale, params in testes:\n",
    "    print(\"Executando teste %s\" % (nome))\n",
    "    r = do_cv(classificador, X, y, 10, 10, 8, scale, ctimp, None, params)\n",
    "    resultados[nome] = r"
   ]
  },
  {
   "cell_type": "code",
   "execution_count": 14,
   "id": "ff684e7f",
   "metadata": {},
   "outputs": [
    {
     "name": "stdout",
     "output_type": "stream",
     "text": [
      "       knn - Resultados: 0.48 +- 0.08, min: 0.36, max: 0.58\n",
      "        rf - Resultados: 0.75 +- 0.07, min: 0.60, max: 0.86\n",
      "       svm - Resultados: 0.71 +- 0.13, min: 0.38, max: 0.88\n",
      "\n",
      "                knn          rf         svm     \n",
      "    knn         1.00     0.00 (*<)   0.00 (*<)  \n",
      "     rf      0.00 (*>)      1.00        0.33    \n",
      "    svm      0.00 (*>)      0.33        1.00    \n"
     ]
    }
   ],
   "source": [
    "for teste in sorted(resultados):\n",
    "    print(teste.rjust(10), end=' - ')\n",
    "    imprimir_estatisticas(resultados[teste])\n",
    "\n",
    "print()\n",
    "\n",
    "print_t_tests(resultados, alpha=0.05)"
   ]
  },
  {
   "cell_type": "markdown",
   "id": "7692af30",
   "metadata": {},
   "source": [
    "# Threshold de Variância"
   ]
  },
  {
   "cell_type": "code",
   "execution_count": 15,
   "id": "76527e35",
   "metadata": {},
   "outputs": [],
   "source": [
    "from sklearn.feature_selection import VarianceThreshold"
   ]
  },
  {
   "cell_type": "code",
   "execution_count": 16,
   "id": "ba0cd5d2",
   "metadata": {},
   "outputs": [
    {
     "data": {
      "text/plain": [
       "17"
      ]
     },
     "execution_count": 16,
     "metadata": {},
     "output_type": "execute_result"
    }
   ],
   "source": [
    "sum(X_ohoe.var()==0)"
   ]
  },
  {
   "cell_type": "code",
   "execution_count": 17,
   "id": "de0f57c5",
   "metadata": {},
   "outputs": [
    {
     "name": "stdout",
     "output_type": "stream",
     "text": [
      "Executando teste svm\n"
     ]
    },
    {
     "data": {
      "application/vnd.jupyter.widget-view+json": {
       "model_id": "638a8b62c16849359e8785eac2486f74",
       "version_major": 2,
       "version_minor": 0
      },
      "text/plain": [
       "Folds avaliados:   0%|          | 0/10 [00:00<?, ?it/s]"
      ]
     },
     "metadata": {},
     "output_type": "display_data"
    },
    {
     "name": "stdout",
     "output_type": "stream",
     "text": [
      "Executando teste knn\n"
     ]
    },
    {
     "data": {
      "application/vnd.jupyter.widget-view+json": {
       "model_id": "00296ac723534f9db4c530cd7e984736",
       "version_major": 2,
       "version_minor": 0
      },
      "text/plain": [
       "Folds avaliados:   0%|          | 0/10 [00:00<?, ?it/s]"
      ]
     },
     "metadata": {},
     "output_type": "display_data"
    },
    {
     "name": "stdout",
     "output_type": "stream",
     "text": [
      "Executando teste rf\n"
     ]
    },
    {
     "data": {
      "application/vnd.jupyter.widget-view+json": {
       "model_id": "218e17890bf84bc7a2ed00516734a2f8",
       "version_major": 2,
       "version_minor": 0
      },
      "text/plain": [
       "Folds avaliados:   0%|          | 0/10 [00:00<?, ?it/s]"
      ]
     },
     "metadata": {},
     "output_type": "display_data"
    }
   ],
   "source": [
    "for nome, classificador, scale, params in testes:\n",
    "    print(\"Executando teste %s\" % (nome))\n",
    "    nome = \"%s_vt=0\" % (nome)\n",
    "    r = do_cv(classificador, X, y, 10, 10, 8, scale, ctimp, VarianceThreshold(0), params)\n",
    "    resultados[nome] = r"
   ]
  },
  {
   "cell_type": "code",
   "execution_count": 18,
   "id": "ff56ddfb",
   "metadata": {},
   "outputs": [
    {
     "name": "stdout",
     "output_type": "stream",
     "text": [
      "       knn - Resultados: 0.48 +- 0.08, min: 0.36, max: 0.58\n",
      "  knn_vt=0 - Resultados: 0.48 +- 0.08, min: 0.36, max: 0.58\n",
      "        rf - Resultados: 0.75 +- 0.07, min: 0.60, max: 0.86\n",
      "   rf_vt=0 - Resultados: 0.76 +- 0.09, min: 0.57, max: 0.89\n",
      "       svm - Resultados: 0.71 +- 0.13, min: 0.38, max: 0.88\n",
      "  svm_vt=0 - Resultados: 0.71 +- 0.13, min: 0.38, max: 0.88\n",
      "\n",
      "                knn       knn_vt=0       rf       rf_vt=0       svm       svm_vt=0  \n",
      "    knn         1.00        1.00     0.00 (*<)   0.00 (*<)   0.00 (*<)   0.00 (*<)  \n",
      "  knn_vt=0      1.00        1.00     0.00 (*<)   0.00 (*<)   0.00 (*<)   0.00 (*<)  \n",
      "     rf      0.00 (*>)   0.00 (*>)      1.00        0.88        0.33        0.33    \n",
      "  rf_vt=0    0.00 (*>)   0.00 (*>)      0.88        1.00        0.32        0.32    \n",
      "    svm      0.00 (*>)   0.00 (*>)      0.33        0.32        1.00        0.99    \n",
      "  svm_vt=0   0.00 (*>)   0.00 (*>)      0.33        0.32        0.99        1.00    \n"
     ]
    }
   ],
   "source": [
    "for teste in sorted(resultados):\n",
    "    print(teste.rjust(10), end=' - ')\n",
    "    imprimir_estatisticas(resultados[teste])\n",
    "\n",
    "print()\n",
    "\n",
    "print_t_tests(resultados, alpha=0.05)"
   ]
  },
  {
   "cell_type": "code",
   "execution_count": 19,
   "id": "f391c0b9",
   "metadata": {},
   "outputs": [
    {
     "data": {
      "text/html": [
       "<div>\n",
       "<style scoped>\n",
       "    .dataframe tbody tr th:only-of-type {\n",
       "        vertical-align: middle;\n",
       "    }\n",
       "\n",
       "    .dataframe tbody tr th {\n",
       "        vertical-align: top;\n",
       "    }\n",
       "\n",
       "    .dataframe thead th {\n",
       "        text-align: right;\n",
       "    }\n",
       "</style>\n",
       "<table border=\"1\" class=\"dataframe\">\n",
       "  <thead>\n",
       "    <tr style=\"text-align: right;\">\n",
       "      <th></th>\n",
       "      <th>decil</th>\n",
       "      <th>valor</th>\n",
       "    </tr>\n",
       "  </thead>\n",
       "  <tbody>\n",
       "    <tr>\n",
       "      <th>0</th>\n",
       "      <td>0.1</td>\n",
       "      <td>0.002212</td>\n",
       "    </tr>\n",
       "    <tr>\n",
       "      <th>1</th>\n",
       "      <td>0.2</td>\n",
       "      <td>0.004415</td>\n",
       "    </tr>\n",
       "    <tr>\n",
       "      <th>2</th>\n",
       "      <td>0.3</td>\n",
       "      <td>0.008791</td>\n",
       "    </tr>\n",
       "    <tr>\n",
       "      <th>3</th>\n",
       "      <td>0.4</td>\n",
       "      <td>0.017424</td>\n",
       "    </tr>\n",
       "    <tr>\n",
       "      <th>4</th>\n",
       "      <td>0.5</td>\n",
       "      <td>0.251380</td>\n",
       "    </tr>\n",
       "    <tr>\n",
       "      <th>5</th>\n",
       "      <td>0.6</td>\n",
       "      <td>2.324400</td>\n",
       "    </tr>\n",
       "    <tr>\n",
       "      <th>6</th>\n",
       "      <td>0.7</td>\n",
       "      <td>12.011491</td>\n",
       "    </tr>\n",
       "    <tr>\n",
       "      <th>7</th>\n",
       "      <td>0.8</td>\n",
       "      <td>168.531320</td>\n",
       "    </tr>\n",
       "    <tr>\n",
       "      <th>8</th>\n",
       "      <td>0.9</td>\n",
       "      <td>341.933723</td>\n",
       "    </tr>\n",
       "  </tbody>\n",
       "</table>\n",
       "</div>"
      ],
      "text/plain": [
       "   decil       valor\n",
       "0    0.1    0.002212\n",
       "1    0.2    0.004415\n",
       "2    0.3    0.008791\n",
       "3    0.4    0.017424\n",
       "4    0.5    0.251380\n",
       "5    0.6    2.324400\n",
       "6    0.7   12.011491\n",
       "7    0.8  168.531320\n",
       "8    0.9  341.933723"
      ]
     },
     "execution_count": 19,
     "metadata": {},
     "output_type": "execute_result"
    }
   ],
   "source": [
    "decis = np.array([10, 20, 30, 40, 50, 60, 70, 80, 90])\n",
    "X_ohoe_var_deciles = X_ohoe.var().quantile(decis/100).to_frame(\"valor\").reset_index(names=\"decil\")\n",
    "X_ohoe_var_deciles"
   ]
  },
  {
   "cell_type": "code",
   "execution_count": 20,
   "id": "71c07ecf",
   "metadata": {},
   "outputs": [],
   "source": [
    "class VariancePercentileThreshold(VarianceThreshold):\n",
    "    def __init__(self, percentile=10, **kwargs):\n",
    "        super().__init__(**kwargs)\n",
    "        self.percentile=percentile\n",
    "    \n",
    "    def fit(self, X, y=None):\n",
    "        threshold = np.quantile(X, self.percentile/100)\n",
    "        self.threshold = threshold\n",
    "        super().fit(X, y)\n",
    "        return self"
   ]
  },
  {
   "cell_type": "code",
   "execution_count": 21,
   "id": "9fd3cf98",
   "metadata": {},
   "outputs": [
    {
     "name": "stdout",
     "output_type": "stream",
     "text": [
      "decil: 10.0\n",
      "Executando teste svm_vtd (10%)\n"
     ]
    },
    {
     "data": {
      "application/vnd.jupyter.widget-view+json": {
       "model_id": "9fe20d9b6b294717be9a849574e6514a",
       "version_major": 2,
       "version_minor": 0
      },
      "text/plain": [
       "Folds avaliados:   0%|          | 0/10 [00:00<?, ?it/s]"
      ]
     },
     "metadata": {},
     "output_type": "display_data"
    },
    {
     "name": "stdout",
     "output_type": "stream",
     "text": [
      "Executando teste knn_vtd (10%)\n"
     ]
    },
    {
     "data": {
      "application/vnd.jupyter.widget-view+json": {
       "model_id": "673bf9f23dc54297a8949977ea21893a",
       "version_major": 2,
       "version_minor": 0
      },
      "text/plain": [
       "Folds avaliados:   0%|          | 0/10 [00:00<?, ?it/s]"
      ]
     },
     "metadata": {},
     "output_type": "display_data"
    },
    {
     "name": "stdout",
     "output_type": "stream",
     "text": [
      "Executando teste rf_vtd (10%)\n"
     ]
    },
    {
     "data": {
      "application/vnd.jupyter.widget-view+json": {
       "model_id": "8b634296ce9749fb9839cbbb38658302",
       "version_major": 2,
       "version_minor": 0
      },
      "text/plain": [
       "Folds avaliados:   0%|          | 0/10 [00:00<?, ?it/s]"
      ]
     },
     "metadata": {},
     "output_type": "display_data"
    },
    {
     "name": "stdout",
     "output_type": "stream",
     "text": [
      "decil: 20.0\n",
      "Executando teste svm_vtd (20%)\n"
     ]
    },
    {
     "data": {
      "application/vnd.jupyter.widget-view+json": {
       "model_id": "4dfb15c5fc6a4d71b219c2be4452ed0c",
       "version_major": 2,
       "version_minor": 0
      },
      "text/plain": [
       "Folds avaliados:   0%|          | 0/10 [00:00<?, ?it/s]"
      ]
     },
     "metadata": {},
     "output_type": "display_data"
    },
    {
     "name": "stdout",
     "output_type": "stream",
     "text": [
      "Executando teste knn_vtd (20%)\n"
     ]
    },
    {
     "data": {
      "application/vnd.jupyter.widget-view+json": {
       "model_id": "d6bc0b61f935419cb255ab76887c01f7",
       "version_major": 2,
       "version_minor": 0
      },
      "text/plain": [
       "Folds avaliados:   0%|          | 0/10 [00:00<?, ?it/s]"
      ]
     },
     "metadata": {},
     "output_type": "display_data"
    },
    {
     "name": "stdout",
     "output_type": "stream",
     "text": [
      "Executando teste rf_vtd (20%)\n"
     ]
    },
    {
     "data": {
      "application/vnd.jupyter.widget-view+json": {
       "model_id": "d9749295c753416b99d5ae22294a8728",
       "version_major": 2,
       "version_minor": 0
      },
      "text/plain": [
       "Folds avaliados:   0%|          | 0/10 [00:00<?, ?it/s]"
      ]
     },
     "metadata": {},
     "output_type": "display_data"
    },
    {
     "name": "stdout",
     "output_type": "stream",
     "text": [
      "decil: 30.0\n",
      "Executando teste svm_vtd (30%)\n"
     ]
    },
    {
     "data": {
      "application/vnd.jupyter.widget-view+json": {
       "model_id": "ce46b202e369433f933405c56a7736a1",
       "version_major": 2,
       "version_minor": 0
      },
      "text/plain": [
       "Folds avaliados:   0%|          | 0/10 [00:00<?, ?it/s]"
      ]
     },
     "metadata": {},
     "output_type": "display_data"
    },
    {
     "name": "stdout",
     "output_type": "stream",
     "text": [
      "Executando teste knn_vtd (30%)\n"
     ]
    },
    {
     "data": {
      "application/vnd.jupyter.widget-view+json": {
       "model_id": "afc5b3965156474b8a2a0ce82c316d59",
       "version_major": 2,
       "version_minor": 0
      },
      "text/plain": [
       "Folds avaliados:   0%|          | 0/10 [00:00<?, ?it/s]"
      ]
     },
     "metadata": {},
     "output_type": "display_data"
    },
    {
     "name": "stdout",
     "output_type": "stream",
     "text": [
      "Executando teste rf_vtd (30%)\n"
     ]
    },
    {
     "data": {
      "application/vnd.jupyter.widget-view+json": {
       "model_id": "65e9059ad9c34da4bcab4f1ae254d99d",
       "version_major": 2,
       "version_minor": 0
      },
      "text/plain": [
       "Folds avaliados:   0%|          | 0/10 [00:00<?, ?it/s]"
      ]
     },
     "metadata": {},
     "output_type": "display_data"
    },
    {
     "name": "stdout",
     "output_type": "stream",
     "text": [
      "decil: 40.0\n",
      "Executando teste svm_vtd (40%)\n"
     ]
    },
    {
     "data": {
      "application/vnd.jupyter.widget-view+json": {
       "model_id": "559010ec48e34029ab51357f5a2e5957",
       "version_major": 2,
       "version_minor": 0
      },
      "text/plain": [
       "Folds avaliados:   0%|          | 0/10 [00:00<?, ?it/s]"
      ]
     },
     "metadata": {},
     "output_type": "display_data"
    },
    {
     "name": "stdout",
     "output_type": "stream",
     "text": [
      "Executando teste knn_vtd (40%)\n"
     ]
    },
    {
     "data": {
      "application/vnd.jupyter.widget-view+json": {
       "model_id": "729b5a1c759249489547fa13df08da8d",
       "version_major": 2,
       "version_minor": 0
      },
      "text/plain": [
       "Folds avaliados:   0%|          | 0/10 [00:00<?, ?it/s]"
      ]
     },
     "metadata": {},
     "output_type": "display_data"
    },
    {
     "name": "stdout",
     "output_type": "stream",
     "text": [
      "Executando teste rf_vtd (40%)\n"
     ]
    },
    {
     "data": {
      "application/vnd.jupyter.widget-view+json": {
       "model_id": "d2757fd576d34c0f8e39afb8e260626c",
       "version_major": 2,
       "version_minor": 0
      },
      "text/plain": [
       "Folds avaliados:   0%|          | 0/10 [00:00<?, ?it/s]"
      ]
     },
     "metadata": {},
     "output_type": "display_data"
    },
    {
     "name": "stdout",
     "output_type": "stream",
     "text": [
      "decil: 50.0\n",
      "Executando teste svm_vtd (50%)\n"
     ]
    },
    {
     "data": {
      "application/vnd.jupyter.widget-view+json": {
       "model_id": "1b692c32af2d4b0fa878db1d61ca91b2",
       "version_major": 2,
       "version_minor": 0
      },
      "text/plain": [
       "Folds avaliados:   0%|          | 0/10 [00:00<?, ?it/s]"
      ]
     },
     "metadata": {},
     "output_type": "display_data"
    },
    {
     "name": "stdout",
     "output_type": "stream",
     "text": [
      "Executando teste knn_vtd (50%)\n"
     ]
    },
    {
     "data": {
      "application/vnd.jupyter.widget-view+json": {
       "model_id": "bc682afbf630462f9458960216118710",
       "version_major": 2,
       "version_minor": 0
      },
      "text/plain": [
       "Folds avaliados:   0%|          | 0/10 [00:00<?, ?it/s]"
      ]
     },
     "metadata": {},
     "output_type": "display_data"
    },
    {
     "name": "stdout",
     "output_type": "stream",
     "text": [
      "Executando teste rf_vtd (50%)\n"
     ]
    },
    {
     "data": {
      "application/vnd.jupyter.widget-view+json": {
       "model_id": "3477bb1fdf284171800136982f993368",
       "version_major": 2,
       "version_minor": 0
      },
      "text/plain": [
       "Folds avaliados:   0%|          | 0/10 [00:00<?, ?it/s]"
      ]
     },
     "metadata": {},
     "output_type": "display_data"
    },
    {
     "name": "stdout",
     "output_type": "stream",
     "text": [
      "decil: 60.0\n",
      "Executando teste svm_vtd (60%)\n"
     ]
    },
    {
     "data": {
      "application/vnd.jupyter.widget-view+json": {
       "model_id": "63e1315281424fe688ab71d27143f030",
       "version_major": 2,
       "version_minor": 0
      },
      "text/plain": [
       "Folds avaliados:   0%|          | 0/10 [00:00<?, ?it/s]"
      ]
     },
     "metadata": {},
     "output_type": "display_data"
    },
    {
     "name": "stdout",
     "output_type": "stream",
     "text": [
      "Executando teste knn_vtd (60%)\n"
     ]
    },
    {
     "data": {
      "application/vnd.jupyter.widget-view+json": {
       "model_id": "3567853594744d1c961a4040661b6502",
       "version_major": 2,
       "version_minor": 0
      },
      "text/plain": [
       "Folds avaliados:   0%|          | 0/10 [00:00<?, ?it/s]"
      ]
     },
     "metadata": {},
     "output_type": "display_data"
    },
    {
     "name": "stdout",
     "output_type": "stream",
     "text": [
      "Executando teste rf_vtd (60%)\n"
     ]
    },
    {
     "data": {
      "application/vnd.jupyter.widget-view+json": {
       "model_id": "ce931f38f7ea4400a4e860b01d03a79b",
       "version_major": 2,
       "version_minor": 0
      },
      "text/plain": [
       "Folds avaliados:   0%|          | 0/10 [00:00<?, ?it/s]"
      ]
     },
     "metadata": {},
     "output_type": "display_data"
    },
    {
     "name": "stdout",
     "output_type": "stream",
     "text": [
      "decil: 70.0\n",
      "Executando teste svm_vtd (70%)\n"
     ]
    },
    {
     "data": {
      "application/vnd.jupyter.widget-view+json": {
       "model_id": "194b0bd797de44279d7f09d9b0be3a28",
       "version_major": 2,
       "version_minor": 0
      },
      "text/plain": [
       "Folds avaliados:   0%|          | 0/10 [00:00<?, ?it/s]"
      ]
     },
     "metadata": {},
     "output_type": "display_data"
    },
    {
     "name": "stdout",
     "output_type": "stream",
     "text": [
      "Executando teste knn_vtd (70%)\n"
     ]
    },
    {
     "data": {
      "application/vnd.jupyter.widget-view+json": {
       "model_id": "1ac858b2cd994509a442eee5db30e5bb",
       "version_major": 2,
       "version_minor": 0
      },
      "text/plain": [
       "Folds avaliados:   0%|          | 0/10 [00:00<?, ?it/s]"
      ]
     },
     "metadata": {},
     "output_type": "display_data"
    },
    {
     "name": "stdout",
     "output_type": "stream",
     "text": [
      "Executando teste rf_vtd (70%)\n"
     ]
    },
    {
     "data": {
      "application/vnd.jupyter.widget-view+json": {
       "model_id": "9b4de29f1bc24e8ba7c017349c96cc17",
       "version_major": 2,
       "version_minor": 0
      },
      "text/plain": [
       "Folds avaliados:   0%|          | 0/10 [00:00<?, ?it/s]"
      ]
     },
     "metadata": {},
     "output_type": "display_data"
    },
    {
     "name": "stdout",
     "output_type": "stream",
     "text": [
      "decil: 80.0\n",
      "Executando teste svm_vtd (80%)\n"
     ]
    },
    {
     "data": {
      "application/vnd.jupyter.widget-view+json": {
       "model_id": "93a9641572034ad18d7c184bb685069b",
       "version_major": 2,
       "version_minor": 0
      },
      "text/plain": [
       "Folds avaliados:   0%|          | 0/10 [00:00<?, ?it/s]"
      ]
     },
     "metadata": {},
     "output_type": "display_data"
    },
    {
     "name": "stdout",
     "output_type": "stream",
     "text": [
      "Executando teste knn_vtd (80%)\n"
     ]
    },
    {
     "data": {
      "application/vnd.jupyter.widget-view+json": {
       "model_id": "4797d166bde04005929a5d93abb2b89d",
       "version_major": 2,
       "version_minor": 0
      },
      "text/plain": [
       "Folds avaliados:   0%|          | 0/10 [00:00<?, ?it/s]"
      ]
     },
     "metadata": {},
     "output_type": "display_data"
    },
    {
     "name": "stdout",
     "output_type": "stream",
     "text": [
      "Executando teste rf_vtd (80%)\n"
     ]
    },
    {
     "data": {
      "application/vnd.jupyter.widget-view+json": {
       "model_id": "4849d86864d64b98b1dcd48fdac7425c",
       "version_major": 2,
       "version_minor": 0
      },
      "text/plain": [
       "Folds avaliados:   0%|          | 0/10 [00:00<?, ?it/s]"
      ]
     },
     "metadata": {},
     "output_type": "display_data"
    },
    {
     "name": "stdout",
     "output_type": "stream",
     "text": [
      "decil: 90.0\n",
      "Executando teste svm_vtd (90%)\n"
     ]
    },
    {
     "data": {
      "application/vnd.jupyter.widget-view+json": {
       "model_id": "8ae139a03aad4491b5f2e98b7693b342",
       "version_major": 2,
       "version_minor": 0
      },
      "text/plain": [
       "Folds avaliados:   0%|          | 0/10 [00:00<?, ?it/s]"
      ]
     },
     "metadata": {},
     "output_type": "display_data"
    },
    {
     "name": "stdout",
     "output_type": "stream",
     "text": [
      "Executando teste knn_vtd (90%)\n"
     ]
    },
    {
     "data": {
      "application/vnd.jupyter.widget-view+json": {
       "model_id": "175b6688c00f4bd4ae628be0fc09a3c4",
       "version_major": 2,
       "version_minor": 0
      },
      "text/plain": [
       "Folds avaliados:   0%|          | 0/10 [00:00<?, ?it/s]"
      ]
     },
     "metadata": {},
     "output_type": "display_data"
    },
    {
     "name": "stdout",
     "output_type": "stream",
     "text": [
      "Executando teste rf_vtd (90%)\n"
     ]
    },
    {
     "data": {
      "application/vnd.jupyter.widget-view+json": {
       "model_id": "0651b61655b542aba2d51296c6e53037",
       "version_major": 2,
       "version_minor": 0
      },
      "text/plain": [
       "Folds avaliados:   0%|          | 0/10 [00:00<?, ?it/s]"
      ]
     },
     "metadata": {},
     "output_type": "display_data"
    }
   ],
   "source": [
    "for decil in decis:\n",
    "    print(\"decil: %d\" % (decil))\n",
    "    vt = VariancePercentileThreshold(decil)\n",
    "    for nome, classificador, scale, params in testes:\n",
    "        nome = \"%s_vtd (%d%%)\" % (nome, decil)\n",
    "        print(\"Executando teste %s\" % (nome))\n",
    "        r = do_cv(classificador, X, y, 10, 10, 8, scale, ctimp, vt, params)\n",
    "        resultados[nome] = r"
   ]
  },
  {
   "cell_type": "code",
   "execution_count": 22,
   "id": "59fbe77b",
   "metadata": {},
   "outputs": [
    {
     "name": "stdout",
     "output_type": "stream",
     "text": [
      "       knn - Resultados: 0.48 +- 0.08, min: 0.36, max: 0.58\n",
      "  knn_vt=0 - Resultados: 0.48 +- 0.08, min: 0.36, max: 0.58\n",
      "knn_vtd (10%) - Resultados: 0.48 +- 0.08, min: 0.36, max: 0.58\n",
      "knn_vtd (20%) - Resultados: 0.48 +- 0.08, min: 0.36, max: 0.58\n",
      "knn_vtd (30%) - Resultados: 0.48 +- 0.08, min: 0.36, max: 0.58\n",
      "knn_vtd (40%) - Resultados: 0.48 +- 0.08, min: 0.36, max: 0.58\n",
      "knn_vtd (50%) - Resultados: 0.48 +- 0.08, min: 0.36, max: 0.58\n",
      "knn_vtd (60%) - Resultados: 0.48 +- 0.08, min: 0.36, max: 0.58\n",
      "knn_vtd (70%) - Resultados: 0.48 +- 0.08, min: 0.36, max: 0.58\n",
      "knn_vtd (80%) - Resultados: 0.48 +- 0.08, min: 0.36, max: 0.58\n",
      "knn_vtd (90%) - Resultados: 0.48 +- 0.08, min: 0.36, max: 0.58\n",
      "        rf - Resultados: 0.75 +- 0.07, min: 0.60, max: 0.86\n",
      "   rf_vt=0 - Resultados: 0.76 +- 0.09, min: 0.57, max: 0.89\n",
      "rf_vtd (10%) - Resultados: 0.75 +- 0.07, min: 0.60, max: 0.86\n",
      "rf_vtd (20%) - Resultados: 0.76 +- 0.09, min: 0.57, max: 0.89\n",
      "rf_vtd (30%) - Resultados: 0.76 +- 0.09, min: 0.57, max: 0.89\n",
      "rf_vtd (40%) - Resultados: 0.76 +- 0.09, min: 0.57, max: 0.89\n",
      "rf_vtd (50%) - Resultados: 0.76 +- 0.09, min: 0.57, max: 0.89\n",
      "rf_vtd (60%) - Resultados: 0.76 +- 0.09, min: 0.57, max: 0.89\n",
      "rf_vtd (70%) - Resultados: 0.78 +- 0.08, min: 0.61, max: 0.88\n",
      "rf_vtd (80%) - Resultados: 0.72 +- 0.08, min: 0.55, max: 0.83\n",
      "rf_vtd (90%) - Resultados: 0.73 +- 0.09, min: 0.56, max: 0.86\n",
      "       svm - Resultados: 0.71 +- 0.13, min: 0.38, max: 0.88\n",
      "  svm_vt=0 - Resultados: 0.71 +- 0.13, min: 0.38, max: 0.88\n",
      "svm_vtd (10%) - Resultados: 0.71 +- 0.13, min: 0.38, max: 0.88\n",
      "svm_vtd (20%) - Resultados: 0.71 +- 0.13, min: 0.38, max: 0.88\n",
      "svm_vtd (30%) - Resultados: 0.71 +- 0.13, min: 0.38, max: 0.88\n",
      "svm_vtd (40%) - Resultados: 0.71 +- 0.13, min: 0.38, max: 0.88\n",
      "svm_vtd (50%) - Resultados: 0.71 +- 0.13, min: 0.38, max: 0.88\n",
      "svm_vtd (60%) - Resultados: 0.70 +- 0.13, min: 0.38, max: 0.88\n",
      "svm_vtd (70%) - Resultados: 0.71 +- 0.13, min: 0.38, max: 0.88\n",
      "svm_vtd (80%) - Resultados: 0.71 +- 0.13, min: 0.38, max: 0.88\n",
      "svm_vtd (90%) - Resultados: 0.71 +- 0.13, min: 0.38, max: 0.88\n",
      "\n",
      "                knn          rf         svm     \n",
      "    knn         1.00     0.00 (*<)   0.00 (*<)  \n",
      "  knn_vt=0      1.00     0.00 (*<)   0.00 (*<)  \n",
      "knn_vtd (10%)    1.00     0.00 (*<)   0.00 (*<)  \n",
      "knn_vtd (20%)    1.00     0.00 (*<)   0.00 (*<)  \n",
      "knn_vtd (30%)    1.00     0.00 (*<)   0.00 (*<)  \n",
      "knn_vtd (40%)    1.00     0.00 (*<)   0.00 (*<)  \n",
      "knn_vtd (50%)    1.00     0.00 (*<)   0.00 (*<)  \n",
      "knn_vtd (60%)    1.00     0.00 (*<)   0.00 (*<)  \n",
      "knn_vtd (70%)    1.00     0.00 (*<)   0.00 (*<)  \n",
      "knn_vtd (80%)    1.00     0.00 (*<)   0.00 (*<)  \n",
      "knn_vtd (90%)    1.00     0.00 (*<)   0.00 (*<)  \n",
      "     rf      0.00 (*>)      1.00        0.33    \n",
      "  rf_vt=0    0.00 (*>)      0.88        0.32    \n",
      "rf_vtd (10%) 0.00 (*>)      1.00        0.33    \n",
      "rf_vtd (20%) 0.00 (*>)      0.88        0.32    \n",
      "rf_vtd (30%) 0.00 (*>)      0.88        0.32    \n",
      "rf_vtd (40%) 0.00 (*>)      0.88        0.32    \n",
      "rf_vtd (50%) 0.00 (*>)      0.88        0.32    \n",
      "rf_vtd (60%) 0.00 (*>)      0.88        0.32    \n",
      "rf_vtd (70%) 0.00 (*>)      0.46        0.16    \n",
      "rf_vtd (80%) 0.00 (*>)      0.31        0.81    \n",
      "rf_vtd (90%) 0.00 (*>)      0.48        0.68    \n",
      "    svm      0.00 (*>)      0.33        1.00    \n",
      "  svm_vt=0   0.00 (*>)      0.33        0.99    \n",
      "svm_vtd (10%) 0.00 (*>)      0.33        1.00    \n",
      "svm_vtd (20%) 0.00 (*>)      0.33        1.00    \n",
      "svm_vtd (30%) 0.00 (*>)      0.33        1.00    \n",
      "svm_vtd (40%) 0.00 (*>)      0.33        1.00    \n",
      "svm_vtd (50%) 0.00 (*>)      0.33        1.00    \n",
      "svm_vtd (60%) 0.00 (*>)      0.30        0.96    \n",
      "svm_vtd (70%) 0.00 (*>)      0.33        0.99    \n",
      "svm_vtd (80%) 0.00 (*>)      0.33        0.99    \n",
      "svm_vtd (90%) 0.00 (*>)      0.33        0.99    \n"
     ]
    }
   ],
   "source": [
    "for teste in sorted(resultados):\n",
    "    print(teste.rjust(10), end=' - ')\n",
    "    imprimir_estatisticas(resultados[teste])\n",
    "\n",
    "print()\n",
    "\n",
    "print_t_tests(resultados, alpha=0.05, cols=[\"knn\", \"rf\", \"svm\"])"
   ]
  },
  {
   "cell_type": "markdown",
   "id": "5109f898",
   "metadata": {},
   "source": [
    "# Seleção de características por testes estatísticos univariados"
   ]
  },
  {
   "cell_type": "code",
   "execution_count": 23,
   "id": "c54658e1",
   "metadata": {},
   "outputs": [
    {
     "data": {
      "text/plain": [
       "<Axes: xlabel='QRSduration', ylabel='class'>"
      ]
     },
     "execution_count": 23,
     "metadata": {},
     "output_type": "execute_result"
    },
    {
     "data": {
      "image/png": "[encoded data removed]",
      "text/plain": [
       "<Figure size 640x480 with 1 Axes>"
      ]
     },
     "metadata": {},
     "output_type": "display_data"
    }
   ],
   "source": [
    "sns.scatterplot(data=df, hue=\"class\", x=\"QRSduration\", y=\"class\")"
   ]
  },
  {
   "cell_type": "markdown",
   "id": "a90ddfa7",
   "metadata": {},
   "source": [
    "## Teste ANOVA"
   ]
  },
  {
   "cell_type": "code",
   "execution_count": 25,
   "id": "e0294435",
   "metadata": {},
   "outputs": [],
   "source": [
    "from sklearn.feature_selection import f_classif"
   ]
  },
  {
   "cell_type": "code",
   "execution_count": 26,
   "id": "4aa31fb6",
   "metadata": {},
   "outputs": [
    {
     "data": {
      "text/plain": [
       "(array([54.66233399]), array([7.04342399e-13]))"
      ]
     },
     "execution_count": 26,
     "metadata": {},
     "output_type": "execute_result"
    }
   ],
   "source": [
    "f_classif(X_ohoe['QRSduration'].values.reshape((-1,1)), y)"
   ]
  },
  {
   "cell_type": "code",
   "execution_count": 27,
   "id": "37c05cfa",
   "metadata": {},
   "outputs": [
    {
     "name": "stderr",
     "output_type": "stream",
     "text": [
      "/dados/juliano/Dropbox/UTFPR/Aulas/AM36O - Aprendizagem de Máquina/venv/lib/python3.10/site-packages/sklearn/feature_selection/_univariate_selection.py:112: UserWarning: Features [ 54  69 116 117 122 125 128 137 138 154 178 214 220 227 267 327 337] are constant.\n",
      "  warnings.warn(\"Features %s are constant.\" % constant_features_idx, UserWarning)\n",
      "/dados/juliano/Dropbox/UTFPR/Aulas/AM36O - Aprendizagem de Máquina/venv/lib/python3.10/site-packages/sklearn/feature_selection/_univariate_selection.py:113: RuntimeWarning: invalid value encountered in divide\n",
      "  f = msb / msw\n"
     ]
    },
    {
     "data": {
      "text/plain": [
       "<Axes: ylabel='Count'>"
      ]
     },
     "execution_count": 27,
     "metadata": {},
     "output_type": "execute_result"
    },
    {
     "data": {
      "image/png": "[encoded data removed]",
      "text/plain": [
       "<Figure size 640x480 with 1 Axes>"
      ]
     },
     "metadata": {},
     "output_type": "display_data"
    }
   ],
   "source": [
    "sns.histplot(f_classif(ctimp.fit_transform(X_ohoe), y)[0])"
   ]
  },
  {
   "cell_type": "code",
   "execution_count": 28,
   "id": "6a84e9dd",
   "metadata": {},
   "outputs": [],
   "source": [
    "from sklearn.feature_selection import SelectPercentile"
   ]
  },
  {
   "cell_type": "code",
   "execution_count": 29,
   "id": "9ee8f93a",
   "metadata": {},
   "outputs": [
    {
     "name": "stdout",
     "output_type": "stream",
     "text": [
      "decil: 10\n",
      "Executando teste svm_an (10%)\n"
     ]
    },
    {
     "data": {
      "application/vnd.jupyter.widget-view+json": {
       "model_id": "6a49935dec3c4e79bcaee692e2d47115",
       "version_major": 2,
       "version_minor": 0
      },
      "text/plain": [
       "Folds avaliados:   0%|          | 0/10 [00:00<?, ?it/s]"
      ]
     },
     "metadata": {},
     "output_type": "display_data"
    },
    {
     "name": "stderr",
     "output_type": "stream",
     "text": [
      "/dados/juliano/Dropbox/UTFPR/Aulas/AM36O - Aprendizagem de Máquina/venv/lib/python3.10/site-packages/sklearn/feature_selection/_univariate_selection.py:112: UserWarning: Features [ 18  23  54  57  66  68  82  83 130 131 138 140 142 144 150 155 156 163\n",
      " 193 203 263 273] are constant.\n",
      "  warnings.warn(\"Features %s are constant.\" % constant_features_idx, UserWarning)\n",
      "/dados/juliano/Dropbox/UTFPR/Aulas/AM36O - Aprendizagem de Máquina/venv/lib/python3.10/site-packages/sklearn/feature_selection/_univariate_selection.py:113: RuntimeWarning: invalid value encountered in divide\n",
      "  f = msb / msw\n",
      "/dados/juliano/Dropbox/UTFPR/Aulas/AM36O - Aprendizagem de Máquina/venv/lib/python3.10/site-packages/sklearn/feature_selection/_univariate_selection.py:112: UserWarning: Features [ 18  20  66  68  82 126 130 131 138 140 142 143 144 150 155 156 163 203\n",
      " 253 263 273] are constant.\n",
      "  warnings.warn(\"Features %s are constant.\" % constant_features_idx, UserWarning)\n",
      "/dados/juliano/Dropbox/UTFPR/Aulas/AM36O - Aprendizagem de Máquina/venv/lib/python3.10/site-packages/sklearn/feature_selection/_univariate_selection.py:113: RuntimeWarning: invalid value encountered in divide\n",
      "  f = msb / msw\n",
      "/dados/juliano/Dropbox/UTFPR/Aulas/AM36O - Aprendizagem de Máquina/venv/lib/python3.10/site-packages/sklearn/feature_selection/_univariate_selection.py:112: UserWarning: Features [ 18  57  66  68  82  84  85 130 131 138 140 142 144 150 155 156 163 203\n",
      " 263 273] are constant.\n",
      "  warnings.warn(\"Features %s are constant.\" % constant_features_idx, UserWarning)\n",
      "/dados/juliano/Dropbox/UTFPR/Aulas/AM36O - Aprendizagem de Máquina/venv/lib/python3.10/site-packages/sklearn/feature_selection/_univariate_selection.py:113: RuntimeWarning: invalid value encountered in divide\n",
      "  f = msb / msw\n",
      "/dados/juliano/Dropbox/UTFPR/Aulas/AM36O - Aprendizagem de Máquina/venv/lib/python3.10/site-packages/sklearn/feature_selection/_univariate_selection.py:112: UserWarning: Features [ 18  54  66  68  82 117 130 131 138 140 142 143 144 150 152 155 156 163\n",
      " 193 203 263 273] are constant.\n",
      "  warnings.warn(\"Features %s are constant.\" % constant_features_idx, UserWarning)\n",
      "/dados/juliano/Dropbox/UTFPR/Aulas/AM36O - Aprendizagem de Máquina/venv/lib/python3.10/site-packages/sklearn/feature_selection/_univariate_selection.py:113: RuntimeWarning: invalid value encountered in divide\n",
      "  f = msb / msw\n",
      "/dados/juliano/Dropbox/UTFPR/Aulas/AM36O - Aprendizagem de Máquina/venv/lib/python3.10/site-packages/sklearn/feature_selection/_univariate_selection.py:112: UserWarning: Features [ 18  49  66  68  70  73  82 130 131 138 140 142 144 150 155 156 163 203\n",
      " 263 273] are constant.\n",
      "  warnings.warn(\"Features %s are constant.\" % constant_features_idx, UserWarning)\n",
      "/dados/juliano/Dropbox/UTFPR/Aulas/AM36O - Aprendizagem de Máquina/venv/lib/python3.10/site-packages/sklearn/feature_selection/_univariate_selection.py:113: RuntimeWarning: invalid value encountered in divide\n",
      "  f = msb / msw\n",
      "/dados/juliano/Dropbox/UTFPR/Aulas/AM36O - Aprendizagem de Máquina/venv/lib/python3.10/site-packages/sklearn/feature_selection/_univariate_selection.py:112: UserWarning: Features [ 18  34  44  57  58  66  68  72  82  83 130 131 138 140 142 143 144 150\n",
      " 155 156 163 203 263 273] are constant.\n",
      "  warnings.warn(\"Features %s are constant.\" % constant_features_idx, UserWarning)\n",
      "/dados/juliano/Dropbox/UTFPR/Aulas/AM36O - Aprendizagem de Máquina/venv/lib/python3.10/site-packages/sklearn/feature_selection/_univariate_selection.py:113: RuntimeWarning: invalid value encountered in divide\n",
      "  f = msb / msw\n",
      "/dados/juliano/Dropbox/UTFPR/Aulas/AM36O - Aprendizagem de Máquina/venv/lib/python3.10/site-packages/sklearn/feature_selection/_univariate_selection.py:112: UserWarning: Features [ 18  34  46  66  68  82  85 130 131 138 140 142 143 144 150 155 156 163\n",
      " 203 263 273] are constant.\n",
      "  warnings.warn(\"Features %s are constant.\" % constant_features_idx, UserWarning)\n",
      "/dados/juliano/Dropbox/UTFPR/Aulas/AM36O - Aprendizagem de Máquina/venv/lib/python3.10/site-packages/sklearn/feature_selection/_univariate_selection.py:113: RuntimeWarning: invalid value encountered in divide\n",
      "  f = msb / msw\n",
      "/dados/juliano/Dropbox/UTFPR/Aulas/AM36O - Aprendizagem de Máquina/venv/lib/python3.10/site-packages/sklearn/feature_selection/_univariate_selection.py:112: UserWarning: Features [ 18  49  66  68  73  82 102 114 130 131 138 140 142 143 144 150 155 156\n",
      " 163 203 233 243 263 273] are constant.\n",
      "  warnings.warn(\"Features %s are constant.\" % constant_features_idx, UserWarning)\n",
      "/dados/juliano/Dropbox/UTFPR/Aulas/AM36O - Aprendizagem de Máquina/venv/lib/python3.10/site-packages/sklearn/feature_selection/_univariate_selection.py:113: RuntimeWarning: invalid value encountered in divide\n",
      "  f = msb / msw\n",
      "/dados/juliano/Dropbox/UTFPR/Aulas/AM36O - Aprendizagem de Máquina/venv/lib/python3.10/site-packages/sklearn/feature_selection/_univariate_selection.py:112: UserWarning: Features [ 18  34  58  60  66  68  73  82  83 126 130 131 138 140 142 144 150 153\n",
      " 155 156 163 203 253 263 273] are constant.\n",
      "  warnings.warn(\"Features %s are constant.\" % constant_features_idx, UserWarning)\n",
      "/dados/juliano/Dropbox/UTFPR/Aulas/AM36O - Aprendizagem de Máquina/venv/lib/python3.10/site-packages/sklearn/feature_selection/_univariate_selection.py:113: RuntimeWarning: invalid value encountered in divide\n",
      "  f = msb / msw\n",
      "/dados/juliano/Dropbox/UTFPR/Aulas/AM36O - Aprendizagem de Máquina/venv/lib/python3.10/site-packages/sklearn/feature_selection/_univariate_selection.py:112: UserWarning: Features [ 18  66  68  71  82 117 126 130 131 132 138 140 142 144 150 153 155 156\n",
      " 163 203 253 263 273] are constant.\n",
      "  warnings.warn(\"Features %s are constant.\" % constant_features_idx, UserWarning)\n",
      "/dados/juliano/Dropbox/UTFPR/Aulas/AM36O - Aprendizagem de Máquina/venv/lib/python3.10/site-packages/sklearn/feature_selection/_univariate_selection.py:113: RuntimeWarning: invalid value encountered in divide\n",
      "  f = msb / msw\n"
     ]
    },
    {
     "name": "stdout",
     "output_type": "stream",
     "text": [
      "Executando teste knn_an (10%)\n"
     ]
    },
    {
     "data": {
      "application/vnd.jupyter.widget-view+json": {
       "model_id": "4561331d0bb34453ae29d5710ab63ab2",
       "version_major": 2,
       "version_minor": 0
      },
      "text/plain": [
       "Folds avaliados:   0%|          | 0/10 [00:00<?, ?it/s]"
      ]
     },
     "metadata": {},
     "output_type": "display_data"
    },
    {
     "name": "stderr",
     "output_type": "stream",
     "text": [
      "/dados/juliano/Dropbox/UTFPR/Aulas/AM36O - Aprendizagem de Máquina/venv/lib/python3.10/site-packages/sklearn/feature_selection/_univariate_selection.py:112: UserWarning: Features [ 18  23  54  57  66  68  82  83 130 131 138 140 142 144 150 155 156 163\n",
      " 193 203 263 273] are constant.\n",
      "  warnings.warn(\"Features %s are constant.\" % constant_features_idx, UserWarning)\n",
      "/dados/juliano/Dropbox/UTFPR/Aulas/AM36O - Aprendizagem de Máquina/venv/lib/python3.10/site-packages/sklearn/feature_selection/_univariate_selection.py:113: RuntimeWarning: invalid value encountered in divide\n",
      "  f = msb / msw\n",
      "/dados/juliano/Dropbox/UTFPR/Aulas/AM36O - Aprendizagem de Máquina/venv/lib/python3.10/site-packages/sklearn/feature_selection/_univariate_selection.py:112: UserWarning: Features [ 18  20  66  68  82 126 130 131 138 140 142 143 144 150 155 156 163 203\n",
      " 253 263 273] are constant.\n",
      "  warnings.warn(\"Features %s are constant.\" % constant_features_idx, UserWarning)\n",
      "/dados/juliano/Dropbox/UTFPR/Aulas/AM36O - Aprendizagem de Máquina/venv/lib/python3.10/site-packages/sklearn/feature_selection/_univariate_selection.py:113: RuntimeWarning: invalid value encountered in divide\n",
      "  f = msb / msw\n",
      "/dados/juliano/Dropbox/UTFPR/Aulas/AM36O - Aprendizagem de Máquina/venv/lib/python3.10/site-packages/sklearn/feature_selection/_univariate_selection.py:112: UserWarning: Features [ 18  57  66  68  82  84  85 130 131 138 140 142 144 150 155 156 163 203\n",
      " 263 273] are constant.\n",
      "  warnings.warn(\"Features %s are constant.\" % constant_features_idx, UserWarning)\n",
      "/dados/juliano/Dropbox/UTFPR/Aulas/AM36O - Aprendizagem de Máquina/venv/lib/python3.10/site-packages/sklearn/feature_selection/_univariate_selection.py:113: RuntimeWarning: invalid value encountered in divide\n",
      "  f = msb / msw\n",
      "/dados/juliano/Dropbox/UTFPR/Aulas/AM36O - Aprendizagem de Máquina/venv/lib/python3.10/site-packages/sklearn/feature_selection/_univariate_selection.py:112: UserWarning: Features [ 18  54  66  68  82 117 130 131 138 140 142 143 144 150 152 155 156 163\n",
      " 193 203 263 273] are constant.\n",
      "  warnings.warn(\"Features %s are constant.\" % constant_features_idx, UserWarning)\n",
      "/dados/juliano/Dropbox/UTFPR/Aulas/AM36O - Aprendizagem de Máquina/venv/lib/python3.10/site-packages/sklearn/feature_selection/_univariate_selection.py:113: RuntimeWarning: invalid value encountered in divide\n",
      "  f = msb / msw\n",
      "/dados/juliano/Dropbox/UTFPR/Aulas/AM36O - Aprendizagem de Máquina/venv/lib/python3.10/site-packages/sklearn/feature_selection/_univariate_selection.py:112: UserWarning: Features [ 18  49  66  68  70  73  82 130 131 138 140 142 144 150 155 156 163 203\n",
      " 263 273] are constant.\n",
      "  warnings.warn(\"Features %s are constant.\" % constant_features_idx, UserWarning)\n",
      "/dados/juliano/Dropbox/UTFPR/Aulas/AM36O - Aprendizagem de Máquina/venv/lib/python3.10/site-packages/sklearn/feature_selection/_univariate_selection.py:113: RuntimeWarning: invalid value encountered in divide\n",
      "  f = msb / msw\n",
      "/dados/juliano/Dropbox/UTFPR/Aulas/AM36O - Aprendizagem de Máquina/venv/lib/python3.10/site-packages/sklearn/feature_selection/_univariate_selection.py:112: UserWarning: Features [ 18  34  44  57  58  66  68  72  82  83 130 131 138 140 142 143 144 150\n",
      " 155 156 163 203 263 273] are constant.\n",
      "  warnings.warn(\"Features %s are constant.\" % constant_features_idx, UserWarning)\n",
      "/dados/juliano/Dropbox/UTFPR/Aulas/AM36O - Aprendizagem de Máquina/venv/lib/python3.10/site-packages/sklearn/feature_selection/_univariate_selection.py:113: RuntimeWarning: invalid value encountered in divide\n",
      "  f = msb / msw\n",
      "/dados/juliano/Dropbox/UTFPR/Aulas/AM36O - Aprendizagem de Máquina/venv/lib/python3.10/site-packages/sklearn/feature_selection/_univariate_selection.py:112: UserWarning: Features [ 18  34  46  66  68  82  85 130 131 138 140 142 143 144 150 155 156 163\n",
      " 203 263 273] are constant.\n",
      "  warnings.warn(\"Features %s are constant.\" % constant_features_idx, UserWarning)\n",
      "/dados/juliano/Dropbox/UTFPR/Aulas/AM36O - Aprendizagem de Máquina/venv/lib/python3.10/site-packages/sklearn/feature_selection/_univariate_selection.py:113: RuntimeWarning: invalid value encountered in divide\n",
      "  f = msb / msw\n",
      "/dados/juliano/Dropbox/UTFPR/Aulas/AM36O - Aprendizagem de Máquina/venv/lib/python3.10/site-packages/sklearn/feature_selection/_univariate_selection.py:112: UserWarning: Features [ 18  49  66  68  73  82 102 114 130 131 138 140 142 143 144 150 155 156\n",
      " 163 203 233 243 263 273] are constant.\n",
      "  warnings.warn(\"Features %s are constant.\" % constant_features_idx, UserWarning)\n",
      "/dados/juliano/Dropbox/UTFPR/Aulas/AM36O - Aprendizagem de Máquina/venv/lib/python3.10/site-packages/sklearn/feature_selection/_univariate_selection.py:113: RuntimeWarning: invalid value encountered in divide\n",
      "  f = msb / msw\n",
      "/dados/juliano/Dropbox/UTFPR/Aulas/AM36O - Aprendizagem de Máquina/venv/lib/python3.10/site-packages/sklearn/feature_selection/_univariate_selection.py:112: UserWarning: Features [ 18  34  58  60  66  68  73  82  83 126 130 131 138 140 142 144 150 153\n",
      " 155 156 163 203 253 263 273] are constant.\n",
      "  warnings.warn(\"Features %s are constant.\" % constant_features_idx, UserWarning)\n",
      "/dados/juliano/Dropbox/UTFPR/Aulas/AM36O - Aprendizagem de Máquina/venv/lib/python3.10/site-packages/sklearn/feature_selection/_univariate_selection.py:113: RuntimeWarning: invalid value encountered in divide\n",
      "  f = msb / msw\n",
      "/dados/juliano/Dropbox/UTFPR/Aulas/AM36O - Aprendizagem de Máquina/venv/lib/python3.10/site-packages/sklearn/feature_selection/_univariate_selection.py:112: UserWarning: Features [ 18  66  68  71  82 117 126 130 131 132 138 140 142 144 150 153 155 156\n",
      " 163 203 253 263 273] are constant.\n",
      "  warnings.warn(\"Features %s are constant.\" % constant_features_idx, UserWarning)\n",
      "/dados/juliano/Dropbox/UTFPR/Aulas/AM36O - Aprendizagem de Máquina/venv/lib/python3.10/site-packages/sklearn/feature_selection/_univariate_selection.py:113: RuntimeWarning: invalid value encountered in divide\n",
      "  f = msb / msw\n"
     ]
    },
    {
     "name": "stdout",
     "output_type": "stream",
     "text": [
      "Executando teste rf_an (10%)\n"
     ]
    },
    {
     "data": {
      "application/vnd.jupyter.widget-view+json": {
       "model_id": "f5fd04ccec5e42c693e06fe32ce1b912",
       "version_major": 2,
       "version_minor": 0
      },
      "text/plain": [
       "Folds avaliados:   0%|          | 0/10 [00:00<?, ?it/s]"
      ]
     },
     "metadata": {},
     "output_type": "display_data"
    },
    {
     "name": "stderr",
     "output_type": "stream",
     "text": [
      "/dados/juliano/Dropbox/UTFPR/Aulas/AM36O - Aprendizagem de Máquina/venv/lib/python3.10/site-packages/sklearn/feature_selection/_univariate_selection.py:112: UserWarning: Features [ 18  23  54  57  66  68  82  83 130 131 138 140 142 144 150 155 156 163\n",
      " 193 203 263 273] are constant.\n",
      "  warnings.warn(\"Features %s are constant.\" % constant_features_idx, UserWarning)\n",
      "/dados/juliano/Dropbox/UTFPR/Aulas/AM36O - Aprendizagem de Máquina/venv/lib/python3.10/site-packages/sklearn/feature_selection/_univariate_selection.py:113: RuntimeWarning: invalid value encountered in divide\n",
      "  f = msb / msw\n",
      "/dados/juliano/Dropbox/UTFPR/Aulas/AM36O - Aprendizagem de Máquina/venv/lib/python3.10/site-packages/sklearn/feature_selection/_univariate_selection.py:112: UserWarning: Features [ 18  20  66  68  82 126 130 131 138 140 142 143 144 150 155 156 163 203\n",
      " 253 263 273] are constant.\n",
      "  warnings.warn(\"Features %s are constant.\" % constant_features_idx, UserWarning)\n",
      "/dados/juliano/Dropbox/UTFPR/Aulas/AM36O - Aprendizagem de Máquina/venv/lib/python3.10/site-packages/sklearn/feature_selection/_univariate_selection.py:113: RuntimeWarning: invalid value encountered in divide\n",
      "  f = msb / msw\n",
      "/dados/juliano/Dropbox/UTFPR/Aulas/AM36O - Aprendizagem de Máquina/venv/lib/python3.10/site-packages/sklearn/feature_selection/_univariate_selection.py:112: UserWarning: Features [ 18  57  66  68  82  84  85 130 131 138 140 142 144 150 155 156 163 203\n",
      " 263 273] are constant.\n",
      "  warnings.warn(\"Features %s are constant.\" % constant_features_idx, UserWarning)\n",
      "/dados/juliano/Dropbox/UTFPR/Aulas/AM36O - Aprendizagem de Máquina/venv/lib/python3.10/site-packages/sklearn/feature_selection/_univariate_selection.py:113: RuntimeWarning: invalid value encountered in divide\n",
      "  f = msb / msw\n",
      "/dados/juliano/Dropbox/UTFPR/Aulas/AM36O - Aprendizagem de Máquina/venv/lib/python3.10/site-packages/sklearn/feature_selection/_univariate_selection.py:112: UserWarning: Features [ 18  54  66  68  82 117 130 131 138 140 142 143 144 150 152 155 156 163\n",
      " 193 203 263 273] are constant.\n",
      "  warnings.warn(\"Features %s are constant.\" % constant_features_idx, UserWarning)\n",
      "/dados/juliano/Dropbox/UTFPR/Aulas/AM36O - Aprendizagem de Máquina/venv/lib/python3.10/site-packages/sklearn/feature_selection/_univariate_selection.py:113: RuntimeWarning: invalid value encountered in divide\n",
      "  f = msb / msw\n",
      "/dados/juliano/Dropbox/UTFPR/Aulas/AM36O - Aprendizagem de Máquina/venv/lib/python3.10/site-packages/sklearn/feature_selection/_univariate_selection.py:112: UserWarning: Features [ 18  49  66  68  70  73  82 130 131 138 140 142 144 150 155 156 163 203\n",
      " 263 273] are constant.\n",
      "  warnings.warn(\"Features %s are constant.\" % constant_features_idx, UserWarning)\n",
      "/dados/juliano/Dropbox/UTFPR/Aulas/AM36O - Aprendizagem de Máquina/venv/lib/python3.10/site-packages/sklearn/feature_selection/_univariate_selection.py:113: RuntimeWarning: invalid value encountered in divide\n",
      "  f = msb / msw\n",
      "/dados/juliano/Dropbox/UTFPR/Aulas/AM36O - Aprendizagem de Máquina/venv/lib/python3.10/site-packages/sklearn/feature_selection/_univariate_selection.py:112: UserWarning: Features [ 18  34  44  57  58  66  68  72  82  83 130 131 138 140 142 143 144 150\n",
      " 155 156 163 203 263 273] are constant.\n",
      "  warnings.warn(\"Features %s are constant.\" % constant_features_idx, UserWarning)\n",
      "/dados/juliano/Dropbox/UTFPR/Aulas/AM36O - Aprendizagem de Máquina/venv/lib/python3.10/site-packages/sklearn/feature_selection/_univariate_selection.py:113: RuntimeWarning: invalid value encountered in divide\n",
      "  f = msb / msw\n",
      "/dados/juliano/Dropbox/UTFPR/Aulas/AM36O - Aprendizagem de Máquina/venv/lib/python3.10/site-packages/sklearn/feature_selection/_univariate_selection.py:112: UserWarning: Features [ 18  34  46  66  68  82  85 130 131 138 140 142 143 144 150 155 156 163\n",
      " 203 263 273] are constant.\n",
      "  warnings.warn(\"Features %s are constant.\" % constant_features_idx, UserWarning)\n",
      "/dados/juliano/Dropbox/UTFPR/Aulas/AM36O - Aprendizagem de Máquina/venv/lib/python3.10/site-packages/sklearn/feature_selection/_univariate_selection.py:113: RuntimeWarning: invalid value encountered in divide\n",
      "  f = msb / msw\n",
      "/dados/juliano/Dropbox/UTFPR/Aulas/AM36O - Aprendizagem de Máquina/venv/lib/python3.10/site-packages/sklearn/feature_selection/_univariate_selection.py:112: UserWarning: Features [ 18  49  66  68  73  82 102 114 130 131 138 140 142 143 144 150 155 156\n",
      " 163 203 233 243 263 273] are constant.\n",
      "  warnings.warn(\"Features %s are constant.\" % constant_features_idx, UserWarning)\n",
      "/dados/juliano/Dropbox/UTFPR/Aulas/AM36O - Aprendizagem de Máquina/venv/lib/python3.10/site-packages/sklearn/feature_selection/_univariate_selection.py:113: RuntimeWarning: invalid value encountered in divide\n",
      "  f = msb / msw\n",
      "/dados/juliano/Dropbox/UTFPR/Aulas/AM36O - Aprendizagem de Máquina/venv/lib/python3.10/site-packages/sklearn/feature_selection/_univariate_selection.py:112: UserWarning: Features [ 18  34  58  60  66  68  73  82  83 126 130 131 138 140 142 144 150 153\n",
      " 155 156 163 203 253 263 273] are constant.\n",
      "  warnings.warn(\"Features %s are constant.\" % constant_features_idx, UserWarning)\n",
      "/dados/juliano/Dropbox/UTFPR/Aulas/AM36O - Aprendizagem de Máquina/venv/lib/python3.10/site-packages/sklearn/feature_selection/_univariate_selection.py:113: RuntimeWarning: invalid value encountered in divide\n",
      "  f = msb / msw\n",
      "/dados/juliano/Dropbox/UTFPR/Aulas/AM36O - Aprendizagem de Máquina/venv/lib/python3.10/site-packages/sklearn/feature_selection/_univariate_selection.py:112: UserWarning: Features [ 18  66  68  71  82 117 126 130 131 132 138 140 142 144 150 153 155 156\n",
      " 163 203 253 263 273] are constant.\n",
      "  warnings.warn(\"Features %s are constant.\" % constant_features_idx, UserWarning)\n",
      "/dados/juliano/Dropbox/UTFPR/Aulas/AM36O - Aprendizagem de Máquina/venv/lib/python3.10/site-packages/sklearn/feature_selection/_univariate_selection.py:113: RuntimeWarning: invalid value encountered in divide\n",
      "  f = msb / msw\n"
     ]
    },
    {
     "name": "stdout",
     "output_type": "stream",
     "text": [
      "decil: 20\n",
      "Executando teste svm_an (20%)\n"
     ]
    },
    {
     "data": {
      "application/vnd.jupyter.widget-view+json": {
       "model_id": "977002fc266e49e984397858fb967426",
       "version_major": 2,
       "version_minor": 0
      },
      "text/plain": [
       "Folds avaliados:   0%|          | 0/10 [00:00<?, ?it/s]"
      ]
     },
     "metadata": {},
     "output_type": "display_data"
    },
    {
     "name": "stderr",
     "output_type": "stream",
     "text": [
      "/dados/juliano/Dropbox/UTFPR/Aulas/AM36O - Aprendizagem de Máquina/venv/lib/python3.10/site-packages/sklearn/feature_selection/_univariate_selection.py:112: UserWarning: Features [ 18  23  54  57  66  68  82  83 130 131 138 140 142 144 150 155 156 163\n",
      " 193 203 263 273] are constant.\n",
      "  warnings.warn(\"Features %s are constant.\" % constant_features_idx, UserWarning)\n",
      "/dados/juliano/Dropbox/UTFPR/Aulas/AM36O - Aprendizagem de Máquina/venv/lib/python3.10/site-packages/sklearn/feature_selection/_univariate_selection.py:113: RuntimeWarning: invalid value encountered in divide\n",
      "  f = msb / msw\n",
      "/dados/juliano/Dropbox/UTFPR/Aulas/AM36O - Aprendizagem de Máquina/venv/lib/python3.10/site-packages/sklearn/feature_selection/_univariate_selection.py:112: UserWarning: Features [ 18  20  66  68  82 126 130 131 138 140 142 143 144 150 155 156 163 203\n",
      " 253 263 273] are constant.\n",
      "  warnings.warn(\"Features %s are constant.\" % constant_features_idx, UserWarning)\n",
      "/dados/juliano/Dropbox/UTFPR/Aulas/AM36O - Aprendizagem de Máquina/venv/lib/python3.10/site-packages/sklearn/feature_selection/_univariate_selection.py:113: RuntimeWarning: invalid value encountered in divide\n",
      "  f = msb / msw\n",
      "/dados/juliano/Dropbox/UTFPR/Aulas/AM36O - Aprendizagem de Máquina/venv/lib/python3.10/site-packages/sklearn/feature_selection/_univariate_selection.py:112: UserWarning: Features [ 18  57  66  68  82  84  85 130 131 138 140 142 144 150 155 156 163 203\n",
      " 263 273] are constant.\n",
      "  warnings.warn(\"Features %s are constant.\" % constant_features_idx, UserWarning)\n",
      "/dados/juliano/Dropbox/UTFPR/Aulas/AM36O - Aprendizagem de Máquina/venv/lib/python3.10/site-packages/sklearn/feature_selection/_univariate_selection.py:113: RuntimeWarning: invalid value encountered in divide\n",
      "  f = msb / msw\n",
      "/dados/juliano/Dropbox/UTFPR/Aulas/AM36O - Aprendizagem de Máquina/venv/lib/python3.10/site-packages/sklearn/feature_selection/_univariate_selection.py:112: UserWarning: Features [ 18  54  66  68  82 117 130 131 138 140 142 143 144 150 152 155 156 163\n",
      " 193 203 263 273] are constant.\n",
      "  warnings.warn(\"Features %s are constant.\" % constant_features_idx, UserWarning)\n",
      "/dados/juliano/Dropbox/UTFPR/Aulas/AM36O - Aprendizagem de Máquina/venv/lib/python3.10/site-packages/sklearn/feature_selection/_univariate_selection.py:113: RuntimeWarning: invalid value encountered in divide\n",
      "  f = msb / msw\n",
      "/dados/juliano/Dropbox/UTFPR/Aulas/AM36O - Aprendizagem de Máquina/venv/lib/python3.10/site-packages/sklearn/feature_selection/_univariate_selection.py:112: UserWarning: Features [ 18  49  66  68  70  73  82 130 131 138 140 142 144 150 155 156 163 203\n",
      " 263 273] are constant.\n",
      "  warnings.warn(\"Features %s are constant.\" % constant_features_idx, UserWarning)\n",
      "/dados/juliano/Dropbox/UTFPR/Aulas/AM36O - Aprendizagem de Máquina/venv/lib/python3.10/site-packages/sklearn/feature_selection/_univariate_selection.py:113: RuntimeWarning: invalid value encountered in divide\n",
      "  f = msb / msw\n",
      "/dados/juliano/Dropbox/UTFPR/Aulas/AM36O - Aprendizagem de Máquina/venv/lib/python3.10/site-packages/sklearn/feature_selection/_univariate_selection.py:112: UserWarning: Features [ 18  34  44  57  58  66  68  72  82  83 130 131 138 140 142 143 144 150\n",
      " 155 156 163 203 263 273] are constant.\n",
      "  warnings.warn(\"Features %s are constant.\" % constant_features_idx, UserWarning)\n",
      "/dados/juliano/Dropbox/UTFPR/Aulas/AM36O - Aprendizagem de Máquina/venv/lib/python3.10/site-packages/sklearn/feature_selection/_univariate_selection.py:113: RuntimeWarning: invalid value encountered in divide\n",
      "  f = msb / msw\n",
      "/dados/juliano/Dropbox/UTFPR/Aulas/AM36O - Aprendizagem de Máquina/venv/lib/python3.10/site-packages/sklearn/feature_selection/_univariate_selection.py:112: UserWarning: Features [ 18  34  46  66  68  82  85 130 131 138 140 142 143 144 150 155 156 163\n",
      " 203 263 273] are constant.\n",
      "  warnings.warn(\"Features %s are constant.\" % constant_features_idx, UserWarning)\n",
      "/dados/juliano/Dropbox/UTFPR/Aulas/AM36O - Aprendizagem de Máquina/venv/lib/python3.10/site-packages/sklearn/feature_selection/_univariate_selection.py:113: RuntimeWarning: invalid value encountered in divide\n",
      "  f = msb / msw\n",
      "/dados/juliano/Dropbox/UTFPR/Aulas/AM36O - Aprendizagem de Máquina/venv/lib/python3.10/site-packages/sklearn/feature_selection/_univariate_selection.py:112: UserWarning: Features [ 18  49  66  68  73  82 102 114 130 131 138 140 142 143 144 150 155 156\n",
      " 163 203 233 243 263 273] are constant.\n",
      "  warnings.warn(\"Features %s are constant.\" % constant_features_idx, UserWarning)\n",
      "/dados/juliano/Dropbox/UTFPR/Aulas/AM36O - Aprendizagem de Máquina/venv/lib/python3.10/site-packages/sklearn/feature_selection/_univariate_selection.py:113: RuntimeWarning: invalid value encountered in divide\n",
      "  f = msb / msw\n",
      "/dados/juliano/Dropbox/UTFPR/Aulas/AM36O - Aprendizagem de Máquina/venv/lib/python3.10/site-packages/sklearn/feature_selection/_univariate_selection.py:112: UserWarning: Features [ 18  34  58  60  66  68  73  82  83 126 130 131 138 140 142 144 150 153\n",
      " 155 156 163 203 253 263 273] are constant.\n",
      "  warnings.warn(\"Features %s are constant.\" % constant_features_idx, UserWarning)\n",
      "/dados/juliano/Dropbox/UTFPR/Aulas/AM36O - Aprendizagem de Máquina/venv/lib/python3.10/site-packages/sklearn/feature_selection/_univariate_selection.py:113: RuntimeWarning: invalid value encountered in divide\n",
      "  f = msb / msw\n",
      "/dados/juliano/Dropbox/UTFPR/Aulas/AM36O - Aprendizagem de Máquina/venv/lib/python3.10/site-packages/sklearn/feature_selection/_univariate_selection.py:112: UserWarning: Features [ 18  66  68  71  82 117 126 130 131 132 138 140 142 144 150 153 155 156\n",
      " 163 203 253 263 273] are constant.\n",
      "  warnings.warn(\"Features %s are constant.\" % constant_features_idx, UserWarning)\n",
      "/dados/juliano/Dropbox/UTFPR/Aulas/AM36O - Aprendizagem de Máquina/venv/lib/python3.10/site-packages/sklearn/feature_selection/_univariate_selection.py:113: RuntimeWarning: invalid value encountered in divide\n",
      "  f = msb / msw\n"
     ]
    },
    {
     "name": "stdout",
     "output_type": "stream",
     "text": [
      "Executando teste knn_an (20%)\n"
     ]
    },
    {
     "data": {
      "application/vnd.jupyter.widget-view+json": {
       "model_id": "52b756d208894aec8d039d860e871939",
       "version_major": 2,
       "version_minor": 0
      },
      "text/plain": [
       "Folds avaliados:   0%|          | 0/10 [00:00<?, ?it/s]"
      ]
     },
     "metadata": {},
     "output_type": "display_data"
    },
    {
     "name": "stderr",
     "output_type": "stream",
     "text": [
      "/dados/juliano/Dropbox/UTFPR/Aulas/AM36O - Aprendizagem de Máquina/venv/lib/python3.10/site-packages/sklearn/feature_selection/_univariate_selection.py:112: UserWarning: Features [ 18  23  54  57  66  68  82  83 130 131 138 140 142 144 150 155 156 163\n",
      " 193 203 263 273] are constant.\n",
      "  warnings.warn(\"Features %s are constant.\" % constant_features_idx, UserWarning)\n",
      "/dados/juliano/Dropbox/UTFPR/Aulas/AM36O - Aprendizagem de Máquina/venv/lib/python3.10/site-packages/sklearn/feature_selection/_univariate_selection.py:113: RuntimeWarning: invalid value encountered in divide\n",
      "  f = msb / msw\n",
      "/dados/juliano/Dropbox/UTFPR/Aulas/AM36O - Aprendizagem de Máquina/venv/lib/python3.10/site-packages/sklearn/feature_selection/_univariate_selection.py:112: UserWarning: Features [ 18  20  66  68  82 126 130 131 138 140 142 143 144 150 155 156 163 203\n",
      " 253 263 273] are constant.\n",
      "  warnings.warn(\"Features %s are constant.\" % constant_features_idx, UserWarning)\n",
      "/dados/juliano/Dropbox/UTFPR/Aulas/AM36O - Aprendizagem de Máquina/venv/lib/python3.10/site-packages/sklearn/feature_selection/_univariate_selection.py:113: RuntimeWarning: invalid value encountered in divide\n",
      "  f = msb / msw\n",
      "/dados/juliano/Dropbox/UTFPR/Aulas/AM36O - Aprendizagem de Máquina/venv/lib/python3.10/site-packages/sklearn/feature_selection/_univariate_selection.py:112: UserWarning: Features [ 18  57  66  68  82  84  85 130 131 138 140 142 144 150 155 156 163 203\n",
      " 263 273] are constant.\n",
      "  warnings.warn(\"Features %s are constant.\" % constant_features_idx, UserWarning)\n",
      "/dados/juliano/Dropbox/UTFPR/Aulas/AM36O - Aprendizagem de Máquina/venv/lib/python3.10/site-packages/sklearn/feature_selection/_univariate_selection.py:113: RuntimeWarning: invalid value encountered in divide\n",
      "  f = msb / msw\n",
      "/dados/juliano/Dropbox/UTFPR/Aulas/AM36O - Aprendizagem de Máquina/venv/lib/python3.10/site-packages/sklearn/feature_selection/_univariate_selection.py:112: UserWarning: Features [ 18  54  66  68  82 117 130 131 138 140 142 143 144 150 152 155 156 163\n",
      " 193 203 263 273] are constant.\n",
      "  warnings.warn(\"Features %s are constant.\" % constant_features_idx, UserWarning)\n",
      "/dados/juliano/Dropbox/UTFPR/Aulas/AM36O - Aprendizagem de Máquina/venv/lib/python3.10/site-packages/sklearn/feature_selection/_univariate_selection.py:113: RuntimeWarning: invalid value encountered in divide\n",
      "  f = msb / msw\n",
      "/dados/juliano/Dropbox/UTFPR/Aulas/AM36O - Aprendizagem de Máquina/venv/lib/python3.10/site-packages/sklearn/feature_selection/_univariate_selection.py:112: UserWarning: Features [ 18  49  66  68  70  73  82 130 131 138 140 142 144 150 155 156 163 203\n",
      " 263 273] are constant.\n",
      "  warnings.warn(\"Features %s are constant.\" % constant_features_idx, UserWarning)\n",
      "/dados/juliano/Dropbox/UTFPR/Aulas/AM36O - Aprendizagem de Máquina/venv/lib/python3.10/site-packages/sklearn/feature_selection/_univariate_selection.py:113: RuntimeWarning: invalid value encountered in divide\n",
      "  f = msb / msw\n",
      "/dados/juliano/Dropbox/UTFPR/Aulas/AM36O - Aprendizagem de Máquina/venv/lib/python3.10/site-packages/sklearn/feature_selection/_univariate_selection.py:112: UserWarning: Features [ 18  34  44  57  58  66  68  72  82  83 130 131 138 140 142 143 144 150\n",
      " 155 156 163 203 263 273] are constant.\n",
      "  warnings.warn(\"Features %s are constant.\" % constant_features_idx, UserWarning)\n",
      "/dados/juliano/Dropbox/UTFPR/Aulas/AM36O - Aprendizagem de Máquina/venv/lib/python3.10/site-packages/sklearn/feature_selection/_univariate_selection.py:113: RuntimeWarning: invalid value encountered in divide\n",
      "  f = msb / msw\n",
      "/dados/juliano/Dropbox/UTFPR/Aulas/AM36O - Aprendizagem de Máquina/venv/lib/python3.10/site-packages/sklearn/feature_selection/_univariate_selection.py:112: UserWarning: Features [ 18  34  46  66  68  82  85 130 131 138 140 142 143 144 150 155 156 163\n",
      " 203 263 273] are constant.\n",
      "  warnings.warn(\"Features %s are constant.\" % constant_features_idx, UserWarning)\n",
      "/dados/juliano/Dropbox/UTFPR/Aulas/AM36O - Aprendizagem de Máquina/venv/lib/python3.10/site-packages/sklearn/feature_selection/_univariate_selection.py:113: RuntimeWarning: invalid value encountered in divide\n",
      "  f = msb / msw\n",
      "/dados/juliano/Dropbox/UTFPR/Aulas/AM36O - Aprendizagem de Máquina/venv/lib/python3.10/site-packages/sklearn/feature_selection/_univariate_selection.py:112: UserWarning: Features [ 18  49  66  68  73  82 102 114 130 131 138 140 142 143 144 150 155 156\n",
      " 163 203 233 243 263 273] are constant.\n",
      "  warnings.warn(\"Features %s are constant.\" % constant_features_idx, UserWarning)\n",
      "/dados/juliano/Dropbox/UTFPR/Aulas/AM36O - Aprendizagem de Máquina/venv/lib/python3.10/site-packages/sklearn/feature_selection/_univariate_selection.py:113: RuntimeWarning: invalid value encountered in divide\n",
      "  f = msb / msw\n",
      "/dados/juliano/Dropbox/UTFPR/Aulas/AM36O - Aprendizagem de Máquina/venv/lib/python3.10/site-packages/sklearn/feature_selection/_univariate_selection.py:112: UserWarning: Features [ 18  34  58  60  66  68  73  82  83 126 130 131 138 140 142 144 150 153\n",
      " 155 156 163 203 253 263 273] are constant.\n",
      "  warnings.warn(\"Features %s are constant.\" % constant_features_idx, UserWarning)\n",
      "/dados/juliano/Dropbox/UTFPR/Aulas/AM36O - Aprendizagem de Máquina/venv/lib/python3.10/site-packages/sklearn/feature_selection/_univariate_selection.py:113: RuntimeWarning: invalid value encountered in divide\n",
      "  f = msb / msw\n",
      "/dados/juliano/Dropbox/UTFPR/Aulas/AM36O - Aprendizagem de Máquina/venv/lib/python3.10/site-packages/sklearn/feature_selection/_univariate_selection.py:112: UserWarning: Features [ 18  66  68  71  82 117 126 130 131 132 138 140 142 144 150 153 155 156\n",
      " 163 203 253 263 273] are constant.\n",
      "  warnings.warn(\"Features %s are constant.\" % constant_features_idx, UserWarning)\n",
      "/dados/juliano/Dropbox/UTFPR/Aulas/AM36O - Aprendizagem de Máquina/venv/lib/python3.10/site-packages/sklearn/feature_selection/_univariate_selection.py:113: RuntimeWarning: invalid value encountered in divide\n",
      "  f = msb / msw\n"
     ]
    },
    {
     "name": "stdout",
     "output_type": "stream",
     "text": [
      "Executando teste rf_an (20%)\n"
     ]
    },
    {
     "data": {
      "application/vnd.jupyter.widget-view+json": {
       "model_id": "1eb2a27ab40f417e8b4e1ef922531775",
       "version_major": 2,
       "version_minor": 0
      },
      "text/plain": [
       "Folds avaliados:   0%|          | 0/10 [00:00<?, ?it/s]"
      ]
     },
     "metadata": {},
     "output_type": "display_data"
    },
    {
     "name": "stderr",
     "output_type": "stream",
     "text": [
      "/dados/juliano/Dropbox/UTFPR/Aulas/AM36O - Aprendizagem de Máquina/venv/lib/python3.10/site-packages/sklearn/feature_selection/_univariate_selection.py:112: UserWarning: Features [ 18  23  54  57  66  68  82  83 130 131 138 140 142 144 150 155 156 163\n",
      " 193 203 263 273] are constant.\n",
      "  warnings.warn(\"Features %s are constant.\" % constant_features_idx, UserWarning)\n",
      "/dados/juliano/Dropbox/UTFPR/Aulas/AM36O - Aprendizagem de Máquina/venv/lib/python3.10/site-packages/sklearn/feature_selection/_univariate_selection.py:113: RuntimeWarning: invalid value encountered in divide\n",
      "  f = msb / msw\n",
      "/dados/juliano/Dropbox/UTFPR/Aulas/AM36O - Aprendizagem de Máquina/venv/lib/python3.10/site-packages/sklearn/feature_selection/_univariate_selection.py:112: UserWarning: Features [ 18  20  66  68  82 126 130 131 138 140 142 143 144 150 155 156 163 203\n",
      " 253 263 273] are constant.\n",
      "  warnings.warn(\"Features %s are constant.\" % constant_features_idx, UserWarning)\n",
      "/dados/juliano/Dropbox/UTFPR/Aulas/AM36O - Aprendizagem de Máquina/venv/lib/python3.10/site-packages/sklearn/feature_selection/_univariate_selection.py:113: RuntimeWarning: invalid value encountered in divide\n",
      "  f = msb / msw\n",
      "/dados/juliano/Dropbox/UTFPR/Aulas/AM36O - Aprendizagem de Máquina/venv/lib/python3.10/site-packages/sklearn/feature_selection/_univariate_selection.py:112: UserWarning: Features [ 18  57  66  68  82  84  85 130 131 138 140 142 144 150 155 156 163 203\n",
      " 263 273] are constant.\n",
      "  warnings.warn(\"Features %s are constant.\" % constant_features_idx, UserWarning)\n",
      "/dados/juliano/Dropbox/UTFPR/Aulas/AM36O - Aprendizagem de Máquina/venv/lib/python3.10/site-packages/sklearn/feature_selection/_univariate_selection.py:113: RuntimeWarning: invalid value encountered in divide\n",
      "  f = msb / msw\n",
      "/dados/juliano/Dropbox/UTFPR/Aulas/AM36O - Aprendizagem de Máquina/venv/lib/python3.10/site-packages/sklearn/feature_selection/_univariate_selection.py:112: UserWarning: Features [ 18  54  66  68  82 117 130 131 138 140 142 143 144 150 152 155 156 163\n",
      " 193 203 263 273] are constant.\n",
      "  warnings.warn(\"Features %s are constant.\" % constant_features_idx, UserWarning)\n",
      "/dados/juliano/Dropbox/UTFPR/Aulas/AM36O - Aprendizagem de Máquina/venv/lib/python3.10/site-packages/sklearn/feature_selection/_univariate_selection.py:113: RuntimeWarning: invalid value encountered in divide\n",
      "  f = msb / msw\n",
      "/dados/juliano/Dropbox/UTFPR/Aulas/AM36O - Aprendizagem de Máquina/venv/lib/python3.10/site-packages/sklearn/feature_selection/_univariate_selection.py:112: UserWarning: Features [ 18  49  66  68  70  73  82 130 131 138 140 142 144 150 155 156 163 203\n",
      " 263 273] are constant.\n",
      "  warnings.warn(\"Features %s are constant.\" % constant_features_idx, UserWarning)\n",
      "/dados/juliano/Dropbox/UTFPR/Aulas/AM36O - Aprendizagem de Máquina/venv/lib/python3.10/site-packages/sklearn/feature_selection/_univariate_selection.py:113: RuntimeWarning: invalid value encountered in divide\n",
      "  f = msb / msw\n",
      "/dados/juliano/Dropbox/UTFPR/Aulas/AM36O - Aprendizagem de Máquina/venv/lib/python3.10/site-packages/sklearn/feature_selection/_univariate_selection.py:112: UserWarning: Features [ 18  34  44  57  58  66  68  72  82  83 130 131 138 140 142 143 144 150\n",
      " 155 156 163 203 263 273] are constant.\n",
      "  warnings.warn(\"Features %s are constant.\" % constant_features_idx, UserWarning)\n",
      "/dados/juliano/Dropbox/UTFPR/Aulas/AM36O - Aprendizagem de Máquina/venv/lib/python3.10/site-packages/sklearn/feature_selection/_univariate_selection.py:113: RuntimeWarning: invalid value encountered in divide\n",
      "  f = msb / msw\n",
      "/dados/juliano/Dropbox/UTFPR/Aulas/AM36O - Aprendizagem de Máquina/venv/lib/python3.10/site-packages/sklearn/feature_selection/_univariate_selection.py:112: UserWarning: Features [ 18  34  46  66  68  82  85 130 131 138 140 142 143 144 150 155 156 163\n",
      " 203 263 273] are constant.\n",
      "  warnings.warn(\"Features %s are constant.\" % constant_features_idx, UserWarning)\n",
      "/dados/juliano/Dropbox/UTFPR/Aulas/AM36O - Aprendizagem de Máquina/venv/lib/python3.10/site-packages/sklearn/feature_selection/_univariate_selection.py:113: RuntimeWarning: invalid value encountered in divide\n",
      "  f = msb / msw\n",
      "/dados/juliano/Dropbox/UTFPR/Aulas/AM36O - Aprendizagem de Máquina/venv/lib/python3.10/site-packages/sklearn/feature_selection/_univariate_selection.py:112: UserWarning: Features [ 18  49  66  68  73  82 102 114 130 131 138 140 142 143 144 150 155 156\n",
      " 163 203 233 243 263 273] are constant.\n",
      "  warnings.warn(\"Features %s are constant.\" % constant_features_idx, UserWarning)\n",
      "/dados/juliano/Dropbox/UTFPR/Aulas/AM36O - Aprendizagem de Máquina/venv/lib/python3.10/site-packages/sklearn/feature_selection/_univariate_selection.py:113: RuntimeWarning: invalid value encountered in divide\n",
      "  f = msb / msw\n",
      "/dados/juliano/Dropbox/UTFPR/Aulas/AM36O - Aprendizagem de Máquina/venv/lib/python3.10/site-packages/sklearn/feature_selection/_univariate_selection.py:112: UserWarning: Features [ 18  34  58  60  66  68  73  82  83 126 130 131 138 140 142 144 150 153\n",
      " 155 156 163 203 253 263 273] are constant.\n",
      "  warnings.warn(\"Features %s are constant.\" % constant_features_idx, UserWarning)\n",
      "/dados/juliano/Dropbox/UTFPR/Aulas/AM36O - Aprendizagem de Máquina/venv/lib/python3.10/site-packages/sklearn/feature_selection/_univariate_selection.py:113: RuntimeWarning: invalid value encountered in divide\n",
      "  f = msb / msw\n",
      "/dados/juliano/Dropbox/UTFPR/Aulas/AM36O - Aprendizagem de Máquina/venv/lib/python3.10/site-packages/sklearn/feature_selection/_univariate_selection.py:112: UserWarning: Features [ 18  66  68  71  82 117 126 130 131 132 138 140 142 144 150 153 155 156\n",
      " 163 203 253 263 273] are constant.\n",
      "  warnings.warn(\"Features %s are constant.\" % constant_features_idx, UserWarning)\n",
      "/dados/juliano/Dropbox/UTFPR/Aulas/AM36O - Aprendizagem de Máquina/venv/lib/python3.10/site-packages/sklearn/feature_selection/_univariate_selection.py:113: RuntimeWarning: invalid value encountered in divide\n",
      "  f = msb / msw\n"
     ]
    },
    {
     "name": "stdout",
     "output_type": "stream",
     "text": [
      "decil: 30\n",
      "Executando teste svm_an (30%)\n"
     ]
    },
    {
     "data": {
      "application/vnd.jupyter.widget-view+json": {
       "model_id": "5804589a40c84c7c9de731ca3ec761b4",
       "version_major": 2,
       "version_minor": 0
      },
      "text/plain": [
       "Folds avaliados:   0%|          | 0/10 [00:00<?, ?it/s]"
      ]
     },
     "metadata": {},
     "output_type": "display_data"
    },
    {
     "name": "stderr",
     "output_type": "stream",
     "text": [
      "/dados/juliano/Dropbox/UTFPR/Aulas/AM36O - Aprendizagem de Máquina/venv/lib/python3.10/site-packages/sklearn/feature_selection/_univariate_selection.py:112: UserWarning: Features [ 18  23  54  57  66  68  82  83 130 131 138 140 142 144 150 155 156 163\n",
      " 193 203 263 273] are constant.\n",
      "  warnings.warn(\"Features %s are constant.\" % constant_features_idx, UserWarning)\n",
      "/dados/juliano/Dropbox/UTFPR/Aulas/AM36O - Aprendizagem de Máquina/venv/lib/python3.10/site-packages/sklearn/feature_selection/_univariate_selection.py:113: RuntimeWarning: invalid value encountered in divide\n",
      "  f = msb / msw\n",
      "/dados/juliano/Dropbox/UTFPR/Aulas/AM36O - Aprendizagem de Máquina/venv/lib/python3.10/site-packages/sklearn/feature_selection/_univariate_selection.py:112: UserWarning: Features [ 18  20  66  68  82 126 130 131 138 140 142 143 144 150 155 156 163 203\n",
      " 253 263 273] are constant.\n",
      "  warnings.warn(\"Features %s are constant.\" % constant_features_idx, UserWarning)\n",
      "/dados/juliano/Dropbox/UTFPR/Aulas/AM36O - Aprendizagem de Máquina/venv/lib/python3.10/site-packages/sklearn/feature_selection/_univariate_selection.py:113: RuntimeWarning: invalid value encountered in divide\n",
      "  f = msb / msw\n",
      "/dados/juliano/Dropbox/UTFPR/Aulas/AM36O - Aprendizagem de Máquina/venv/lib/python3.10/site-packages/sklearn/feature_selection/_univariate_selection.py:112: UserWarning: Features [ 18  57  66  68  82  84  85 130 131 138 140 142 144 150 155 156 163 203\n",
      " 263 273] are constant.\n",
      "  warnings.warn(\"Features %s are constant.\" % constant_features_idx, UserWarning)\n",
      "/dados/juliano/Dropbox/UTFPR/Aulas/AM36O - Aprendizagem de Máquina/venv/lib/python3.10/site-packages/sklearn/feature_selection/_univariate_selection.py:113: RuntimeWarning: invalid value encountered in divide\n",
      "  f = msb / msw\n",
      "/dados/juliano/Dropbox/UTFPR/Aulas/AM36O - Aprendizagem de Máquina/venv/lib/python3.10/site-packages/sklearn/feature_selection/_univariate_selection.py:112: UserWarning: Features [ 18  54  66  68  82 117 130 131 138 140 142 143 144 150 152 155 156 163\n",
      " 193 203 263 273] are constant.\n",
      "  warnings.warn(\"Features %s are constant.\" % constant_features_idx, UserWarning)\n",
      "/dados/juliano/Dropbox/UTFPR/Aulas/AM36O - Aprendizagem de Máquina/venv/lib/python3.10/site-packages/sklearn/feature_selection/_univariate_selection.py:113: RuntimeWarning: invalid value encountered in divide\n",
      "  f = msb / msw\n",
      "/dados/juliano/Dropbox/UTFPR/Aulas/AM36O - Aprendizagem de Máquina/venv/lib/python3.10/site-packages/sklearn/feature_selection/_univariate_selection.py:112: UserWarning: Features [ 18  49  66  68  70  73  82 130 131 138 140 142 144 150 155 156 163 203\n",
      " 263 273] are constant.\n",
      "  warnings.warn(\"Features %s are constant.\" % constant_features_idx, UserWarning)\n",
      "/dados/juliano/Dropbox/UTFPR/Aulas/AM36O - Aprendizagem de Máquina/venv/lib/python3.10/site-packages/sklearn/feature_selection/_univariate_selection.py:113: RuntimeWarning: invalid value encountered in divide\n",
      "  f = msb / msw\n",
      "/dados/juliano/Dropbox/UTFPR/Aulas/AM36O - Aprendizagem de Máquina/venv/lib/python3.10/site-packages/sklearn/feature_selection/_univariate_selection.py:112: UserWarning: Features [ 18  34  44  57  58  66  68  72  82  83 130 131 138 140 142 143 144 150\n",
      " 155 156 163 203 263 273] are constant.\n",
      "  warnings.warn(\"Features %s are constant.\" % constant_features_idx, UserWarning)\n",
      "/dados/juliano/Dropbox/UTFPR/Aulas/AM36O - Aprendizagem de Máquina/venv/lib/python3.10/site-packages/sklearn/feature_selection/_univariate_selection.py:113: RuntimeWarning: invalid value encountered in divide\n",
      "  f = msb / msw\n",
      "/dados/juliano/Dropbox/UTFPR/Aulas/AM36O - Aprendizagem de Máquina/venv/lib/python3.10/site-packages/sklearn/feature_selection/_univariate_selection.py:112: UserWarning: Features [ 18  34  46  66  68  82  85 130 131 138 140 142 143 144 150 155 156 163\n",
      " 203 263 273] are constant.\n",
      "  warnings.warn(\"Features %s are constant.\" % constant_features_idx, UserWarning)\n",
      "/dados/juliano/Dropbox/UTFPR/Aulas/AM36O - Aprendizagem de Máquina/venv/lib/python3.10/site-packages/sklearn/feature_selection/_univariate_selection.py:113: RuntimeWarning: invalid value encountered in divide\n",
      "  f = msb / msw\n",
      "/dados/juliano/Dropbox/UTFPR/Aulas/AM36O - Aprendizagem de Máquina/venv/lib/python3.10/site-packages/sklearn/feature_selection/_univariate_selection.py:112: UserWarning: Features [ 18  49  66  68  73  82 102 114 130 131 138 140 142 143 144 150 155 156\n",
      " 163 203 233 243 263 273] are constant.\n",
      "  warnings.warn(\"Features %s are constant.\" % constant_features_idx, UserWarning)\n",
      "/dados/juliano/Dropbox/UTFPR/Aulas/AM36O - Aprendizagem de Máquina/venv/lib/python3.10/site-packages/sklearn/feature_selection/_univariate_selection.py:113: RuntimeWarning: invalid value encountered in divide\n",
      "  f = msb / msw\n",
      "/dados/juliano/Dropbox/UTFPR/Aulas/AM36O - Aprendizagem de Máquina/venv/lib/python3.10/site-packages/sklearn/feature_selection/_univariate_selection.py:112: UserWarning: Features [ 18  34  58  60  66  68  73  82  83 126 130 131 138 140 142 144 150 153\n",
      " 155 156 163 203 253 263 273] are constant.\n",
      "  warnings.warn(\"Features %s are constant.\" % constant_features_idx, UserWarning)\n",
      "/dados/juliano/Dropbox/UTFPR/Aulas/AM36O - Aprendizagem de Máquina/venv/lib/python3.10/site-packages/sklearn/feature_selection/_univariate_selection.py:113: RuntimeWarning: invalid value encountered in divide\n",
      "  f = msb / msw\n",
      "/dados/juliano/Dropbox/UTFPR/Aulas/AM36O - Aprendizagem de Máquina/venv/lib/python3.10/site-packages/sklearn/feature_selection/_univariate_selection.py:112: UserWarning: Features [ 18  66  68  71  82 117 126 130 131 132 138 140 142 144 150 153 155 156\n",
      " 163 203 253 263 273] are constant.\n",
      "  warnings.warn(\"Features %s are constant.\" % constant_features_idx, UserWarning)\n",
      "/dados/juliano/Dropbox/UTFPR/Aulas/AM36O - Aprendizagem de Máquina/venv/lib/python3.10/site-packages/sklearn/feature_selection/_univariate_selection.py:113: RuntimeWarning: invalid value encountered in divide\n",
      "  f = msb / msw\n"
     ]
    },
    {
     "name": "stdout",
     "output_type": "stream",
     "text": [
      "Executando teste knn_an (30%)\n"
     ]
    },
    {
     "data": {
      "application/vnd.jupyter.widget-view+json": {
       "model_id": "83d0641554f04e33b8782ed574344901",
       "version_major": 2,
       "version_minor": 0
      },
      "text/plain": [
       "Folds avaliados:   0%|          | 0/10 [00:00<?, ?it/s]"
      ]
     },
     "metadata": {},
     "output_type": "display_data"
    },
    {
     "name": "stderr",
     "output_type": "stream",
     "text": [
      "/dados/juliano/Dropbox/UTFPR/Aulas/AM36O - Aprendizagem de Máquina/venv/lib/python3.10/site-packages/sklearn/feature_selection/_univariate_selection.py:112: UserWarning: Features [ 18  23  54  57  66  68  82  83 130 131 138 140 142 144 150 155 156 163\n",
      " 193 203 263 273] are constant.\n",
      "  warnings.warn(\"Features %s are constant.\" % constant_features_idx, UserWarning)\n",
      "/dados/juliano/Dropbox/UTFPR/Aulas/AM36O - Aprendizagem de Máquina/venv/lib/python3.10/site-packages/sklearn/feature_selection/_univariate_selection.py:113: RuntimeWarning: invalid value encountered in divide\n",
      "  f = msb / msw\n",
      "/dados/juliano/Dropbox/UTFPR/Aulas/AM36O - Aprendizagem de Máquina/venv/lib/python3.10/site-packages/sklearn/feature_selection/_univariate_selection.py:112: UserWarning: Features [ 18  20  66  68  82 126 130 131 138 140 142 143 144 150 155 156 163 203\n",
      " 253 263 273] are constant.\n",
      "  warnings.warn(\"Features %s are constant.\" % constant_features_idx, UserWarning)\n",
      "/dados/juliano/Dropbox/UTFPR/Aulas/AM36O - Aprendizagem de Máquina/venv/lib/python3.10/site-packages/sklearn/feature_selection/_univariate_selection.py:113: RuntimeWarning: invalid value encountered in divide\n",
      "  f = msb / msw\n",
      "/dados/juliano/Dropbox/UTFPR/Aulas/AM36O - Aprendizagem de Máquina/venv/lib/python3.10/site-packages/sklearn/feature_selection/_univariate_selection.py:112: UserWarning: Features [ 18  57  66  68  82  84  85 130 131 138 140 142 144 150 155 156 163 203\n",
      " 263 273] are constant.\n",
      "  warnings.warn(\"Features %s are constant.\" % constant_features_idx, UserWarning)\n",
      "/dados/juliano/Dropbox/UTFPR/Aulas/AM36O - Aprendizagem de Máquina/venv/lib/python3.10/site-packages/sklearn/feature_selection/_univariate_selection.py:113: RuntimeWarning: invalid value encountered in divide\n",
      "  f = msb / msw\n",
      "/dados/juliano/Dropbox/UTFPR/Aulas/AM36O - Aprendizagem de Máquina/venv/lib/python3.10/site-packages/sklearn/feature_selection/_univariate_selection.py:112: UserWarning: Features [ 18  54  66  68  82 117 130 131 138 140 142 143 144 150 152 155 156 163\n",
      " 193 203 263 273] are constant.\n",
      "  warnings.warn(\"Features %s are constant.\" % constant_features_idx, UserWarning)\n",
      "/dados/juliano/Dropbox/UTFPR/Aulas/AM36O - Aprendizagem de Máquina/venv/lib/python3.10/site-packages/sklearn/feature_selection/_univariate_selection.py:113: RuntimeWarning: invalid value encountered in divide\n",
      "  f = msb / msw\n",
      "/dados/juliano/Dropbox/UTFPR/Aulas/AM36O - Aprendizagem de Máquina/venv/lib/python3.10/site-packages/sklearn/feature_selection/_univariate_selection.py:112: UserWarning: Features [ 18  49  66  68  70  73  82 130 131 138 140 142 144 150 155 156 163 203\n",
      " 263 273] are constant.\n",
      "  warnings.warn(\"Features %s are constant.\" % constant_features_idx, UserWarning)\n",
      "/dados/juliano/Dropbox/UTFPR/Aulas/AM36O - Aprendizagem de Máquina/venv/lib/python3.10/site-packages/sklearn/feature_selection/_univariate_selection.py:113: RuntimeWarning: invalid value encountered in divide\n",
      "  f = msb / msw\n",
      "/dados/juliano/Dropbox/UTFPR/Aulas/AM36O - Aprendizagem de Máquina/venv/lib/python3.10/site-packages/sklearn/feature_selection/_univariate_selection.py:112: UserWarning: Features [ 18  34  44  57  58  66  68  72  82  83 130 131 138 140 142 143 144 150\n",
      " 155 156 163 203 263 273] are constant.\n",
      "  warnings.warn(\"Features %s are constant.\" % constant_features_idx, UserWarning)\n",
      "/dados/juliano/Dropbox/UTFPR/Aulas/AM36O - Aprendizagem de Máquina/venv/lib/python3.10/site-packages/sklearn/feature_selection/_univariate_selection.py:113: RuntimeWarning: invalid value encountered in divide\n",
      "  f = msb / msw\n",
      "/dados/juliano/Dropbox/UTFPR/Aulas/AM36O - Aprendizagem de Máquina/venv/lib/python3.10/site-packages/sklearn/feature_selection/_univariate_selection.py:112: UserWarning: Features [ 18  34  46  66  68  82  85 130 131 138 140 142 143 144 150 155 156 163\n",
      " 203 263 273] are constant.\n",
      "  warnings.warn(\"Features %s are constant.\" % constant_features_idx, UserWarning)\n",
      "/dados/juliano/Dropbox/UTFPR/Aulas/AM36O - Aprendizagem de Máquina/venv/lib/python3.10/site-packages/sklearn/feature_selection/_univariate_selection.py:113: RuntimeWarning: invalid value encountered in divide\n",
      "  f = msb / msw\n",
      "/dados/juliano/Dropbox/UTFPR/Aulas/AM36O - Aprendizagem de Máquina/venv/lib/python3.10/site-packages/sklearn/feature_selection/_univariate_selection.py:112: UserWarning: Features [ 18  49  66  68  73  82 102 114 130 131 138 140 142 143 144 150 155 156\n",
      " 163 203 233 243 263 273] are constant.\n",
      "  warnings.warn(\"Features %s are constant.\" % constant_features_idx, UserWarning)\n",
      "/dados/juliano/Dropbox/UTFPR/Aulas/AM36O - Aprendizagem de Máquina/venv/lib/python3.10/site-packages/sklearn/feature_selection/_univariate_selection.py:113: RuntimeWarning: invalid value encountered in divide\n",
      "  f = msb / msw\n",
      "/dados/juliano/Dropbox/UTFPR/Aulas/AM36O - Aprendizagem de Máquina/venv/lib/python3.10/site-packages/sklearn/feature_selection/_univariate_selection.py:112: UserWarning: Features [ 18  34  58  60  66  68  73  82  83 126 130 131 138 140 142 144 150 153\n",
      " 155 156 163 203 253 263 273] are constant.\n",
      "  warnings.warn(\"Features %s are constant.\" % constant_features_idx, UserWarning)\n",
      "/dados/juliano/Dropbox/UTFPR/Aulas/AM36O - Aprendizagem de Máquina/venv/lib/python3.10/site-packages/sklearn/feature_selection/_univariate_selection.py:113: RuntimeWarning: invalid value encountered in divide\n",
      "  f = msb / msw\n",
      "/dados/juliano/Dropbox/UTFPR/Aulas/AM36O - Aprendizagem de Máquina/venv/lib/python3.10/site-packages/sklearn/feature_selection/_univariate_selection.py:112: UserWarning: Features [ 18  66  68  71  82 117 126 130 131 132 138 140 142 144 150 153 155 156\n",
      " 163 203 253 263 273] are constant.\n",
      "  warnings.warn(\"Features %s are constant.\" % constant_features_idx, UserWarning)\n",
      "/dados/juliano/Dropbox/UTFPR/Aulas/AM36O - Aprendizagem de Máquina/venv/lib/python3.10/site-packages/sklearn/feature_selection/_univariate_selection.py:113: RuntimeWarning: invalid value encountered in divide\n",
      "  f = msb / msw\n"
     ]
    },
    {
     "name": "stdout",
     "output_type": "stream",
     "text": [
      "Executando teste rf_an (30%)\n"
     ]
    },
    {
     "data": {
      "application/vnd.jupyter.widget-view+json": {
       "model_id": "1d0488ab8b67418ab60c07162407162c",
       "version_major": 2,
       "version_minor": 0
      },
      "text/plain": [
       "Folds avaliados:   0%|          | 0/10 [00:00<?, ?it/s]"
      ]
     },
     "metadata": {},
     "output_type": "display_data"
    },
    {
     "name": "stderr",
     "output_type": "stream",
     "text": [
      "/dados/juliano/Dropbox/UTFPR/Aulas/AM36O - Aprendizagem de Máquina/venv/lib/python3.10/site-packages/sklearn/feature_selection/_univariate_selection.py:112: UserWarning: Features [ 18  23  54  57  66  68  82  83 130 131 138 140 142 144 150 155 156 163\n",
      " 193 203 263 273] are constant.\n",
      "  warnings.warn(\"Features %s are constant.\" % constant_features_idx, UserWarning)\n",
      "/dados/juliano/Dropbox/UTFPR/Aulas/AM36O - Aprendizagem de Máquina/venv/lib/python3.10/site-packages/sklearn/feature_selection/_univariate_selection.py:113: RuntimeWarning: invalid value encountered in divide\n",
      "  f = msb / msw\n",
      "/dados/juliano/Dropbox/UTFPR/Aulas/AM36O - Aprendizagem de Máquina/venv/lib/python3.10/site-packages/sklearn/feature_selection/_univariate_selection.py:112: UserWarning: Features [ 18  20  66  68  82 126 130 131 138 140 142 143 144 150 155 156 163 203\n",
      " 253 263 273] are constant.\n",
      "  warnings.warn(\"Features %s are constant.\" % constant_features_idx, UserWarning)\n",
      "/dados/juliano/Dropbox/UTFPR/Aulas/AM36O - Aprendizagem de Máquina/venv/lib/python3.10/site-packages/sklearn/feature_selection/_univariate_selection.py:113: RuntimeWarning: invalid value encountered in divide\n",
      "  f = msb / msw\n",
      "/dados/juliano/Dropbox/UTFPR/Aulas/AM36O - Aprendizagem de Máquina/venv/lib/python3.10/site-packages/sklearn/feature_selection/_univariate_selection.py:112: UserWarning: Features [ 18  57  66  68  82  84  85 130 131 138 140 142 144 150 155 156 163 203\n",
      " 263 273] are constant.\n",
      "  warnings.warn(\"Features %s are constant.\" % constant_features_idx, UserWarning)\n",
      "/dados/juliano/Dropbox/UTFPR/Aulas/AM36O - Aprendizagem de Máquina/venv/lib/python3.10/site-packages/sklearn/feature_selection/_univariate_selection.py:113: RuntimeWarning: invalid value encountered in divide\n",
      "  f = msb / msw\n",
      "/dados/juliano/Dropbox/UTFPR/Aulas/AM36O - Aprendizagem de Máquina/venv/lib/python3.10/site-packages/sklearn/feature_selection/_univariate_selection.py:112: UserWarning: Features [ 18  54  66  68  82 117 130 131 138 140 142 143 144 150 152 155 156 163\n",
      " 193 203 263 273] are constant.\n",
      "  warnings.warn(\"Features %s are constant.\" % constant_features_idx, UserWarning)\n",
      "/dados/juliano/Dropbox/UTFPR/Aulas/AM36O - Aprendizagem de Máquina/venv/lib/python3.10/site-packages/sklearn/feature_selection/_univariate_selection.py:113: RuntimeWarning: invalid value encountered in divide\n",
      "  f = msb / msw\n",
      "/dados/juliano/Dropbox/UTFPR/Aulas/AM36O - Aprendizagem de Máquina/venv/lib/python3.10/site-packages/sklearn/feature_selection/_univariate_selection.py:112: UserWarning: Features [ 18  49  66  68  70  73  82 130 131 138 140 142 144 150 155 156 163 203\n",
      " 263 273] are constant.\n",
      "  warnings.warn(\"Features %s are constant.\" % constant_features_idx, UserWarning)\n",
      "/dados/juliano/Dropbox/UTFPR/Aulas/AM36O - Aprendizagem de Máquina/venv/lib/python3.10/site-packages/sklearn/feature_selection/_univariate_selection.py:113: RuntimeWarning: invalid value encountered in divide\n",
      "  f = msb / msw\n",
      "/dados/juliano/Dropbox/UTFPR/Aulas/AM36O - Aprendizagem de Máquina/venv/lib/python3.10/site-packages/sklearn/feature_selection/_univariate_selection.py:112: UserWarning: Features [ 18  34  44  57  58  66  68  72  82  83 130 131 138 140 142 143 144 150\n",
      " 155 156 163 203 263 273] are constant.\n",
      "  warnings.warn(\"Features %s are constant.\" % constant_features_idx, UserWarning)\n",
      "/dados/juliano/Dropbox/UTFPR/Aulas/AM36O - Aprendizagem de Máquina/venv/lib/python3.10/site-packages/sklearn/feature_selection/_univariate_selection.py:113: RuntimeWarning: invalid value encountered in divide\n",
      "  f = msb / msw\n",
      "/dados/juliano/Dropbox/UTFPR/Aulas/AM36O - Aprendizagem de Máquina/venv/lib/python3.10/site-packages/sklearn/feature_selection/_univariate_selection.py:112: UserWarning: Features [ 18  34  46  66  68  82  85 130 131 138 140 142 143 144 150 155 156 163\n",
      " 203 263 273] are constant.\n",
      "  warnings.warn(\"Features %s are constant.\" % constant_features_idx, UserWarning)\n",
      "/dados/juliano/Dropbox/UTFPR/Aulas/AM36O - Aprendizagem de Máquina/venv/lib/python3.10/site-packages/sklearn/feature_selection/_univariate_selection.py:113: RuntimeWarning: invalid value encountered in divide\n",
      "  f = msb / msw\n",
      "/dados/juliano/Dropbox/UTFPR/Aulas/AM36O - Aprendizagem de Máquina/venv/lib/python3.10/site-packages/sklearn/feature_selection/_univariate_selection.py:112: UserWarning: Features [ 18  49  66  68  73  82 102 114 130 131 138 140 142 143 144 150 155 156\n",
      " 163 203 233 243 263 273] are constant.\n",
      "  warnings.warn(\"Features %s are constant.\" % constant_features_idx, UserWarning)\n",
      "/dados/juliano/Dropbox/UTFPR/Aulas/AM36O - Aprendizagem de Máquina/venv/lib/python3.10/site-packages/sklearn/feature_selection/_univariate_selection.py:113: RuntimeWarning: invalid value encountered in divide\n",
      "  f = msb / msw\n",
      "/dados/juliano/Dropbox/UTFPR/Aulas/AM36O - Aprendizagem de Máquina/venv/lib/python3.10/site-packages/sklearn/feature_selection/_univariate_selection.py:112: UserWarning: Features [ 18  34  58  60  66  68  73  82  83 126 130 131 138 140 142 144 150 153\n",
      " 155 156 163 203 253 263 273] are constant.\n",
      "  warnings.warn(\"Features %s are constant.\" % constant_features_idx, UserWarning)\n",
      "/dados/juliano/Dropbox/UTFPR/Aulas/AM36O - Aprendizagem de Máquina/venv/lib/python3.10/site-packages/sklearn/feature_selection/_univariate_selection.py:113: RuntimeWarning: invalid value encountered in divide\n",
      "  f = msb / msw\n",
      "/dados/juliano/Dropbox/UTFPR/Aulas/AM36O - Aprendizagem de Máquina/venv/lib/python3.10/site-packages/sklearn/feature_selection/_univariate_selection.py:112: UserWarning: Features [ 18  66  68  71  82 117 126 130 131 132 138 140 142 144 150 153 155 156\n",
      " 163 203 253 263 273] are constant.\n",
      "  warnings.warn(\"Features %s are constant.\" % constant_features_idx, UserWarning)\n",
      "/dados/juliano/Dropbox/UTFPR/Aulas/AM36O - Aprendizagem de Máquina/venv/lib/python3.10/site-packages/sklearn/feature_selection/_univariate_selection.py:113: RuntimeWarning: invalid value encountered in divide\n",
      "  f = msb / msw\n"
     ]
    },
    {
     "name": "stdout",
     "output_type": "stream",
     "text": [
      "decil: 40\n",
      "Executando teste svm_an (40%)\n"
     ]
    },
    {
     "data": {
      "application/vnd.jupyter.widget-view+json": {
       "model_id": "f499560bdedd44208484d6b4ef2d994a",
       "version_major": 2,
       "version_minor": 0
      },
      "text/plain": [
       "Folds avaliados:   0%|          | 0/10 [00:00<?, ?it/s]"
      ]
     },
     "metadata": {},
     "output_type": "display_data"
    },
    {
     "name": "stderr",
     "output_type": "stream",
     "text": [
      "/dados/juliano/Dropbox/UTFPR/Aulas/AM36O - Aprendizagem de Máquina/venv/lib/python3.10/site-packages/sklearn/feature_selection/_univariate_selection.py:112: UserWarning: Features [ 18  23  54  57  66  68  82  83 130 131 138 140 142 144 150 155 156 163\n",
      " 193 203 263 273] are constant.\n",
      "  warnings.warn(\"Features %s are constant.\" % constant_features_idx, UserWarning)\n",
      "/dados/juliano/Dropbox/UTFPR/Aulas/AM36O - Aprendizagem de Máquina/venv/lib/python3.10/site-packages/sklearn/feature_selection/_univariate_selection.py:113: RuntimeWarning: invalid value encountered in divide\n",
      "  f = msb / msw\n",
      "/dados/juliano/Dropbox/UTFPR/Aulas/AM36O - Aprendizagem de Máquina/venv/lib/python3.10/site-packages/sklearn/feature_selection/_univariate_selection.py:112: UserWarning: Features [ 18  20  66  68  82 126 130 131 138 140 142 143 144 150 155 156 163 203\n",
      " 253 263 273] are constant.\n",
      "  warnings.warn(\"Features %s are constant.\" % constant_features_idx, UserWarning)\n",
      "/dados/juliano/Dropbox/UTFPR/Aulas/AM36O - Aprendizagem de Máquina/venv/lib/python3.10/site-packages/sklearn/feature_selection/_univariate_selection.py:113: RuntimeWarning: invalid value encountered in divide\n",
      "  f = msb / msw\n",
      "/dados/juliano/Dropbox/UTFPR/Aulas/AM36O - Aprendizagem de Máquina/venv/lib/python3.10/site-packages/sklearn/feature_selection/_univariate_selection.py:112: UserWarning: Features [ 18  57  66  68  82  84  85 130 131 138 140 142 144 150 155 156 163 203\n",
      " 263 273] are constant.\n",
      "  warnings.warn(\"Features %s are constant.\" % constant_features_idx, UserWarning)\n",
      "/dados/juliano/Dropbox/UTFPR/Aulas/AM36O - Aprendizagem de Máquina/venv/lib/python3.10/site-packages/sklearn/feature_selection/_univariate_selection.py:113: RuntimeWarning: invalid value encountered in divide\n",
      "  f = msb / msw\n",
      "/dados/juliano/Dropbox/UTFPR/Aulas/AM36O - Aprendizagem de Máquina/venv/lib/python3.10/site-packages/sklearn/feature_selection/_univariate_selection.py:112: UserWarning: Features [ 18  54  66  68  82 117 130 131 138 140 142 143 144 150 152 155 156 163\n",
      " 193 203 263 273] are constant.\n",
      "  warnings.warn(\"Features %s are constant.\" % constant_features_idx, UserWarning)\n",
      "/dados/juliano/Dropbox/UTFPR/Aulas/AM36O - Aprendizagem de Máquina/venv/lib/python3.10/site-packages/sklearn/feature_selection/_univariate_selection.py:113: RuntimeWarning: invalid value encountered in divide\n",
      "  f = msb / msw\n",
      "/dados/juliano/Dropbox/UTFPR/Aulas/AM36O - Aprendizagem de Máquina/venv/lib/python3.10/site-packages/sklearn/feature_selection/_univariate_selection.py:112: UserWarning: Features [ 18  49  66  68  70  73  82 130 131 138 140 142 144 150 155 156 163 203\n",
      " 263 273] are constant.\n",
      "  warnings.warn(\"Features %s are constant.\" % constant_features_idx, UserWarning)\n",
      "/dados/juliano/Dropbox/UTFPR/Aulas/AM36O - Aprendizagem de Máquina/venv/lib/python3.10/site-packages/sklearn/feature_selection/_univariate_selection.py:113: RuntimeWarning: invalid value encountered in divide\n",
      "  f = msb / msw\n",
      "/dados/juliano/Dropbox/UTFPR/Aulas/AM36O - Aprendizagem de Máquina/venv/lib/python3.10/site-packages/sklearn/feature_selection/_univariate_selection.py:112: UserWarning: Features [ 18  34  44  57  58  66  68  72  82  83 130 131 138 140 142 143 144 150\n",
      " 155 156 163 203 263 273] are constant.\n",
      "  warnings.warn(\"Features %s are constant.\" % constant_features_idx, UserWarning)\n",
      "/dados/juliano/Dropbox/UTFPR/Aulas/AM36O - Aprendizagem de Máquina/venv/lib/python3.10/site-packages/sklearn/feature_selection/_univariate_selection.py:113: RuntimeWarning: invalid value encountered in divide\n",
      "  f = msb / msw\n",
      "/dados/juliano/Dropbox/UTFPR/Aulas/AM36O - Aprendizagem de Máquina/venv/lib/python3.10/site-packages/sklearn/feature_selection/_univariate_selection.py:112: UserWarning: Features [ 18  34  46  66  68  82  85 130 131 138 140 142 143 144 150 155 156 163\n",
      " 203 263 273] are constant.\n",
      "  warnings.warn(\"Features %s are constant.\" % constant_features_idx, UserWarning)\n",
      "/dados/juliano/Dropbox/UTFPR/Aulas/AM36O - Aprendizagem de Máquina/venv/lib/python3.10/site-packages/sklearn/feature_selection/_univariate_selection.py:113: RuntimeWarning: invalid value encountered in divide\n",
      "  f = msb / msw\n",
      "/dados/juliano/Dropbox/UTFPR/Aulas/AM36O - Aprendizagem de Máquina/venv/lib/python3.10/site-packages/sklearn/feature_selection/_univariate_selection.py:112: UserWarning: Features [ 18  49  66  68  73  82 102 114 130 131 138 140 142 143 144 150 155 156\n",
      " 163 203 233 243 263 273] are constant.\n",
      "  warnings.warn(\"Features %s are constant.\" % constant_features_idx, UserWarning)\n",
      "/dados/juliano/Dropbox/UTFPR/Aulas/AM36O - Aprendizagem de Máquina/venv/lib/python3.10/site-packages/sklearn/feature_selection/_univariate_selection.py:113: RuntimeWarning: invalid value encountered in divide\n",
      "  f = msb / msw\n",
      "/dados/juliano/Dropbox/UTFPR/Aulas/AM36O - Aprendizagem de Máquina/venv/lib/python3.10/site-packages/sklearn/feature_selection/_univariate_selection.py:112: UserWarning: Features [ 18  34  58  60  66  68  73  82  83 126 130 131 138 140 142 144 150 153\n",
      " 155 156 163 203 253 263 273] are constant.\n",
      "  warnings.warn(\"Features %s are constant.\" % constant_features_idx, UserWarning)\n",
      "/dados/juliano/Dropbox/UTFPR/Aulas/AM36O - Aprendizagem de Máquina/venv/lib/python3.10/site-packages/sklearn/feature_selection/_univariate_selection.py:113: RuntimeWarning: invalid value encountered in divide\n",
      "  f = msb / msw\n",
      "/dados/juliano/Dropbox/UTFPR/Aulas/AM36O - Aprendizagem de Máquina/venv/lib/python3.10/site-packages/sklearn/feature_selection/_univariate_selection.py:112: UserWarning: Features [ 18  66  68  71  82 117 126 130 131 132 138 140 142 144 150 153 155 156\n",
      " 163 203 253 263 273] are constant.\n",
      "  warnings.warn(\"Features %s are constant.\" % constant_features_idx, UserWarning)\n",
      "/dados/juliano/Dropbox/UTFPR/Aulas/AM36O - Aprendizagem de Máquina/venv/lib/python3.10/site-packages/sklearn/feature_selection/_univariate_selection.py:113: RuntimeWarning: invalid value encountered in divide\n",
      "  f = msb / msw\n"
     ]
    },
    {
     "name": "stdout",
     "output_type": "stream",
     "text": [
      "Executando teste knn_an (40%)\n"
     ]
    },
    {
     "data": {
      "application/vnd.jupyter.widget-view+json": {
       "model_id": "2b491bf277f04f8da0d4611e1bf286ff",
       "version_major": 2,
       "version_minor": 0
      },
      "text/plain": [
       "Folds avaliados:   0%|          | 0/10 [00:00<?, ?it/s]"
      ]
     },
     "metadata": {},
     "output_type": "display_data"
    },
    {
     "name": "stderr",
     "output_type": "stream",
     "text": [
      "/dados/juliano/Dropbox/UTFPR/Aulas/AM36O - Aprendizagem de Máquina/venv/lib/python3.10/site-packages/sklearn/feature_selection/_univariate_selection.py:112: UserWarning: Features [ 18  23  54  57  66  68  82  83 130 131 138 140 142 144 150 155 156 163\n",
      " 193 203 263 273] are constant.\n",
      "  warnings.warn(\"Features %s are constant.\" % constant_features_idx, UserWarning)\n",
      "/dados/juliano/Dropbox/UTFPR/Aulas/AM36O - Aprendizagem de Máquina/venv/lib/python3.10/site-packages/sklearn/feature_selection/_univariate_selection.py:113: RuntimeWarning: invalid value encountered in divide\n",
      "  f = msb / msw\n",
      "/dados/juliano/Dropbox/UTFPR/Aulas/AM36O - Aprendizagem de Máquina/venv/lib/python3.10/site-packages/sklearn/feature_selection/_univariate_selection.py:112: UserWarning: Features [ 18  20  66  68  82 126 130 131 138 140 142 143 144 150 155 156 163 203\n",
      " 253 263 273] are constant.\n",
      "  warnings.warn(\"Features %s are constant.\" % constant_features_idx, UserWarning)\n",
      "/dados/juliano/Dropbox/UTFPR/Aulas/AM36O - Aprendizagem de Máquina/venv/lib/python3.10/site-packages/sklearn/feature_selection/_univariate_selection.py:113: RuntimeWarning: invalid value encountered in divide\n",
      "  f = msb / msw\n",
      "/dados/juliano/Dropbox/UTFPR/Aulas/AM36O - Aprendizagem de Máquina/venv/lib/python3.10/site-packages/sklearn/feature_selection/_univariate_selection.py:112: UserWarning: Features [ 18  57  66  68  82  84  85 130 131 138 140 142 144 150 155 156 163 203\n",
      " 263 273] are constant.\n",
      "  warnings.warn(\"Features %s are constant.\" % constant_features_idx, UserWarning)\n",
      "/dados/juliano/Dropbox/UTFPR/Aulas/AM36O - Aprendizagem de Máquina/venv/lib/python3.10/site-packages/sklearn/feature_selection/_univariate_selection.py:113: RuntimeWarning: invalid value encountered in divide\n",
      "  f = msb / msw\n",
      "/dados/juliano/Dropbox/UTFPR/Aulas/AM36O - Aprendizagem de Máquina/venv/lib/python3.10/site-packages/sklearn/feature_selection/_univariate_selection.py:112: UserWarning: Features [ 18  54  66  68  82 117 130 131 138 140 142 143 144 150 152 155 156 163\n",
      " 193 203 263 273] are constant.\n",
      "  warnings.warn(\"Features %s are constant.\" % constant_features_idx, UserWarning)\n",
      "/dados/juliano/Dropbox/UTFPR/Aulas/AM36O - Aprendizagem de Máquina/venv/lib/python3.10/site-packages/sklearn/feature_selection/_univariate_selection.py:113: RuntimeWarning: invalid value encountered in divide\n",
      "  f = msb / msw\n",
      "/dados/juliano/Dropbox/UTFPR/Aulas/AM36O - Aprendizagem de Máquina/venv/lib/python3.10/site-packages/sklearn/feature_selection/_univariate_selection.py:112: UserWarning: Features [ 18  49  66  68  70  73  82 130 131 138 140 142 144 150 155 156 163 203\n",
      " 263 273] are constant.\n",
      "  warnings.warn(\"Features %s are constant.\" % constant_features_idx, UserWarning)\n",
      "/dados/juliano/Dropbox/UTFPR/Aulas/AM36O - Aprendizagem de Máquina/venv/lib/python3.10/site-packages/sklearn/feature_selection/_univariate_selection.py:113: RuntimeWarning: invalid value encountered in divide\n",
      "  f = msb / msw\n",
      "/dados/juliano/Dropbox/UTFPR/Aulas/AM36O - Aprendizagem de Máquina/venv/lib/python3.10/site-packages/sklearn/feature_selection/_univariate_selection.py:112: UserWarning: Features [ 18  34  44  57  58  66  68  72  82  83 130 131 138 140 142 143 144 150\n",
      " 155 156 163 203 263 273] are constant.\n",
      "  warnings.warn(\"Features %s are constant.\" % constant_features_idx, UserWarning)\n",
      "/dados/juliano/Dropbox/UTFPR/Aulas/AM36O - Aprendizagem de Máquina/venv/lib/python3.10/site-packages/sklearn/feature_selection/_univariate_selection.py:113: RuntimeWarning: invalid value encountered in divide\n",
      "  f = msb / msw\n",
      "/dados/juliano/Dropbox/UTFPR/Aulas/AM36O - Aprendizagem de Máquina/venv/lib/python3.10/site-packages/sklearn/feature_selection/_univariate_selection.py:112: UserWarning: Features [ 18  34  46  66  68  82  85 130 131 138 140 142 143 144 150 155 156 163\n",
      " 203 263 273] are constant.\n",
      "  warnings.warn(\"Features %s are constant.\" % constant_features_idx, UserWarning)\n",
      "/dados/juliano/Dropbox/UTFPR/Aulas/AM36O - Aprendizagem de Máquina/venv/lib/python3.10/site-packages/sklearn/feature_selection/_univariate_selection.py:113: RuntimeWarning: invalid value encountered in divide\n",
      "  f = msb / msw\n",
      "/dados/juliano/Dropbox/UTFPR/Aulas/AM36O - Aprendizagem de Máquina/venv/lib/python3.10/site-packages/sklearn/feature_selection/_univariate_selection.py:112: UserWarning: Features [ 18  49  66  68  73  82 102 114 130 131 138 140 142 143 144 150 155 156\n",
      " 163 203 233 243 263 273] are constant.\n",
      "  warnings.warn(\"Features %s are constant.\" % constant_features_idx, UserWarning)\n",
      "/dados/juliano/Dropbox/UTFPR/Aulas/AM36O - Aprendizagem de Máquina/venv/lib/python3.10/site-packages/sklearn/feature_selection/_univariate_selection.py:113: RuntimeWarning: invalid value encountered in divide\n",
      "  f = msb / msw\n",
      "/dados/juliano/Dropbox/UTFPR/Aulas/AM36O - Aprendizagem de Máquina/venv/lib/python3.10/site-packages/sklearn/feature_selection/_univariate_selection.py:112: UserWarning: Features [ 18  34  58  60  66  68  73  82  83 126 130 131 138 140 142 144 150 153\n",
      " 155 156 163 203 253 263 273] are constant.\n",
      "  warnings.warn(\"Features %s are constant.\" % constant_features_idx, UserWarning)\n",
      "/dados/juliano/Dropbox/UTFPR/Aulas/AM36O - Aprendizagem de Máquina/venv/lib/python3.10/site-packages/sklearn/feature_selection/_univariate_selection.py:113: RuntimeWarning: invalid value encountered in divide\n",
      "  f = msb / msw\n",
      "/dados/juliano/Dropbox/UTFPR/Aulas/AM36O - Aprendizagem de Máquina/venv/lib/python3.10/site-packages/sklearn/feature_selection/_univariate_selection.py:112: UserWarning: Features [ 18  66  68  71  82 117 126 130 131 132 138 140 142 144 150 153 155 156\n",
      " 163 203 253 263 273] are constant.\n",
      "  warnings.warn(\"Features %s are constant.\" % constant_features_idx, UserWarning)\n",
      "/dados/juliano/Dropbox/UTFPR/Aulas/AM36O - Aprendizagem de Máquina/venv/lib/python3.10/site-packages/sklearn/feature_selection/_univariate_selection.py:113: RuntimeWarning: invalid value encountered in divide\n",
      "  f = msb / msw\n"
     ]
    },
    {
     "name": "stdout",
     "output_type": "stream",
     "text": [
      "Executando teste rf_an (40%)\n"
     ]
    },
    {
     "data": {
      "application/vnd.jupyter.widget-view+json": {
       "model_id": "f5f336b55db7448c9bbb6dfb03410088",
       "version_major": 2,
       "version_minor": 0
      },
      "text/plain": [
       "Folds avaliados:   0%|          | 0/10 [00:00<?, ?it/s]"
      ]
     },
     "metadata": {},
     "output_type": "display_data"
    },
    {
     "name": "stderr",
     "output_type": "stream",
     "text": [
      "/dados/juliano/Dropbox/UTFPR/Aulas/AM36O - Aprendizagem de Máquina/venv/lib/python3.10/site-packages/sklearn/feature_selection/_univariate_selection.py:112: UserWarning: Features [ 18  23  54  57  66  68  82  83 130 131 138 140 142 144 150 155 156 163\n",
      " 193 203 263 273] are constant.\n",
      "  warnings.warn(\"Features %s are constant.\" % constant_features_idx, UserWarning)\n",
      "/dados/juliano/Dropbox/UTFPR/Aulas/AM36O - Aprendizagem de Máquina/venv/lib/python3.10/site-packages/sklearn/feature_selection/_univariate_selection.py:113: RuntimeWarning: invalid value encountered in divide\n",
      "  f = msb / msw\n",
      "/dados/juliano/Dropbox/UTFPR/Aulas/AM36O - Aprendizagem de Máquina/venv/lib/python3.10/site-packages/sklearn/feature_selection/_univariate_selection.py:112: UserWarning: Features [ 18  20  66  68  82 126 130 131 138 140 142 143 144 150 155 156 163 203\n",
      " 253 263 273] are constant.\n",
      "  warnings.warn(\"Features %s are constant.\" % constant_features_idx, UserWarning)\n",
      "/dados/juliano/Dropbox/UTFPR/Aulas/AM36O - Aprendizagem de Máquina/venv/lib/python3.10/site-packages/sklearn/feature_selection/_univariate_selection.py:113: RuntimeWarning: invalid value encountered in divide\n",
      "  f = msb / msw\n",
      "/dados/juliano/Dropbox/UTFPR/Aulas/AM36O - Aprendizagem de Máquina/venv/lib/python3.10/site-packages/sklearn/feature_selection/_univariate_selection.py:112: UserWarning: Features [ 18  57  66  68  82  84  85 130 131 138 140 142 144 150 155 156 163 203\n",
      " 263 273] are constant.\n",
      "  warnings.warn(\"Features %s are constant.\" % constant_features_idx, UserWarning)\n",
      "/dados/juliano/Dropbox/UTFPR/Aulas/AM36O - Aprendizagem de Máquina/venv/lib/python3.10/site-packages/sklearn/feature_selection/_univariate_selection.py:113: RuntimeWarning: invalid value encountered in divide\n",
      "  f = msb / msw\n",
      "/dados/juliano/Dropbox/UTFPR/Aulas/AM36O - Aprendizagem de Máquina/venv/lib/python3.10/site-packages/sklearn/feature_selection/_univariate_selection.py:112: UserWarning: Features [ 18  54  66  68  82 117 130 131 138 140 142 143 144 150 152 155 156 163\n",
      " 193 203 263 273] are constant.\n",
      "  warnings.warn(\"Features %s are constant.\" % constant_features_idx, UserWarning)\n",
      "/dados/juliano/Dropbox/UTFPR/Aulas/AM36O - Aprendizagem de Máquina/venv/lib/python3.10/site-packages/sklearn/feature_selection/_univariate_selection.py:113: RuntimeWarning: invalid value encountered in divide\n",
      "  f = msb / msw\n",
      "/dados/juliano/Dropbox/UTFPR/Aulas/AM36O - Aprendizagem de Máquina/venv/lib/python3.10/site-packages/sklearn/feature_selection/_univariate_selection.py:112: UserWarning: Features [ 18  49  66  68  70  73  82 130 131 138 140 142 144 150 155 156 163 203\n",
      " 263 273] are constant.\n",
      "  warnings.warn(\"Features %s are constant.\" % constant_features_idx, UserWarning)\n",
      "/dados/juliano/Dropbox/UTFPR/Aulas/AM36O - Aprendizagem de Máquina/venv/lib/python3.10/site-packages/sklearn/feature_selection/_univariate_selection.py:113: RuntimeWarning: invalid value encountered in divide\n",
      "  f = msb / msw\n",
      "/dados/juliano/Dropbox/UTFPR/Aulas/AM36O - Aprendizagem de Máquina/venv/lib/python3.10/site-packages/sklearn/feature_selection/_univariate_selection.py:112: UserWarning: Features [ 18  34  44  57  58  66  68  72  82  83 130 131 138 140 142 143 144 150\n",
      " 155 156 163 203 263 273] are constant.\n",
      "  warnings.warn(\"Features %s are constant.\" % constant_features_idx, UserWarning)\n",
      "/dados/juliano/Dropbox/UTFPR/Aulas/AM36O - Aprendizagem de Máquina/venv/lib/python3.10/site-packages/sklearn/feature_selection/_univariate_selection.py:113: RuntimeWarning: invalid value encountered in divide\n",
      "  f = msb / msw\n",
      "/dados/juliano/Dropbox/UTFPR/Aulas/AM36O - Aprendizagem de Máquina/venv/lib/python3.10/site-packages/sklearn/feature_selection/_univariate_selection.py:112: UserWarning: Features [ 18  34  46  66  68  82  85 130 131 138 140 142 143 144 150 155 156 163\n",
      " 203 263 273] are constant.\n",
      "  warnings.warn(\"Features %s are constant.\" % constant_features_idx, UserWarning)\n",
      "/dados/juliano/Dropbox/UTFPR/Aulas/AM36O - Aprendizagem de Máquina/venv/lib/python3.10/site-packages/sklearn/feature_selection/_univariate_selection.py:113: RuntimeWarning: invalid value encountered in divide\n",
      "  f = msb / msw\n",
      "/dados/juliano/Dropbox/UTFPR/Aulas/AM36O - Aprendizagem de Máquina/venv/lib/python3.10/site-packages/sklearn/feature_selection/_univariate_selection.py:112: UserWarning: Features [ 18  49  66  68  73  82 102 114 130 131 138 140 142 143 144 150 155 156\n",
      " 163 203 233 243 263 273] are constant.\n",
      "  warnings.warn(\"Features %s are constant.\" % constant_features_idx, UserWarning)\n",
      "/dados/juliano/Dropbox/UTFPR/Aulas/AM36O - Aprendizagem de Máquina/venv/lib/python3.10/site-packages/sklearn/feature_selection/_univariate_selection.py:113: RuntimeWarning: invalid value encountered in divide\n",
      "  f = msb / msw\n",
      "/dados/juliano/Dropbox/UTFPR/Aulas/AM36O - Aprendizagem de Máquina/venv/lib/python3.10/site-packages/sklearn/feature_selection/_univariate_selection.py:112: UserWarning: Features [ 18  34  58  60  66  68  73  82  83 126 130 131 138 140 142 144 150 153\n",
      " 155 156 163 203 253 263 273] are constant.\n",
      "  warnings.warn(\"Features %s are constant.\" % constant_features_idx, UserWarning)\n",
      "/dados/juliano/Dropbox/UTFPR/Aulas/AM36O - Aprendizagem de Máquina/venv/lib/python3.10/site-packages/sklearn/feature_selection/_univariate_selection.py:113: RuntimeWarning: invalid value encountered in divide\n",
      "  f = msb / msw\n",
      "/dados/juliano/Dropbox/UTFPR/Aulas/AM36O - Aprendizagem de Máquina/venv/lib/python3.10/site-packages/sklearn/feature_selection/_univariate_selection.py:112: UserWarning: Features [ 18  66  68  71  82 117 126 130 131 132 138 140 142 144 150 153 155 156\n",
      " 163 203 253 263 273] are constant.\n",
      "  warnings.warn(\"Features %s are constant.\" % constant_features_idx, UserWarning)\n",
      "/dados/juliano/Dropbox/UTFPR/Aulas/AM36O - Aprendizagem de Máquina/venv/lib/python3.10/site-packages/sklearn/feature_selection/_univariate_selection.py:113: RuntimeWarning: invalid value encountered in divide\n",
      "  f = msb / msw\n"
     ]
    },
    {
     "name": "stdout",
     "output_type": "stream",
     "text": [
      "decil: 50\n",
      "Executando teste svm_an (50%)\n"
     ]
    },
    {
     "data": {
      "application/vnd.jupyter.widget-view+json": {
       "model_id": "e2be44d00b3d454b8311d7cb5b7b1f25",
       "version_major": 2,
       "version_minor": 0
      },
      "text/plain": [
       "Folds avaliados:   0%|          | 0/10 [00:00<?, ?it/s]"
      ]
     },
     "metadata": {},
     "output_type": "display_data"
    },
    {
     "name": "stderr",
     "output_type": "stream",
     "text": [
      "/dados/juliano/Dropbox/UTFPR/Aulas/AM36O - Aprendizagem de Máquina/venv/lib/python3.10/site-packages/sklearn/feature_selection/_univariate_selection.py:112: UserWarning: Features [ 18  23  54  57  66  68  82  83 130 131 138 140 142 144 150 155 156 163\n",
      " 193 203 263 273] are constant.\n",
      "  warnings.warn(\"Features %s are constant.\" % constant_features_idx, UserWarning)\n",
      "/dados/juliano/Dropbox/UTFPR/Aulas/AM36O - Aprendizagem de Máquina/venv/lib/python3.10/site-packages/sklearn/feature_selection/_univariate_selection.py:113: RuntimeWarning: invalid value encountered in divide\n",
      "  f = msb / msw\n",
      "/dados/juliano/Dropbox/UTFPR/Aulas/AM36O - Aprendizagem de Máquina/venv/lib/python3.10/site-packages/sklearn/feature_selection/_univariate_selection.py:112: UserWarning: Features [ 18  20  66  68  82 126 130 131 138 140 142 143 144 150 155 156 163 203\n",
      " 253 263 273] are constant.\n",
      "  warnings.warn(\"Features %s are constant.\" % constant_features_idx, UserWarning)\n",
      "/dados/juliano/Dropbox/UTFPR/Aulas/AM36O - Aprendizagem de Máquina/venv/lib/python3.10/site-packages/sklearn/feature_selection/_univariate_selection.py:113: RuntimeWarning: invalid value encountered in divide\n",
      "  f = msb / msw\n",
      "/dados/juliano/Dropbox/UTFPR/Aulas/AM36O - Aprendizagem de Máquina/venv/lib/python3.10/site-packages/sklearn/feature_selection/_univariate_selection.py:112: UserWarning: Features [ 18  57  66  68  82  84  85 130 131 138 140 142 144 150 155 156 163 203\n",
      " 263 273] are constant.\n",
      "  warnings.warn(\"Features %s are constant.\" % constant_features_idx, UserWarning)\n",
      "/dados/juliano/Dropbox/UTFPR/Aulas/AM36O - Aprendizagem de Máquina/venv/lib/python3.10/site-packages/sklearn/feature_selection/_univariate_selection.py:113: RuntimeWarning: invalid value encountered in divide\n",
      "  f = msb / msw\n",
      "/dados/juliano/Dropbox/UTFPR/Aulas/AM36O - Aprendizagem de Máquina/venv/lib/python3.10/site-packages/sklearn/feature_selection/_univariate_selection.py:112: UserWarning: Features [ 18  54  66  68  82 117 130 131 138 140 142 143 144 150 152 155 156 163\n",
      " 193 203 263 273] are constant.\n",
      "  warnings.warn(\"Features %s are constant.\" % constant_features_idx, UserWarning)\n",
      "/dados/juliano/Dropbox/UTFPR/Aulas/AM36O - Aprendizagem de Máquina/venv/lib/python3.10/site-packages/sklearn/feature_selection/_univariate_selection.py:113: RuntimeWarning: invalid value encountered in divide\n",
      "  f = msb / msw\n",
      "/dados/juliano/Dropbox/UTFPR/Aulas/AM36O - Aprendizagem de Máquina/venv/lib/python3.10/site-packages/sklearn/feature_selection/_univariate_selection.py:112: UserWarning: Features [ 18  49  66  68  70  73  82 130 131 138 140 142 144 150 155 156 163 203\n",
      " 263 273] are constant.\n",
      "  warnings.warn(\"Features %s are constant.\" % constant_features_idx, UserWarning)\n",
      "/dados/juliano/Dropbox/UTFPR/Aulas/AM36O - Aprendizagem de Máquina/venv/lib/python3.10/site-packages/sklearn/feature_selection/_univariate_selection.py:113: RuntimeWarning: invalid value encountered in divide\n",
      "  f = msb / msw\n",
      "/dados/juliano/Dropbox/UTFPR/Aulas/AM36O - Aprendizagem de Máquina/venv/lib/python3.10/site-packages/sklearn/feature_selection/_univariate_selection.py:112: UserWarning: Features [ 18  34  44  57  58  66  68  72  82  83 130 131 138 140 142 143 144 150\n",
      " 155 156 163 203 263 273] are constant.\n",
      "  warnings.warn(\"Features %s are constant.\" % constant_features_idx, UserWarning)\n",
      "/dados/juliano/Dropbox/UTFPR/Aulas/AM36O - Aprendizagem de Máquina/venv/lib/python3.10/site-packages/sklearn/feature_selection/_univariate_selection.py:113: RuntimeWarning: invalid value encountered in divide\n",
      "  f = msb / msw\n",
      "/dados/juliano/Dropbox/UTFPR/Aulas/AM36O - Aprendizagem de Máquina/venv/lib/python3.10/site-packages/sklearn/feature_selection/_univariate_selection.py:112: UserWarning: Features [ 18  34  46  66  68  82  85 130 131 138 140 142 143 144 150 155 156 163\n",
      " 203 263 273] are constant.\n",
      "  warnings.warn(\"Features %s are constant.\" % constant_features_idx, UserWarning)\n",
      "/dados/juliano/Dropbox/UTFPR/Aulas/AM36O - Aprendizagem de Máquina/venv/lib/python3.10/site-packages/sklearn/feature_selection/_univariate_selection.py:113: RuntimeWarning: invalid value encountered in divide\n",
      "  f = msb / msw\n",
      "/dados/juliano/Dropbox/UTFPR/Aulas/AM36O - Aprendizagem de Máquina/venv/lib/python3.10/site-packages/sklearn/feature_selection/_univariate_selection.py:112: UserWarning: Features [ 18  49  66  68  73  82 102 114 130 131 138 140 142 143 144 150 155 156\n",
      " 163 203 233 243 263 273] are constant.\n",
      "  warnings.warn(\"Features %s are constant.\" % constant_features_idx, UserWarning)\n",
      "/dados/juliano/Dropbox/UTFPR/Aulas/AM36O - Aprendizagem de Máquina/venv/lib/python3.10/site-packages/sklearn/feature_selection/_univariate_selection.py:113: RuntimeWarning: invalid value encountered in divide\n",
      "  f = msb / msw\n",
      "/dados/juliano/Dropbox/UTFPR/Aulas/AM36O - Aprendizagem de Máquina/venv/lib/python3.10/site-packages/sklearn/feature_selection/_univariate_selection.py:112: UserWarning: Features [ 18  34  58  60  66  68  73  82  83 126 130 131 138 140 142 144 150 153\n",
      " 155 156 163 203 253 263 273] are constant.\n",
      "  warnings.warn(\"Features %s are constant.\" % constant_features_idx, UserWarning)\n",
      "/dados/juliano/Dropbox/UTFPR/Aulas/AM36O - Aprendizagem de Máquina/venv/lib/python3.10/site-packages/sklearn/feature_selection/_univariate_selection.py:113: RuntimeWarning: invalid value encountered in divide\n",
      "  f = msb / msw\n",
      "/dados/juliano/Dropbox/UTFPR/Aulas/AM36O - Aprendizagem de Máquina/venv/lib/python3.10/site-packages/sklearn/feature_selection/_univariate_selection.py:112: UserWarning: Features [ 18  66  68  71  82 117 126 130 131 132 138 140 142 144 150 153 155 156\n",
      " 163 203 253 263 273] are constant.\n",
      "  warnings.warn(\"Features %s are constant.\" % constant_features_idx, UserWarning)\n",
      "/dados/juliano/Dropbox/UTFPR/Aulas/AM36O - Aprendizagem de Máquina/venv/lib/python3.10/site-packages/sklearn/feature_selection/_univariate_selection.py:113: RuntimeWarning: invalid value encountered in divide\n",
      "  f = msb / msw\n"
     ]
    },
    {
     "name": "stdout",
     "output_type": "stream",
     "text": [
      "Executando teste knn_an (50%)\n"
     ]
    },
    {
     "data": {
      "application/vnd.jupyter.widget-view+json": {
       "model_id": "34f9404fa3254c9a998d8c0a7f397a41",
       "version_major": 2,
       "version_minor": 0
      },
      "text/plain": [
       "Folds avaliados:   0%|          | 0/10 [00:00<?, ?it/s]"
      ]
     },
     "metadata": {},
     "output_type": "display_data"
    },
    {
     "name": "stderr",
     "output_type": "stream",
     "text": [
      "/dados/juliano/Dropbox/UTFPR/Aulas/AM36O - Aprendizagem de Máquina/venv/lib/python3.10/site-packages/sklearn/feature_selection/_univariate_selection.py:112: UserWarning: Features [ 18  23  54  57  66  68  82  83 130 131 138 140 142 144 150 155 156 163\n",
      " 193 203 263 273] are constant.\n",
      "  warnings.warn(\"Features %s are constant.\" % constant_features_idx, UserWarning)\n",
      "/dados/juliano/Dropbox/UTFPR/Aulas/AM36O - Aprendizagem de Máquina/venv/lib/python3.10/site-packages/sklearn/feature_selection/_univariate_selection.py:113: RuntimeWarning: invalid value encountered in divide\n",
      "  f = msb / msw\n",
      "/dados/juliano/Dropbox/UTFPR/Aulas/AM36O - Aprendizagem de Máquina/venv/lib/python3.10/site-packages/sklearn/feature_selection/_univariate_selection.py:112: UserWarning: Features [ 18  20  66  68  82 126 130 131 138 140 142 143 144 150 155 156 163 203\n",
      " 253 263 273] are constant.\n",
      "  warnings.warn(\"Features %s are constant.\" % constant_features_idx, UserWarning)\n",
      "/dados/juliano/Dropbox/UTFPR/Aulas/AM36O - Aprendizagem de Máquina/venv/lib/python3.10/site-packages/sklearn/feature_selection/_univariate_selection.py:113: RuntimeWarning: invalid value encountered in divide\n",
      "  f = msb / msw\n",
      "/dados/juliano/Dropbox/UTFPR/Aulas/AM36O - Aprendizagem de Máquina/venv/lib/python3.10/site-packages/sklearn/feature_selection/_univariate_selection.py:112: UserWarning: Features [ 18  57  66  68  82  84  85 130 131 138 140 142 144 150 155 156 163 203\n",
      " 263 273] are constant.\n",
      "  warnings.warn(\"Features %s are constant.\" % constant_features_idx, UserWarning)\n",
      "/dados/juliano/Dropbox/UTFPR/Aulas/AM36O - Aprendizagem de Máquina/venv/lib/python3.10/site-packages/sklearn/feature_selection/_univariate_selection.py:113: RuntimeWarning: invalid value encountered in divide\n",
      "  f = msb / msw\n",
      "/dados/juliano/Dropbox/UTFPR/Aulas/AM36O - Aprendizagem de Máquina/venv/lib/python3.10/site-packages/sklearn/feature_selection/_univariate_selection.py:112: UserWarning: Features [ 18  54  66  68  82 117 130 131 138 140 142 143 144 150 152 155 156 163\n",
      " 193 203 263 273] are constant.\n",
      "  warnings.warn(\"Features %s are constant.\" % constant_features_idx, UserWarning)\n",
      "/dados/juliano/Dropbox/UTFPR/Aulas/AM36O - Aprendizagem de Máquina/venv/lib/python3.10/site-packages/sklearn/feature_selection/_univariate_selection.py:113: RuntimeWarning: invalid value encountered in divide\n",
      "  f = msb / msw\n",
      "/dados/juliano/Dropbox/UTFPR/Aulas/AM36O - Aprendizagem de Máquina/venv/lib/python3.10/site-packages/sklearn/feature_selection/_univariate_selection.py:112: UserWarning: Features [ 18  49  66  68  70  73  82 130 131 138 140 142 144 150 155 156 163 203\n",
      " 263 273] are constant.\n",
      "  warnings.warn(\"Features %s are constant.\" % constant_features_idx, UserWarning)\n",
      "/dados/juliano/Dropbox/UTFPR/Aulas/AM36O - Aprendizagem de Máquina/venv/lib/python3.10/site-packages/sklearn/feature_selection/_univariate_selection.py:113: RuntimeWarning: invalid value encountered in divide\n",
      "  f = msb / msw\n",
      "/dados/juliano/Dropbox/UTFPR/Aulas/AM36O - Aprendizagem de Máquina/venv/lib/python3.10/site-packages/sklearn/feature_selection/_univariate_selection.py:112: UserWarning: Features [ 18  34  44  57  58  66  68  72  82  83 130 131 138 140 142 143 144 150\n",
      " 155 156 163 203 263 273] are constant.\n",
      "  warnings.warn(\"Features %s are constant.\" % constant_features_idx, UserWarning)\n",
      "/dados/juliano/Dropbox/UTFPR/Aulas/AM36O - Aprendizagem de Máquina/venv/lib/python3.10/site-packages/sklearn/feature_selection/_univariate_selection.py:113: RuntimeWarning: invalid value encountered in divide\n",
      "  f = msb / msw\n",
      "/dados/juliano/Dropbox/UTFPR/Aulas/AM36O - Aprendizagem de Máquina/venv/lib/python3.10/site-packages/sklearn/feature_selection/_univariate_selection.py:112: UserWarning: Features [ 18  34  46  66  68  82  85 130 131 138 140 142 143 144 150 155 156 163\n",
      " 203 263 273] are constant.\n",
      "  warnings.warn(\"Features %s are constant.\" % constant_features_idx, UserWarning)\n",
      "/dados/juliano/Dropbox/UTFPR/Aulas/AM36O - Aprendizagem de Máquina/venv/lib/python3.10/site-packages/sklearn/feature_selection/_univariate_selection.py:113: RuntimeWarning: invalid value encountered in divide\n",
      "  f = msb / msw\n",
      "/dados/juliano/Dropbox/UTFPR/Aulas/AM36O - Aprendizagem de Máquina/venv/lib/python3.10/site-packages/sklearn/feature_selection/_univariate_selection.py:112: UserWarning: Features [ 18  49  66  68  73  82 102 114 130 131 138 140 142 143 144 150 155 156\n",
      " 163 203 233 243 263 273] are constant.\n",
      "  warnings.warn(\"Features %s are constant.\" % constant_features_idx, UserWarning)\n",
      "/dados/juliano/Dropbox/UTFPR/Aulas/AM36O - Aprendizagem de Máquina/venv/lib/python3.10/site-packages/sklearn/feature_selection/_univariate_selection.py:113: RuntimeWarning: invalid value encountered in divide\n",
      "  f = msb / msw\n",
      "/dados/juliano/Dropbox/UTFPR/Aulas/AM36O - Aprendizagem de Máquina/venv/lib/python3.10/site-packages/sklearn/feature_selection/_univariate_selection.py:112: UserWarning: Features [ 18  34  58  60  66  68  73  82  83 126 130 131 138 140 142 144 150 153\n",
      " 155 156 163 203 253 263 273] are constant.\n",
      "  warnings.warn(\"Features %s are constant.\" % constant_features_idx, UserWarning)\n",
      "/dados/juliano/Dropbox/UTFPR/Aulas/AM36O - Aprendizagem de Máquina/venv/lib/python3.10/site-packages/sklearn/feature_selection/_univariate_selection.py:113: RuntimeWarning: invalid value encountered in divide\n",
      "  f = msb / msw\n",
      "/dados/juliano/Dropbox/UTFPR/Aulas/AM36O - Aprendizagem de Máquina/venv/lib/python3.10/site-packages/sklearn/feature_selection/_univariate_selection.py:112: UserWarning: Features [ 18  66  68  71  82 117 126 130 131 132 138 140 142 144 150 153 155 156\n",
      " 163 203 253 263 273] are constant.\n",
      "  warnings.warn(\"Features %s are constant.\" % constant_features_idx, UserWarning)\n",
      "/dados/juliano/Dropbox/UTFPR/Aulas/AM36O - Aprendizagem de Máquina/venv/lib/python3.10/site-packages/sklearn/feature_selection/_univariate_selection.py:113: RuntimeWarning: invalid value encountered in divide\n",
      "  f = msb / msw\n"
     ]
    },
    {
     "name": "stdout",
     "output_type": "stream",
     "text": [
      "Executando teste rf_an (50%)\n"
     ]
    },
    {
     "data": {
      "application/vnd.jupyter.widget-view+json": {
       "model_id": "149145df72bf4a4a8fd0ae8a5637ba59",
       "version_major": 2,
       "version_minor": 0
      },
      "text/plain": [
       "Folds avaliados:   0%|          | 0/10 [00:00<?, ?it/s]"
      ]
     },
     "metadata": {},
     "output_type": "display_data"
    },
    {
     "name": "stderr",
     "output_type": "stream",
     "text": [
      "/dados/juliano/Dropbox/UTFPR/Aulas/AM36O - Aprendizagem de Máquina/venv/lib/python3.10/site-packages/sklearn/feature_selection/_univariate_selection.py:112: UserWarning: Features [ 18  23  54  57  66  68  82  83 130 131 138 140 142 144 150 155 156 163\n",
      " 193 203 263 273] are constant.\n",
      "  warnings.warn(\"Features %s are constant.\" % constant_features_idx, UserWarning)\n",
      "/dados/juliano/Dropbox/UTFPR/Aulas/AM36O - Aprendizagem de Máquina/venv/lib/python3.10/site-packages/sklearn/feature_selection/_univariate_selection.py:113: RuntimeWarning: invalid value encountered in divide\n",
      "  f = msb / msw\n",
      "/dados/juliano/Dropbox/UTFPR/Aulas/AM36O - Aprendizagem de Máquina/venv/lib/python3.10/site-packages/sklearn/feature_selection/_univariate_selection.py:112: UserWarning: Features [ 18  20  66  68  82 126 130 131 138 140 142 143 144 150 155 156 163 203\n",
      " 253 263 273] are constant.\n",
      "  warnings.warn(\"Features %s are constant.\" % constant_features_idx, UserWarning)\n",
      "/dados/juliano/Dropbox/UTFPR/Aulas/AM36O - Aprendizagem de Máquina/venv/lib/python3.10/site-packages/sklearn/feature_selection/_univariate_selection.py:113: RuntimeWarning: invalid value encountered in divide\n",
      "  f = msb / msw\n",
      "/dados/juliano/Dropbox/UTFPR/Aulas/AM36O - Aprendizagem de Máquina/venv/lib/python3.10/site-packages/sklearn/feature_selection/_univariate_selection.py:112: UserWarning: Features [ 18  57  66  68  82  84  85 130 131 138 140 142 144 150 155 156 163 203\n",
      " 263 273] are constant.\n",
      "  warnings.warn(\"Features %s are constant.\" % constant_features_idx, UserWarning)\n",
      "/dados/juliano/Dropbox/UTFPR/Aulas/AM36O - Aprendizagem de Máquina/venv/lib/python3.10/site-packages/sklearn/feature_selection/_univariate_selection.py:113: RuntimeWarning: invalid value encountered in divide\n",
      "  f = msb / msw\n",
      "/dados/juliano/Dropbox/UTFPR/Aulas/AM36O - Aprendizagem de Máquina/venv/lib/python3.10/site-packages/sklearn/feature_selection/_univariate_selection.py:112: UserWarning: Features [ 18  54  66  68  82 117 130 131 138 140 142 143 144 150 152 155 156 163\n",
      " 193 203 263 273] are constant.\n",
      "  warnings.warn(\"Features %s are constant.\" % constant_features_idx, UserWarning)\n",
      "/dados/juliano/Dropbox/UTFPR/Aulas/AM36O - Aprendizagem de Máquina/venv/lib/python3.10/site-packages/sklearn/feature_selection/_univariate_selection.py:113: RuntimeWarning: invalid value encountered in divide\n",
      "  f = msb / msw\n",
      "/dados/juliano/Dropbox/UTFPR/Aulas/AM36O - Aprendizagem de Máquina/venv/lib/python3.10/site-packages/sklearn/feature_selection/_univariate_selection.py:112: UserWarning: Features [ 18  49  66  68  70  73  82 130 131 138 140 142 144 150 155 156 163 203\n",
      " 263 273] are constant.\n",
      "  warnings.warn(\"Features %s are constant.\" % constant_features_idx, UserWarning)\n",
      "/dados/juliano/Dropbox/UTFPR/Aulas/AM36O - Aprendizagem de Máquina/venv/lib/python3.10/site-packages/sklearn/feature_selection/_univariate_selection.py:113: RuntimeWarning: invalid value encountered in divide\n",
      "  f = msb / msw\n",
      "/dados/juliano/Dropbox/UTFPR/Aulas/AM36O - Aprendizagem de Máquina/venv/lib/python3.10/site-packages/sklearn/feature_selection/_univariate_selection.py:112: UserWarning: Features [ 18  34  44  57  58  66  68  72  82  83 130 131 138 140 142 143 144 150\n",
      " 155 156 163 203 263 273] are constant.\n",
      "  warnings.warn(\"Features %s are constant.\" % constant_features_idx, UserWarning)\n",
      "/dados/juliano/Dropbox/UTFPR/Aulas/AM36O - Aprendizagem de Máquina/venv/lib/python3.10/site-packages/sklearn/feature_selection/_univariate_selection.py:113: RuntimeWarning: invalid value encountered in divide\n",
      "  f = msb / msw\n",
      "/dados/juliano/Dropbox/UTFPR/Aulas/AM36O - Aprendizagem de Máquina/venv/lib/python3.10/site-packages/sklearn/feature_selection/_univariate_selection.py:112: UserWarning: Features [ 18  34  46  66  68  82  85 130 131 138 140 142 143 144 150 155 156 163\n",
      " 203 263 273] are constant.\n",
      "  warnings.warn(\"Features %s are constant.\" % constant_features_idx, UserWarning)\n",
      "/dados/juliano/Dropbox/UTFPR/Aulas/AM36O - Aprendizagem de Máquina/venv/lib/python3.10/site-packages/sklearn/feature_selection/_univariate_selection.py:113: RuntimeWarning: invalid value encountered in divide\n",
      "  f = msb / msw\n",
      "/dados/juliano/Dropbox/UTFPR/Aulas/AM36O - Aprendizagem de Máquina/venv/lib/python3.10/site-packages/sklearn/feature_selection/_univariate_selection.py:112: UserWarning: Features [ 18  49  66  68  73  82 102 114 130 131 138 140 142 143 144 150 155 156\n",
      " 163 203 233 243 263 273] are constant.\n",
      "  warnings.warn(\"Features %s are constant.\" % constant_features_idx, UserWarning)\n",
      "/dados/juliano/Dropbox/UTFPR/Aulas/AM36O - Aprendizagem de Máquina/venv/lib/python3.10/site-packages/sklearn/feature_selection/_univariate_selection.py:113: RuntimeWarning: invalid value encountered in divide\n",
      "  f = msb / msw\n",
      "/dados/juliano/Dropbox/UTFPR/Aulas/AM36O - Aprendizagem de Máquina/venv/lib/python3.10/site-packages/sklearn/feature_selection/_univariate_selection.py:112: UserWarning: Features [ 18  34  58  60  66  68  73  82  83 126 130 131 138 140 142 144 150 153\n",
      " 155 156 163 203 253 263 273] are constant.\n",
      "  warnings.warn(\"Features %s are constant.\" % constant_features_idx, UserWarning)\n",
      "/dados/juliano/Dropbox/UTFPR/Aulas/AM36O - Aprendizagem de Máquina/venv/lib/python3.10/site-packages/sklearn/feature_selection/_univariate_selection.py:113: RuntimeWarning: invalid value encountered in divide\n",
      "  f = msb / msw\n",
      "/dados/juliano/Dropbox/UTFPR/Aulas/AM36O - Aprendizagem de Máquina/venv/lib/python3.10/site-packages/sklearn/feature_selection/_univariate_selection.py:112: UserWarning: Features [ 18  66  68  71  82 117 126 130 131 132 138 140 142 144 150 153 155 156\n",
      " 163 203 253 263 273] are constant.\n",
      "  warnings.warn(\"Features %s are constant.\" % constant_features_idx, UserWarning)\n",
      "/dados/juliano/Dropbox/UTFPR/Aulas/AM36O - Aprendizagem de Máquina/venv/lib/python3.10/site-packages/sklearn/feature_selection/_univariate_selection.py:113: RuntimeWarning: invalid value encountered in divide\n",
      "  f = msb / msw\n"
     ]
    },
    {
     "name": "stdout",
     "output_type": "stream",
     "text": [
      "decil: 60\n",
      "Executando teste svm_an (60%)\n"
     ]
    },
    {
     "data": {
      "application/vnd.jupyter.widget-view+json": {
       "model_id": "a9ea1a89803047828c32ec6c41d13a10",
       "version_major": 2,
       "version_minor": 0
      },
      "text/plain": [
       "Folds avaliados:   0%|          | 0/10 [00:00<?, ?it/s]"
      ]
     },
     "metadata": {},
     "output_type": "display_data"
    },
    {
     "name": "stderr",
     "output_type": "stream",
     "text": [
      "/dados/juliano/Dropbox/UTFPR/Aulas/AM36O - Aprendizagem de Máquina/venv/lib/python3.10/site-packages/sklearn/feature_selection/_univariate_selection.py:112: UserWarning: Features [ 18  23  54  57  66  68  82  83 130 131 138 140 142 144 150 155 156 163\n",
      " 193 203 263 273] are constant.\n",
      "  warnings.warn(\"Features %s are constant.\" % constant_features_idx, UserWarning)\n",
      "/dados/juliano/Dropbox/UTFPR/Aulas/AM36O - Aprendizagem de Máquina/venv/lib/python3.10/site-packages/sklearn/feature_selection/_univariate_selection.py:113: RuntimeWarning: invalid value encountered in divide\n",
      "  f = msb / msw\n",
      "/dados/juliano/Dropbox/UTFPR/Aulas/AM36O - Aprendizagem de Máquina/venv/lib/python3.10/site-packages/sklearn/feature_selection/_univariate_selection.py:112: UserWarning: Features [ 18  20  66  68  82 126 130 131 138 140 142 143 144 150 155 156 163 203\n",
      " 253 263 273] are constant.\n",
      "  warnings.warn(\"Features %s are constant.\" % constant_features_idx, UserWarning)\n",
      "/dados/juliano/Dropbox/UTFPR/Aulas/AM36O - Aprendizagem de Máquina/venv/lib/python3.10/site-packages/sklearn/feature_selection/_univariate_selection.py:113: RuntimeWarning: invalid value encountered in divide\n",
      "  f = msb / msw\n",
      "/dados/juliano/Dropbox/UTFPR/Aulas/AM36O - Aprendizagem de Máquina/venv/lib/python3.10/site-packages/sklearn/feature_selection/_univariate_selection.py:112: UserWarning: Features [ 18  57  66  68  82  84  85 130 131 138 140 142 144 150 155 156 163 203\n",
      " 263 273] are constant.\n",
      "  warnings.warn(\"Features %s are constant.\" % constant_features_idx, UserWarning)\n",
      "/dados/juliano/Dropbox/UTFPR/Aulas/AM36O - Aprendizagem de Máquina/venv/lib/python3.10/site-packages/sklearn/feature_selection/_univariate_selection.py:113: RuntimeWarning: invalid value encountered in divide\n",
      "  f = msb / msw\n",
      "/dados/juliano/Dropbox/UTFPR/Aulas/AM36O - Aprendizagem de Máquina/venv/lib/python3.10/site-packages/sklearn/feature_selection/_univariate_selection.py:112: UserWarning: Features [ 18  54  66  68  82 117 130 131 138 140 142 143 144 150 152 155 156 163\n",
      " 193 203 263 273] are constant.\n",
      "  warnings.warn(\"Features %s are constant.\" % constant_features_idx, UserWarning)\n",
      "/dados/juliano/Dropbox/UTFPR/Aulas/AM36O - Aprendizagem de Máquina/venv/lib/python3.10/site-packages/sklearn/feature_selection/_univariate_selection.py:113: RuntimeWarning: invalid value encountered in divide\n",
      "  f = msb / msw\n",
      "/dados/juliano/Dropbox/UTFPR/Aulas/AM36O - Aprendizagem de Máquina/venv/lib/python3.10/site-packages/sklearn/feature_selection/_univariate_selection.py:112: UserWarning: Features [ 18  49  66  68  70  73  82 130 131 138 140 142 144 150 155 156 163 203\n",
      " 263 273] are constant.\n",
      "  warnings.warn(\"Features %s are constant.\" % constant_features_idx, UserWarning)\n",
      "/dados/juliano/Dropbox/UTFPR/Aulas/AM36O - Aprendizagem de Máquina/venv/lib/python3.10/site-packages/sklearn/feature_selection/_univariate_selection.py:113: RuntimeWarning: invalid value encountered in divide\n",
      "  f = msb / msw\n",
      "/dados/juliano/Dropbox/UTFPR/Aulas/AM36O - Aprendizagem de Máquina/venv/lib/python3.10/site-packages/sklearn/feature_selection/_univariate_selection.py:112: UserWarning: Features [ 18  34  44  57  58  66  68  72  82  83 130 131 138 140 142 143 144 150\n",
      " 155 156 163 203 263 273] are constant.\n",
      "  warnings.warn(\"Features %s are constant.\" % constant_features_idx, UserWarning)\n",
      "/dados/juliano/Dropbox/UTFPR/Aulas/AM36O - Aprendizagem de Máquina/venv/lib/python3.10/site-packages/sklearn/feature_selection/_univariate_selection.py:113: RuntimeWarning: invalid value encountered in divide\n",
      "  f = msb / msw\n",
      "/dados/juliano/Dropbox/UTFPR/Aulas/AM36O - Aprendizagem de Máquina/venv/lib/python3.10/site-packages/sklearn/feature_selection/_univariate_selection.py:112: UserWarning: Features [ 18  34  46  66  68  82  85 130 131 138 140 142 143 144 150 155 156 163\n",
      " 203 263 273] are constant.\n",
      "  warnings.warn(\"Features %s are constant.\" % constant_features_idx, UserWarning)\n",
      "/dados/juliano/Dropbox/UTFPR/Aulas/AM36O - Aprendizagem de Máquina/venv/lib/python3.10/site-packages/sklearn/feature_selection/_univariate_selection.py:113: RuntimeWarning: invalid value encountered in divide\n",
      "  f = msb / msw\n",
      "/dados/juliano/Dropbox/UTFPR/Aulas/AM36O - Aprendizagem de Máquina/venv/lib/python3.10/site-packages/sklearn/feature_selection/_univariate_selection.py:112: UserWarning: Features [ 18  49  66  68  73  82 102 114 130 131 138 140 142 143 144 150 155 156\n",
      " 163 203 233 243 263 273] are constant.\n",
      "  warnings.warn(\"Features %s are constant.\" % constant_features_idx, UserWarning)\n",
      "/dados/juliano/Dropbox/UTFPR/Aulas/AM36O - Aprendizagem de Máquina/venv/lib/python3.10/site-packages/sklearn/feature_selection/_univariate_selection.py:113: RuntimeWarning: invalid value encountered in divide\n",
      "  f = msb / msw\n",
      "/dados/juliano/Dropbox/UTFPR/Aulas/AM36O - Aprendizagem de Máquina/venv/lib/python3.10/site-packages/sklearn/feature_selection/_univariate_selection.py:112: UserWarning: Features [ 18  34  58  60  66  68  73  82  83 126 130 131 138 140 142 144 150 153\n",
      " 155 156 163 203 253 263 273] are constant.\n",
      "  warnings.warn(\"Features %s are constant.\" % constant_features_idx, UserWarning)\n",
      "/dados/juliano/Dropbox/UTFPR/Aulas/AM36O - Aprendizagem de Máquina/venv/lib/python3.10/site-packages/sklearn/feature_selection/_univariate_selection.py:113: RuntimeWarning: invalid value encountered in divide\n",
      "  f = msb / msw\n",
      "/dados/juliano/Dropbox/UTFPR/Aulas/AM36O - Aprendizagem de Máquina/venv/lib/python3.10/site-packages/sklearn/feature_selection/_univariate_selection.py:112: UserWarning: Features [ 18  66  68  71  82 117 126 130 131 132 138 140 142 144 150 153 155 156\n",
      " 163 203 253 263 273] are constant.\n",
      "  warnings.warn(\"Features %s are constant.\" % constant_features_idx, UserWarning)\n",
      "/dados/juliano/Dropbox/UTFPR/Aulas/AM36O - Aprendizagem de Máquina/venv/lib/python3.10/site-packages/sklearn/feature_selection/_univariate_selection.py:113: RuntimeWarning: invalid value encountered in divide\n",
      "  f = msb / msw\n"
     ]
    },
    {
     "name": "stdout",
     "output_type": "stream",
     "text": [
      "Executando teste knn_an (60%)\n"
     ]
    },
    {
     "data": {
      "application/vnd.jupyter.widget-view+json": {
       "model_id": "99bb2130c6f04f3295e5c9c662df928f",
       "version_major": 2,
       "version_minor": 0
      },
      "text/plain": [
       "Folds avaliados:   0%|          | 0/10 [00:00<?, ?it/s]"
      ]
     },
     "metadata": {},
     "output_type": "display_data"
    },
    {
     "name": "stderr",
     "output_type": "stream",
     "text": [
      "/dados/juliano/Dropbox/UTFPR/Aulas/AM36O - Aprendizagem de Máquina/venv/lib/python3.10/site-packages/sklearn/feature_selection/_univariate_selection.py:112: UserWarning: Features [ 18  23  54  57  66  68  82  83 130 131 138 140 142 144 150 155 156 163\n",
      " 193 203 263 273] are constant.\n",
      "  warnings.warn(\"Features %s are constant.\" % constant_features_idx, UserWarning)\n",
      "/dados/juliano/Dropbox/UTFPR/Aulas/AM36O - Aprendizagem de Máquina/venv/lib/python3.10/site-packages/sklearn/feature_selection/_univariate_selection.py:113: RuntimeWarning: invalid value encountered in divide\n",
      "  f = msb / msw\n",
      "/dados/juliano/Dropbox/UTFPR/Aulas/AM36O - Aprendizagem de Máquina/venv/lib/python3.10/site-packages/sklearn/feature_selection/_univariate_selection.py:112: UserWarning: Features [ 18  20  66  68  82 126 130 131 138 140 142 143 144 150 155 156 163 203\n",
      " 253 263 273] are constant.\n",
      "  warnings.warn(\"Features %s are constant.\" % constant_features_idx, UserWarning)\n",
      "/dados/juliano/Dropbox/UTFPR/Aulas/AM36O - Aprendizagem de Máquina/venv/lib/python3.10/site-packages/sklearn/feature_selection/_univariate_selection.py:113: RuntimeWarning: invalid value encountered in divide\n",
      "  f = msb / msw\n",
      "/dados/juliano/Dropbox/UTFPR/Aulas/AM36O - Aprendizagem de Máquina/venv/lib/python3.10/site-packages/sklearn/feature_selection/_univariate_selection.py:112: UserWarning: Features [ 18  57  66  68  82  84  85 130 131 138 140 142 144 150 155 156 163 203\n",
      " 263 273] are constant.\n",
      "  warnings.warn(\"Features %s are constant.\" % constant_features_idx, UserWarning)\n",
      "/dados/juliano/Dropbox/UTFPR/Aulas/AM36O - Aprendizagem de Máquina/venv/lib/python3.10/site-packages/sklearn/feature_selection/_univariate_selection.py:113: RuntimeWarning: invalid value encountered in divide\n",
      "  f = msb / msw\n",
      "/dados/juliano/Dropbox/UTFPR/Aulas/AM36O - Aprendizagem de Máquina/venv/lib/python3.10/site-packages/sklearn/feature_selection/_univariate_selection.py:112: UserWarning: Features [ 18  54  66  68  82 117 130 131 138 140 142 143 144 150 152 155 156 163\n",
      " 193 203 263 273] are constant.\n",
      "  warnings.warn(\"Features %s are constant.\" % constant_features_idx, UserWarning)\n",
      "/dados/juliano/Dropbox/UTFPR/Aulas/AM36O - Aprendizagem de Máquina/venv/lib/python3.10/site-packages/sklearn/feature_selection/_univariate_selection.py:113: RuntimeWarning: invalid value encountered in divide\n",
      "  f = msb / msw\n",
      "/dados/juliano/Dropbox/UTFPR/Aulas/AM36O - Aprendizagem de Máquina/venv/lib/python3.10/site-packages/sklearn/feature_selection/_univariate_selection.py:112: UserWarning: Features [ 18  49  66  68  70  73  82 130 131 138 140 142 144 150 155 156 163 203\n",
      " 263 273] are constant.\n",
      "  warnings.warn(\"Features %s are constant.\" % constant_features_idx, UserWarning)\n",
      "/dados/juliano/Dropbox/UTFPR/Aulas/AM36O - Aprendizagem de Máquina/venv/lib/python3.10/site-packages/sklearn/feature_selection/_univariate_selection.py:113: RuntimeWarning: invalid value encountered in divide\n",
      "  f = msb / msw\n",
      "/dados/juliano/Dropbox/UTFPR/Aulas/AM36O - Aprendizagem de Máquina/venv/lib/python3.10/site-packages/sklearn/feature_selection/_univariate_selection.py:112: UserWarning: Features [ 18  34  44  57  58  66  68  72  82  83 130 131 138 140 142 143 144 150\n",
      " 155 156 163 203 263 273] are constant.\n",
      "  warnings.warn(\"Features %s are constant.\" % constant_features_idx, UserWarning)\n",
      "/dados/juliano/Dropbox/UTFPR/Aulas/AM36O - Aprendizagem de Máquina/venv/lib/python3.10/site-packages/sklearn/feature_selection/_univariate_selection.py:113: RuntimeWarning: invalid value encountered in divide\n",
      "  f = msb / msw\n",
      "/dados/juliano/Dropbox/UTFPR/Aulas/AM36O - Aprendizagem de Máquina/venv/lib/python3.10/site-packages/sklearn/feature_selection/_univariate_selection.py:112: UserWarning: Features [ 18  34  46  66  68  82  85 130 131 138 140 142 143 144 150 155 156 163\n",
      " 203 263 273] are constant.\n",
      "  warnings.warn(\"Features %s are constant.\" % constant_features_idx, UserWarning)\n",
      "/dados/juliano/Dropbox/UTFPR/Aulas/AM36O - Aprendizagem de Máquina/venv/lib/python3.10/site-packages/sklearn/feature_selection/_univariate_selection.py:113: RuntimeWarning: invalid value encountered in divide\n",
      "  f = msb / msw\n",
      "/dados/juliano/Dropbox/UTFPR/Aulas/AM36O - Aprendizagem de Máquina/venv/lib/python3.10/site-packages/sklearn/feature_selection/_univariate_selection.py:112: UserWarning: Features [ 18  49  66  68  73  82 102 114 130 131 138 140 142 143 144 150 155 156\n",
      " 163 203 233 243 263 273] are constant.\n",
      "  warnings.warn(\"Features %s are constant.\" % constant_features_idx, UserWarning)\n",
      "/dados/juliano/Dropbox/UTFPR/Aulas/AM36O - Aprendizagem de Máquina/venv/lib/python3.10/site-packages/sklearn/feature_selection/_univariate_selection.py:113: RuntimeWarning: invalid value encountered in divide\n",
      "  f = msb / msw\n",
      "/dados/juliano/Dropbox/UTFPR/Aulas/AM36O - Aprendizagem de Máquina/venv/lib/python3.10/site-packages/sklearn/feature_selection/_univariate_selection.py:112: UserWarning: Features [ 18  34  58  60  66  68  73  82  83 126 130 131 138 140 142 144 150 153\n",
      " 155 156 163 203 253 263 273] are constant.\n",
      "  warnings.warn(\"Features %s are constant.\" % constant_features_idx, UserWarning)\n",
      "/dados/juliano/Dropbox/UTFPR/Aulas/AM36O - Aprendizagem de Máquina/venv/lib/python3.10/site-packages/sklearn/feature_selection/_univariate_selection.py:113: RuntimeWarning: invalid value encountered in divide\n",
      "  f = msb / msw\n",
      "/dados/juliano/Dropbox/UTFPR/Aulas/AM36O - Aprendizagem de Máquina/venv/lib/python3.10/site-packages/sklearn/feature_selection/_univariate_selection.py:112: UserWarning: Features [ 18  66  68  71  82 117 126 130 131 132 138 140 142 144 150 153 155 156\n",
      " 163 203 253 263 273] are constant.\n",
      "  warnings.warn(\"Features %s are constant.\" % constant_features_idx, UserWarning)\n",
      "/dados/juliano/Dropbox/UTFPR/Aulas/AM36O - Aprendizagem de Máquina/venv/lib/python3.10/site-packages/sklearn/feature_selection/_univariate_selection.py:113: RuntimeWarning: invalid value encountered in divide\n",
      "  f = msb / msw\n"
     ]
    },
    {
     "name": "stdout",
     "output_type": "stream",
     "text": [
      "Executando teste rf_an (60%)\n"
     ]
    },
    {
     "data": {
      "application/vnd.jupyter.widget-view+json": {
       "model_id": "4fda4f9917194200a9d7d7e0aaad1172",
       "version_major": 2,
       "version_minor": 0
      },
      "text/plain": [
       "Folds avaliados:   0%|          | 0/10 [00:00<?, ?it/s]"
      ]
     },
     "metadata": {},
     "output_type": "display_data"
    },
    {
     "name": "stderr",
     "output_type": "stream",
     "text": [
      "/dados/juliano/Dropbox/UTFPR/Aulas/AM36O - Aprendizagem de Máquina/venv/lib/python3.10/site-packages/sklearn/feature_selection/_univariate_selection.py:112: UserWarning: Features [ 18  23  54  57  66  68  82  83 130 131 138 140 142 144 150 155 156 163\n",
      " 193 203 263 273] are constant.\n",
      "  warnings.warn(\"Features %s are constant.\" % constant_features_idx, UserWarning)\n",
      "/dados/juliano/Dropbox/UTFPR/Aulas/AM36O - Aprendizagem de Máquina/venv/lib/python3.10/site-packages/sklearn/feature_selection/_univariate_selection.py:113: RuntimeWarning: invalid value encountered in divide\n",
      "  f = msb / msw\n",
      "/dados/juliano/Dropbox/UTFPR/Aulas/AM36O - Aprendizagem de Máquina/venv/lib/python3.10/site-packages/sklearn/feature_selection/_univariate_selection.py:112: UserWarning: Features [ 18  20  66  68  82 126 130 131 138 140 142 143 144 150 155 156 163 203\n",
      " 253 263 273] are constant.\n",
      "  warnings.warn(\"Features %s are constant.\" % constant_features_idx, UserWarning)\n",
      "/dados/juliano/Dropbox/UTFPR/Aulas/AM36O - Aprendizagem de Máquina/venv/lib/python3.10/site-packages/sklearn/feature_selection/_univariate_selection.py:113: RuntimeWarning: invalid value encountered in divide\n",
      "  f = msb / msw\n",
      "/dados/juliano/Dropbox/UTFPR/Aulas/AM36O - Aprendizagem de Máquina/venv/lib/python3.10/site-packages/sklearn/feature_selection/_univariate_selection.py:112: UserWarning: Features [ 18  57  66  68  82  84  85 130 131 138 140 142 144 150 155 156 163 203\n",
      " 263 273] are constant.\n",
      "  warnings.warn(\"Features %s are constant.\" % constant_features_idx, UserWarning)\n",
      "/dados/juliano/Dropbox/UTFPR/Aulas/AM36O - Aprendizagem de Máquina/venv/lib/python3.10/site-packages/sklearn/feature_selection/_univariate_selection.py:113: RuntimeWarning: invalid value encountered in divide\n",
      "  f = msb / msw\n",
      "/dados/juliano/Dropbox/UTFPR/Aulas/AM36O - Aprendizagem de Máquina/venv/lib/python3.10/site-packages/sklearn/feature_selection/_univariate_selection.py:112: UserWarning: Features [ 18  54  66  68  82 117 130 131 138 140 142 143 144 150 152 155 156 163\n",
      " 193 203 263 273] are constant.\n",
      "  warnings.warn(\"Features %s are constant.\" % constant_features_idx, UserWarning)\n",
      "/dados/juliano/Dropbox/UTFPR/Aulas/AM36O - Aprendizagem de Máquina/venv/lib/python3.10/site-packages/sklearn/feature_selection/_univariate_selection.py:113: RuntimeWarning: invalid value encountered in divide\n",
      "  f = msb / msw\n",
      "/dados/juliano/Dropbox/UTFPR/Aulas/AM36O - Aprendizagem de Máquina/venv/lib/python3.10/site-packages/sklearn/feature_selection/_univariate_selection.py:112: UserWarning: Features [ 18  49  66  68  70  73  82 130 131 138 140 142 144 150 155 156 163 203\n",
      " 263 273] are constant.\n",
      "  warnings.warn(\"Features %s are constant.\" % constant_features_idx, UserWarning)\n",
      "/dados/juliano/Dropbox/UTFPR/Aulas/AM36O - Aprendizagem de Máquina/venv/lib/python3.10/site-packages/sklearn/feature_selection/_univariate_selection.py:113: RuntimeWarning: invalid value encountered in divide\n",
      "  f = msb / msw\n",
      "/dados/juliano/Dropbox/UTFPR/Aulas/AM36O - Aprendizagem de Máquina/venv/lib/python3.10/site-packages/sklearn/feature_selection/_univariate_selection.py:112: UserWarning: Features [ 18  34  44  57  58  66  68  72  82  83 130 131 138 140 142 143 144 150\n",
      " 155 156 163 203 263 273] are constant.\n",
      "  warnings.warn(\"Features %s are constant.\" % constant_features_idx, UserWarning)\n",
      "/dados/juliano/Dropbox/UTFPR/Aulas/AM36O - Aprendizagem de Máquina/venv/lib/python3.10/site-packages/sklearn/feature_selection/_univariate_selection.py:113: RuntimeWarning: invalid value encountered in divide\n",
      "  f = msb / msw\n",
      "/dados/juliano/Dropbox/UTFPR/Aulas/AM36O - Aprendizagem de Máquina/venv/lib/python3.10/site-packages/sklearn/feature_selection/_univariate_selection.py:112: UserWarning: Features [ 18  34  46  66  68  82  85 130 131 138 140 142 143 144 150 155 156 163\n",
      " 203 263 273] are constant.\n",
      "  warnings.warn(\"Features %s are constant.\" % constant_features_idx, UserWarning)\n",
      "/dados/juliano/Dropbox/UTFPR/Aulas/AM36O - Aprendizagem de Máquina/venv/lib/python3.10/site-packages/sklearn/feature_selection/_univariate_selection.py:113: RuntimeWarning: invalid value encountered in divide\n",
      "  f = msb / msw\n",
      "/dados/juliano/Dropbox/UTFPR/Aulas/AM36O - Aprendizagem de Máquina/venv/lib/python3.10/site-packages/sklearn/feature_selection/_univariate_selection.py:112: UserWarning: Features [ 18  49  66  68  73  82 102 114 130 131 138 140 142 143 144 150 155 156\n",
      " 163 203 233 243 263 273] are constant.\n",
      "  warnings.warn(\"Features %s are constant.\" % constant_features_idx, UserWarning)\n",
      "/dados/juliano/Dropbox/UTFPR/Aulas/AM36O - Aprendizagem de Máquina/venv/lib/python3.10/site-packages/sklearn/feature_selection/_univariate_selection.py:113: RuntimeWarning: invalid value encountered in divide\n",
      "  f = msb / msw\n",
      "/dados/juliano/Dropbox/UTFPR/Aulas/AM36O - Aprendizagem de Máquina/venv/lib/python3.10/site-packages/sklearn/feature_selection/_univariate_selection.py:112: UserWarning: Features [ 18  34  58  60  66  68  73  82  83 126 130 131 138 140 142 144 150 153\n",
      " 155 156 163 203 253 263 273] are constant.\n",
      "  warnings.warn(\"Features %s are constant.\" % constant_features_idx, UserWarning)\n",
      "/dados/juliano/Dropbox/UTFPR/Aulas/AM36O - Aprendizagem de Máquina/venv/lib/python3.10/site-packages/sklearn/feature_selection/_univariate_selection.py:113: RuntimeWarning: invalid value encountered in divide\n",
      "  f = msb / msw\n",
      "/dados/juliano/Dropbox/UTFPR/Aulas/AM36O - Aprendizagem de Máquina/venv/lib/python3.10/site-packages/sklearn/feature_selection/_univariate_selection.py:112: UserWarning: Features [ 18  66  68  71  82 117 126 130 131 132 138 140 142 144 150 153 155 156\n",
      " 163 203 253 263 273] are constant.\n",
      "  warnings.warn(\"Features %s are constant.\" % constant_features_idx, UserWarning)\n",
      "/dados/juliano/Dropbox/UTFPR/Aulas/AM36O - Aprendizagem de Máquina/venv/lib/python3.10/site-packages/sklearn/feature_selection/_univariate_selection.py:113: RuntimeWarning: invalid value encountered in divide\n",
      "  f = msb / msw\n"
     ]
    },
    {
     "name": "stdout",
     "output_type": "stream",
     "text": [
      "decil: 70\n",
      "Executando teste svm_an (70%)\n"
     ]
    },
    {
     "data": {
      "application/vnd.jupyter.widget-view+json": {
       "model_id": "8e4e2e1ae892431b928b7de8cfa84755",
       "version_major": 2,
       "version_minor": 0
      },
      "text/plain": [
       "Folds avaliados:   0%|          | 0/10 [00:00<?, ?it/s]"
      ]
     },
     "metadata": {},
     "output_type": "display_data"
    },
    {
     "name": "stderr",
     "output_type": "stream",
     "text": [
      "/dados/juliano/Dropbox/UTFPR/Aulas/AM36O - Aprendizagem de Máquina/venv/lib/python3.10/site-packages/sklearn/feature_selection/_univariate_selection.py:112: UserWarning: Features [ 18  23  54  57  66  68  82  83 130 131 138 140 142 144 150 155 156 163\n",
      " 193 203 263 273] are constant.\n",
      "  warnings.warn(\"Features %s are constant.\" % constant_features_idx, UserWarning)\n",
      "/dados/juliano/Dropbox/UTFPR/Aulas/AM36O - Aprendizagem de Máquina/venv/lib/python3.10/site-packages/sklearn/feature_selection/_univariate_selection.py:113: RuntimeWarning: invalid value encountered in divide\n",
      "  f = msb / msw\n",
      "/dados/juliano/Dropbox/UTFPR/Aulas/AM36O - Aprendizagem de Máquina/venv/lib/python3.10/site-packages/sklearn/feature_selection/_univariate_selection.py:112: UserWarning: Features [ 18  20  66  68  82 126 130 131 138 140 142 143 144 150 155 156 163 203\n",
      " 253 263 273] are constant.\n",
      "  warnings.warn(\"Features %s are constant.\" % constant_features_idx, UserWarning)\n",
      "/dados/juliano/Dropbox/UTFPR/Aulas/AM36O - Aprendizagem de Máquina/venv/lib/python3.10/site-packages/sklearn/feature_selection/_univariate_selection.py:113: RuntimeWarning: invalid value encountered in divide\n",
      "  f = msb / msw\n",
      "/dados/juliano/Dropbox/UTFPR/Aulas/AM36O - Aprendizagem de Máquina/venv/lib/python3.10/site-packages/sklearn/feature_selection/_univariate_selection.py:112: UserWarning: Features [ 18  57  66  68  82  84  85 130 131 138 140 142 144 150 155 156 163 203\n",
      " 263 273] are constant.\n",
      "  warnings.warn(\"Features %s are constant.\" % constant_features_idx, UserWarning)\n",
      "/dados/juliano/Dropbox/UTFPR/Aulas/AM36O - Aprendizagem de Máquina/venv/lib/python3.10/site-packages/sklearn/feature_selection/_univariate_selection.py:113: RuntimeWarning: invalid value encountered in divide\n",
      "  f = msb / msw\n",
      "/dados/juliano/Dropbox/UTFPR/Aulas/AM36O - Aprendizagem de Máquina/venv/lib/python3.10/site-packages/sklearn/feature_selection/_univariate_selection.py:112: UserWarning: Features [ 18  54  66  68  82 117 130 131 138 140 142 143 144 150 152 155 156 163\n",
      " 193 203 263 273] are constant.\n",
      "  warnings.warn(\"Features %s are constant.\" % constant_features_idx, UserWarning)\n",
      "/dados/juliano/Dropbox/UTFPR/Aulas/AM36O - Aprendizagem de Máquina/venv/lib/python3.10/site-packages/sklearn/feature_selection/_univariate_selection.py:113: RuntimeWarning: invalid value encountered in divide\n",
      "  f = msb / msw\n",
      "/dados/juliano/Dropbox/UTFPR/Aulas/AM36O - Aprendizagem de Máquina/venv/lib/python3.10/site-packages/sklearn/feature_selection/_univariate_selection.py:112: UserWarning: Features [ 18  49  66  68  70  73  82 130 131 138 140 142 144 150 155 156 163 203\n",
      " 263 273] are constant.\n",
      "  warnings.warn(\"Features %s are constant.\" % constant_features_idx, UserWarning)\n",
      "/dados/juliano/Dropbox/UTFPR/Aulas/AM36O - Aprendizagem de Máquina/venv/lib/python3.10/site-packages/sklearn/feature_selection/_univariate_selection.py:113: RuntimeWarning: invalid value encountered in divide\n",
      "  f = msb / msw\n",
      "/dados/juliano/Dropbox/UTFPR/Aulas/AM36O - Aprendizagem de Máquina/venv/lib/python3.10/site-packages/sklearn/feature_selection/_univariate_selection.py:112: UserWarning: Features [ 18  34  44  57  58  66  68  72  82  83 130 131 138 140 142 143 144 150\n",
      " 155 156 163 203 263 273] are constant.\n",
      "  warnings.warn(\"Features %s are constant.\" % constant_features_idx, UserWarning)\n",
      "/dados/juliano/Dropbox/UTFPR/Aulas/AM36O - Aprendizagem de Máquina/venv/lib/python3.10/site-packages/sklearn/feature_selection/_univariate_selection.py:113: RuntimeWarning: invalid value encountered in divide\n",
      "  f = msb / msw\n",
      "/dados/juliano/Dropbox/UTFPR/Aulas/AM36O - Aprendizagem de Máquina/venv/lib/python3.10/site-packages/sklearn/feature_selection/_univariate_selection.py:112: UserWarning: Features [ 18  34  46  66  68  82  85 130 131 138 140 142 143 144 150 155 156 163\n",
      " 203 263 273] are constant.\n",
      "  warnings.warn(\"Features %s are constant.\" % constant_features_idx, UserWarning)\n",
      "/dados/juliano/Dropbox/UTFPR/Aulas/AM36O - Aprendizagem de Máquina/venv/lib/python3.10/site-packages/sklearn/feature_selection/_univariate_selection.py:113: RuntimeWarning: invalid value encountered in divide\n",
      "  f = msb / msw\n",
      "/dados/juliano/Dropbox/UTFPR/Aulas/AM36O - Aprendizagem de Máquina/venv/lib/python3.10/site-packages/sklearn/feature_selection/_univariate_selection.py:112: UserWarning: Features [ 18  49  66  68  73  82 102 114 130 131 138 140 142 143 144 150 155 156\n",
      " 163 203 233 243 263 273] are constant.\n",
      "  warnings.warn(\"Features %s are constant.\" % constant_features_idx, UserWarning)\n",
      "/dados/juliano/Dropbox/UTFPR/Aulas/AM36O - Aprendizagem de Máquina/venv/lib/python3.10/site-packages/sklearn/feature_selection/_univariate_selection.py:113: RuntimeWarning: invalid value encountered in divide\n",
      "  f = msb / msw\n",
      "/dados/juliano/Dropbox/UTFPR/Aulas/AM36O - Aprendizagem de Máquina/venv/lib/python3.10/site-packages/sklearn/feature_selection/_univariate_selection.py:112: UserWarning: Features [ 18  34  58  60  66  68  73  82  83 126 130 131 138 140 142 144 150 153\n",
      " 155 156 163 203 253 263 273] are constant.\n",
      "  warnings.warn(\"Features %s are constant.\" % constant_features_idx, UserWarning)\n",
      "/dados/juliano/Dropbox/UTFPR/Aulas/AM36O - Aprendizagem de Máquina/venv/lib/python3.10/site-packages/sklearn/feature_selection/_univariate_selection.py:113: RuntimeWarning: invalid value encountered in divide\n",
      "  f = msb / msw\n",
      "/dados/juliano/Dropbox/UTFPR/Aulas/AM36O - Aprendizagem de Máquina/venv/lib/python3.10/site-packages/sklearn/feature_selection/_univariate_selection.py:112: UserWarning: Features [ 18  66  68  71  82 117 126 130 131 132 138 140 142 144 150 153 155 156\n",
      " 163 203 253 263 273] are constant.\n",
      "  warnings.warn(\"Features %s are constant.\" % constant_features_idx, UserWarning)\n",
      "/dados/juliano/Dropbox/UTFPR/Aulas/AM36O - Aprendizagem de Máquina/venv/lib/python3.10/site-packages/sklearn/feature_selection/_univariate_selection.py:113: RuntimeWarning: invalid value encountered in divide\n",
      "  f = msb / msw\n"
     ]
    },
    {
     "name": "stdout",
     "output_type": "stream",
     "text": [
      "Executando teste knn_an (70%)\n"
     ]
    },
    {
     "data": {
      "application/vnd.jupyter.widget-view+json": {
       "model_id": "11cda389aff14b1aad4f6e1d152fea60",
       "version_major": 2,
       "version_minor": 0
      },
      "text/plain": [
       "Folds avaliados:   0%|          | 0/10 [00:00<?, ?it/s]"
      ]
     },
     "metadata": {},
     "output_type": "display_data"
    },
    {
     "name": "stderr",
     "output_type": "stream",
     "text": [
      "/dados/juliano/Dropbox/UTFPR/Aulas/AM36O - Aprendizagem de Máquina/venv/lib/python3.10/site-packages/sklearn/feature_selection/_univariate_selection.py:112: UserWarning: Features [ 18  23  54  57  66  68  82  83 130 131 138 140 142 144 150 155 156 163\n",
      " 193 203 263 273] are constant.\n",
      "  warnings.warn(\"Features %s are constant.\" % constant_features_idx, UserWarning)\n",
      "/dados/juliano/Dropbox/UTFPR/Aulas/AM36O - Aprendizagem de Máquina/venv/lib/python3.10/site-packages/sklearn/feature_selection/_univariate_selection.py:113: RuntimeWarning: invalid value encountered in divide\n",
      "  f = msb / msw\n",
      "/dados/juliano/Dropbox/UTFPR/Aulas/AM36O - Aprendizagem de Máquina/venv/lib/python3.10/site-packages/sklearn/feature_selection/_univariate_selection.py:112: UserWarning: Features [ 18  20  66  68  82 126 130 131 138 140 142 143 144 150 155 156 163 203\n",
      " 253 263 273] are constant.\n",
      "  warnings.warn(\"Features %s are constant.\" % constant_features_idx, UserWarning)\n",
      "/dados/juliano/Dropbox/UTFPR/Aulas/AM36O - Aprendizagem de Máquina/venv/lib/python3.10/site-packages/sklearn/feature_selection/_univariate_selection.py:113: RuntimeWarning: invalid value encountered in divide\n",
      "  f = msb / msw\n",
      "/dados/juliano/Dropbox/UTFPR/Aulas/AM36O - Aprendizagem de Máquina/venv/lib/python3.10/site-packages/sklearn/feature_selection/_univariate_selection.py:112: UserWarning: Features [ 18  57  66  68  82  84  85 130 131 138 140 142 144 150 155 156 163 203\n",
      " 263 273] are constant.\n",
      "  warnings.warn(\"Features %s are constant.\" % constant_features_idx, UserWarning)\n",
      "/dados/juliano/Dropbox/UTFPR/Aulas/AM36O - Aprendizagem de Máquina/venv/lib/python3.10/site-packages/sklearn/feature_selection/_univariate_selection.py:113: RuntimeWarning: invalid value encountered in divide\n",
      "  f = msb / msw\n",
      "/dados/juliano/Dropbox/UTFPR/Aulas/AM36O - Aprendizagem de Máquina/venv/lib/python3.10/site-packages/sklearn/feature_selection/_univariate_selection.py:112: UserWarning: Features [ 18  54  66  68  82 117 130 131 138 140 142 143 144 150 152 155 156 163\n",
      " 193 203 263 273] are constant.\n",
      "  warnings.warn(\"Features %s are constant.\" % constant_features_idx, UserWarning)\n",
      "/dados/juliano/Dropbox/UTFPR/Aulas/AM36O - Aprendizagem de Máquina/venv/lib/python3.10/site-packages/sklearn/feature_selection/_univariate_selection.py:113: RuntimeWarning: invalid value encountered in divide\n",
      "  f = msb / msw\n",
      "/dados/juliano/Dropbox/UTFPR/Aulas/AM36O - Aprendizagem de Máquina/venv/lib/python3.10/site-packages/sklearn/feature_selection/_univariate_selection.py:112: UserWarning: Features [ 18  49  66  68  70  73  82 130 131 138 140 142 144 150 155 156 163 203\n",
      " 263 273] are constant.\n",
      "  warnings.warn(\"Features %s are constant.\" % constant_features_idx, UserWarning)\n",
      "/dados/juliano/Dropbox/UTFPR/Aulas/AM36O - Aprendizagem de Máquina/venv/lib/python3.10/site-packages/sklearn/feature_selection/_univariate_selection.py:113: RuntimeWarning: invalid value encountered in divide\n",
      "  f = msb / msw\n",
      "/dados/juliano/Dropbox/UTFPR/Aulas/AM36O - Aprendizagem de Máquina/venv/lib/python3.10/site-packages/sklearn/feature_selection/_univariate_selection.py:112: UserWarning: Features [ 18  34  44  57  58  66  68  72  82  83 130 131 138 140 142 143 144 150\n",
      " 155 156 163 203 263 273] are constant.\n",
      "  warnings.warn(\"Features %s are constant.\" % constant_features_idx, UserWarning)\n",
      "/dados/juliano/Dropbox/UTFPR/Aulas/AM36O - Aprendizagem de Máquina/venv/lib/python3.10/site-packages/sklearn/feature_selection/_univariate_selection.py:113: RuntimeWarning: invalid value encountered in divide\n",
      "  f = msb / msw\n",
      "/dados/juliano/Dropbox/UTFPR/Aulas/AM36O - Aprendizagem de Máquina/venv/lib/python3.10/site-packages/sklearn/feature_selection/_univariate_selection.py:112: UserWarning: Features [ 18  34  46  66  68  82  85 130 131 138 140 142 143 144 150 155 156 163\n",
      " 203 263 273] are constant.\n",
      "  warnings.warn(\"Features %s are constant.\" % constant_features_idx, UserWarning)\n",
      "/dados/juliano/Dropbox/UTFPR/Aulas/AM36O - Aprendizagem de Máquina/venv/lib/python3.10/site-packages/sklearn/feature_selection/_univariate_selection.py:113: RuntimeWarning: invalid value encountered in divide\n",
      "  f = msb / msw\n",
      "/dados/juliano/Dropbox/UTFPR/Aulas/AM36O - Aprendizagem de Máquina/venv/lib/python3.10/site-packages/sklearn/feature_selection/_univariate_selection.py:112: UserWarning: Features [ 18  49  66  68  73  82 102 114 130 131 138 140 142 143 144 150 155 156\n",
      " 163 203 233 243 263 273] are constant.\n",
      "  warnings.warn(\"Features %s are constant.\" % constant_features_idx, UserWarning)\n",
      "/dados/juliano/Dropbox/UTFPR/Aulas/AM36O - Aprendizagem de Máquina/venv/lib/python3.10/site-packages/sklearn/feature_selection/_univariate_selection.py:113: RuntimeWarning: invalid value encountered in divide\n",
      "  f = msb / msw\n",
      "/dados/juliano/Dropbox/UTFPR/Aulas/AM36O - Aprendizagem de Máquina/venv/lib/python3.10/site-packages/sklearn/feature_selection/_univariate_selection.py:112: UserWarning: Features [ 18  34  58  60  66  68  73  82  83 126 130 131 138 140 142 144 150 153\n",
      " 155 156 163 203 253 263 273] are constant.\n",
      "  warnings.warn(\"Features %s are constant.\" % constant_features_idx, UserWarning)\n",
      "/dados/juliano/Dropbox/UTFPR/Aulas/AM36O - Aprendizagem de Máquina/venv/lib/python3.10/site-packages/sklearn/feature_selection/_univariate_selection.py:113: RuntimeWarning: invalid value encountered in divide\n",
      "  f = msb / msw\n",
      "/dados/juliano/Dropbox/UTFPR/Aulas/AM36O - Aprendizagem de Máquina/venv/lib/python3.10/site-packages/sklearn/feature_selection/_univariate_selection.py:112: UserWarning: Features [ 18  66  68  71  82 117 126 130 131 132 138 140 142 144 150 153 155 156\n",
      " 163 203 253 263 273] are constant.\n",
      "  warnings.warn(\"Features %s are constant.\" % constant_features_idx, UserWarning)\n",
      "/dados/juliano/Dropbox/UTFPR/Aulas/AM36O - Aprendizagem de Máquina/venv/lib/python3.10/site-packages/sklearn/feature_selection/_univariate_selection.py:113: RuntimeWarning: invalid value encountered in divide\n",
      "  f = msb / msw\n"
     ]
    },
    {
     "name": "stdout",
     "output_type": "stream",
     "text": [
      "Executando teste rf_an (70%)\n"
     ]
    },
    {
     "data": {
      "application/vnd.jupyter.widget-view+json": {
       "model_id": "6b38674043b743ba8e9f248ab042921e",
       "version_major": 2,
       "version_minor": 0
      },
      "text/plain": [
       "Folds avaliados:   0%|          | 0/10 [00:00<?, ?it/s]"
      ]
     },
     "metadata": {},
     "output_type": "display_data"
    },
    {
     "name": "stderr",
     "output_type": "stream",
     "text": [
      "/dados/juliano/Dropbox/UTFPR/Aulas/AM36O - Aprendizagem de Máquina/venv/lib/python3.10/site-packages/sklearn/feature_selection/_univariate_selection.py:112: UserWarning: Features [ 18  23  54  57  66  68  82  83 130 131 138 140 142 144 150 155 156 163\n",
      " 193 203 263 273] are constant.\n",
      "  warnings.warn(\"Features %s are constant.\" % constant_features_idx, UserWarning)\n",
      "/dados/juliano/Dropbox/UTFPR/Aulas/AM36O - Aprendizagem de Máquina/venv/lib/python3.10/site-packages/sklearn/feature_selection/_univariate_selection.py:113: RuntimeWarning: invalid value encountered in divide\n",
      "  f = msb / msw\n",
      "/dados/juliano/Dropbox/UTFPR/Aulas/AM36O - Aprendizagem de Máquina/venv/lib/python3.10/site-packages/sklearn/feature_selection/_univariate_selection.py:112: UserWarning: Features [ 18  20  66  68  82 126 130 131 138 140 142 143 144 150 155 156 163 203\n",
      " 253 263 273] are constant.\n",
      "  warnings.warn(\"Features %s are constant.\" % constant_features_idx, UserWarning)\n",
      "/dados/juliano/Dropbox/UTFPR/Aulas/AM36O - Aprendizagem de Máquina/venv/lib/python3.10/site-packages/sklearn/feature_selection/_univariate_selection.py:113: RuntimeWarning: invalid value encountered in divide\n",
      "  f = msb / msw\n",
      "/dados/juliano/Dropbox/UTFPR/Aulas/AM36O - Aprendizagem de Máquina/venv/lib/python3.10/site-packages/sklearn/feature_selection/_univariate_selection.py:112: UserWarning: Features [ 18  57  66  68  82  84  85 130 131 138 140 142 144 150 155 156 163 203\n",
      " 263 273] are constant.\n",
      "  warnings.warn(\"Features %s are constant.\" % constant_features_idx, UserWarning)\n",
      "/dados/juliano/Dropbox/UTFPR/Aulas/AM36O - Aprendizagem de Máquina/venv/lib/python3.10/site-packages/sklearn/feature_selection/_univariate_selection.py:113: RuntimeWarning: invalid value encountered in divide\n",
      "  f = msb / msw\n",
      "/dados/juliano/Dropbox/UTFPR/Aulas/AM36O - Aprendizagem de Máquina/venv/lib/python3.10/site-packages/sklearn/feature_selection/_univariate_selection.py:112: UserWarning: Features [ 18  54  66  68  82 117 130 131 138 140 142 143 144 150 152 155 156 163\n",
      " 193 203 263 273] are constant.\n",
      "  warnings.warn(\"Features %s are constant.\" % constant_features_idx, UserWarning)\n",
      "/dados/juliano/Dropbox/UTFPR/Aulas/AM36O - Aprendizagem de Máquina/venv/lib/python3.10/site-packages/sklearn/feature_selection/_univariate_selection.py:113: RuntimeWarning: invalid value encountered in divide\n",
      "  f = msb / msw\n",
      "/dados/juliano/Dropbox/UTFPR/Aulas/AM36O - Aprendizagem de Máquina/venv/lib/python3.10/site-packages/sklearn/feature_selection/_univariate_selection.py:112: UserWarning: Features [ 18  49  66  68  70  73  82 130 131 138 140 142 144 150 155 156 163 203\n",
      " 263 273] are constant.\n",
      "  warnings.warn(\"Features %s are constant.\" % constant_features_idx, UserWarning)\n",
      "/dados/juliano/Dropbox/UTFPR/Aulas/AM36O - Aprendizagem de Máquina/venv/lib/python3.10/site-packages/sklearn/feature_selection/_univariate_selection.py:113: RuntimeWarning: invalid value encountered in divide\n",
      "  f = msb / msw\n",
      "/dados/juliano/Dropbox/UTFPR/Aulas/AM36O - Aprendizagem de Máquina/venv/lib/python3.10/site-packages/sklearn/feature_selection/_univariate_selection.py:112: UserWarning: Features [ 18  34  44  57  58  66  68  72  82  83 130 131 138 140 142 143 144 150\n",
      " 155 156 163 203 263 273] are constant.\n",
      "  warnings.warn(\"Features %s are constant.\" % constant_features_idx, UserWarning)\n",
      "/dados/juliano/Dropbox/UTFPR/Aulas/AM36O - Aprendizagem de Máquina/venv/lib/python3.10/site-packages/sklearn/feature_selection/_univariate_selection.py:113: RuntimeWarning: invalid value encountered in divide\n",
      "  f = msb / msw\n",
      "/dados/juliano/Dropbox/UTFPR/Aulas/AM36O - Aprendizagem de Máquina/venv/lib/python3.10/site-packages/sklearn/feature_selection/_univariate_selection.py:112: UserWarning: Features [ 18  34  46  66  68  82  85 130 131 138 140 142 143 144 150 155 156 163\n",
      " 203 263 273] are constant.\n",
      "  warnings.warn(\"Features %s are constant.\" % constant_features_idx, UserWarning)\n",
      "/dados/juliano/Dropbox/UTFPR/Aulas/AM36O - Aprendizagem de Máquina/venv/lib/python3.10/site-packages/sklearn/feature_selection/_univariate_selection.py:113: RuntimeWarning: invalid value encountered in divide\n",
      "  f = msb / msw\n",
      "/dados/juliano/Dropbox/UTFPR/Aulas/AM36O - Aprendizagem de Máquina/venv/lib/python3.10/site-packages/sklearn/feature_selection/_univariate_selection.py:112: UserWarning: Features [ 18  49  66  68  73  82 102 114 130 131 138 140 142 143 144 150 155 156\n",
      " 163 203 233 243 263 273] are constant.\n",
      "  warnings.warn(\"Features %s are constant.\" % constant_features_idx, UserWarning)\n",
      "/dados/juliano/Dropbox/UTFPR/Aulas/AM36O - Aprendizagem de Máquina/venv/lib/python3.10/site-packages/sklearn/feature_selection/_univariate_selection.py:113: RuntimeWarning: invalid value encountered in divide\n",
      "  f = msb / msw\n",
      "/dados/juliano/Dropbox/UTFPR/Aulas/AM36O - Aprendizagem de Máquina/venv/lib/python3.10/site-packages/sklearn/feature_selection/_univariate_selection.py:112: UserWarning: Features [ 18  34  58  60  66  68  73  82  83 126 130 131 138 140 142 144 150 153\n",
      " 155 156 163 203 253 263 273] are constant.\n",
      "  warnings.warn(\"Features %s are constant.\" % constant_features_idx, UserWarning)\n",
      "/dados/juliano/Dropbox/UTFPR/Aulas/AM36O - Aprendizagem de Máquina/venv/lib/python3.10/site-packages/sklearn/feature_selection/_univariate_selection.py:113: RuntimeWarning: invalid value encountered in divide\n",
      "  f = msb / msw\n",
      "/dados/juliano/Dropbox/UTFPR/Aulas/AM36O - Aprendizagem de Máquina/venv/lib/python3.10/site-packages/sklearn/feature_selection/_univariate_selection.py:112: UserWarning: Features [ 18  66  68  71  82 117 126 130 131 132 138 140 142 144 150 153 155 156\n",
      " 163 203 253 263 273] are constant.\n",
      "  warnings.warn(\"Features %s are constant.\" % constant_features_idx, UserWarning)\n",
      "/dados/juliano/Dropbox/UTFPR/Aulas/AM36O - Aprendizagem de Máquina/venv/lib/python3.10/site-packages/sklearn/feature_selection/_univariate_selection.py:113: RuntimeWarning: invalid value encountered in divide\n",
      "  f = msb / msw\n"
     ]
    },
    {
     "name": "stdout",
     "output_type": "stream",
     "text": [
      "decil: 80\n",
      "Executando teste svm_an (80%)\n"
     ]
    },
    {
     "data": {
      "application/vnd.jupyter.widget-view+json": {
       "model_id": "dbdc3d83d4224aa99322f17d479d82e9",
       "version_major": 2,
       "version_minor": 0
      },
      "text/plain": [
       "Folds avaliados:   0%|          | 0/10 [00:00<?, ?it/s]"
      ]
     },
     "metadata": {},
     "output_type": "display_data"
    },
    {
     "name": "stderr",
     "output_type": "stream",
     "text": [
      "/dados/juliano/Dropbox/UTFPR/Aulas/AM36O - Aprendizagem de Máquina/venv/lib/python3.10/site-packages/sklearn/feature_selection/_univariate_selection.py:112: UserWarning: Features [ 18  23  54  57  66  68  82  83 130 131 138 140 142 144 150 155 156 163\n",
      " 193 203 263 273] are constant.\n",
      "  warnings.warn(\"Features %s are constant.\" % constant_features_idx, UserWarning)\n",
      "/dados/juliano/Dropbox/UTFPR/Aulas/AM36O - Aprendizagem de Máquina/venv/lib/python3.10/site-packages/sklearn/feature_selection/_univariate_selection.py:113: RuntimeWarning: invalid value encountered in divide\n",
      "  f = msb / msw\n",
      "/dados/juliano/Dropbox/UTFPR/Aulas/AM36O - Aprendizagem de Máquina/venv/lib/python3.10/site-packages/sklearn/feature_selection/_univariate_selection.py:112: UserWarning: Features [ 18  20  66  68  82 126 130 131 138 140 142 143 144 150 155 156 163 203\n",
      " 253 263 273] are constant.\n",
      "  warnings.warn(\"Features %s are constant.\" % constant_features_idx, UserWarning)\n",
      "/dados/juliano/Dropbox/UTFPR/Aulas/AM36O - Aprendizagem de Máquina/venv/lib/python3.10/site-packages/sklearn/feature_selection/_univariate_selection.py:113: RuntimeWarning: invalid value encountered in divide\n",
      "  f = msb / msw\n",
      "/dados/juliano/Dropbox/UTFPR/Aulas/AM36O - Aprendizagem de Máquina/venv/lib/python3.10/site-packages/sklearn/feature_selection/_univariate_selection.py:112: UserWarning: Features [ 18  57  66  68  82  84  85 130 131 138 140 142 144 150 155 156 163 203\n",
      " 263 273] are constant.\n",
      "  warnings.warn(\"Features %s are constant.\" % constant_features_idx, UserWarning)\n",
      "/dados/juliano/Dropbox/UTFPR/Aulas/AM36O - Aprendizagem de Máquina/venv/lib/python3.10/site-packages/sklearn/feature_selection/_univariate_selection.py:113: RuntimeWarning: invalid value encountered in divide\n",
      "  f = msb / msw\n",
      "/dados/juliano/Dropbox/UTFPR/Aulas/AM36O - Aprendizagem de Máquina/venv/lib/python3.10/site-packages/sklearn/feature_selection/_univariate_selection.py:112: UserWarning: Features [ 18  54  66  68  82 117 130 131 138 140 142 143 144 150 152 155 156 163\n",
      " 193 203 263 273] are constant.\n",
      "  warnings.warn(\"Features %s are constant.\" % constant_features_idx, UserWarning)\n",
      "/dados/juliano/Dropbox/UTFPR/Aulas/AM36O - Aprendizagem de Máquina/venv/lib/python3.10/site-packages/sklearn/feature_selection/_univariate_selection.py:113: RuntimeWarning: invalid value encountered in divide\n",
      "  f = msb / msw\n",
      "/dados/juliano/Dropbox/UTFPR/Aulas/AM36O - Aprendizagem de Máquina/venv/lib/python3.10/site-packages/sklearn/feature_selection/_univariate_selection.py:112: UserWarning: Features [ 18  49  66  68  70  73  82 130 131 138 140 142 144 150 155 156 163 203\n",
      " 263 273] are constant.\n",
      "  warnings.warn(\"Features %s are constant.\" % constant_features_idx, UserWarning)\n",
      "/dados/juliano/Dropbox/UTFPR/Aulas/AM36O - Aprendizagem de Máquina/venv/lib/python3.10/site-packages/sklearn/feature_selection/_univariate_selection.py:113: RuntimeWarning: invalid value encountered in divide\n",
      "  f = msb / msw\n",
      "/dados/juliano/Dropbox/UTFPR/Aulas/AM36O - Aprendizagem de Máquina/venv/lib/python3.10/site-packages/sklearn/feature_selection/_univariate_selection.py:112: UserWarning: Features [ 18  34  44  57  58  66  68  72  82  83 130 131 138 140 142 143 144 150\n",
      " 155 156 163 203 263 273] are constant.\n",
      "  warnings.warn(\"Features %s are constant.\" % constant_features_idx, UserWarning)\n",
      "/dados/juliano/Dropbox/UTFPR/Aulas/AM36O - Aprendizagem de Máquina/venv/lib/python3.10/site-packages/sklearn/feature_selection/_univariate_selection.py:113: RuntimeWarning: invalid value encountered in divide\n",
      "  f = msb / msw\n",
      "/dados/juliano/Dropbox/UTFPR/Aulas/AM36O - Aprendizagem de Máquina/venv/lib/python3.10/site-packages/sklearn/feature_selection/_univariate_selection.py:112: UserWarning: Features [ 18  34  46  66  68  82  85 130 131 138 140 142 143 144 150 155 156 163\n",
      " 203 263 273] are constant.\n",
      "  warnings.warn(\"Features %s are constant.\" % constant_features_idx, UserWarning)\n",
      "/dados/juliano/Dropbox/UTFPR/Aulas/AM36O - Aprendizagem de Máquina/venv/lib/python3.10/site-packages/sklearn/feature_selection/_univariate_selection.py:113: RuntimeWarning: invalid value encountered in divide\n",
      "  f = msb / msw\n",
      "/dados/juliano/Dropbox/UTFPR/Aulas/AM36O - Aprendizagem de Máquina/venv/lib/python3.10/site-packages/sklearn/feature_selection/_univariate_selection.py:112: UserWarning: Features [ 18  49  66  68  73  82 102 114 130 131 138 140 142 143 144 150 155 156\n",
      " 163 203 233 243 263 273] are constant.\n",
      "  warnings.warn(\"Features %s are constant.\" % constant_features_idx, UserWarning)\n",
      "/dados/juliano/Dropbox/UTFPR/Aulas/AM36O - Aprendizagem de Máquina/venv/lib/python3.10/site-packages/sklearn/feature_selection/_univariate_selection.py:113: RuntimeWarning: invalid value encountered in divide\n",
      "  f = msb / msw\n",
      "/dados/juliano/Dropbox/UTFPR/Aulas/AM36O - Aprendizagem de Máquina/venv/lib/python3.10/site-packages/sklearn/feature_selection/_univariate_selection.py:112: UserWarning: Features [ 18  34  58  60  66  68  73  82  83 126 130 131 138 140 142 144 150 153\n",
      " 155 156 163 203 253 263 273] are constant.\n",
      "  warnings.warn(\"Features %s are constant.\" % constant_features_idx, UserWarning)\n",
      "/dados/juliano/Dropbox/UTFPR/Aulas/AM36O - Aprendizagem de Máquina/venv/lib/python3.10/site-packages/sklearn/feature_selection/_univariate_selection.py:113: RuntimeWarning: invalid value encountered in divide\n",
      "  f = msb / msw\n",
      "/dados/juliano/Dropbox/UTFPR/Aulas/AM36O - Aprendizagem de Máquina/venv/lib/python3.10/site-packages/sklearn/feature_selection/_univariate_selection.py:112: UserWarning: Features [ 18  66  68  71  82 117 126 130 131 132 138 140 142 144 150 153 155 156\n",
      " 163 203 253 263 273] are constant.\n",
      "  warnings.warn(\"Features %s are constant.\" % constant_features_idx, UserWarning)\n",
      "/dados/juliano/Dropbox/UTFPR/Aulas/AM36O - Aprendizagem de Máquina/venv/lib/python3.10/site-packages/sklearn/feature_selection/_univariate_selection.py:113: RuntimeWarning: invalid value encountered in divide\n",
      "  f = msb / msw\n"
     ]
    },
    {
     "name": "stdout",
     "output_type": "stream",
     "text": [
      "Executando teste knn_an (80%)\n"
     ]
    },
    {
     "data": {
      "application/vnd.jupyter.widget-view+json": {
       "model_id": "d9b32564a5af4a22969dbac4b6d18cd6",
       "version_major": 2,
       "version_minor": 0
      },
      "text/plain": [
       "Folds avaliados:   0%|          | 0/10 [00:00<?, ?it/s]"
      ]
     },
     "metadata": {},
     "output_type": "display_data"
    },
    {
     "name": "stderr",
     "output_type": "stream",
     "text": [
      "/dados/juliano/Dropbox/UTFPR/Aulas/AM36O - Aprendizagem de Máquina/venv/lib/python3.10/site-packages/sklearn/feature_selection/_univariate_selection.py:112: UserWarning: Features [ 18  23  54  57  66  68  82  83 130 131 138 140 142 144 150 155 156 163\n",
      " 193 203 263 273] are constant.\n",
      "  warnings.warn(\"Features %s are constant.\" % constant_features_idx, UserWarning)\n",
      "/dados/juliano/Dropbox/UTFPR/Aulas/AM36O - Aprendizagem de Máquina/venv/lib/python3.10/site-packages/sklearn/feature_selection/_univariate_selection.py:113: RuntimeWarning: invalid value encountered in divide\n",
      "  f = msb / msw\n",
      "/dados/juliano/Dropbox/UTFPR/Aulas/AM36O - Aprendizagem de Máquina/venv/lib/python3.10/site-packages/sklearn/feature_selection/_univariate_selection.py:112: UserWarning: Features [ 18  20  66  68  82 126 130 131 138 140 142 143 144 150 155 156 163 203\n",
      " 253 263 273] are constant.\n",
      "  warnings.warn(\"Features %s are constant.\" % constant_features_idx, UserWarning)\n",
      "/dados/juliano/Dropbox/UTFPR/Aulas/AM36O - Aprendizagem de Máquina/venv/lib/python3.10/site-packages/sklearn/feature_selection/_univariate_selection.py:113: RuntimeWarning: invalid value encountered in divide\n",
      "  f = msb / msw\n",
      "/dados/juliano/Dropbox/UTFPR/Aulas/AM36O - Aprendizagem de Máquina/venv/lib/python3.10/site-packages/sklearn/feature_selection/_univariate_selection.py:112: UserWarning: Features [ 18  57  66  68  82  84  85 130 131 138 140 142 144 150 155 156 163 203\n",
      " 263 273] are constant.\n",
      "  warnings.warn(\"Features %s are constant.\" % constant_features_idx, UserWarning)\n",
      "/dados/juliano/Dropbox/UTFPR/Aulas/AM36O - Aprendizagem de Máquina/venv/lib/python3.10/site-packages/sklearn/feature_selection/_univariate_selection.py:113: RuntimeWarning: invalid value encountered in divide\n",
      "  f = msb / msw\n",
      "/dados/juliano/Dropbox/UTFPR/Aulas/AM36O - Aprendizagem de Máquina/venv/lib/python3.10/site-packages/sklearn/feature_selection/_univariate_selection.py:112: UserWarning: Features [ 18  54  66  68  82 117 130 131 138 140 142 143 144 150 152 155 156 163\n",
      " 193 203 263 273] are constant.\n",
      "  warnings.warn(\"Features %s are constant.\" % constant_features_idx, UserWarning)\n",
      "/dados/juliano/Dropbox/UTFPR/Aulas/AM36O - Aprendizagem de Máquina/venv/lib/python3.10/site-packages/sklearn/feature_selection/_univariate_selection.py:113: RuntimeWarning: invalid value encountered in divide\n",
      "  f = msb / msw\n",
      "/dados/juliano/Dropbox/UTFPR/Aulas/AM36O - Aprendizagem de Máquina/venv/lib/python3.10/site-packages/sklearn/feature_selection/_univariate_selection.py:112: UserWarning: Features [ 18  49  66  68  70  73  82 130 131 138 140 142 144 150 155 156 163 203\n",
      " 263 273] are constant.\n",
      "  warnings.warn(\"Features %s are constant.\" % constant_features_idx, UserWarning)\n",
      "/dados/juliano/Dropbox/UTFPR/Aulas/AM36O - Aprendizagem de Máquina/venv/lib/python3.10/site-packages/sklearn/feature_selection/_univariate_selection.py:113: RuntimeWarning: invalid value encountered in divide\n",
      "  f = msb / msw\n",
      "/dados/juliano/Dropbox/UTFPR/Aulas/AM36O - Aprendizagem de Máquina/venv/lib/python3.10/site-packages/sklearn/feature_selection/_univariate_selection.py:112: UserWarning: Features [ 18  34  44  57  58  66  68  72  82  83 130 131 138 140 142 143 144 150\n",
      " 155 156 163 203 263 273] are constant.\n",
      "  warnings.warn(\"Features %s are constant.\" % constant_features_idx, UserWarning)\n",
      "/dados/juliano/Dropbox/UTFPR/Aulas/AM36O - Aprendizagem de Máquina/venv/lib/python3.10/site-packages/sklearn/feature_selection/_univariate_selection.py:113: RuntimeWarning: invalid value encountered in divide\n",
      "  f = msb / msw\n",
      "/dados/juliano/Dropbox/UTFPR/Aulas/AM36O - Aprendizagem de Máquina/venv/lib/python3.10/site-packages/sklearn/feature_selection/_univariate_selection.py:112: UserWarning: Features [ 18  34  46  66  68  82  85 130 131 138 140 142 143 144 150 155 156 163\n",
      " 203 263 273] are constant.\n",
      "  warnings.warn(\"Features %s are constant.\" % constant_features_idx, UserWarning)\n",
      "/dados/juliano/Dropbox/UTFPR/Aulas/AM36O - Aprendizagem de Máquina/venv/lib/python3.10/site-packages/sklearn/feature_selection/_univariate_selection.py:113: RuntimeWarning: invalid value encountered in divide\n",
      "  f = msb / msw\n",
      "/dados/juliano/Dropbox/UTFPR/Aulas/AM36O - Aprendizagem de Máquina/venv/lib/python3.10/site-packages/sklearn/feature_selection/_univariate_selection.py:112: UserWarning: Features [ 18  49  66  68  73  82 102 114 130 131 138 140 142 143 144 150 155 156\n",
      " 163 203 233 243 263 273] are constant.\n",
      "  warnings.warn(\"Features %s are constant.\" % constant_features_idx, UserWarning)\n",
      "/dados/juliano/Dropbox/UTFPR/Aulas/AM36O - Aprendizagem de Máquina/venv/lib/python3.10/site-packages/sklearn/feature_selection/_univariate_selection.py:113: RuntimeWarning: invalid value encountered in divide\n",
      "  f = msb / msw\n",
      "/dados/juliano/Dropbox/UTFPR/Aulas/AM36O - Aprendizagem de Máquina/venv/lib/python3.10/site-packages/sklearn/feature_selection/_univariate_selection.py:112: UserWarning: Features [ 18  34  58  60  66  68  73  82  83 126 130 131 138 140 142 144 150 153\n",
      " 155 156 163 203 253 263 273] are constant.\n",
      "  warnings.warn(\"Features %s are constant.\" % constant_features_idx, UserWarning)\n",
      "/dados/juliano/Dropbox/UTFPR/Aulas/AM36O - Aprendizagem de Máquina/venv/lib/python3.10/site-packages/sklearn/feature_selection/_univariate_selection.py:113: RuntimeWarning: invalid value encountered in divide\n",
      "  f = msb / msw\n",
      "/dados/juliano/Dropbox/UTFPR/Aulas/AM36O - Aprendizagem de Máquina/venv/lib/python3.10/site-packages/sklearn/feature_selection/_univariate_selection.py:112: UserWarning: Features [ 18  66  68  71  82 117 126 130 131 132 138 140 142 144 150 153 155 156\n",
      " 163 203 253 263 273] are constant.\n",
      "  warnings.warn(\"Features %s are constant.\" % constant_features_idx, UserWarning)\n",
      "/dados/juliano/Dropbox/UTFPR/Aulas/AM36O - Aprendizagem de Máquina/venv/lib/python3.10/site-packages/sklearn/feature_selection/_univariate_selection.py:113: RuntimeWarning: invalid value encountered in divide\n",
      "  f = msb / msw\n"
     ]
    },
    {
     "name": "stdout",
     "output_type": "stream",
     "text": [
      "Executando teste rf_an (80%)\n"
     ]
    },
    {
     "data": {
      "application/vnd.jupyter.widget-view+json": {
       "model_id": "106837dc589d49a2b3b1df590e165c9b",
       "version_major": 2,
       "version_minor": 0
      },
      "text/plain": [
       "Folds avaliados:   0%|          | 0/10 [00:00<?, ?it/s]"
      ]
     },
     "metadata": {},
     "output_type": "display_data"
    },
    {
     "name": "stderr",
     "output_type": "stream",
     "text": [
      "/dados/juliano/Dropbox/UTFPR/Aulas/AM36O - Aprendizagem de Máquina/venv/lib/python3.10/site-packages/sklearn/feature_selection/_univariate_selection.py:112: UserWarning: Features [ 18  23  54  57  66  68  82  83 130 131 138 140 142 144 150 155 156 163\n",
      " 193 203 263 273] are constant.\n",
      "  warnings.warn(\"Features %s are constant.\" % constant_features_idx, UserWarning)\n",
      "/dados/juliano/Dropbox/UTFPR/Aulas/AM36O - Aprendizagem de Máquina/venv/lib/python3.10/site-packages/sklearn/feature_selection/_univariate_selection.py:113: RuntimeWarning: invalid value encountered in divide\n",
      "  f = msb / msw\n",
      "/dados/juliano/Dropbox/UTFPR/Aulas/AM36O - Aprendizagem de Máquina/venv/lib/python3.10/site-packages/sklearn/feature_selection/_univariate_selection.py:112: UserWarning: Features [ 18  20  66  68  82 126 130 131 138 140 142 143 144 150 155 156 163 203\n",
      " 253 263 273] are constant.\n",
      "  warnings.warn(\"Features %s are constant.\" % constant_features_idx, UserWarning)\n",
      "/dados/juliano/Dropbox/UTFPR/Aulas/AM36O - Aprendizagem de Máquina/venv/lib/python3.10/site-packages/sklearn/feature_selection/_univariate_selection.py:113: RuntimeWarning: invalid value encountered in divide\n",
      "  f = msb / msw\n",
      "/dados/juliano/Dropbox/UTFPR/Aulas/AM36O - Aprendizagem de Máquina/venv/lib/python3.10/site-packages/sklearn/feature_selection/_univariate_selection.py:112: UserWarning: Features [ 18  57  66  68  82  84  85 130 131 138 140 142 144 150 155 156 163 203\n",
      " 263 273] are constant.\n",
      "  warnings.warn(\"Features %s are constant.\" % constant_features_idx, UserWarning)\n",
      "/dados/juliano/Dropbox/UTFPR/Aulas/AM36O - Aprendizagem de Máquina/venv/lib/python3.10/site-packages/sklearn/feature_selection/_univariate_selection.py:113: RuntimeWarning: invalid value encountered in divide\n",
      "  f = msb / msw\n",
      "/dados/juliano/Dropbox/UTFPR/Aulas/AM36O - Aprendizagem de Máquina/venv/lib/python3.10/site-packages/sklearn/feature_selection/_univariate_selection.py:112: UserWarning: Features [ 18  54  66  68  82 117 130 131 138 140 142 143 144 150 152 155 156 163\n",
      " 193 203 263 273] are constant.\n",
      "  warnings.warn(\"Features %s are constant.\" % constant_features_idx, UserWarning)\n",
      "/dados/juliano/Dropbox/UTFPR/Aulas/AM36O - Aprendizagem de Máquina/venv/lib/python3.10/site-packages/sklearn/feature_selection/_univariate_selection.py:113: RuntimeWarning: invalid value encountered in divide\n",
      "  f = msb / msw\n",
      "/dados/juliano/Dropbox/UTFPR/Aulas/AM36O - Aprendizagem de Máquina/venv/lib/python3.10/site-packages/sklearn/feature_selection/_univariate_selection.py:112: UserWarning: Features [ 18  49  66  68  70  73  82 130 131 138 140 142 144 150 155 156 163 203\n",
      " 263 273] are constant.\n",
      "  warnings.warn(\"Features %s are constant.\" % constant_features_idx, UserWarning)\n",
      "/dados/juliano/Dropbox/UTFPR/Aulas/AM36O - Aprendizagem de Máquina/venv/lib/python3.10/site-packages/sklearn/feature_selection/_univariate_selection.py:113: RuntimeWarning: invalid value encountered in divide\n",
      "  f = msb / msw\n",
      "/dados/juliano/Dropbox/UTFPR/Aulas/AM36O - Aprendizagem de Máquina/venv/lib/python3.10/site-packages/sklearn/feature_selection/_univariate_selection.py:112: UserWarning: Features [ 18  34  44  57  58  66  68  72  82  83 130 131 138 140 142 143 144 150\n",
      " 155 156 163 203 263 273] are constant.\n",
      "  warnings.warn(\"Features %s are constant.\" % constant_features_idx, UserWarning)\n",
      "/dados/juliano/Dropbox/UTFPR/Aulas/AM36O - Aprendizagem de Máquina/venv/lib/python3.10/site-packages/sklearn/feature_selection/_univariate_selection.py:113: RuntimeWarning: invalid value encountered in divide\n",
      "  f = msb / msw\n",
      "/dados/juliano/Dropbox/UTFPR/Aulas/AM36O - Aprendizagem de Máquina/venv/lib/python3.10/site-packages/sklearn/feature_selection/_univariate_selection.py:112: UserWarning: Features [ 18  34  46  66  68  82  85 130 131 138 140 142 143 144 150 155 156 163\n",
      " 203 263 273] are constant.\n",
      "  warnings.warn(\"Features %s are constant.\" % constant_features_idx, UserWarning)\n",
      "/dados/juliano/Dropbox/UTFPR/Aulas/AM36O - Aprendizagem de Máquina/venv/lib/python3.10/site-packages/sklearn/feature_selection/_univariate_selection.py:113: RuntimeWarning: invalid value encountered in divide\n",
      "  f = msb / msw\n",
      "/dados/juliano/Dropbox/UTFPR/Aulas/AM36O - Aprendizagem de Máquina/venv/lib/python3.10/site-packages/sklearn/feature_selection/_univariate_selection.py:112: UserWarning: Features [ 18  49  66  68  73  82 102 114 130 131 138 140 142 143 144 150 155 156\n",
      " 163 203 233 243 263 273] are constant.\n",
      "  warnings.warn(\"Features %s are constant.\" % constant_features_idx, UserWarning)\n",
      "/dados/juliano/Dropbox/UTFPR/Aulas/AM36O - Aprendizagem de Máquina/venv/lib/python3.10/site-packages/sklearn/feature_selection/_univariate_selection.py:113: RuntimeWarning: invalid value encountered in divide\n",
      "  f = msb / msw\n",
      "/dados/juliano/Dropbox/UTFPR/Aulas/AM36O - Aprendizagem de Máquina/venv/lib/python3.10/site-packages/sklearn/feature_selection/_univariate_selection.py:112: UserWarning: Features [ 18  34  58  60  66  68  73  82  83 126 130 131 138 140 142 144 150 153\n",
      " 155 156 163 203 253 263 273] are constant.\n",
      "  warnings.warn(\"Features %s are constant.\" % constant_features_idx, UserWarning)\n",
      "/dados/juliano/Dropbox/UTFPR/Aulas/AM36O - Aprendizagem de Máquina/venv/lib/python3.10/site-packages/sklearn/feature_selection/_univariate_selection.py:113: RuntimeWarning: invalid value encountered in divide\n",
      "  f = msb / msw\n",
      "/dados/juliano/Dropbox/UTFPR/Aulas/AM36O - Aprendizagem de Máquina/venv/lib/python3.10/site-packages/sklearn/feature_selection/_univariate_selection.py:112: UserWarning: Features [ 18  66  68  71  82 117 126 130 131 132 138 140 142 144 150 153 155 156\n",
      " 163 203 253 263 273] are constant.\n",
      "  warnings.warn(\"Features %s are constant.\" % constant_features_idx, UserWarning)\n",
      "/dados/juliano/Dropbox/UTFPR/Aulas/AM36O - Aprendizagem de Máquina/venv/lib/python3.10/site-packages/sklearn/feature_selection/_univariate_selection.py:113: RuntimeWarning: invalid value encountered in divide\n",
      "  f = msb / msw\n"
     ]
    },
    {
     "name": "stdout",
     "output_type": "stream",
     "text": [
      "decil: 90\n",
      "Executando teste svm_an (90%)\n"
     ]
    },
    {
     "data": {
      "application/vnd.jupyter.widget-view+json": {
       "model_id": "05be9d25e59845fcb7341e99c23a2d88",
       "version_major": 2,
       "version_minor": 0
      },
      "text/plain": [
       "Folds avaliados:   0%|          | 0/10 [00:00<?, ?it/s]"
      ]
     },
     "metadata": {},
     "output_type": "display_data"
    },
    {
     "name": "stderr",
     "output_type": "stream",
     "text": [
      "/dados/juliano/Dropbox/UTFPR/Aulas/AM36O - Aprendizagem de Máquina/venv/lib/python3.10/site-packages/sklearn/feature_selection/_univariate_selection.py:112: UserWarning: Features [ 18  23  54  57  66  68  82  83 130 131 138 140 142 144 150 155 156 163\n",
      " 193 203 263 273] are constant.\n",
      "  warnings.warn(\"Features %s are constant.\" % constant_features_idx, UserWarning)\n",
      "/dados/juliano/Dropbox/UTFPR/Aulas/AM36O - Aprendizagem de Máquina/venv/lib/python3.10/site-packages/sklearn/feature_selection/_univariate_selection.py:113: RuntimeWarning: invalid value encountered in divide\n",
      "  f = msb / msw\n",
      "/dados/juliano/Dropbox/UTFPR/Aulas/AM36O - Aprendizagem de Máquina/venv/lib/python3.10/site-packages/sklearn/feature_selection/_univariate_selection.py:112: UserWarning: Features [ 18  20  66  68  82 126 130 131 138 140 142 143 144 150 155 156 163 203\n",
      " 253 263 273] are constant.\n",
      "  warnings.warn(\"Features %s are constant.\" % constant_features_idx, UserWarning)\n",
      "/dados/juliano/Dropbox/UTFPR/Aulas/AM36O - Aprendizagem de Máquina/venv/lib/python3.10/site-packages/sklearn/feature_selection/_univariate_selection.py:113: RuntimeWarning: invalid value encountered in divide\n",
      "  f = msb / msw\n",
      "/dados/juliano/Dropbox/UTFPR/Aulas/AM36O - Aprendizagem de Máquina/venv/lib/python3.10/site-packages/sklearn/feature_selection/_univariate_selection.py:112: UserWarning: Features [ 18  57  66  68  82  84  85 130 131 138 140 142 144 150 155 156 163 203\n",
      " 263 273] are constant.\n",
      "  warnings.warn(\"Features %s are constant.\" % constant_features_idx, UserWarning)\n",
      "/dados/juliano/Dropbox/UTFPR/Aulas/AM36O - Aprendizagem de Máquina/venv/lib/python3.10/site-packages/sklearn/feature_selection/_univariate_selection.py:113: RuntimeWarning: invalid value encountered in divide\n",
      "  f = msb / msw\n",
      "/dados/juliano/Dropbox/UTFPR/Aulas/AM36O - Aprendizagem de Máquina/venv/lib/python3.10/site-packages/sklearn/feature_selection/_univariate_selection.py:112: UserWarning: Features [ 18  54  66  68  82 117 130 131 138 140 142 143 144 150 152 155 156 163\n",
      " 193 203 263 273] are constant.\n",
      "  warnings.warn(\"Features %s are constant.\" % constant_features_idx, UserWarning)\n",
      "/dados/juliano/Dropbox/UTFPR/Aulas/AM36O - Aprendizagem de Máquina/venv/lib/python3.10/site-packages/sklearn/feature_selection/_univariate_selection.py:113: RuntimeWarning: invalid value encountered in divide\n",
      "  f = msb / msw\n",
      "/dados/juliano/Dropbox/UTFPR/Aulas/AM36O - Aprendizagem de Máquina/venv/lib/python3.10/site-packages/sklearn/feature_selection/_univariate_selection.py:112: UserWarning: Features [ 18  49  66  68  70  73  82 130 131 138 140 142 144 150 155 156 163 203\n",
      " 263 273] are constant.\n",
      "  warnings.warn(\"Features %s are constant.\" % constant_features_idx, UserWarning)\n",
      "/dados/juliano/Dropbox/UTFPR/Aulas/AM36O - Aprendizagem de Máquina/venv/lib/python3.10/site-packages/sklearn/feature_selection/_univariate_selection.py:113: RuntimeWarning: invalid value encountered in divide\n",
      "  f = msb / msw\n",
      "/dados/juliano/Dropbox/UTFPR/Aulas/AM36O - Aprendizagem de Máquina/venv/lib/python3.10/site-packages/sklearn/feature_selection/_univariate_selection.py:112: UserWarning: Features [ 18  34  44  57  58  66  68  72  82  83 130 131 138 140 142 143 144 150\n",
      " 155 156 163 203 263 273] are constant.\n",
      "  warnings.warn(\"Features %s are constant.\" % constant_features_idx, UserWarning)\n",
      "/dados/juliano/Dropbox/UTFPR/Aulas/AM36O - Aprendizagem de Máquina/venv/lib/python3.10/site-packages/sklearn/feature_selection/_univariate_selection.py:113: RuntimeWarning: invalid value encountered in divide\n",
      "  f = msb / msw\n",
      "/dados/juliano/Dropbox/UTFPR/Aulas/AM36O - Aprendizagem de Máquina/venv/lib/python3.10/site-packages/sklearn/feature_selection/_univariate_selection.py:112: UserWarning: Features [ 18  34  46  66  68  82  85 130 131 138 140 142 143 144 150 155 156 163\n",
      " 203 263 273] are constant.\n",
      "  warnings.warn(\"Features %s are constant.\" % constant_features_idx, UserWarning)\n",
      "/dados/juliano/Dropbox/UTFPR/Aulas/AM36O - Aprendizagem de Máquina/venv/lib/python3.10/site-packages/sklearn/feature_selection/_univariate_selection.py:113: RuntimeWarning: invalid value encountered in divide\n",
      "  f = msb / msw\n",
      "/dados/juliano/Dropbox/UTFPR/Aulas/AM36O - Aprendizagem de Máquina/venv/lib/python3.10/site-packages/sklearn/feature_selection/_univariate_selection.py:112: UserWarning: Features [ 18  49  66  68  73  82 102 114 130 131 138 140 142 143 144 150 155 156\n",
      " 163 203 233 243 263 273] are constant.\n",
      "  warnings.warn(\"Features %s are constant.\" % constant_features_idx, UserWarning)\n",
      "/dados/juliano/Dropbox/UTFPR/Aulas/AM36O - Aprendizagem de Máquina/venv/lib/python3.10/site-packages/sklearn/feature_selection/_univariate_selection.py:113: RuntimeWarning: invalid value encountered in divide\n",
      "  f = msb / msw\n",
      "/dados/juliano/Dropbox/UTFPR/Aulas/AM36O - Aprendizagem de Máquina/venv/lib/python3.10/site-packages/sklearn/feature_selection/_univariate_selection.py:112: UserWarning: Features [ 18  34  58  60  66  68  73  82  83 126 130 131 138 140 142 144 150 153\n",
      " 155 156 163 203 253 263 273] are constant.\n",
      "  warnings.warn(\"Features %s are constant.\" % constant_features_idx, UserWarning)\n",
      "/dados/juliano/Dropbox/UTFPR/Aulas/AM36O - Aprendizagem de Máquina/venv/lib/python3.10/site-packages/sklearn/feature_selection/_univariate_selection.py:113: RuntimeWarning: invalid value encountered in divide\n",
      "  f = msb / msw\n",
      "/dados/juliano/Dropbox/UTFPR/Aulas/AM36O - Aprendizagem de Máquina/venv/lib/python3.10/site-packages/sklearn/feature_selection/_univariate_selection.py:112: UserWarning: Features [ 18  66  68  71  82 117 126 130 131 132 138 140 142 144 150 153 155 156\n",
      " 163 203 253 263 273] are constant.\n",
      "  warnings.warn(\"Features %s are constant.\" % constant_features_idx, UserWarning)\n",
      "/dados/juliano/Dropbox/UTFPR/Aulas/AM36O - Aprendizagem de Máquina/venv/lib/python3.10/site-packages/sklearn/feature_selection/_univariate_selection.py:113: RuntimeWarning: invalid value encountered in divide\n",
      "  f = msb / msw\n"
     ]
    },
    {
     "name": "stdout",
     "output_type": "stream",
     "text": [
      "Executando teste knn_an (90%)\n"
     ]
    },
    {
     "data": {
      "application/vnd.jupyter.widget-view+json": {
       "model_id": "067c3f16353d44e68ad9d2ca494f01d1",
       "version_major": 2,
       "version_minor": 0
      },
      "text/plain": [
       "Folds avaliados:   0%|          | 0/10 [00:00<?, ?it/s]"
      ]
     },
     "metadata": {},
     "output_type": "display_data"
    },
    {
     "name": "stderr",
     "output_type": "stream",
     "text": [
      "/dados/juliano/Dropbox/UTFPR/Aulas/AM36O - Aprendizagem de Máquina/venv/lib/python3.10/site-packages/sklearn/feature_selection/_univariate_selection.py:112: UserWarning: Features [ 18  23  54  57  66  68  82  83 130 131 138 140 142 144 150 155 156 163\n",
      " 193 203 263 273] are constant.\n",
      "  warnings.warn(\"Features %s are constant.\" % constant_features_idx, UserWarning)\n",
      "/dados/juliano/Dropbox/UTFPR/Aulas/AM36O - Aprendizagem de Máquina/venv/lib/python3.10/site-packages/sklearn/feature_selection/_univariate_selection.py:113: RuntimeWarning: invalid value encountered in divide\n",
      "  f = msb / msw\n",
      "/dados/juliano/Dropbox/UTFPR/Aulas/AM36O - Aprendizagem de Máquina/venv/lib/python3.10/site-packages/sklearn/feature_selection/_univariate_selection.py:112: UserWarning: Features [ 18  20  66  68  82 126 130 131 138 140 142 143 144 150 155 156 163 203\n",
      " 253 263 273] are constant.\n",
      "  warnings.warn(\"Features %s are constant.\" % constant_features_idx, UserWarning)\n",
      "/dados/juliano/Dropbox/UTFPR/Aulas/AM36O - Aprendizagem de Máquina/venv/lib/python3.10/site-packages/sklearn/feature_selection/_univariate_selection.py:113: RuntimeWarning: invalid value encountered in divide\n",
      "  f = msb / msw\n",
      "/dados/juliano/Dropbox/UTFPR/Aulas/AM36O - Aprendizagem de Máquina/venv/lib/python3.10/site-packages/sklearn/feature_selection/_univariate_selection.py:112: UserWarning: Features [ 18  57  66  68  82  84  85 130 131 138 140 142 144 150 155 156 163 203\n",
      " 263 273] are constant.\n",
      "  warnings.warn(\"Features %s are constant.\" % constant_features_idx, UserWarning)\n",
      "/dados/juliano/Dropbox/UTFPR/Aulas/AM36O - Aprendizagem de Máquina/venv/lib/python3.10/site-packages/sklearn/feature_selection/_univariate_selection.py:113: RuntimeWarning: invalid value encountered in divide\n",
      "  f = msb / msw\n",
      "/dados/juliano/Dropbox/UTFPR/Aulas/AM36O - Aprendizagem de Máquina/venv/lib/python3.10/site-packages/sklearn/feature_selection/_univariate_selection.py:112: UserWarning: Features [ 18  54  66  68  82 117 130 131 138 140 142 143 144 150 152 155 156 163\n",
      " 193 203 263 273] are constant.\n",
      "  warnings.warn(\"Features %s are constant.\" % constant_features_idx, UserWarning)\n",
      "/dados/juliano/Dropbox/UTFPR/Aulas/AM36O - Aprendizagem de Máquina/venv/lib/python3.10/site-packages/sklearn/feature_selection/_univariate_selection.py:113: RuntimeWarning: invalid value encountered in divide\n",
      "  f = msb / msw\n",
      "/dados/juliano/Dropbox/UTFPR/Aulas/AM36O - Aprendizagem de Máquina/venv/lib/python3.10/site-packages/sklearn/feature_selection/_univariate_selection.py:112: UserWarning: Features [ 18  49  66  68  70  73  82 130 131 138 140 142 144 150 155 156 163 203\n",
      " 263 273] are constant.\n",
      "  warnings.warn(\"Features %s are constant.\" % constant_features_idx, UserWarning)\n",
      "/dados/juliano/Dropbox/UTFPR/Aulas/AM36O - Aprendizagem de Máquina/venv/lib/python3.10/site-packages/sklearn/feature_selection/_univariate_selection.py:113: RuntimeWarning: invalid value encountered in divide\n",
      "  f = msb / msw\n",
      "/dados/juliano/Dropbox/UTFPR/Aulas/AM36O - Aprendizagem de Máquina/venv/lib/python3.10/site-packages/sklearn/feature_selection/_univariate_selection.py:112: UserWarning: Features [ 18  34  44  57  58  66  68  72  82  83 130 131 138 140 142 143 144 150\n",
      " 155 156 163 203 263 273] are constant.\n",
      "  warnings.warn(\"Features %s are constant.\" % constant_features_idx, UserWarning)\n",
      "/dados/juliano/Dropbox/UTFPR/Aulas/AM36O - Aprendizagem de Máquina/venv/lib/python3.10/site-packages/sklearn/feature_selection/_univariate_selection.py:113: RuntimeWarning: invalid value encountered in divide\n",
      "  f = msb / msw\n",
      "/dados/juliano/Dropbox/UTFPR/Aulas/AM36O - Aprendizagem de Máquina/venv/lib/python3.10/site-packages/sklearn/feature_selection/_univariate_selection.py:112: UserWarning: Features [ 18  34  46  66  68  82  85 130 131 138 140 142 143 144 150 155 156 163\n",
      " 203 263 273] are constant.\n",
      "  warnings.warn(\"Features %s are constant.\" % constant_features_idx, UserWarning)\n",
      "/dados/juliano/Dropbox/UTFPR/Aulas/AM36O - Aprendizagem de Máquina/venv/lib/python3.10/site-packages/sklearn/feature_selection/_univariate_selection.py:113: RuntimeWarning: invalid value encountered in divide\n",
      "  f = msb / msw\n",
      "/dados/juliano/Dropbox/UTFPR/Aulas/AM36O - Aprendizagem de Máquina/venv/lib/python3.10/site-packages/sklearn/feature_selection/_univariate_selection.py:112: UserWarning: Features [ 18  49  66  68  73  82 102 114 130 131 138 140 142 143 144 150 155 156\n",
      " 163 203 233 243 263 273] are constant.\n",
      "  warnings.warn(\"Features %s are constant.\" % constant_features_idx, UserWarning)\n",
      "/dados/juliano/Dropbox/UTFPR/Aulas/AM36O - Aprendizagem de Máquina/venv/lib/python3.10/site-packages/sklearn/feature_selection/_univariate_selection.py:113: RuntimeWarning: invalid value encountered in divide\n",
      "  f = msb / msw\n",
      "/dados/juliano/Dropbox/UTFPR/Aulas/AM36O - Aprendizagem de Máquina/venv/lib/python3.10/site-packages/sklearn/feature_selection/_univariate_selection.py:112: UserWarning: Features [ 18  34  58  60  66  68  73  82  83 126 130 131 138 140 142 144 150 153\n",
      " 155 156 163 203 253 263 273] are constant.\n",
      "  warnings.warn(\"Features %s are constant.\" % constant_features_idx, UserWarning)\n",
      "/dados/juliano/Dropbox/UTFPR/Aulas/AM36O - Aprendizagem de Máquina/venv/lib/python3.10/site-packages/sklearn/feature_selection/_univariate_selection.py:113: RuntimeWarning: invalid value encountered in divide\n",
      "  f = msb / msw\n",
      "/dados/juliano/Dropbox/UTFPR/Aulas/AM36O - Aprendizagem de Máquina/venv/lib/python3.10/site-packages/sklearn/feature_selection/_univariate_selection.py:112: UserWarning: Features [ 18  66  68  71  82 117 126 130 131 132 138 140 142 144 150 153 155 156\n",
      " 163 203 253 263 273] are constant.\n",
      "  warnings.warn(\"Features %s are constant.\" % constant_features_idx, UserWarning)\n",
      "/dados/juliano/Dropbox/UTFPR/Aulas/AM36O - Aprendizagem de Máquina/venv/lib/python3.10/site-packages/sklearn/feature_selection/_univariate_selection.py:113: RuntimeWarning: invalid value encountered in divide\n",
      "  f = msb / msw\n"
     ]
    },
    {
     "name": "stdout",
     "output_type": "stream",
     "text": [
      "Executando teste rf_an (90%)\n"
     ]
    },
    {
     "data": {
      "application/vnd.jupyter.widget-view+json": {
       "model_id": "b3bb3dbba8c04eedb817a0a76b8d00c9",
       "version_major": 2,
       "version_minor": 0
      },
      "text/plain": [
       "Folds avaliados:   0%|          | 0/10 [00:00<?, ?it/s]"
      ]
     },
     "metadata": {},
     "output_type": "display_data"
    },
    {
     "name": "stderr",
     "output_type": "stream",
     "text": [
      "/dados/juliano/Dropbox/UTFPR/Aulas/AM36O - Aprendizagem de Máquina/venv/lib/python3.10/site-packages/sklearn/feature_selection/_univariate_selection.py:112: UserWarning: Features [ 18  23  54  57  66  68  82  83 130 131 138 140 142 144 150 155 156 163\n",
      " 193 203 263 273] are constant.\n",
      "  warnings.warn(\"Features %s are constant.\" % constant_features_idx, UserWarning)\n",
      "/dados/juliano/Dropbox/UTFPR/Aulas/AM36O - Aprendizagem de Máquina/venv/lib/python3.10/site-packages/sklearn/feature_selection/_univariate_selection.py:113: RuntimeWarning: invalid value encountered in divide\n",
      "  f = msb / msw\n",
      "/dados/juliano/Dropbox/UTFPR/Aulas/AM36O - Aprendizagem de Máquina/venv/lib/python3.10/site-packages/sklearn/feature_selection/_univariate_selection.py:112: UserWarning: Features [ 18  20  66  68  82 126 130 131 138 140 142 143 144 150 155 156 163 203\n",
      " 253 263 273] are constant.\n",
      "  warnings.warn(\"Features %s are constant.\" % constant_features_idx, UserWarning)\n",
      "/dados/juliano/Dropbox/UTFPR/Aulas/AM36O - Aprendizagem de Máquina/venv/lib/python3.10/site-packages/sklearn/feature_selection/_univariate_selection.py:113: RuntimeWarning: invalid value encountered in divide\n",
      "  f = msb / msw\n",
      "/dados/juliano/Dropbox/UTFPR/Aulas/AM36O - Aprendizagem de Máquina/venv/lib/python3.10/site-packages/sklearn/feature_selection/_univariate_selection.py:112: UserWarning: Features [ 18  57  66  68  82  84  85 130 131 138 140 142 144 150 155 156 163 203\n",
      " 263 273] are constant.\n",
      "  warnings.warn(\"Features %s are constant.\" % constant_features_idx, UserWarning)\n",
      "/dados/juliano/Dropbox/UTFPR/Aulas/AM36O - Aprendizagem de Máquina/venv/lib/python3.10/site-packages/sklearn/feature_selection/_univariate_selection.py:113: RuntimeWarning: invalid value encountered in divide\n",
      "  f = msb / msw\n",
      "/dados/juliano/Dropbox/UTFPR/Aulas/AM36O - Aprendizagem de Máquina/venv/lib/python3.10/site-packages/sklearn/feature_selection/_univariate_selection.py:112: UserWarning: Features [ 18  54  66  68  82 117 130 131 138 140 142 143 144 150 152 155 156 163\n",
      " 193 203 263 273] are constant.\n",
      "  warnings.warn(\"Features %s are constant.\" % constant_features_idx, UserWarning)\n",
      "/dados/juliano/Dropbox/UTFPR/Aulas/AM36O - Aprendizagem de Máquina/venv/lib/python3.10/site-packages/sklearn/feature_selection/_univariate_selection.py:113: RuntimeWarning: invalid value encountered in divide\n",
      "  f = msb / msw\n",
      "/dados/juliano/Dropbox/UTFPR/Aulas/AM36O - Aprendizagem de Máquina/venv/lib/python3.10/site-packages/sklearn/feature_selection/_univariate_selection.py:112: UserWarning: Features [ 18  49  66  68  70  73  82 130 131 138 140 142 144 150 155 156 163 203\n",
      " 263 273] are constant.\n",
      "  warnings.warn(\"Features %s are constant.\" % constant_features_idx, UserWarning)\n",
      "/dados/juliano/Dropbox/UTFPR/Aulas/AM36O - Aprendizagem de Máquina/venv/lib/python3.10/site-packages/sklearn/feature_selection/_univariate_selection.py:113: RuntimeWarning: invalid value encountered in divide\n",
      "  f = msb / msw\n",
      "/dados/juliano/Dropbox/UTFPR/Aulas/AM36O - Aprendizagem de Máquina/venv/lib/python3.10/site-packages/sklearn/feature_selection/_univariate_selection.py:112: UserWarning: Features [ 18  34  44  57  58  66  68  72  82  83 130 131 138 140 142 143 144 150\n",
      " 155 156 163 203 263 273] are constant.\n",
      "  warnings.warn(\"Features %s are constant.\" % constant_features_idx, UserWarning)\n",
      "/dados/juliano/Dropbox/UTFPR/Aulas/AM36O - Aprendizagem de Máquina/venv/lib/python3.10/site-packages/sklearn/feature_selection/_univariate_selection.py:113: RuntimeWarning: invalid value encountered in divide\n",
      "  f = msb / msw\n",
      "/dados/juliano/Dropbox/UTFPR/Aulas/AM36O - Aprendizagem de Máquina/venv/lib/python3.10/site-packages/sklearn/feature_selection/_univariate_selection.py:112: UserWarning: Features [ 18  34  46  66  68  82  85 130 131 138 140 142 143 144 150 155 156 163\n",
      " 203 263 273] are constant.\n",
      "  warnings.warn(\"Features %s are constant.\" % constant_features_idx, UserWarning)\n",
      "/dados/juliano/Dropbox/UTFPR/Aulas/AM36O - Aprendizagem de Máquina/venv/lib/python3.10/site-packages/sklearn/feature_selection/_univariate_selection.py:113: RuntimeWarning: invalid value encountered in divide\n",
      "  f = msb / msw\n",
      "/dados/juliano/Dropbox/UTFPR/Aulas/AM36O - Aprendizagem de Máquina/venv/lib/python3.10/site-packages/sklearn/feature_selection/_univariate_selection.py:112: UserWarning: Features [ 18  49  66  68  73  82 102 114 130 131 138 140 142 143 144 150 155 156\n",
      " 163 203 233 243 263 273] are constant.\n",
      "  warnings.warn(\"Features %s are constant.\" % constant_features_idx, UserWarning)\n",
      "/dados/juliano/Dropbox/UTFPR/Aulas/AM36O - Aprendizagem de Máquina/venv/lib/python3.10/site-packages/sklearn/feature_selection/_univariate_selection.py:113: RuntimeWarning: invalid value encountered in divide\n",
      "  f = msb / msw\n",
      "/dados/juliano/Dropbox/UTFPR/Aulas/AM36O - Aprendizagem de Máquina/venv/lib/python3.10/site-packages/sklearn/feature_selection/_univariate_selection.py:112: UserWarning: Features [ 18  34  58  60  66  68  73  82  83 126 130 131 138 140 142 144 150 153\n",
      " 155 156 163 203 253 263 273] are constant.\n",
      "  warnings.warn(\"Features %s are constant.\" % constant_features_idx, UserWarning)\n",
      "/dados/juliano/Dropbox/UTFPR/Aulas/AM36O - Aprendizagem de Máquina/venv/lib/python3.10/site-packages/sklearn/feature_selection/_univariate_selection.py:113: RuntimeWarning: invalid value encountered in divide\n",
      "  f = msb / msw\n",
      "/dados/juliano/Dropbox/UTFPR/Aulas/AM36O - Aprendizagem de Máquina/venv/lib/python3.10/site-packages/sklearn/feature_selection/_univariate_selection.py:112: UserWarning: Features [ 18  66  68  71  82 117 126 130 131 132 138 140 142 144 150 153 155 156\n",
      " 163 203 253 263 273] are constant.\n",
      "  warnings.warn(\"Features %s are constant.\" % constant_features_idx, UserWarning)\n",
      "/dados/juliano/Dropbox/UTFPR/Aulas/AM36O - Aprendizagem de Máquina/venv/lib/python3.10/site-packages/sklearn/feature_selection/_univariate_selection.py:113: RuntimeWarning: invalid value encountered in divide\n",
      "  f = msb / msw\n"
     ]
    }
   ],
   "source": [
    "for decil in (np.arange(10)*10)[1:]:\n",
    "    print(\"decil: %d\" % (decil))\n",
    "    sp = SelectPercentile(f_classif, percentile=decil)\n",
    "    for nome, classificador, scale, params in testes:\n",
    "        nome = \"%s_an (%d%%)\" % (nome, decil)\n",
    "        print(\"Executando teste %s\" % (nome))\n",
    "        r = do_cv(classificador, X, y, 10, 10, 8, scale, ctimp, sp, params)\n",
    "        resultados[nome] = r"
   ]
  },
  {
   "cell_type": "code",
   "execution_count": 30,
   "id": "bd8676ba",
   "metadata": {},
   "outputs": [
    {
     "name": "stdout",
     "output_type": "stream",
     "text": [
      "       knn - Resultados: 0.48 +- 0.08, min: 0.36, max: 0.58\n",
      "knn_an (10%) - Resultados: 0.62 +- 0.10, min: 0.46, max: 0.75\n",
      "knn_an (20%) - Resultados: 0.61 +- 0.08, min: 0.42, max: 0.72\n",
      "knn_an (30%) - Resultados: 0.63 +- 0.08, min: 0.51, max: 0.76\n",
      "knn_an (40%) - Resultados: 0.56 +- 0.14, min: 0.32, max: 0.74\n",
      "knn_an (50%) - Resultados: 0.52 +- 0.14, min: 0.28, max: 0.69\n",
      "knn_an (60%) - Resultados: 0.56 +- 0.09, min: 0.39, max: 0.69\n",
      "knn_an (70%) - Resultados: 0.55 +- 0.09, min: 0.41, max: 0.67\n",
      "knn_an (80%) - Resultados: 0.54 +- 0.12, min: 0.32, max: 0.67\n",
      "knn_an (90%) - Resultados: 0.49 +- 0.09, min: 0.36, max: 0.58\n",
      "  knn_vt=0 - Resultados: 0.48 +- 0.08, min: 0.36, max: 0.58\n",
      "knn_vtd (10%) - Resultados: 0.48 +- 0.08, min: 0.36, max: 0.58\n",
      "knn_vtd (20%) - Resultados: 0.48 +- 0.08, min: 0.36, max: 0.58\n",
      "knn_vtd (30%) - Resultados: 0.48 +- 0.08, min: 0.36, max: 0.58\n",
      "knn_vtd (40%) - Resultados: 0.48 +- 0.08, min: 0.36, max: 0.58\n",
      "knn_vtd (50%) - Resultados: 0.48 +- 0.08, min: 0.36, max: 0.58\n",
      "knn_vtd (60%) - Resultados: 0.48 +- 0.08, min: 0.36, max: 0.58\n",
      "knn_vtd (70%) - Resultados: 0.48 +- 0.08, min: 0.36, max: 0.58\n",
      "knn_vtd (80%) - Resultados: 0.48 +- 0.08, min: 0.36, max: 0.58\n",
      "knn_vtd (90%) - Resultados: 0.48 +- 0.08, min: 0.36, max: 0.58\n",
      "        rf - Resultados: 0.75 +- 0.07, min: 0.60, max: 0.86\n",
      "rf_an (10%) - Resultados: 0.74 +- 0.10, min: 0.51, max: 0.85\n",
      "rf_an (20%) - Resultados: 0.76 +- 0.09, min: 0.65, max: 0.92\n",
      "rf_an (30%) - Resultados: 0.77 +- 0.08, min: 0.68, max: 0.92\n",
      "rf_an (40%) - Resultados: 0.78 +- 0.07, min: 0.68, max: 0.92\n",
      "rf_an (50%) - Resultados: 0.76 +- 0.09, min: 0.58, max: 0.89\n",
      "rf_an (60%) - Resultados: 0.76 +- 0.09, min: 0.61, max: 0.95\n",
      "rf_an (70%) - Resultados: 0.77 +- 0.06, min: 0.67, max: 0.87\n",
      "rf_an (80%) - Resultados: 0.77 +- 0.07, min: 0.65, max: 0.86\n",
      "rf_an (90%) - Resultados: 0.78 +- 0.08, min: 0.65, max: 0.90\n",
      "   rf_vt=0 - Resultados: 0.76 +- 0.09, min: 0.57, max: 0.89\n",
      "rf_vtd (10%) - Resultados: 0.75 +- 0.07, min: 0.60, max: 0.86\n",
      "rf_vtd (20%) - Resultados: 0.76 +- 0.09, min: 0.57, max: 0.89\n",
      "rf_vtd (30%) - Resultados: 0.76 +- 0.09, min: 0.57, max: 0.89\n",
      "rf_vtd (40%) - Resultados: 0.76 +- 0.09, min: 0.57, max: 0.89\n",
      "rf_vtd (50%) - Resultados: 0.76 +- 0.09, min: 0.57, max: 0.89\n",
      "rf_vtd (60%) - Resultados: 0.76 +- 0.09, min: 0.57, max: 0.89\n",
      "rf_vtd (70%) - Resultados: 0.78 +- 0.08, min: 0.61, max: 0.88\n",
      "rf_vtd (80%) - Resultados: 0.72 +- 0.08, min: 0.55, max: 0.83\n",
      "rf_vtd (90%) - Resultados: 0.73 +- 0.09, min: 0.56, max: 0.86\n",
      "       svm - Resultados: 0.71 +- 0.13, min: 0.38, max: 0.88\n",
      "svm_an (10%) - Resultados: 0.71 +- 0.10, min: 0.56, max: 0.81\n",
      "svm_an (20%) - Resultados: 0.71 +- 0.09, min: 0.53, max: 0.84\n",
      "svm_an (30%) - Resultados: 0.69 +- 0.09, min: 0.53, max: 0.87\n",
      "svm_an (40%) - Resultados: 0.74 +- 0.07, min: 0.59, max: 0.84\n",
      "svm_an (50%) - Resultados: 0.73 +- 0.07, min: 0.59, max: 0.84\n",
      "svm_an (60%) - Resultados: 0.71 +- 0.08, min: 0.55, max: 0.84\n",
      "svm_an (70%) - Resultados: 0.69 +- 0.11, min: 0.51, max: 0.85\n",
      "svm_an (80%) - Resultados: 0.71 +- 0.11, min: 0.44, max: 0.85\n",
      "svm_an (90%) - Resultados: 0.72 +- 0.10, min: 0.53, max: 0.88\n",
      "  svm_vt=0 - Resultados: 0.71 +- 0.13, min: 0.38, max: 0.88\n",
      "svm_vtd (10%) - Resultados: 0.71 +- 0.13, min: 0.38, max: 0.88\n",
      "svm_vtd (20%) - Resultados: 0.71 +- 0.13, min: 0.38, max: 0.88\n",
      "svm_vtd (30%) - Resultados: 0.71 +- 0.13, min: 0.38, max: 0.88\n",
      "svm_vtd (40%) - Resultados: 0.71 +- 0.13, min: 0.38, max: 0.88\n",
      "svm_vtd (50%) - Resultados: 0.71 +- 0.13, min: 0.38, max: 0.88\n",
      "svm_vtd (60%) - Resultados: 0.70 +- 0.13, min: 0.38, max: 0.88\n",
      "svm_vtd (70%) - Resultados: 0.71 +- 0.13, min: 0.38, max: 0.88\n",
      "svm_vtd (80%) - Resultados: 0.71 +- 0.13, min: 0.38, max: 0.88\n",
      "svm_vtd (90%) - Resultados: 0.71 +- 0.13, min: 0.38, max: 0.88\n",
      "\n",
      "                knn          rf         svm     \n",
      "    knn         1.00     0.00 (*<)   0.00 (*<)  \n",
      "knn_an (10%) 0.00 (*>)   0.00 (*<)      0.11    \n",
      "knn_an (20%) 0.00 (*>)   0.00 (*<)      0.07    \n",
      "knn_an (30%) 0.00 (*>)   0.00 (*<)      0.13    \n",
      "knn_an (40%)    0.14     0.00 (*<)   0.02 (*<)  \n",
      "knn_an (50%)    0.37     0.00 (*<)   0.01 (*<)  \n",
      "knn_an (60%)    0.06     0.00 (*<)   0.01 (*<)  \n",
      "knn_an (70%)    0.07     0.00 (*<)   0.01 (*<)  \n",
      "knn_an (80%)    0.20     0.00 (*<)   0.01 (*<)  \n",
      "knn_an (90%)    0.66     0.00 (*<)   0.00 (*<)  \n",
      "  knn_vt=0      1.00     0.00 (*<)   0.00 (*<)  \n",
      "knn_vtd (10%)    1.00     0.00 (*<)   0.00 (*<)  \n",
      "knn_vtd (20%)    1.00     0.00 (*<)   0.00 (*<)  \n",
      "knn_vtd (30%)    1.00     0.00 (*<)   0.00 (*<)  \n",
      "knn_vtd (40%)    1.00     0.00 (*<)   0.00 (*<)  \n",
      "knn_vtd (50%)    1.00     0.00 (*<)   0.00 (*<)  \n",
      "knn_vtd (60%)    1.00     0.00 (*<)   0.00 (*<)  \n",
      "knn_vtd (70%)    1.00     0.00 (*<)   0.00 (*<)  \n",
      "knn_vtd (80%)    1.00     0.00 (*<)   0.00 (*<)  \n",
      "knn_vtd (90%)    1.00     0.00 (*<)   0.00 (*<)  \n",
      "     rf      0.00 (*>)      1.00        0.33    \n",
      "rf_an (10%)  0.00 (*>)      0.72        0.53    \n",
      "rf_an (20%)  0.00 (*>)      0.83        0.29    \n",
      "rf_an (30%)  0.00 (*>)      0.55        0.19    \n",
      "rf_an (40%)  0.00 (*>)      0.47        0.16    \n",
      "rf_an (50%)  0.00 (*>)      0.87        0.31    \n",
      "rf_an (60%)  0.00 (*>)      0.87        0.31    \n",
      "rf_an (70%)  0.00 (*>)      0.64        0.21    \n",
      "rf_an (80%)  0.00 (*>)      0.71        0.24    \n",
      "rf_an (90%)  0.00 (*>)      0.48        0.17    \n",
      "  rf_vt=0    0.00 (*>)      0.88        0.32    \n",
      "rf_vtd (10%) 0.00 (*>)      1.00        0.33    \n",
      "rf_vtd (20%) 0.00 (*>)      0.88        0.32    \n",
      "rf_vtd (30%) 0.00 (*>)      0.88        0.32    \n",
      "rf_vtd (40%) 0.00 (*>)      0.88        0.32    \n",
      "rf_vtd (50%) 0.00 (*>)      0.88        0.32    \n",
      "rf_vtd (60%) 0.00 (*>)      0.88        0.32    \n",
      "rf_vtd (70%) 0.00 (*>)      0.46        0.16    \n",
      "rf_vtd (80%) 0.00 (*>)      0.31        0.81    \n",
      "rf_vtd (90%) 0.00 (*>)      0.48        0.68    \n",
      "    svm      0.00 (*>)      0.33        1.00    \n",
      "svm_an (10%) 0.00 (*>)      0.25        0.95    \n",
      "svm_an (20%) 0.00 (*>)      0.19        0.99    \n",
      "svm_an (30%) 0.00 (*>)      0.11        0.81    \n",
      "svm_an (40%) 0.00 (*>)      0.67        0.49    \n",
      "svm_an (50%) 0.00 (*>)      0.43        0.64    \n",
      "svm_an (60%) 0.00 (*>)      0.20        0.96    \n",
      "svm_an (70%) 0.00 (*>)      0.13        0.76    \n",
      "svm_an (80%) 0.00 (*>)      0.26        0.99    \n",
      "svm_an (90%) 0.00 (*>)      0.33        0.88    \n",
      "  svm_vt=0   0.00 (*>)      0.33        0.99    \n",
      "svm_vtd (10%) 0.00 (*>)      0.33        1.00    \n",
      "svm_vtd (20%) 0.00 (*>)      0.33        1.00    \n",
      "svm_vtd (30%) 0.00 (*>)      0.33        1.00    \n",
      "svm_vtd (40%) 0.00 (*>)      0.33        1.00    \n",
      "svm_vtd (50%) 0.00 (*>)      0.33        1.00    \n",
      "svm_vtd (60%) 0.00 (*>)      0.30        0.96    \n",
      "svm_vtd (70%) 0.00 (*>)      0.33        0.99    \n",
      "svm_vtd (80%) 0.00 (*>)      0.33        0.99    \n",
      "svm_vtd (90%) 0.00 (*>)      0.33        0.99    \n"
     ]
    }
   ],
   "source": [
    "for teste in sorted(resultados):\n",
    "    print(teste.rjust(10), end=' - ')\n",
    "    imprimir_estatisticas(resultados[teste])\n",
    "\n",
    "print()\n",
    "\n",
    "print_t_tests(resultados, alpha=0.05, cols=[\"knn\", \"rf\", \"svm\"])"
   ]
  },
  {
   "cell_type": "markdown",
   "id": "4c712742",
   "metadata": {},
   "source": [
    "## Informação mútua"
   ]
  },
  {
   "cell_type": "code",
   "execution_count": 31,
   "id": "bfccf4f8",
   "metadata": {},
   "outputs": [],
   "source": [
    "from sklearn.feature_selection import mutual_info_classif"
   ]
  },
  {
   "cell_type": "code",
   "execution_count": 32,
   "id": "a14afc2f",
   "metadata": {},
   "outputs": [
    {
     "data": {
      "text/plain": [
       "array([0.05994277])"
      ]
     },
     "execution_count": 32,
     "metadata": {},
     "output_type": "execute_result"
    }
   ],
   "source": [
    "mutual_info_classif(X_ohoe['QRSduration'].values.reshape((-1,1)), y)"
   ]
  },
  {
   "cell_type": "code",
   "execution_count": 33,
   "id": "ef5eed82",
   "metadata": {},
   "outputs": [
    {
     "data": {
      "text/plain": [
       "<Axes: ylabel='Count'>"
      ]
     },
     "execution_count": 33,
     "metadata": {},
     "output_type": "execute_result"
    },
    {
     "data": {
      "image/png": "[encoded data removed]",
      "text/plain": [
       "<Figure size 640x480 with 1 Axes>"
      ]
     },
     "metadata": {},
     "output_type": "display_data"
    }
   ],
   "source": [
    "sns.histplot(mutual_info_classif(ctimp.fit_transform(X_ohoe), y))"
   ]
  },
  {
   "cell_type": "code",
   "execution_count": 34,
   "id": "6d92aea6",
   "metadata": {},
   "outputs": [
    {
     "name": "stdout",
     "output_type": "stream",
     "text": [
      "decil: 10\n",
      "Executando teste svm_mi (10%)\n"
     ]
    },
    {
     "data": {
      "application/vnd.jupyter.widget-view+json": {
       "model_id": "b65f420adc5a4af5ab479d48ed969257",
       "version_major": 2,
       "version_minor": 0
      },
      "text/plain": [
       "Folds avaliados:   0%|          | 0/10 [00:00<?, ?it/s]"
      ]
     },
     "metadata": {},
     "output_type": "display_data"
    },
    {
     "name": "stdout",
     "output_type": "stream",
     "text": [
      "Executando teste knn_mi (10%)\n"
     ]
    },
    {
     "data": {
      "application/vnd.jupyter.widget-view+json": {
       "model_id": "665aa0a0b19942cbb8b1bc7afedf828f",
       "version_major": 2,
       "version_minor": 0
      },
      "text/plain": [
       "Folds avaliados:   0%|          | 0/10 [00:00<?, ?it/s]"
      ]
     },
     "metadata": {},
     "output_type": "display_data"
    },
    {
     "name": "stdout",
     "output_type": "stream",
     "text": [
      "Executando teste rf_mi (10%)\n"
     ]
    },
    {
     "data": {
      "application/vnd.jupyter.widget-view+json": {
       "model_id": "70761047fb124332b61ea1ebb2d69ce2",
       "version_major": 2,
       "version_minor": 0
      },
      "text/plain": [
       "Folds avaliados:   0%|          | 0/10 [00:00<?, ?it/s]"
      ]
     },
     "metadata": {},
     "output_type": "display_data"
    },
    {
     "name": "stdout",
     "output_type": "stream",
     "text": [
      "decil: 20\n",
      "Executando teste svm_mi (20%)\n"
     ]
    },
    {
     "data": {
      "application/vnd.jupyter.widget-view+json": {
       "model_id": "80fbae3d499f4cb89d3183f3d3ded11f",
       "version_major": 2,
       "version_minor": 0
      },
      "text/plain": [
       "Folds avaliados:   0%|          | 0/10 [00:00<?, ?it/s]"
      ]
     },
     "metadata": {},
     "output_type": "display_data"
    },
    {
     "name": "stdout",
     "output_type": "stream",
     "text": [
      "Executando teste knn_mi (20%)\n"
     ]
    },
    {
     "data": {
      "application/vnd.jupyter.widget-view+json": {
       "model_id": "611e5f82e4ea49fc9187e13b89e88e8d",
       "version_major": 2,
       "version_minor": 0
      },
      "text/plain": [
       "Folds avaliados:   0%|          | 0/10 [00:00<?, ?it/s]"
      ]
     },
     "metadata": {},
     "output_type": "display_data"
    },
    {
     "name": "stdout",
     "output_type": "stream",
     "text": [
      "Executando teste rf_mi (20%)\n"
     ]
    },
    {
     "data": {
      "application/vnd.jupyter.widget-view+json": {
       "model_id": "3ea6bac02a914a8083e586af41792e29",
       "version_major": 2,
       "version_minor": 0
      },
      "text/plain": [
       "Folds avaliados:   0%|          | 0/10 [00:00<?, ?it/s]"
      ]
     },
     "metadata": {},
     "output_type": "display_data"
    },
    {
     "name": "stdout",
     "output_type": "stream",
     "text": [
      "decil: 30\n",
      "Executando teste svm_mi (30%)\n"
     ]
    },
    {
     "data": {
      "application/vnd.jupyter.widget-view+json": {
       "model_id": "8ba352ae066f4082b0dafff3877738c7",
       "version_major": 2,
       "version_minor": 0
      },
      "text/plain": [
       "Folds avaliados:   0%|          | 0/10 [00:00<?, ?it/s]"
      ]
     },
     "metadata": {},
     "output_type": "display_data"
    },
    {
     "name": "stdout",
     "output_type": "stream",
     "text": [
      "Executando teste knn_mi (30%)\n"
     ]
    },
    {
     "data": {
      "application/vnd.jupyter.widget-view+json": {
       "model_id": "e85d7f30212948798cc73089da4b1f24",
       "version_major": 2,
       "version_minor": 0
      },
      "text/plain": [
       "Folds avaliados:   0%|          | 0/10 [00:00<?, ?it/s]"
      ]
     },
     "metadata": {},
     "output_type": "display_data"
    },
    {
     "name": "stdout",
     "output_type": "stream",
     "text": [
      "Executando teste rf_mi (30%)\n"
     ]
    },
    {
     "data": {
      "application/vnd.jupyter.widget-view+json": {
       "model_id": "4ab3fd2529ea4a67b9d802453822672a",
       "version_major": 2,
       "version_minor": 0
      },
      "text/plain": [
       "Folds avaliados:   0%|          | 0/10 [00:00<?, ?it/s]"
      ]
     },
     "metadata": {},
     "output_type": "display_data"
    },
    {
     "name": "stdout",
     "output_type": "stream",
     "text": [
      "decil: 40\n",
      "Executando teste svm_mi (40%)\n"
     ]
    },
    {
     "data": {
      "application/vnd.jupyter.widget-view+json": {
       "model_id": "28554436d3e14f62ab87ecd73ff63b3f",
       "version_major": 2,
       "version_minor": 0
      },
      "text/plain": [
       "Folds avaliados:   0%|          | 0/10 [00:00<?, ?it/s]"
      ]
     },
     "metadata": {},
     "output_type": "display_data"
    },
    {
     "name": "stdout",
     "output_type": "stream",
     "text": [
      "Executando teste knn_mi (40%)\n"
     ]
    },
    {
     "data": {
      "application/vnd.jupyter.widget-view+json": {
       "model_id": "665048e17e484721b1381887bacce2a6",
       "version_major": 2,
       "version_minor": 0
      },
      "text/plain": [
       "Folds avaliados:   0%|          | 0/10 [00:00<?, ?it/s]"
      ]
     },
     "metadata": {},
     "output_type": "display_data"
    },
    {
     "name": "stdout",
     "output_type": "stream",
     "text": [
      "Executando teste rf_mi (40%)\n"
     ]
    },
    {
     "data": {
      "application/vnd.jupyter.widget-view+json": {
       "model_id": "b9bf2db875d646e48d2f31685e4909fc",
       "version_major": 2,
       "version_minor": 0
      },
      "text/plain": [
       "Folds avaliados:   0%|          | 0/10 [00:00<?, ?it/s]"
      ]
     },
     "metadata": {},
     "output_type": "display_data"
    },
    {
     "name": "stdout",
     "output_type": "stream",
     "text": [
      "decil: 50\n",
      "Executando teste svm_mi (50%)\n"
     ]
    },
    {
     "data": {
      "application/vnd.jupyter.widget-view+json": {
       "model_id": "71cfbc80e9904911b6b9a687be9e649d",
       "version_major": 2,
       "version_minor": 0
      },
      "text/plain": [
       "Folds avaliados:   0%|          | 0/10 [00:00<?, ?it/s]"
      ]
     },
     "metadata": {},
     "output_type": "display_data"
    },
    {
     "name": "stdout",
     "output_type": "stream",
     "text": [
      "Executando teste knn_mi (50%)\n"
     ]
    },
    {
     "data": {
      "application/vnd.jupyter.widget-view+json": {
       "model_id": "6718ef116f204f0398279e96d6b780e0",
       "version_major": 2,
       "version_minor": 0
      },
      "text/plain": [
       "Folds avaliados:   0%|          | 0/10 [00:00<?, ?it/s]"
      ]
     },
     "metadata": {},
     "output_type": "display_data"
    },
    {
     "name": "stdout",
     "output_type": "stream",
     "text": [
      "Executando teste rf_mi (50%)\n"
     ]
    },
    {
     "data": {
      "application/vnd.jupyter.widget-view+json": {
       "model_id": "f87691f7d3ee45178b2558cb452040ed",
       "version_major": 2,
       "version_minor": 0
      },
      "text/plain": [
       "Folds avaliados:   0%|          | 0/10 [00:00<?, ?it/s]"
      ]
     },
     "metadata": {},
     "output_type": "display_data"
    },
    {
     "name": "stdout",
     "output_type": "stream",
     "text": [
      "decil: 60\n",
      "Executando teste svm_mi (60%)\n"
     ]
    },
    {
     "data": {
      "application/vnd.jupyter.widget-view+json": {
       "model_id": "fe7fb8d9f98c42028d6eb90a593b025e",
       "version_major": 2,
       "version_minor": 0
      },
      "text/plain": [
       "Folds avaliados:   0%|          | 0/10 [00:00<?, ?it/s]"
      ]
     },
     "metadata": {},
     "output_type": "display_data"
    },
    {
     "name": "stdout",
     "output_type": "stream",
     "text": [
      "Executando teste knn_mi (60%)\n"
     ]
    },
    {
     "data": {
      "application/vnd.jupyter.widget-view+json": {
       "model_id": "ee99ee21059041a3824a7c02a3ccd5f7",
       "version_major": 2,
       "version_minor": 0
      },
      "text/plain": [
       "Folds avaliados:   0%|          | 0/10 [00:00<?, ?it/s]"
      ]
     },
     "metadata": {},
     "output_type": "display_data"
    },
    {
     "name": "stdout",
     "output_type": "stream",
     "text": [
      "Executando teste rf_mi (60%)\n"
     ]
    },
    {
     "data": {
      "application/vnd.jupyter.widget-view+json": {
       "model_id": "4112da4d7ab74b9294b7c49624333193",
       "version_major": 2,
       "version_minor": 0
      },
      "text/plain": [
       "Folds avaliados:   0%|          | 0/10 [00:00<?, ?it/s]"
      ]
     },
     "metadata": {},
     "output_type": "display_data"
    },
    {
     "name": "stdout",
     "output_type": "stream",
     "text": [
      "decil: 70\n",
      "Executando teste svm_mi (70%)\n"
     ]
    },
    {
     "data": {
      "application/vnd.jupyter.widget-view+json": {
       "model_id": "73f77981614d4cd59582c9c8d1a4a4d0",
       "version_major": 2,
       "version_minor": 0
      },
      "text/plain": [
       "Folds avaliados:   0%|          | 0/10 [00:00<?, ?it/s]"
      ]
     },
     "metadata": {},
     "output_type": "display_data"
    },
    {
     "name": "stdout",
     "output_type": "stream",
     "text": [
      "Executando teste knn_mi (70%)\n"
     ]
    },
    {
     "data": {
      "application/vnd.jupyter.widget-view+json": {
       "model_id": "4b7410bc496744cbbe4878a3ee438f6e",
       "version_major": 2,
       "version_minor": 0
      },
      "text/plain": [
       "Folds avaliados:   0%|          | 0/10 [00:00<?, ?it/s]"
      ]
     },
     "metadata": {},
     "output_type": "display_data"
    },
    {
     "name": "stdout",
     "output_type": "stream",
     "text": [
      "Executando teste rf_mi (70%)\n"
     ]
    },
    {
     "data": {
      "application/vnd.jupyter.widget-view+json": {
       "model_id": "557e36e3570645a1b0c3a6a9b4d40dc5",
       "version_major": 2,
       "version_minor": 0
      },
      "text/plain": [
       "Folds avaliados:   0%|          | 0/10 [00:00<?, ?it/s]"
      ]
     },
     "metadata": {},
     "output_type": "display_data"
    },
    {
     "name": "stdout",
     "output_type": "stream",
     "text": [
      "decil: 80\n",
      "Executando teste svm_mi (80%)\n"
     ]
    },
    {
     "data": {
      "application/vnd.jupyter.widget-view+json": {
       "model_id": "2ebf15e2c51d4dc9876b1b04050cb42b",
       "version_major": 2,
       "version_minor": 0
      },
      "text/plain": [
       "Folds avaliados:   0%|          | 0/10 [00:00<?, ?it/s]"
      ]
     },
     "metadata": {},
     "output_type": "display_data"
    },
    {
     "name": "stdout",
     "output_type": "stream",
     "text": [
      "Executando teste knn_mi (80%)\n"
     ]
    },
    {
     "data": {
      "application/vnd.jupyter.widget-view+json": {
       "model_id": "21e731d352024e7f8b386f77310cc8d5",
       "version_major": 2,
       "version_minor": 0
      },
      "text/plain": [
       "Folds avaliados:   0%|          | 0/10 [00:00<?, ?it/s]"
      ]
     },
     "metadata": {},
     "output_type": "display_data"
    },
    {
     "name": "stdout",
     "output_type": "stream",
     "text": [
      "Executando teste rf_mi (80%)\n"
     ]
    },
    {
     "data": {
      "application/vnd.jupyter.widget-view+json": {
       "model_id": "92dc321390254c1b849d37af25b57095",
       "version_major": 2,
       "version_minor": 0
      },
      "text/plain": [
       "Folds avaliados:   0%|          | 0/10 [00:00<?, ?it/s]"
      ]
     },
     "metadata": {},
     "output_type": "display_data"
    },
    {
     "name": "stdout",
     "output_type": "stream",
     "text": [
      "decil: 90\n",
      "Executando teste svm_mi (90%)\n"
     ]
    },
    {
     "data": {
      "application/vnd.jupyter.widget-view+json": {
       "model_id": "afd975282c4a4431adfa57db4069ee45",
       "version_major": 2,
       "version_minor": 0
      },
      "text/plain": [
       "Folds avaliados:   0%|          | 0/10 [00:00<?, ?it/s]"
      ]
     },
     "metadata": {},
     "output_type": "display_data"
    },
    {
     "name": "stdout",
     "output_type": "stream",
     "text": [
      "Executando teste knn_mi (90%)\n"
     ]
    },
    {
     "data": {
      "application/vnd.jupyter.widget-view+json": {
       "model_id": "0d48ff9573764ac3976aa2bf385f2799",
       "version_major": 2,
       "version_minor": 0
      },
      "text/plain": [
       "Folds avaliados:   0%|          | 0/10 [00:00<?, ?it/s]"
      ]
     },
     "metadata": {},
     "output_type": "display_data"
    },
    {
     "name": "stdout",
     "output_type": "stream",
     "text": [
      "Executando teste rf_mi (90%)\n"
     ]
    },
    {
     "data": {
      "application/vnd.jupyter.widget-view+json": {
       "model_id": "9d97c21da900465f817989751cb33c95",
       "version_major": 2,
       "version_minor": 0
      },
      "text/plain": [
       "Folds avaliados:   0%|          | 0/10 [00:00<?, ?it/s]"
      ]
     },
     "metadata": {},
     "output_type": "display_data"
    }
   ],
   "source": [
    "for decil in (np.arange(10)*10)[1:]:\n",
    "    print(\"decil: %d\" % (decil))\n",
    "    sp = SelectPercentile(mutual_info_classif, percentile=decil)\n",
    "    for nome, classificador, scale, params in testes:\n",
    "        nome = \"%s_mi (%d%%)\" % (nome, decil)\n",
    "        print(\"Executando teste %s\" % (nome))\n",
    "        r = do_cv(classificador, X, y, 10, 10, 8, scale, ctimp, sp, params)\n",
    "        resultados[nome] = r"
   ]
  },
  {
   "cell_type": "code",
   "execution_count": 35,
   "id": "5f0af266",
   "metadata": {},
   "outputs": [
    {
     "name": "stdout",
     "output_type": "stream",
     "text": [
      "       knn - Resultados: 0.48 +- 0.08, min: 0.36, max: 0.58\n",
      "knn_an (10%) - Resultados: 0.62 +- 0.10, min: 0.46, max: 0.75\n",
      "knn_an (20%) - Resultados: 0.61 +- 0.08, min: 0.42, max: 0.72\n",
      "knn_an (30%) - Resultados: 0.63 +- 0.08, min: 0.51, max: 0.76\n",
      "knn_an (40%) - Resultados: 0.56 +- 0.14, min: 0.32, max: 0.74\n",
      "knn_an (50%) - Resultados: 0.52 +- 0.14, min: 0.28, max: 0.69\n",
      "knn_an (60%) - Resultados: 0.56 +- 0.09, min: 0.39, max: 0.69\n",
      "knn_an (70%) - Resultados: 0.55 +- 0.09, min: 0.41, max: 0.67\n",
      "knn_an (80%) - Resultados: 0.54 +- 0.12, min: 0.32, max: 0.67\n",
      "knn_an (90%) - Resultados: 0.49 +- 0.09, min: 0.36, max: 0.58\n",
      "knn_mi (10%) - Resultados: 0.60 +- 0.09, min: 0.37, max: 0.75\n",
      "knn_mi (20%) - Resultados: 0.57 +- 0.06, min: 0.50, max: 0.69\n",
      "knn_mi (30%) - Resultados: 0.56 +- 0.08, min: 0.41, max: 0.67\n",
      "knn_mi (40%) - Resultados: 0.57 +- 0.11, min: 0.33, max: 0.79\n",
      "knn_mi (50%) - Resultados: 0.52 +- 0.12, min: 0.27, max: 0.74\n",
      "knn_mi (60%) - Resultados: 0.56 +- 0.10, min: 0.35, max: 0.71\n",
      "knn_mi (70%) - Resultados: 0.56 +- 0.11, min: 0.33, max: 0.72\n",
      "knn_mi (80%) - Resultados: 0.56 +- 0.10, min: 0.37, max: 0.67\n",
      "knn_mi (90%) - Resultados: 0.50 +- 0.08, min: 0.37, max: 0.60\n",
      "  knn_vt=0 - Resultados: 0.48 +- 0.08, min: 0.36, max: 0.58\n",
      "knn_vtd (10%) - Resultados: 0.48 +- 0.08, min: 0.36, max: 0.58\n",
      "knn_vtd (20%) - Resultados: 0.48 +- 0.08, min: 0.36, max: 0.58\n",
      "knn_vtd (30%) - Resultados: 0.48 +- 0.08, min: 0.36, max: 0.58\n",
      "knn_vtd (40%) - Resultados: 0.48 +- 0.08, min: 0.36, max: 0.58\n",
      "knn_vtd (50%) - Resultados: 0.48 +- 0.08, min: 0.36, max: 0.58\n",
      "knn_vtd (60%) - Resultados: 0.48 +- 0.08, min: 0.36, max: 0.58\n",
      "knn_vtd (70%) - Resultados: 0.48 +- 0.08, min: 0.36, max: 0.58\n",
      "knn_vtd (80%) - Resultados: 0.48 +- 0.08, min: 0.36, max: 0.58\n",
      "knn_vtd (90%) - Resultados: 0.48 +- 0.08, min: 0.36, max: 0.58\n",
      "        rf - Resultados: 0.75 +- 0.07, min: 0.60, max: 0.86\n",
      "rf_an (10%) - Resultados: 0.74 +- 0.10, min: 0.51, max: 0.85\n",
      "rf_an (20%) - Resultados: 0.76 +- 0.09, min: 0.65, max: 0.92\n",
      "rf_an (30%) - Resultados: 0.77 +- 0.08, min: 0.68, max: 0.92\n",
      "rf_an (40%) - Resultados: 0.78 +- 0.07, min: 0.68, max: 0.92\n",
      "rf_an (50%) - Resultados: 0.76 +- 0.09, min: 0.58, max: 0.89\n",
      "rf_an (60%) - Resultados: 0.76 +- 0.09, min: 0.61, max: 0.95\n",
      "rf_an (70%) - Resultados: 0.77 +- 0.06, min: 0.67, max: 0.87\n",
      "rf_an (80%) - Resultados: 0.77 +- 0.07, min: 0.65, max: 0.86\n",
      "rf_an (90%) - Resultados: 0.78 +- 0.08, min: 0.65, max: 0.90\n",
      "rf_mi (10%) - Resultados: 0.73 +- 0.12, min: 0.51, max: 0.92\n",
      "rf_mi (20%) - Resultados: 0.74 +- 0.11, min: 0.53, max: 0.90\n",
      "rf_mi (30%) - Resultados: 0.76 +- 0.07, min: 0.63, max: 0.87\n",
      "rf_mi (40%) - Resultados: 0.78 +- 0.09, min: 0.60, max: 0.89\n",
      "rf_mi (50%) - Resultados: 0.77 +- 0.07, min: 0.65, max: 0.89\n",
      "rf_mi (60%) - Resultados: 0.78 +- 0.06, min: 0.69, max: 0.89\n",
      "rf_mi (70%) - Resultados: 0.79 +- 0.08, min: 0.65, max: 0.92\n",
      "rf_mi (80%) - Resultados: 0.78 +- 0.08, min: 0.59, max: 0.89\n",
      "rf_mi (90%) - Resultados: 0.78 +- 0.09, min: 0.65, max: 0.95\n",
      "   rf_vt=0 - Resultados: 0.76 +- 0.09, min: 0.57, max: 0.89\n",
      "rf_vtd (10%) - Resultados: 0.75 +- 0.07, min: 0.60, max: 0.86\n",
      "rf_vtd (20%) - Resultados: 0.76 +- 0.09, min: 0.57, max: 0.89\n",
      "rf_vtd (30%) - Resultados: 0.76 +- 0.09, min: 0.57, max: 0.89\n",
      "rf_vtd (40%) - Resultados: 0.76 +- 0.09, min: 0.57, max: 0.89\n",
      "rf_vtd (50%) - Resultados: 0.76 +- 0.09, min: 0.57, max: 0.89\n",
      "rf_vtd (60%) - Resultados: 0.76 +- 0.09, min: 0.57, max: 0.89\n",
      "rf_vtd (70%) - Resultados: 0.78 +- 0.08, min: 0.61, max: 0.88\n",
      "rf_vtd (80%) - Resultados: 0.72 +- 0.08, min: 0.55, max: 0.83\n",
      "rf_vtd (90%) - Resultados: 0.73 +- 0.09, min: 0.56, max: 0.86\n",
      "       svm - Resultados: 0.71 +- 0.13, min: 0.38, max: 0.88\n",
      "svm_an (10%) - Resultados: 0.71 +- 0.10, min: 0.56, max: 0.81\n",
      "svm_an (20%) - Resultados: 0.71 +- 0.09, min: 0.53, max: 0.84\n",
      "svm_an (30%) - Resultados: 0.69 +- 0.09, min: 0.53, max: 0.87\n",
      "svm_an (40%) - Resultados: 0.74 +- 0.07, min: 0.59, max: 0.84\n",
      "svm_an (50%) - Resultados: 0.73 +- 0.07, min: 0.59, max: 0.84\n",
      "svm_an (60%) - Resultados: 0.71 +- 0.08, min: 0.55, max: 0.84\n",
      "svm_an (70%) - Resultados: 0.69 +- 0.11, min: 0.51, max: 0.85\n",
      "svm_an (80%) - Resultados: 0.71 +- 0.11, min: 0.44, max: 0.85\n",
      "svm_an (90%) - Resultados: 0.72 +- 0.10, min: 0.53, max: 0.88\n",
      "svm_mi (10%) - Resultados: 0.69 +- 0.08, min: 0.58, max: 0.86\n",
      "svm_mi (20%) - Resultados: 0.72 +- 0.10, min: 0.53, max: 0.86\n",
      "svm_mi (30%) - Resultados: 0.69 +- 0.09, min: 0.51, max: 0.84\n",
      "svm_mi (40%) - Resultados: 0.72 +- 0.10, min: 0.50, max: 0.86\n",
      "svm_mi (50%) - Resultados: 0.70 +- 0.09, min: 0.51, max: 0.81\n",
      "svm_mi (60%) - Resultados: 0.72 +- 0.12, min: 0.42, max: 0.86\n",
      "svm_mi (70%) - Resultados: 0.71 +- 0.07, min: 0.56, max: 0.86\n",
      "svm_mi (80%) - Resultados: 0.71 +- 0.13, min: 0.39, max: 0.88\n",
      "svm_mi (90%) - Resultados: 0.69 +- 0.11, min: 0.42, max: 0.82\n",
      "  svm_vt=0 - Resultados: 0.71 +- 0.13, min: 0.38, max: 0.88\n",
      "svm_vtd (10%) - Resultados: 0.71 +- 0.13, min: 0.38, max: 0.88\n",
      "svm_vtd (20%) - Resultados: 0.71 +- 0.13, min: 0.38, max: 0.88\n",
      "svm_vtd (30%) - Resultados: 0.71 +- 0.13, min: 0.38, max: 0.88\n",
      "svm_vtd (40%) - Resultados: 0.71 +- 0.13, min: 0.38, max: 0.88\n",
      "svm_vtd (50%) - Resultados: 0.71 +- 0.13, min: 0.38, max: 0.88\n",
      "svm_vtd (60%) - Resultados: 0.70 +- 0.13, min: 0.38, max: 0.88\n",
      "svm_vtd (70%) - Resultados: 0.71 +- 0.13, min: 0.38, max: 0.88\n",
      "svm_vtd (80%) - Resultados: 0.71 +- 0.13, min: 0.38, max: 0.88\n",
      "svm_vtd (90%) - Resultados: 0.71 +- 0.13, min: 0.38, max: 0.88\n",
      "\n",
      "                knn          rf         svm     \n",
      "    knn         1.00     0.00 (*<)   0.00 (*<)  \n",
      "knn_an (10%) 0.00 (*>)   0.00 (*<)      0.11    \n",
      "knn_an (20%) 0.00 (*>)   0.00 (*<)      0.07    \n",
      "knn_an (30%) 0.00 (*>)   0.00 (*<)      0.13    \n",
      "knn_an (40%)    0.14     0.00 (*<)   0.02 (*<)  \n",
      "knn_an (50%)    0.37     0.00 (*<)   0.01 (*<)  \n",
      "knn_an (60%)    0.06     0.00 (*<)   0.01 (*<)  \n",
      "knn_an (70%)    0.07     0.00 (*<)   0.01 (*<)  \n",
      "knn_an (80%)    0.20     0.00 (*<)   0.01 (*<)  \n",
      "knn_an (90%)    0.66     0.00 (*<)   0.00 (*<)  \n",
      "knn_mi (10%) 0.01 (*>)   0.00 (*<)   0.04 (*<)  \n",
      "knn_mi (20%) 0.01 (*>)   0.00 (*<)   0.01 (*<)  \n",
      "knn_mi (30%) 0.04 (*>)   0.00 (*<)   0.01 (*<)  \n",
      "knn_mi (40%) 0.04 (*>)   0.00 (*<)   0.02 (*<)  \n",
      "knn_mi (50%)    0.40     0.00 (*<)   0.00 (*<)  \n",
      "knn_mi (60%)    0.07     0.00 (*<)   0.01 (*<)  \n",
      "knn_mi (70%)    0.08     0.00 (*<)   0.01 (*<)  \n",
      "knn_mi (80%)    0.06     0.00 (*<)   0.01 (*<)  \n",
      "knn_mi (90%)    0.52     0.00 (*<)   0.00 (*<)  \n",
      "  knn_vt=0      1.00     0.00 (*<)   0.00 (*<)  \n",
      "knn_vtd (10%)    1.00     0.00 (*<)   0.00 (*<)  \n",
      "knn_vtd (20%)    1.00     0.00 (*<)   0.00 (*<)  \n",
      "knn_vtd (30%)    1.00     0.00 (*<)   0.00 (*<)  \n",
      "knn_vtd (40%)    1.00     0.00 (*<)   0.00 (*<)  \n",
      "knn_vtd (50%)    1.00     0.00 (*<)   0.00 (*<)  \n",
      "knn_vtd (60%)    1.00     0.00 (*<)   0.00 (*<)  \n",
      "knn_vtd (70%)    1.00     0.00 (*<)   0.00 (*<)  \n",
      "knn_vtd (80%)    1.00     0.00 (*<)   0.00 (*<)  \n",
      "knn_vtd (90%)    1.00     0.00 (*<)   0.00 (*<)  \n",
      "     rf      0.00 (*>)      1.00        0.33    \n",
      "rf_an (10%)  0.00 (*>)      0.72        0.53    \n",
      "rf_an (20%)  0.00 (*>)      0.83        0.29    \n",
      "rf_an (30%)  0.00 (*>)      0.55        0.19    \n",
      "rf_an (40%)  0.00 (*>)      0.47        0.16    \n",
      "rf_an (50%)  0.00 (*>)      0.87        0.31    \n",
      "rf_an (60%)  0.00 (*>)      0.87        0.31    \n",
      "rf_an (70%)  0.00 (*>)      0.64        0.21    \n",
      "rf_an (80%)  0.00 (*>)      0.71        0.24    \n",
      "rf_an (90%)  0.00 (*>)      0.48        0.17    \n",
      "rf_mi (10%)  0.00 (*>)      0.54        0.72    \n",
      "rf_mi (20%)  0.00 (*>)      0.72        0.56    \n",
      "rf_mi (30%)  0.00 (*>)      0.96        0.31    \n",
      "rf_mi (40%)  0.00 (*>)      0.51        0.18    \n",
      "rf_mi (50%)  0.00 (*>)      0.62        0.21    \n",
      "rf_mi (60%)  0.00 (*>)      0.43        0.15    \n",
      "rf_mi (70%)  0.00 (*>)      0.28        0.11    \n",
      "rf_mi (80%)  0.00 (*>)      0.50        0.17    \n",
      "rf_mi (90%)  0.00 (*>)      0.49        0.17    \n",
      "  rf_vt=0    0.00 (*>)      0.88        0.32    \n",
      "rf_vtd (10%) 0.00 (*>)      1.00        0.33    \n",
      "rf_vtd (20%) 0.00 (*>)      0.88        0.32    \n",
      "rf_vtd (30%) 0.00 (*>)      0.88        0.32    \n",
      "rf_vtd (40%) 0.00 (*>)      0.88        0.32    \n",
      "rf_vtd (50%) 0.00 (*>)      0.88        0.32    \n",
      "rf_vtd (60%) 0.00 (*>)      0.88        0.32    \n",
      "rf_vtd (70%) 0.00 (*>)      0.46        0.16    \n",
      "rf_vtd (80%) 0.00 (*>)      0.31        0.81    \n",
      "rf_vtd (90%) 0.00 (*>)      0.48        0.68    \n",
      "    svm      0.00 (*>)      0.33        1.00    \n",
      "svm_an (10%) 0.00 (*>)      0.25        0.95    \n",
      "svm_an (20%) 0.00 (*>)      0.19        0.99    \n",
      "svm_an (30%) 0.00 (*>)      0.11        0.81    \n",
      "svm_an (40%) 0.00 (*>)      0.67        0.49    \n",
      "svm_an (50%) 0.00 (*>)      0.43        0.64    \n",
      "svm_an (60%) 0.00 (*>)      0.20        0.96    \n",
      "svm_an (70%) 0.00 (*>)      0.13        0.76    \n",
      "svm_an (80%) 0.00 (*>)      0.26        0.99    \n",
      "svm_an (90%) 0.00 (*>)      0.33        0.88    \n",
      "svm_mi (10%) 0.00 (*>)      0.07        0.70    \n",
      "svm_mi (20%) 0.00 (*>)      0.36        0.81    \n",
      "svm_mi (30%) 0.00 (*>)      0.09        0.77    \n",
      "svm_mi (40%) 0.00 (*>)      0.37        0.83    \n",
      "svm_mi (50%) 0.00 (*>)      0.13        0.87    \n",
      "svm_mi (60%) 0.00 (*>)      0.49        0.78    \n",
      "svm_mi (70%) 0.00 (*>)      0.19        0.94    \n",
      "svm_mi (80%) 0.00 (*>)      0.38        0.91    \n",
      "svm_mi (90%) 0.00 (*>)      0.13        0.74    \n",
      "  svm_vt=0   0.00 (*>)      0.33        0.99    \n",
      "svm_vtd (10%) 0.00 (*>)      0.33        1.00    \n",
      "svm_vtd (20%) 0.00 (*>)      0.33        1.00    \n",
      "svm_vtd (30%) 0.00 (*>)      0.33        1.00    \n",
      "svm_vtd (40%) 0.00 (*>)      0.33        1.00    \n",
      "svm_vtd (50%) 0.00 (*>)      0.33        1.00    \n",
      "svm_vtd (60%) 0.00 (*>)      0.30        0.96    \n",
      "svm_vtd (70%) 0.00 (*>)      0.33        0.99    \n",
      "svm_vtd (80%) 0.00 (*>)      0.33        0.99    \n",
      "svm_vtd (90%) 0.00 (*>)      0.33        0.99    \n"
     ]
    }
   ],
   "source": [
    "for teste in sorted(resultados):\n",
    "    print(teste.rjust(10), end=' - ')\n",
    "    imprimir_estatisticas(resultados[teste])\n",
    "\n",
    "print()\n",
    "\n",
    "print_t_tests(resultados, alpha=0.05, cols=[\"knn\", \"rf\", \"svm\"])"
   ]
  },
  {
   "cell_type": "markdown",
   "id": "3aa021f7",
   "metadata": {},
   "source": [
    "# Usando múltiplos métodos de seleção de características em sequência"
   ]
  },
  {
   "cell_type": "code",
   "execution_count": null,
   "id": "f841581b",
   "metadata": {},
   "outputs": [],
   "source": []
  }
 ],
 "metadata": {
  "kernelspec": {
   "display_name": "Python 3 (ipykernel)",
   "language": "python",
   "name": "python3"
  },
  "language_info": {
   "codemirror_mode": {
    "name": "ipython",
    "version": 3
   },
   "file_extension": ".py",
   "mimetype": "text/x-python",
   "name": "python",
   "nbconvert_exporter": "python",
   "pygments_lexer": "ipython3",
   "version": "3.10.6"
  }
 },
 "nbformat": 4,
 "nbformat_minor": 5
}
