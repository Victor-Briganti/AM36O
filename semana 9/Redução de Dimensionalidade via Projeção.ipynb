{
 "cells": [
  {
   "cell_type": "code",
   "execution_count": 29,
   "id": "70cd3dc5-e683-4911-a261-4293511c3ec9",
   "metadata": {},
   "outputs": [],
   "source": [
    "import pandas as pd\n",
    "import numpy as np\n",
    "import seaborn as sns\n",
    "import matplotlib.pyplot as plt\n",
    "from sklearn.compose import ColumnTransformer\n",
    "from sklearn.preprocessing import OneHotEncoder\n",
    "from utils import calcular_estatisticas, imprimir_estatisticas, rejeitar_hip_nula, do_cv, print_t_tests"
   ]
  },
  {
   "cell_type": "code",
   "execution_count": 30,
   "id": "3694e4e1-3b58-4fc8-b850-d2d091ef6821",
   "metadata": {},
   "outputs": [
    {
     "data": {
      "text/plain": [
       "(452, 280)"
      ]
     },
     "execution_count": 30,
     "metadata": {},
     "output_type": "execute_result"
    }
   ],
   "source": [
    "df = pd.read_csv('arrhythmia.csv')\n",
    "df.shape"
   ]
  },
  {
   "cell_type": "code",
   "execution_count": 31,
   "id": "11842bdd-e9aa-4d29-b309-d1a1fe2e26e0",
   "metadata": {},
   "outputs": [
    {
     "data": {
      "text/plain": [
       "[('T', 8), ('P', 22), ('QRST', 1), ('J', 376), ('heartrate', 1)]"
      ]
     },
     "execution_count": 31,
     "metadata": {},
     "output_type": "execute_result"
    }
   ],
   "source": [
    "[(i, df[i].isnull().sum()) for i in df.columns if df[i].isnull().any()]"
   ]
  },
  {
   "cell_type": "code",
   "execution_count": 32,
   "id": "0cd1031e-b591-4119-88be-f32f20226957",
   "metadata": {},
   "outputs": [
    {
     "data": {
      "text/plain": [
       "(452, 279)"
      ]
     },
     "execution_count": 32,
     "metadata": {},
     "output_type": "execute_result"
    }
   ],
   "source": [
    "df.drop('J', axis=1, inplace=True)\n",
    "df.shape"
   ]
  },
  {
   "cell_type": "code",
   "execution_count": 33,
   "id": "0bdd6d4f-1c4d-47d0-ad7f-d3d4b3cb1972",
   "metadata": {},
   "outputs": [],
   "source": [
    "X = df.drop('class', axis=1)\n",
    "y = df['class'].values.ravel()\n",
    "y-=1\n",
    "y[y>0] = 1"
   ]
  },
  {
   "cell_type": "code",
   "execution_count": 34,
   "id": "74c7b19c-1ef5-4966-a835-1083a2d9588d",
   "metadata": {},
   "outputs": [
    {
     "data": {
      "text/plain": [
       "(array([0, 1]), array([245, 207]))"
      ]
     },
     "execution_count": 34,
     "metadata": {},
     "output_type": "execute_result"
    }
   ],
   "source": [
    "np.unique(y, return_counts=True)"
   ]
  },
  {
   "cell_type": "markdown",
   "id": "c2c8c15c-5195-4896-b86e-600b6fdb76a6",
   "metadata": {},
   "source": [
    "# Codificação de atributos nominais"
   ]
  },
  {
   "cell_type": "code",
   "execution_count": 35,
   "id": "619e619b-e1da-4a5b-ba97-e1372ec0fe5d",
   "metadata": {},
   "outputs": [],
   "source": [
    "#%timeit [i for i in df.columns if 'Exists' in i]"
   ]
  },
  {
   "cell_type": "code",
   "execution_count": 36,
   "id": "84292fa6-53c5-49ad-9c8c-1edfd337396a",
   "metadata": {},
   "outputs": [],
   "source": [
    "#%timeit list(filter(lambda x: 'Exists' in x, df.columns))"
   ]
  },
  {
   "cell_type": "code",
   "execution_count": 37,
   "id": "e674d0aa-f60d-45ad-8860-0f6d70f56a2c",
   "metadata": {},
   "outputs": [],
   "source": [
    "#pegando o nome de todas as colunas nominais\n",
    "nominais = ['sex', *[i for i in df.columns if 'Exists' in i]]"
   ]
  },
  {
   "cell_type": "code",
   "execution_count": 40,
   "id": "d37394d2-7c11-4d92-b4cf-7802ed66cf13",
   "metadata": {},
   "outputs": [
    {
     "data": {
      "text/html": [
       "<div>\n",
       "<style scoped>\n",
       "    .dataframe tbody tr th:only-of-type {\n",
       "        vertical-align: middle;\n",
       "    }\n",
       "\n",
       "    .dataframe tbody tr th {\n",
       "        vertical-align: top;\n",
       "    }\n",
       "\n",
       "    .dataframe thead th {\n",
       "        text-align: right;\n",
       "    }\n",
       "</style>\n",
       "<table border=\"1\" class=\"dataframe\">\n",
       "  <thead>\n",
       "    <tr style=\"text-align: right;\">\n",
       "      <th></th>\n",
       "      <th>sex_0</th>\n",
       "      <th>sex_1</th>\n",
       "      <th>chDI_RRwaveExists_0</th>\n",
       "      <th>chDI_RRwaveExists_1</th>\n",
       "      <th>chDI_DD_RRwaveExists_0</th>\n",
       "      <th>chDI_DD_RRwaveExists_1</th>\n",
       "      <th>chDI_RPwaveExists_0</th>\n",
       "      <th>chDI_RPwaveExists_1</th>\n",
       "      <th>chDI_DD_RPwaveExists_0</th>\n",
       "      <th>chDI_DD_RPwaveExists_1</th>\n",
       "      <th>...</th>\n",
       "      <th>chV6_JJwaveAmp</th>\n",
       "      <th>chV6_QwaveAmp</th>\n",
       "      <th>chV6_RwaveAmp</th>\n",
       "      <th>chV6_SwaveAmp</th>\n",
       "      <th>chV6_RPwaveAmp</th>\n",
       "      <th>chV6_SPwaveAmp</th>\n",
       "      <th>chV6_PwaveAmp</th>\n",
       "      <th>chV6_TwaveAmp</th>\n",
       "      <th>chV6_QRSA</th>\n",
       "      <th>chV6_QRSTA</th>\n",
       "    </tr>\n",
       "  </thead>\n",
       "  <tbody>\n",
       "    <tr>\n",
       "      <th>0</th>\n",
       "      <td>1.0</td>\n",
       "      <td>0.0</td>\n",
       "      <td>1.0</td>\n",
       "      <td>0.0</td>\n",
       "      <td>1.0</td>\n",
       "      <td>0.0</td>\n",
       "      <td>1.0</td>\n",
       "      <td>0.0</td>\n",
       "      <td>1.0</td>\n",
       "      <td>0.0</td>\n",
       "      <td>...</td>\n",
       "      <td>-0.3</td>\n",
       "      <td>0.0</td>\n",
       "      <td>9.0</td>\n",
       "      <td>-0.9</td>\n",
       "      <td>0.0</td>\n",
       "      <td>0.0</td>\n",
       "      <td>0.9</td>\n",
       "      <td>2.9</td>\n",
       "      <td>23.3</td>\n",
       "      <td>49.4</td>\n",
       "    </tr>\n",
       "    <tr>\n",
       "      <th>1</th>\n",
       "      <td>0.0</td>\n",
       "      <td>1.0</td>\n",
       "      <td>1.0</td>\n",
       "      <td>0.0</td>\n",
       "      <td>1.0</td>\n",
       "      <td>0.0</td>\n",
       "      <td>1.0</td>\n",
       "      <td>0.0</td>\n",
       "      <td>1.0</td>\n",
       "      <td>0.0</td>\n",
       "      <td>...</td>\n",
       "      <td>-0.5</td>\n",
       "      <td>0.0</td>\n",
       "      <td>8.5</td>\n",
       "      <td>0.0</td>\n",
       "      <td>0.0</td>\n",
       "      <td>0.0</td>\n",
       "      <td>0.2</td>\n",
       "      <td>2.1</td>\n",
       "      <td>20.4</td>\n",
       "      <td>38.8</td>\n",
       "    </tr>\n",
       "    <tr>\n",
       "      <th>2</th>\n",
       "      <td>1.0</td>\n",
       "      <td>0.0</td>\n",
       "      <td>1.0</td>\n",
       "      <td>0.0</td>\n",
       "      <td>1.0</td>\n",
       "      <td>0.0</td>\n",
       "      <td>1.0</td>\n",
       "      <td>0.0</td>\n",
       "      <td>1.0</td>\n",
       "      <td>0.0</td>\n",
       "      <td>...</td>\n",
       "      <td>0.9</td>\n",
       "      <td>0.0</td>\n",
       "      <td>9.5</td>\n",
       "      <td>-2.4</td>\n",
       "      <td>0.0</td>\n",
       "      <td>0.0</td>\n",
       "      <td>0.3</td>\n",
       "      <td>3.4</td>\n",
       "      <td>12.3</td>\n",
       "      <td>49.0</td>\n",
       "    </tr>\n",
       "    <tr>\n",
       "      <th>3</th>\n",
       "      <td>1.0</td>\n",
       "      <td>0.0</td>\n",
       "      <td>1.0</td>\n",
       "      <td>0.0</td>\n",
       "      <td>1.0</td>\n",
       "      <td>0.0</td>\n",
       "      <td>1.0</td>\n",
       "      <td>0.0</td>\n",
       "      <td>1.0</td>\n",
       "      <td>0.0</td>\n",
       "      <td>...</td>\n",
       "      <td>0.1</td>\n",
       "      <td>0.0</td>\n",
       "      <td>12.2</td>\n",
       "      <td>-2.2</td>\n",
       "      <td>0.0</td>\n",
       "      <td>0.0</td>\n",
       "      <td>0.4</td>\n",
       "      <td>2.6</td>\n",
       "      <td>34.6</td>\n",
       "      <td>61.6</td>\n",
       "    </tr>\n",
       "    <tr>\n",
       "      <th>4</th>\n",
       "      <td>1.0</td>\n",
       "      <td>0.0</td>\n",
       "      <td>1.0</td>\n",
       "      <td>0.0</td>\n",
       "      <td>1.0</td>\n",
       "      <td>0.0</td>\n",
       "      <td>1.0</td>\n",
       "      <td>0.0</td>\n",
       "      <td>1.0</td>\n",
       "      <td>0.0</td>\n",
       "      <td>...</td>\n",
       "      <td>-0.4</td>\n",
       "      <td>0.0</td>\n",
       "      <td>13.1</td>\n",
       "      <td>-3.6</td>\n",
       "      <td>0.0</td>\n",
       "      <td>0.0</td>\n",
       "      <td>-0.1</td>\n",
       "      <td>3.9</td>\n",
       "      <td>25.4</td>\n",
       "      <td>62.8</td>\n",
       "    </tr>\n",
       "    <tr>\n",
       "      <th>...</th>\n",
       "      <td>...</td>\n",
       "      <td>...</td>\n",
       "      <td>...</td>\n",
       "      <td>...</td>\n",
       "      <td>...</td>\n",
       "      <td>...</td>\n",
       "      <td>...</td>\n",
       "      <td>...</td>\n",
       "      <td>...</td>\n",
       "      <td>...</td>\n",
       "      <td>...</td>\n",
       "      <td>...</td>\n",
       "      <td>...</td>\n",
       "      <td>...</td>\n",
       "      <td>...</td>\n",
       "      <td>...</td>\n",
       "      <td>...</td>\n",
       "      <td>...</td>\n",
       "      <td>...</td>\n",
       "      <td>...</td>\n",
       "      <td>...</td>\n",
       "    </tr>\n",
       "    <tr>\n",
       "      <th>447</th>\n",
       "      <td>0.0</td>\n",
       "      <td>1.0</td>\n",
       "      <td>1.0</td>\n",
       "      <td>0.0</td>\n",
       "      <td>1.0</td>\n",
       "      <td>0.0</td>\n",
       "      <td>1.0</td>\n",
       "      <td>0.0</td>\n",
       "      <td>1.0</td>\n",
       "      <td>0.0</td>\n",
       "      <td>...</td>\n",
       "      <td>0.0</td>\n",
       "      <td>0.0</td>\n",
       "      <td>4.3</td>\n",
       "      <td>-5.0</td>\n",
       "      <td>0.0</td>\n",
       "      <td>0.0</td>\n",
       "      <td>0.7</td>\n",
       "      <td>0.6</td>\n",
       "      <td>-4.4</td>\n",
       "      <td>-0.5</td>\n",
       "    </tr>\n",
       "    <tr>\n",
       "      <th>448</th>\n",
       "      <td>1.0</td>\n",
       "      <td>0.0</td>\n",
       "      <td>1.0</td>\n",
       "      <td>0.0</td>\n",
       "      <td>1.0</td>\n",
       "      <td>0.0</td>\n",
       "      <td>1.0</td>\n",
       "      <td>0.0</td>\n",
       "      <td>1.0</td>\n",
       "      <td>0.0</td>\n",
       "      <td>...</td>\n",
       "      <td>-0.5</td>\n",
       "      <td>0.0</td>\n",
       "      <td>15.6</td>\n",
       "      <td>-1.6</td>\n",
       "      <td>0.0</td>\n",
       "      <td>0.0</td>\n",
       "      <td>0.4</td>\n",
       "      <td>2.4</td>\n",
       "      <td>38.0</td>\n",
       "      <td>62.4</td>\n",
       "    </tr>\n",
       "    <tr>\n",
       "      <th>449</th>\n",
       "      <td>1.0</td>\n",
       "      <td>0.0</td>\n",
       "      <td>1.0</td>\n",
       "      <td>0.0</td>\n",
       "      <td>1.0</td>\n",
       "      <td>0.0</td>\n",
       "      <td>1.0</td>\n",
       "      <td>0.0</td>\n",
       "      <td>1.0</td>\n",
       "      <td>0.0</td>\n",
       "      <td>...</td>\n",
       "      <td>1.2</td>\n",
       "      <td>0.0</td>\n",
       "      <td>16.3</td>\n",
       "      <td>-28.6</td>\n",
       "      <td>0.0</td>\n",
       "      <td>0.0</td>\n",
       "      <td>1.5</td>\n",
       "      <td>1.0</td>\n",
       "      <td>-44.2</td>\n",
       "      <td>-33.2</td>\n",
       "    </tr>\n",
       "    <tr>\n",
       "      <th>450</th>\n",
       "      <td>0.0</td>\n",
       "      <td>1.0</td>\n",
       "      <td>1.0</td>\n",
       "      <td>0.0</td>\n",
       "      <td>1.0</td>\n",
       "      <td>0.0</td>\n",
       "      <td>1.0</td>\n",
       "      <td>0.0</td>\n",
       "      <td>1.0</td>\n",
       "      <td>0.0</td>\n",
       "      <td>...</td>\n",
       "      <td>0.2</td>\n",
       "      <td>-0.4</td>\n",
       "      <td>12.0</td>\n",
       "      <td>-0.7</td>\n",
       "      <td>0.0</td>\n",
       "      <td>0.0</td>\n",
       "      <td>0.5</td>\n",
       "      <td>2.4</td>\n",
       "      <td>25.0</td>\n",
       "      <td>46.6</td>\n",
       "    </tr>\n",
       "    <tr>\n",
       "      <th>451</th>\n",
       "      <td>0.0</td>\n",
       "      <td>1.0</td>\n",
       "      <td>1.0</td>\n",
       "      <td>0.0</td>\n",
       "      <td>1.0</td>\n",
       "      <td>0.0</td>\n",
       "      <td>1.0</td>\n",
       "      <td>0.0</td>\n",
       "      <td>1.0</td>\n",
       "      <td>0.0</td>\n",
       "      <td>...</td>\n",
       "      <td>-0.3</td>\n",
       "      <td>0.0</td>\n",
       "      <td>10.4</td>\n",
       "      <td>-1.8</td>\n",
       "      <td>0.0</td>\n",
       "      <td>0.0</td>\n",
       "      <td>0.5</td>\n",
       "      <td>1.6</td>\n",
       "      <td>21.3</td>\n",
       "      <td>32.8</td>\n",
       "    </tr>\n",
       "  </tbody>\n",
       "</table>\n",
       "<p>452 rows × 342 columns</p>\n",
       "</div>"
      ],
      "text/plain": [
       "     sex_0  sex_1  chDI_RRwaveExists_0  chDI_RRwaveExists_1  \\\n",
       "0      1.0    0.0                  1.0                  0.0   \n",
       "1      0.0    1.0                  1.0                  0.0   \n",
       "2      1.0    0.0                  1.0                  0.0   \n",
       "3      1.0    0.0                  1.0                  0.0   \n",
       "4      1.0    0.0                  1.0                  0.0   \n",
       "..     ...    ...                  ...                  ...   \n",
       "447    0.0    1.0                  1.0                  0.0   \n",
       "448    1.0    0.0                  1.0                  0.0   \n",
       "449    1.0    0.0                  1.0                  0.0   \n",
       "450    0.0    1.0                  1.0                  0.0   \n",
       "451    0.0    1.0                  1.0                  0.0   \n",
       "\n",
       "     chDI_DD_RRwaveExists_0  chDI_DD_RRwaveExists_1  chDI_RPwaveExists_0  \\\n",
       "0                       1.0                     0.0                  1.0   \n",
       "1                       1.0                     0.0                  1.0   \n",
       "2                       1.0                     0.0                  1.0   \n",
       "3                       1.0                     0.0                  1.0   \n",
       "4                       1.0                     0.0                  1.0   \n",
       "..                      ...                     ...                  ...   \n",
       "447                     1.0                     0.0                  1.0   \n",
       "448                     1.0                     0.0                  1.0   \n",
       "449                     1.0                     0.0                  1.0   \n",
       "450                     1.0                     0.0                  1.0   \n",
       "451                     1.0                     0.0                  1.0   \n",
       "\n",
       "     chDI_RPwaveExists_1  chDI_DD_RPwaveExists_0  chDI_DD_RPwaveExists_1  ...  \\\n",
       "0                    0.0                     1.0                     0.0  ...   \n",
       "1                    0.0                     1.0                     0.0  ...   \n",
       "2                    0.0                     1.0                     0.0  ...   \n",
       "3                    0.0                     1.0                     0.0  ...   \n",
       "4                    0.0                     1.0                     0.0  ...   \n",
       "..                   ...                     ...                     ...  ...   \n",
       "447                  0.0                     1.0                     0.0  ...   \n",
       "448                  0.0                     1.0                     0.0  ...   \n",
       "449                  0.0                     1.0                     0.0  ...   \n",
       "450                  0.0                     1.0                     0.0  ...   \n",
       "451                  0.0                     1.0                     0.0  ...   \n",
       "\n",
       "     chV6_JJwaveAmp  chV6_QwaveAmp  chV6_RwaveAmp  chV6_SwaveAmp  \\\n",
       "0              -0.3            0.0            9.0           -0.9   \n",
       "1              -0.5            0.0            8.5            0.0   \n",
       "2               0.9            0.0            9.5           -2.4   \n",
       "3               0.1            0.0           12.2           -2.2   \n",
       "4              -0.4            0.0           13.1           -3.6   \n",
       "..              ...            ...            ...            ...   \n",
       "447             0.0            0.0            4.3           -5.0   \n",
       "448            -0.5            0.0           15.6           -1.6   \n",
       "449             1.2            0.0           16.3          -28.6   \n",
       "450             0.2           -0.4           12.0           -0.7   \n",
       "451            -0.3            0.0           10.4           -1.8   \n",
       "\n",
       "     chV6_RPwaveAmp  chV6_SPwaveAmp  chV6_PwaveAmp  chV6_TwaveAmp  chV6_QRSA  \\\n",
       "0               0.0             0.0            0.9            2.9       23.3   \n",
       "1               0.0             0.0            0.2            2.1       20.4   \n",
       "2               0.0             0.0            0.3            3.4       12.3   \n",
       "3               0.0             0.0            0.4            2.6       34.6   \n",
       "4               0.0             0.0           -0.1            3.9       25.4   \n",
       "..              ...             ...            ...            ...        ...   \n",
       "447             0.0             0.0            0.7            0.6       -4.4   \n",
       "448             0.0             0.0            0.4            2.4       38.0   \n",
       "449             0.0             0.0            1.5            1.0      -44.2   \n",
       "450             0.0             0.0            0.5            2.4       25.0   \n",
       "451             0.0             0.0            0.5            1.6       21.3   \n",
       "\n",
       "     chV6_QRSTA  \n",
       "0          49.4  \n",
       "1          38.8  \n",
       "2          49.0  \n",
       "3          61.6  \n",
       "4          62.8  \n",
       "..          ...  \n",
       "447        -0.5  \n",
       "448        62.4  \n",
       "449       -33.2  \n",
       "450        46.6  \n",
       "451        32.8  \n",
       "\n",
       "[452 rows x 342 columns]"
      ]
     },
     "execution_count": 40,
     "metadata": {},
     "output_type": "execute_result"
    }
   ],
   "source": [
    "#codificar todas as colunas nominais com one-hot encoding\n",
    "transformers = [(i, OneHotEncoder(), [i]) for i in nominais]\n",
    "\n",
    "ct = ColumnTransformer(transformers, remainder='passthrough', sparse_threshold=0, verbose_feature_names_out=False)\n",
    "X_ohoe = ct.fit_transform(X)\n",
    "X_ohoe = pd.DataFrame(X_ohoe, columns=ct.get_feature_names_out())\n",
    "X_ohoe"
   ]
  },
  {
   "cell_type": "markdown",
   "id": "3abee3d4",
   "metadata": {},
   "source": [
    "# Imputando valores faltantes"
   ]
  },
  {
   "cell_type": "code",
   "execution_count": 41,
   "id": "eb90b865",
   "metadata": {},
   "outputs": [
    {
     "data": {
      "text/plain": [
       "[('T', 8), ('P', 22), ('QRST', 1), ('heartrate', 1)]"
      ]
     },
     "execution_count": 41,
     "metadata": {},
     "output_type": "execute_result"
    }
   ],
   "source": [
    "#verificar quais colunas possuem valores faltantes, exceto pela coluna J (que já foi retirada)\n",
    "missing_data_cols = [(i, df[i].isnull().sum()) for i in df.columns if df[i].isnull().any()]\n",
    "missing_data_cols"
   ]
  },
  {
   "cell_type": "code",
   "execution_count": 42,
   "id": "d18b8244-a911-4a61-ba6e-750e65143dcc",
   "metadata": {},
   "outputs": [
    {
     "data": {
      "image/png": "[encoded data removed]",
      "text/plain": [
       "<Figure size 640x480 with 4 Axes>"
      ]
     },
     "metadata": {},
     "output_type": "display_data"
    }
   ],
   "source": [
    "#plotar os histogramas para ter uma idéia da distribuição das 4 colunas com valores faltantes.\n",
    "fig, ax = plt.subplots(nrows=2, ncols=2)\n",
    "ax = ax.flatten()\n",
    "for idx, (col, _) in enumerate(missin_data_cols):\n",
    "    sns.histplot(df[col], ax=ax[idx])\n",
    "fig.tight_layout()"
   ]
  },
  {
   "cell_type": "code",
   "execution_count": 43,
   "id": "abab7d87-7dd4-4ae9-b8ae-6d6ef5ca96e6",
   "metadata": {},
   "outputs": [],
   "source": [
    "from sklearn.svm import SVC\n",
    "from sklearn.neighbors import KNeighborsClassifier\n",
    "from sklearn.ensemble import RandomForestClassifier"
   ]
  },
  {
   "cell_type": "code",
   "execution_count": 44,
   "id": "286f7257-b264-4fac-b4ef-dbc28419a576",
   "metadata": {},
   "outputs": [],
   "source": [
    "#De acordo com os histogramas acima, podemos ver que a média ou a mediana podem oferecer boas estimativas\n",
    "#sem alterar o a distribuição estatística de forma significativa.\n",
    "from sklearn.impute import SimpleImputer\n",
    "\n",
    "transformers = [(col, SimpleImputer(strategy='median'), [col] ) for col in ['T', 'P', 'QRST', 'heartrate']]\n",
    "\n",
    "ctimp = ColumnTransformer(transformers, remainder='passthrough', sparse_threshold=0)"
   ]
  },
  {
   "cell_type": "code",
   "execution_count": 56,
   "id": "2f62c22b",
   "metadata": {},
   "outputs": [
    {
     "name": "stdout",
     "output_type": "stream",
     "text": [
      "Executando teste svm\n"
     ]
    },
    {
     "data": {
      "application/vnd.jupyter.widget-view+json": {
       "model_id": "f27e2af2cacf4a079bd38782d12251c9",
       "version_major": 2,
       "version_minor": 0
      },
      "text/plain": [
       "Folds avaliados:   0%|          | 0/10 [00:00<?, ?it/s]"
      ]
     },
     "metadata": {},
     "output_type": "display_data"
    },
    {
     "name": "stdout",
     "output_type": "stream",
     "text": [
      "Executando teste knn\n"
     ]
    },
    {
     "data": {
      "application/vnd.jupyter.widget-view+json": {
       "model_id": "86eb49faea284cfba32e49aa75f1e32d",
       "version_major": 2,
       "version_minor": 0
      },
      "text/plain": [
       "Folds avaliados:   0%|          | 0/10 [00:00<?, ?it/s]"
      ]
     },
     "metadata": {},
     "output_type": "display_data"
    },
    {
     "name": "stdout",
     "output_type": "stream",
     "text": [
      "Executando teste rf\n"
     ]
    },
    {
     "data": {
      "application/vnd.jupyter.widget-view+json": {
       "model_id": "1fccea51665c486991fe7fdb609aead3",
       "version_major": 2,
       "version_minor": 0
      },
      "text/plain": [
       "Folds avaliados:   0%|          | 0/10 [00:00<?, ?it/s]"
      ]
     },
     "metadata": {},
     "output_type": "display_data"
    }
   ],
   "source": [
    "resultados = {}\n",
    "\n",
    "svm_teste = ('svm', SVC, True, {'C' : [1, 10, 100, 1000], 'gamma' : ['auto', 'scale']})\n",
    "knn_teste = ('knn', KNeighborsClassifier, True, {'n_neighbors' : range(1,30,2)})\n",
    "rf_teste = ('rf', RandomForestClassifier, False, {\n",
    "        'criterion' : ['gini', 'entropy'], \n",
    "        'random_state' : [1],\n",
    "#         'max_depth' : [2, 3, None],\n",
    "#         'min_samples_leaf' : [1, 5, 10, 15, 20]\n",
    "})\n",
    "\n",
    "testes = [svm_teste, knn_teste, rf_teste]\n",
    "\n",
    "for nome, classificador, scale, params in testes:\n",
    "    print(\"Executando teste %s\" % (nome))\n",
    "    r = do_cv(classificador, X, y, 10, 10, 8, scale, ctimp, None, params)\n",
    "    resultados[nome] = r"
   ]
  },
  {
   "cell_type": "code",
   "execution_count": 57,
   "id": "cb20e0d8",
   "metadata": {},
   "outputs": [
    {
     "name": "stdout",
     "output_type": "stream",
     "text": [
      "       knn - Resultados: 0.48 +- 0.08, min: 0.36, max: 0.58\n",
      "        rf - Resultados: 0.75 +- 0.07, min: 0.60, max: 0.86\n",
      "       svm - Resultados: 0.71 +- 0.13, min: 0.38, max: 0.88\n",
      "\n",
      "                knn          rf         svm     \n",
      "    knn         1.00     0.00 (*<)   0.00 (*<)  \n",
      "     rf      0.00 (*>)      1.00        0.33    \n",
      "    svm      0.00 (*>)      0.33        1.00    \n"
     ]
    }
   ],
   "source": [
    "for teste in sorted(resultados):\n",
    "    print(teste.rjust(10), end=' - ')\n",
    "    imprimir_estatisticas(resultados[teste])\n",
    "\n",
    "print()\n",
    "\n",
    "print_t_tests(resultados, alpha=0.05)"
   ]
  },
  {
   "cell_type": "markdown",
   "id": "d24bba0f-e628-4bdb-9910-5d5ab688326d",
   "metadata": {},
   "source": [
    "# PCA para redução de dimensionalidade"
   ]
  },
  {
   "cell_type": "code",
   "execution_count": 58,
   "id": "915b8fc9-59a5-41a0-8fdb-2f363ad59ca8",
   "metadata": {},
   "outputs": [
    {
     "data": {
      "text/plain": [
       "<Axes: >"
      ]
     },
     "execution_count": 58,
     "metadata": {},
     "output_type": "execute_result"
    },
    {
     "data": {
      "image/png": "[encoded data removed]",
      "text/plain": [
       "<Figure size 640x480 with 1 Axes>"
      ]
     },
     "metadata": {},
     "output_type": "display_data"
    }
   ],
   "source": [
    "from sklearn.decomposition import PCA\n",
    "from sklearn.preprocessing import StandardScaler\n",
    "\n",
    "X_pca_imp = ctimp.fit_transform(X_ohoe)\n",
    "\n",
    "ss_pca = StandardScaler()\n",
    "X_pca_ss = ss_pca.fit_transform(X_pca_imp)\n",
    "\n",
    "pca = PCA(n_components=2)\n",
    "\n",
    "X_pca = pca.fit_transform(X_pca_ss)\n",
    "\n",
    "sns.scatterplot(x=X_pca[:,0], y=X_pca[:,1], hue=y)"
   ]
  },
  {
   "cell_type": "code",
   "execution_count": null,
   "id": "b68c1895-d77a-4144-9beb-5282565f5e9c",
   "metadata": {},
   "outputs": [],
   "source": [
    "for nome, classificador, scale, params in testes:\n",
    "    print(\"Executando teste %s\" % (nome))\n",
    "    nome = \"%s_pca=08\" % (nome)\n",
    "    r = do_cv(classificador, X, y, 10, 10, 8, scale, ctimp, PCA(n_components=8), params)\n",
    "    resultados[nome] = r"
   ]
  },
  {
   "cell_type": "code",
   "execution_count": 60,
   "id": "6654d286-85e3-45b6-8cb1-7b53629ceb5e",
   "metadata": {},
   "outputs": [
    {
     "name": "stdout",
     "output_type": "stream",
     "text": [
      "       knn - Resultados: 0.48 +- 0.08, min: 0.36, max: 0.58\n",
      "knn_pca=08 - Resultados: 0.59 +- 0.08, min: 0.46, max: 0.74\n",
      "        rf - Resultados: 0.75 +- 0.07, min: 0.60, max: 0.86\n",
      " rf_pca=08 - Resultados: 0.64 +- 0.11, min: 0.48, max: 0.81\n",
      "       svm - Resultados: 0.71 +- 0.13, min: 0.38, max: 0.88\n",
      "svm_pca=08 - Resultados: 0.71 +- 0.07, min: 0.62, max: 0.85\n",
      "\n",
      "                knn      knn_pca=08      rf      rf_pca=08      svm      svm_pca=08 \n",
      "    knn         1.00     0.01 (*<)   0.00 (*<)   0.00 (*<)   0.00 (*<)   0.00 (*<)  \n",
      " knn_pca=08  0.01 (*>)      1.00     0.00 (*<)      0.19     0.02 (*<)   0.00 (*<)  \n",
      "     rf      0.00 (*>)   0.00 (*>)      1.00     0.01 (*>)      0.33        0.19    \n",
      " rf_pca=08   0.00 (*>)      0.19     0.01 (*<)      1.00        0.26        0.12    \n",
      "    svm      0.00 (*>)   0.02 (*>)      0.33        0.26        1.00        0.92    \n",
      " svm_pca=08  0.00 (*>)   0.00 (*>)      0.19        0.12        0.92        1.00    \n"
     ]
    }
   ],
   "source": [
    "for teste in sorted(resultados):\n",
    "    print(teste.rjust(10), end=' - ')\n",
    "    imprimir_estatisticas(resultados[teste])\n",
    "\n",
    "print()\n",
    "\n",
    "print_t_tests(resultados)"
   ]
  },
  {
   "cell_type": "code",
   "execution_count": null,
   "id": "edb42743",
   "metadata": {},
   "outputs": [],
   "source": [
    "for n_components in [16, 32, 64]:\n",
    "    print(\"n_components: %d\" % (n_components))\n",
    "    pca = PCA(n_components=n_components)\n",
    "    for nome, classificador, scale, params in testes:\n",
    "        nome = \"%s_pca=%02d\" % (nome, n_components)\n",
    "        print(\"Executando teste %s\" % (nome))\n",
    "        r = do_cv(classificador, X, y, 10, 10, 8, scale, ctimp, pca, params)\n",
    "        resultados[nome] = r"
   ]
  },
  {
   "cell_type": "code",
   "execution_count": 63,
   "id": "45871562-4a35-4498-8a75-7b26777cacaf",
   "metadata": {},
   "outputs": [
    {
     "name": "stdout",
     "output_type": "stream",
     "text": [
      "       knn - Resultados: 0.48 +- 0.08, min: 0.36, max: 0.58\n",
      "knn_pca=08 - Resultados: 0.59 +- 0.08, min: 0.46, max: 0.74\n",
      "knn_pca=16 - Resultados: 0.55 +- 0.11, min: 0.37, max: 0.77\n",
      "knn_pca=32 - Resultados: 0.57 +- 0.15, min: 0.29, max: 0.76\n",
      "knn_pca=64 - Resultados: 0.55 +- 0.12, min: 0.39, max: 0.72\n",
      "        rf - Resultados: 0.75 +- 0.07, min: 0.60, max: 0.86\n",
      " rf_pca=08 - Resultados: 0.64 +- 0.11, min: 0.48, max: 0.81\n",
      " rf_pca=16 - Resultados: 0.66 +- 0.12, min: 0.47, max: 0.78\n",
      " rf_pca=32 - Resultados: 0.71 +- 0.09, min: 0.51, max: 0.84\n",
      " rf_pca=64 - Resultados: 0.72 +- 0.07, min: 0.60, max: 0.86\n",
      "       svm - Resultados: 0.71 +- 0.13, min: 0.38, max: 0.88\n",
      "svm_pca=08 - Resultados: 0.71 +- 0.07, min: 0.62, max: 0.85\n",
      "svm_pca=16 - Resultados: 0.72 +- 0.11, min: 0.49, max: 0.90\n",
      "svm_pca=32 - Resultados: 0.70 +- 0.09, min: 0.51, max: 0.86\n",
      "svm_pca=64 - Resultados: 0.70 +- 0.08, min: 0.56, max: 0.84\n",
      "\n",
      "                knn          rf         svm     \n",
      "    knn         1.00     0.00 (*<)   0.00 (*<)  \n",
      " knn_pca=08  0.01 (*>)   0.00 (*<)   0.02 (*<)  \n",
      " knn_pca=16     0.13     0.00 (*<)   0.01 (*<)  \n",
      " knn_pca=32     0.09     0.00 (*<)   0.05 (*<)  \n",
      " knn_pca=64     0.10     0.00 (*<)   0.01 (*<)  \n",
      "     rf      0.00 (*>)      1.00        0.33    \n",
      " rf_pca=08   0.00 (*>)   0.01 (*<)      0.26    \n",
      " rf_pca=16   0.00 (*>)   0.04 (*<)      0.42    \n",
      " rf_pca=32   0.00 (*>)      0.27        0.89    \n",
      " rf_pca=64   0.00 (*>)      0.32        0.74    \n",
      "    svm      0.00 (*>)      0.33        1.00    \n",
      " svm_pca=08  0.00 (*>)      0.19        0.92    \n",
      " svm_pca=16  0.00 (*>)      0.43        0.78    \n",
      " svm_pca=32  0.00 (*>)      0.15        0.91    \n",
      " svm_pca=64  0.00 (*>)      0.16        0.96    \n"
     ]
    }
   ],
   "source": [
    "for teste in sorted(resultados):\n",
    "    print(teste.rjust(10), end=' - ')\n",
    "    imprimir_estatisticas(resultados[teste])\n",
    "\n",
    "print()\n",
    "\n",
    "print_t_tests(resultados, cols=['knn', 'rf', 'svm'])"
   ]
  },
  {
   "cell_type": "markdown",
   "id": "8b8c66cf-054d-4da1-8676-1c6c7080fbab",
   "metadata": {},
   "source": [
    "# Projeções aleatórias"
   ]
  },
  {
   "cell_type": "code",
   "execution_count": 65,
   "id": "a555d7aa-a670-491b-8f05-50253bd5ca6f",
   "metadata": {},
   "outputs": [],
   "source": [
    "from sklearn.random_projection import GaussianRandomProjection"
   ]
  },
  {
   "cell_type": "code",
   "execution_count": 66,
   "id": "b0d8555a-a916-402e-bf36-e5f17b3a81f2",
   "metadata": {},
   "outputs": [
    {
     "data": {
      "text/plain": [
       "<Axes: >"
      ]
     },
     "execution_count": 66,
     "metadata": {},
     "output_type": "execute_result"
    },
    {
     "data": {
      "image/png": "[encoded data removed]",
      "text/plain": [
       "<Figure size 640x480 with 1 Axes>"
      ]
     },
     "metadata": {},
     "output_type": "display_data"
    }
   ],
   "source": [
    "X_rp_imp = ctimp.fit_transform(X_ohoe)\n",
    "\n",
    "ss_rp = StandardScaler()\n",
    "X_rp_ss = ss_rp.fit_transform(X_rp_imp)\n",
    "\n",
    "rp = GaussianRandomProjection(n_components=2)\n",
    "\n",
    "X_rp = rp.fit_transform(X_rp_ss)\n",
    "\n",
    "sns.scatterplot(x=X_rp[:,0], y=X_rp[:,1], hue=y)"
   ]
  },
  {
   "cell_type": "code",
   "execution_count": null,
   "id": "1e51b9d9-74a8-4fa5-9c7e-663d3acba059",
   "metadata": {},
   "outputs": [],
   "source": [
    "for nome, classificador, scale, params in testes:\n",
    "    nome = \"%s_rp=08\" % (nome)\n",
    "    print(\"Executando teste %s\" % (nome))\n",
    "    r = do_cv(classificador, X, y, 10, 10, 8, scale, ctimp, GaussianRandomProjection(n_components=8), params)\n",
    "    resultados[nome] = r"
   ]
  },
  {
   "cell_type": "code",
   "execution_count": 68,
   "id": "78c00cd4-6449-4206-abe9-1effdf676f26",
   "metadata": {},
   "outputs": [
    {
     "name": "stdout",
     "output_type": "stream",
     "text": [
      "       knn - Resultados: 0.48 +- 0.08, min: 0.36, max: 0.58\n",
      "knn_pca=08 - Resultados: 0.59 +- 0.08, min: 0.46, max: 0.74\n",
      "knn_pca=16 - Resultados: 0.55 +- 0.11, min: 0.37, max: 0.77\n",
      "knn_pca=32 - Resultados: 0.57 +- 0.15, min: 0.29, max: 0.76\n",
      "knn_pca=64 - Resultados: 0.55 +- 0.12, min: 0.39, max: 0.72\n",
      " knn_rp=08 - Resultados: 0.48 +- 0.08, min: 0.31, max: 0.60\n",
      "        rf - Resultados: 0.75 +- 0.07, min: 0.60, max: 0.86\n",
      " rf_pca=08 - Resultados: 0.64 +- 0.11, min: 0.48, max: 0.81\n",
      " rf_pca=16 - Resultados: 0.66 +- 0.12, min: 0.47, max: 0.78\n",
      " rf_pca=32 - Resultados: 0.71 +- 0.09, min: 0.51, max: 0.84\n",
      " rf_pca=64 - Resultados: 0.72 +- 0.07, min: 0.60, max: 0.86\n",
      "  rf_rp=08 - Resultados: 0.59 +- 0.12, min: 0.37, max: 0.77\n",
      "       svm - Resultados: 0.71 +- 0.13, min: 0.38, max: 0.88\n",
      "svm_pca=08 - Resultados: 0.71 +- 0.07, min: 0.62, max: 0.85\n",
      "svm_pca=16 - Resultados: 0.72 +- 0.11, min: 0.49, max: 0.90\n",
      "svm_pca=32 - Resultados: 0.70 +- 0.09, min: 0.51, max: 0.86\n",
      "svm_pca=64 - Resultados: 0.70 +- 0.08, min: 0.56, max: 0.84\n",
      " svm_rp=08 - Resultados: 0.57 +- 0.11, min: 0.36, max: 0.74\n",
      "\n",
      "                knn          rf         svm     \n",
      "    knn         1.00     0.00 (*<)   0.00 (*<)  \n",
      " knn_pca=08  0.01 (*>)   0.00 (*<)   0.02 (*<)  \n",
      " knn_pca=16     0.13     0.00 (*<)   0.01 (*<)  \n",
      " knn_pca=32     0.09     0.00 (*<)   0.05 (*<)  \n",
      " knn_pca=64     0.10     0.00 (*<)   0.01 (*<)  \n",
      " knn_rp=08      0.91     0.00 (*<)   0.00 (*<)  \n",
      "     rf      0.00 (*>)      1.00        0.33    \n",
      " rf_pca=08   0.00 (*>)   0.01 (*<)      0.26    \n",
      " rf_pca=16   0.00 (*>)   0.04 (*<)      0.42    \n",
      " rf_pca=32   0.00 (*>)      0.27        0.89    \n",
      " rf_pca=64   0.00 (*>)      0.32        0.74    \n",
      "  rf_rp=08   0.03 (*>)   0.00 (*<)   0.05 (*<)  \n",
      "    svm      0.00 (*>)      0.33        1.00    \n",
      " svm_pca=08  0.00 (*>)      0.19        0.92    \n",
      " svm_pca=16  0.00 (*>)      0.43        0.78    \n",
      " svm_pca=32  0.00 (*>)      0.15        0.91    \n",
      " svm_pca=64  0.00 (*>)      0.16        0.96    \n",
      " svm_rp=08   0.04 (*>)   0.00 (*<)   0.03 (*<)  \n"
     ]
    }
   ],
   "source": [
    "for teste in sorted(resultados):\n",
    "    print(teste.rjust(10), end=' - ')\n",
    "    imprimir_estatisticas(resultados[teste])\n",
    "\n",
    "print()\n",
    "\n",
    "print_t_tests(resultados, cols=['knn', 'rf', 'svm'])"
   ]
  },
  {
   "cell_type": "code",
   "execution_count": null,
   "id": "942393a4-203a-4b91-b146-0889be578b06",
   "metadata": {},
   "outputs": [],
   "source": [
    "for n_components in [16, 32, 64]:\n",
    "    print(\"n_components: %d\" % (n_components))\n",
    "    rp = GaussianRandomProjection(n_components=n_components)\n",
    "    for nome, classificador, scale, params in testes:\n",
    "        nome = \"%s_rp=%02d\" % (nome, n_components)\n",
    "        print(\"Executando teste %s\" % (nome))\n",
    "        r = do_cv(classificador, X, y, 10, 10, 8, scale, ctimp, rp, params)\n",
    "        resultados[nome] = r"
   ]
  },
  {
   "cell_type": "code",
   "execution_count": 32,
   "id": "e6fa02f5-44ba-4eca-aeaa-d2e6b92acfc6",
   "metadata": {},
   "outputs": [
    {
     "name": "stdout",
     "output_type": "stream",
     "text": [
      "       knn - Resultados: 0.48 +- 0.08, min: 0.36, max: 0.58\n",
      "knn_pca=08 - Resultados: 0.59 +- 0.08, min: 0.46, max: 0.74\n",
      "knn_pca=16 - Resultados: 0.55 +- 0.11, min: 0.37, max: 0.77\n",
      "knn_pca=32 - Resultados: 0.57 +- 0.15, min: 0.29, max: 0.76\n",
      "knn_pca=64 - Resultados: 0.55 +- 0.12, min: 0.39, max: 0.72\n",
      " knn_rp=08 - Resultados: 0.55 +- 0.09, min: 0.38, max: 0.65\n",
      " knn_rp=16 - Resultados: 0.53 +- 0.11, min: 0.36, max: 0.74\n",
      " knn_rp=32 - Resultados: 0.51 +- 0.12, min: 0.31, max: 0.69\n",
      " knn_rp=64 - Resultados: 0.51 +- 0.07, min: 0.40, max: 0.61\n",
      "        rf - Resultados: 0.75 +- 0.07, min: 0.60, max: 0.86\n",
      " rf_pca=08 - Resultados: 0.64 +- 0.11, min: 0.48, max: 0.81\n",
      " rf_pca=16 - Resultados: 0.66 +- 0.12, min: 0.47, max: 0.78\n",
      " rf_pca=32 - Resultados: 0.71 +- 0.09, min: 0.51, max: 0.84\n",
      " rf_pca=64 - Resultados: 0.72 +- 0.07, min: 0.60, max: 0.86\n",
      "  rf_rp=08 - Resultados: 0.58 +- 0.10, min: 0.36, max: 0.72\n",
      "  rf_rp=16 - Resultados: 0.67 +- 0.09, min: 0.53, max: 0.82\n",
      "  rf_rp=32 - Resultados: 0.63 +- 0.09, min: 0.50, max: 0.81\n",
      "  rf_rp=64 - Resultados: 0.69 +- 0.11, min: 0.50, max: 0.92\n",
      "       svm - Resultados: 0.71 +- 0.13, min: 0.38, max: 0.88\n",
      "svm_pca=08 - Resultados: 0.71 +- 0.07, min: 0.62, max: 0.85\n",
      "svm_pca=16 - Resultados: 0.72 +- 0.11, min: 0.49, max: 0.90\n",
      "svm_pca=32 - Resultados: 0.70 +- 0.09, min: 0.51, max: 0.86\n",
      "svm_pca=64 - Resultados: 0.70 +- 0.08, min: 0.56, max: 0.84\n",
      " svm_rp=08 - Resultados: 0.53 +- 0.07, min: 0.37, max: 0.63\n",
      " svm_rp=16 - Resultados: 0.63 +- 0.09, min: 0.50, max: 0.74\n",
      " svm_rp=32 - Resultados: 0.69 +- 0.09, min: 0.54, max: 0.81\n",
      " svm_rp=64 - Resultados: 0.67 +- 0.10, min: 0.48, max: 0.79\n",
      "\n",
      "                knn          rf         svm     \n",
      "    knn         1.00     0.00 (*<)   0.00 (*<)  \n",
      " knn_pca=08  0.01 (*>)   0.00 (*<)   0.02 (*<)  \n",
      " knn_pca=16     0.13     0.00 (*<)   0.01 (*<)  \n",
      " knn_pca=32     0.09     0.00 (*<)   0.05 (*<)  \n",
      " knn_pca=64     0.10     0.00 (*<)   0.01 (*<)  \n",
      " knn_rp=08      0.06     0.00 (*<)   0.01 (*<)  \n",
      " knn_rp=16      0.24     0.00 (*<)   0.00 (*<)  \n",
      " knn_rp=32      0.45     0.00 (*<)   0.00 (*<)  \n",
      " knn_rp=64      0.37     0.00 (*<)   0.00 (*<)  \n",
      "     rf      0.00 (*>)      1.00        0.33    \n",
      " rf_pca=08   0.00 (*>)   0.01 (*<)      0.26    \n",
      " rf_pca=16   0.00 (*>)   0.04 (*<)      0.42    \n",
      " rf_pca=32   0.00 (*>)      0.27        0.89    \n",
      " rf_pca=64   0.00 (*>)      0.32        0.74    \n",
      "  rf_rp=08   0.02 (*>)   0.00 (*<)   0.03 (*<)  \n",
      "  rf_rp=16   0.00 (*>)   0.02 (*<)      0.42    \n",
      "  rf_rp=32   0.00 (*>)   0.00 (*<)      0.14    \n",
      "  rf_rp=64   0.00 (*>)      0.11        0.71    \n",
      "    svm      0.00 (*>)      0.33        1.00    \n",
      " svm_pca=08  0.00 (*>)      0.19        0.92    \n",
      " svm_pca=16  0.00 (*>)      0.43        0.78    \n",
      " svm_pca=32  0.00 (*>)      0.15        0.91    \n",
      " svm_pca=64  0.00 (*>)      0.16        0.96    \n",
      " svm_rp=08      0.14     0.00 (*<)   0.00 (*<)  \n",
      " svm_rp=16   0.00 (*>)   0.00 (*<)      0.13    \n",
      " svm_rp=32   0.00 (*>)      0.08        0.74    \n",
      " svm_rp=64   0.00 (*>)   0.05 (*<)      0.52    \n"
     ]
    }
   ],
   "source": [
    "for teste in sorted(resultados):\n",
    "    print(teste.rjust(10), end=' - ')\n",
    "    imprimir_estatisticas(resultados[teste])\n",
    "\n",
    "print()\n",
    "\n",
    "print_t_tests(resultados, cols=['knn', 'rf', 'svm'])"
   ]
  },
  {
   "cell_type": "code",
   "execution_count": null,
   "id": "1bbdb073-b74a-4497-a258-0c95eb33368e",
   "metadata": {},
   "outputs": [],
   "source": []
  }
 ],
 "metadata": {
  "kernelspec": {
   "display_name": "Python 3 (ipykernel)",
   "language": "python",
   "name": "python3"
  },
  "language_info": {
   "codemirror_mode": {
    "name": "ipython",
    "version": 3
   },
   "file_extension": ".py",
   "mimetype": "text/x-python",
   "name": "python",
   "nbconvert_exporter": "python",
   "pygments_lexer": "ipython3",
   "version": "3.10.6"
  }
 },
 "nbformat": 4,
 "nbformat_minor": 5
}
