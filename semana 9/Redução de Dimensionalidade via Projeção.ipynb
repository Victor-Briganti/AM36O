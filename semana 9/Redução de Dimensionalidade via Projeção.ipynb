{
 "cells": [
  {
   "cell_type": "code",
   "execution_count": 1,
   "id": "70cd3dc5-e683-4911-a261-4293511c3ec9",
   "metadata": {},
   "outputs": [],
   "source": [
    "import pandas as pd\n",
    "import numpy as np\n",
    "import seaborn as sns\n",
    "from sklearn.compose import ColumnTransformer\n",
    "from sklearn.preprocessing import OneHotEncoder\n",
    "from utils import calcular_estatisticas, imprimir_estatisticas, rejeitar_hip_nula, do_cv, print_t_tests"
   ]
  },
  {
   "cell_type": "code",
   "execution_count": 2,
   "id": "3694e4e1-3b58-4fc8-b850-d2d091ef6821",
   "metadata": {},
   "outputs": [
    {
     "data": {
      "text/plain": [
       "(452, 280)"
      ]
     },
     "execution_count": 2,
     "metadata": {},
     "output_type": "execute_result"
    }
   ],
   "source": [
    "df = pd.read_csv('arrhythmia.csv')\n",
    "df.shape"
   ]
  },
  {
   "cell_type": "code",
   "execution_count": 3,
   "id": "11842bdd-e9aa-4d29-b309-d1a1fe2e26e0",
   "metadata": {},
   "outputs": [
    {
     "data": {
      "text/plain": [
       "[('T', 8), ('P', 22), ('QRST', 1), ('J', 376), ('heartrate', 1)]"
      ]
     },
     "execution_count": 3,
     "metadata": {},
     "output_type": "execute_result"
    }
   ],
   "source": [
    "[(i, df[i].isnull().sum()) for i in df.columns if df[i].isnull().any()]"
   ]
  },
  {
   "cell_type": "code",
   "execution_count": 4,
   "id": "0cd1031e-b591-4119-88be-f32f20226957",
   "metadata": {},
   "outputs": [
    {
     "data": {
      "text/plain": [
       "(452, 279)"
      ]
     },
     "execution_count": 4,
     "metadata": {},
     "output_type": "execute_result"
    }
   ],
   "source": [
    "df.drop('J', axis=1, inplace=True)\n",
    "df.shape"
   ]
  },
  {
   "cell_type": "code",
   "execution_count": 5,
   "id": "0bdd6d4f-1c4d-47d0-ad7f-d3d4b3cb1972",
   "metadata": {},
   "outputs": [],
   "source": [
    "X = df.drop('class', axis=1)\n",
    "y = df['class'].values.ravel()\n",
    "y-=1\n",
    "y[y>0] = 1"
   ]
  },
  {
   "cell_type": "code",
   "execution_count": 6,
   "id": "74c7b19c-1ef5-4966-a835-1083a2d9588d",
   "metadata": {},
   "outputs": [
    {
     "data": {
      "text/plain": [
       "(array([0, 1]), array([245, 207]))"
      ]
     },
     "execution_count": 6,
     "metadata": {},
     "output_type": "execute_result"
    }
   ],
   "source": [
    "np.unique(y, return_counts=True)"
   ]
  },
  {
   "cell_type": "markdown",
   "id": "c2c8c15c-5195-4896-b86e-600b6fdb76a6",
   "metadata": {},
   "source": [
    "# Codificação de atributos nominais"
   ]
  },
  {
   "cell_type": "code",
   "execution_count": 7,
   "id": "619e619b-e1da-4a5b-ba97-e1372ec0fe5d",
   "metadata": {},
   "outputs": [],
   "source": [
    "#%timeit [i for i in df.columns if 'Exists' in i]"
   ]
  },
  {
   "cell_type": "code",
   "execution_count": 8,
   "id": "84292fa6-53c5-49ad-9c8c-1edfd337396a",
   "metadata": {},
   "outputs": [],
   "source": [
    "#%timeit list(filter(lambda x: 'Exists' in x, df.columns))"
   ]
  },
  {
   "cell_type": "code",
   "execution_count": 7,
   "id": "e674d0aa-f60d-45ad-8860-0f6d70f56a2c",
   "metadata": {},
   "outputs": [],
   "source": [
    "nominais = ['sex', *[i for i in df.columns if 'Exists' in i]]"
   ]
  },
  {
   "cell_type": "code",
   "execution_count": 9,
   "id": "d37394d2-7c11-4d92-b4cf-7802ed66cf13",
   "metadata": {},
   "outputs": [],
   "source": [
    "transformers = [(i, OneHotEncoder(), [i]) for i in nominais]\n",
    "\n",
    "ct = ColumnTransformer(transformers, remainder='passthrough', sparse_threshold=0)"
   ]
  },
  {
   "cell_type": "code",
   "execution_count": 10,
   "id": "d26c9add-28f3-4ee2-a780-5298273d389f",
   "metadata": {},
   "outputs": [],
   "source": [
    "X_ohoe = ct.fit_transform(X)\n"
   ]
  },
  {
   "cell_type": "code",
   "execution_count": 11,
   "id": "dbf207af-3ccd-45f5-b85a-8cce463d6205",
   "metadata": {},
   "outputs": [],
   "source": [
    "X_ohoe = pd.DataFrame(X_ohoe, columns=ct.get_feature_names())"
   ]
  },
  {
   "cell_type": "code",
   "execution_count": 12,
   "id": "f0e4b4a3-ed55-4448-b242-01a960afa201",
   "metadata": {},
   "outputs": [
    {
     "data": {
      "text/html": [
       "<div>\n",
       "<style scoped>\n",
       "    .dataframe tbody tr th:only-of-type {\n",
       "        vertical-align: middle;\n",
       "    }\n",
       "\n",
       "    .dataframe tbody tr th {\n",
       "        vertical-align: top;\n",
       "    }\n",
       "\n",
       "    .dataframe thead th {\n",
       "        text-align: right;\n",
       "    }\n",
       "</style>\n",
       "<table border=\"1\" class=\"dataframe\">\n",
       "  <thead>\n",
       "    <tr style=\"text-align: right;\">\n",
       "      <th></th>\n",
       "      <th>sex__x0_0</th>\n",
       "      <th>sex__x0_1</th>\n",
       "      <th>chDI_RRwaveExists__x0_0</th>\n",
       "      <th>chDI_RRwaveExists__x0_1</th>\n",
       "      <th>chDI_DD_RRwaveExists__x0_0</th>\n",
       "      <th>chDI_DD_RRwaveExists__x0_1</th>\n",
       "      <th>chDI_RPwaveExists__x0_0</th>\n",
       "      <th>chDI_RPwaveExists__x0_1</th>\n",
       "      <th>chDI_DD_RPwaveExists__x0_0</th>\n",
       "      <th>chDI_DD_RPwaveExists__x0_1</th>\n",
       "      <th>...</th>\n",
       "      <th>chV6_JJwaveAmp</th>\n",
       "      <th>chV6_QwaveAmp</th>\n",
       "      <th>chV6_RwaveAmp</th>\n",
       "      <th>chV6_SwaveAmp</th>\n",
       "      <th>chV6_RPwaveAmp</th>\n",
       "      <th>chV6_SPwaveAmp</th>\n",
       "      <th>chV6_PwaveAmp</th>\n",
       "      <th>chV6_TwaveAmp</th>\n",
       "      <th>chV6_QRSA</th>\n",
       "      <th>chV6_QRSTA</th>\n",
       "    </tr>\n",
       "  </thead>\n",
       "  <tbody>\n",
       "    <tr>\n",
       "      <th>0</th>\n",
       "      <td>1.0</td>\n",
       "      <td>0.0</td>\n",
       "      <td>1.0</td>\n",
       "      <td>0.0</td>\n",
       "      <td>1.0</td>\n",
       "      <td>0.0</td>\n",
       "      <td>1.0</td>\n",
       "      <td>0.0</td>\n",
       "      <td>1.0</td>\n",
       "      <td>0.0</td>\n",
       "      <td>...</td>\n",
       "      <td>-0.3</td>\n",
       "      <td>0.0</td>\n",
       "      <td>9.0</td>\n",
       "      <td>-0.9</td>\n",
       "      <td>0.0</td>\n",
       "      <td>0.0</td>\n",
       "      <td>0.9</td>\n",
       "      <td>2.9</td>\n",
       "      <td>23.3</td>\n",
       "      <td>49.4</td>\n",
       "    </tr>\n",
       "    <tr>\n",
       "      <th>1</th>\n",
       "      <td>0.0</td>\n",
       "      <td>1.0</td>\n",
       "      <td>1.0</td>\n",
       "      <td>0.0</td>\n",
       "      <td>1.0</td>\n",
       "      <td>0.0</td>\n",
       "      <td>1.0</td>\n",
       "      <td>0.0</td>\n",
       "      <td>1.0</td>\n",
       "      <td>0.0</td>\n",
       "      <td>...</td>\n",
       "      <td>-0.5</td>\n",
       "      <td>0.0</td>\n",
       "      <td>8.5</td>\n",
       "      <td>0.0</td>\n",
       "      <td>0.0</td>\n",
       "      <td>0.0</td>\n",
       "      <td>0.2</td>\n",
       "      <td>2.1</td>\n",
       "      <td>20.4</td>\n",
       "      <td>38.8</td>\n",
       "    </tr>\n",
       "    <tr>\n",
       "      <th>2</th>\n",
       "      <td>1.0</td>\n",
       "      <td>0.0</td>\n",
       "      <td>1.0</td>\n",
       "      <td>0.0</td>\n",
       "      <td>1.0</td>\n",
       "      <td>0.0</td>\n",
       "      <td>1.0</td>\n",
       "      <td>0.0</td>\n",
       "      <td>1.0</td>\n",
       "      <td>0.0</td>\n",
       "      <td>...</td>\n",
       "      <td>0.9</td>\n",
       "      <td>0.0</td>\n",
       "      <td>9.5</td>\n",
       "      <td>-2.4</td>\n",
       "      <td>0.0</td>\n",
       "      <td>0.0</td>\n",
       "      <td>0.3</td>\n",
       "      <td>3.4</td>\n",
       "      <td>12.3</td>\n",
       "      <td>49.0</td>\n",
       "    </tr>\n",
       "    <tr>\n",
       "      <th>3</th>\n",
       "      <td>1.0</td>\n",
       "      <td>0.0</td>\n",
       "      <td>1.0</td>\n",
       "      <td>0.0</td>\n",
       "      <td>1.0</td>\n",
       "      <td>0.0</td>\n",
       "      <td>1.0</td>\n",
       "      <td>0.0</td>\n",
       "      <td>1.0</td>\n",
       "      <td>0.0</td>\n",
       "      <td>...</td>\n",
       "      <td>0.1</td>\n",
       "      <td>0.0</td>\n",
       "      <td>12.2</td>\n",
       "      <td>-2.2</td>\n",
       "      <td>0.0</td>\n",
       "      <td>0.0</td>\n",
       "      <td>0.4</td>\n",
       "      <td>2.6</td>\n",
       "      <td>34.6</td>\n",
       "      <td>61.6</td>\n",
       "    </tr>\n",
       "    <tr>\n",
       "      <th>4</th>\n",
       "      <td>1.0</td>\n",
       "      <td>0.0</td>\n",
       "      <td>1.0</td>\n",
       "      <td>0.0</td>\n",
       "      <td>1.0</td>\n",
       "      <td>0.0</td>\n",
       "      <td>1.0</td>\n",
       "      <td>0.0</td>\n",
       "      <td>1.0</td>\n",
       "      <td>0.0</td>\n",
       "      <td>...</td>\n",
       "      <td>-0.4</td>\n",
       "      <td>0.0</td>\n",
       "      <td>13.1</td>\n",
       "      <td>-3.6</td>\n",
       "      <td>0.0</td>\n",
       "      <td>0.0</td>\n",
       "      <td>-0.1</td>\n",
       "      <td>3.9</td>\n",
       "      <td>25.4</td>\n",
       "      <td>62.8</td>\n",
       "    </tr>\n",
       "    <tr>\n",
       "      <th>...</th>\n",
       "      <td>...</td>\n",
       "      <td>...</td>\n",
       "      <td>...</td>\n",
       "      <td>...</td>\n",
       "      <td>...</td>\n",
       "      <td>...</td>\n",
       "      <td>...</td>\n",
       "      <td>...</td>\n",
       "      <td>...</td>\n",
       "      <td>...</td>\n",
       "      <td>...</td>\n",
       "      <td>...</td>\n",
       "      <td>...</td>\n",
       "      <td>...</td>\n",
       "      <td>...</td>\n",
       "      <td>...</td>\n",
       "      <td>...</td>\n",
       "      <td>...</td>\n",
       "      <td>...</td>\n",
       "      <td>...</td>\n",
       "      <td>...</td>\n",
       "    </tr>\n",
       "    <tr>\n",
       "      <th>447</th>\n",
       "      <td>0.0</td>\n",
       "      <td>1.0</td>\n",
       "      <td>1.0</td>\n",
       "      <td>0.0</td>\n",
       "      <td>1.0</td>\n",
       "      <td>0.0</td>\n",
       "      <td>1.0</td>\n",
       "      <td>0.0</td>\n",
       "      <td>1.0</td>\n",
       "      <td>0.0</td>\n",
       "      <td>...</td>\n",
       "      <td>0.0</td>\n",
       "      <td>0.0</td>\n",
       "      <td>4.3</td>\n",
       "      <td>-5.0</td>\n",
       "      <td>0.0</td>\n",
       "      <td>0.0</td>\n",
       "      <td>0.7</td>\n",
       "      <td>0.6</td>\n",
       "      <td>-4.4</td>\n",
       "      <td>-0.5</td>\n",
       "    </tr>\n",
       "    <tr>\n",
       "      <th>448</th>\n",
       "      <td>1.0</td>\n",
       "      <td>0.0</td>\n",
       "      <td>1.0</td>\n",
       "      <td>0.0</td>\n",
       "      <td>1.0</td>\n",
       "      <td>0.0</td>\n",
       "      <td>1.0</td>\n",
       "      <td>0.0</td>\n",
       "      <td>1.0</td>\n",
       "      <td>0.0</td>\n",
       "      <td>...</td>\n",
       "      <td>-0.5</td>\n",
       "      <td>0.0</td>\n",
       "      <td>15.6</td>\n",
       "      <td>-1.6</td>\n",
       "      <td>0.0</td>\n",
       "      <td>0.0</td>\n",
       "      <td>0.4</td>\n",
       "      <td>2.4</td>\n",
       "      <td>38.0</td>\n",
       "      <td>62.4</td>\n",
       "    </tr>\n",
       "    <tr>\n",
       "      <th>449</th>\n",
       "      <td>1.0</td>\n",
       "      <td>0.0</td>\n",
       "      <td>1.0</td>\n",
       "      <td>0.0</td>\n",
       "      <td>1.0</td>\n",
       "      <td>0.0</td>\n",
       "      <td>1.0</td>\n",
       "      <td>0.0</td>\n",
       "      <td>1.0</td>\n",
       "      <td>0.0</td>\n",
       "      <td>...</td>\n",
       "      <td>1.2</td>\n",
       "      <td>0.0</td>\n",
       "      <td>16.3</td>\n",
       "      <td>-28.6</td>\n",
       "      <td>0.0</td>\n",
       "      <td>0.0</td>\n",
       "      <td>1.5</td>\n",
       "      <td>1.0</td>\n",
       "      <td>-44.2</td>\n",
       "      <td>-33.2</td>\n",
       "    </tr>\n",
       "    <tr>\n",
       "      <th>450</th>\n",
       "      <td>0.0</td>\n",
       "      <td>1.0</td>\n",
       "      <td>1.0</td>\n",
       "      <td>0.0</td>\n",
       "      <td>1.0</td>\n",
       "      <td>0.0</td>\n",
       "      <td>1.0</td>\n",
       "      <td>0.0</td>\n",
       "      <td>1.0</td>\n",
       "      <td>0.0</td>\n",
       "      <td>...</td>\n",
       "      <td>0.2</td>\n",
       "      <td>-0.4</td>\n",
       "      <td>12.0</td>\n",
       "      <td>-0.7</td>\n",
       "      <td>0.0</td>\n",
       "      <td>0.0</td>\n",
       "      <td>0.5</td>\n",
       "      <td>2.4</td>\n",
       "      <td>25.0</td>\n",
       "      <td>46.6</td>\n",
       "    </tr>\n",
       "    <tr>\n",
       "      <th>451</th>\n",
       "      <td>0.0</td>\n",
       "      <td>1.0</td>\n",
       "      <td>1.0</td>\n",
       "      <td>0.0</td>\n",
       "      <td>1.0</td>\n",
       "      <td>0.0</td>\n",
       "      <td>1.0</td>\n",
       "      <td>0.0</td>\n",
       "      <td>1.0</td>\n",
       "      <td>0.0</td>\n",
       "      <td>...</td>\n",
       "      <td>-0.3</td>\n",
       "      <td>0.0</td>\n",
       "      <td>10.4</td>\n",
       "      <td>-1.8</td>\n",
       "      <td>0.0</td>\n",
       "      <td>0.0</td>\n",
       "      <td>0.5</td>\n",
       "      <td>1.6</td>\n",
       "      <td>21.3</td>\n",
       "      <td>32.8</td>\n",
       "    </tr>\n",
       "  </tbody>\n",
       "</table>\n",
       "<p>452 rows × 342 columns</p>\n",
       "</div>"
      ],
      "text/plain": [
       "     sex__x0_0  sex__x0_1  chDI_RRwaveExists__x0_0  chDI_RRwaveExists__x0_1  \\\n",
       "0          1.0        0.0                      1.0                      0.0   \n",
       "1          0.0        1.0                      1.0                      0.0   \n",
       "2          1.0        0.0                      1.0                      0.0   \n",
       "3          1.0        0.0                      1.0                      0.0   \n",
       "4          1.0        0.0                      1.0                      0.0   \n",
       "..         ...        ...                      ...                      ...   \n",
       "447        0.0        1.0                      1.0                      0.0   \n",
       "448        1.0        0.0                      1.0                      0.0   \n",
       "449        1.0        0.0                      1.0                      0.0   \n",
       "450        0.0        1.0                      1.0                      0.0   \n",
       "451        0.0        1.0                      1.0                      0.0   \n",
       "\n",
       "     chDI_DD_RRwaveExists__x0_0  chDI_DD_RRwaveExists__x0_1  \\\n",
       "0                           1.0                         0.0   \n",
       "1                           1.0                         0.0   \n",
       "2                           1.0                         0.0   \n",
       "3                           1.0                         0.0   \n",
       "4                           1.0                         0.0   \n",
       "..                          ...                         ...   \n",
       "447                         1.0                         0.0   \n",
       "448                         1.0                         0.0   \n",
       "449                         1.0                         0.0   \n",
       "450                         1.0                         0.0   \n",
       "451                         1.0                         0.0   \n",
       "\n",
       "     chDI_RPwaveExists__x0_0  chDI_RPwaveExists__x0_1  \\\n",
       "0                        1.0                      0.0   \n",
       "1                        1.0                      0.0   \n",
       "2                        1.0                      0.0   \n",
       "3                        1.0                      0.0   \n",
       "4                        1.0                      0.0   \n",
       "..                       ...                      ...   \n",
       "447                      1.0                      0.0   \n",
       "448                      1.0                      0.0   \n",
       "449                      1.0                      0.0   \n",
       "450                      1.0                      0.0   \n",
       "451                      1.0                      0.0   \n",
       "\n",
       "     chDI_DD_RPwaveExists__x0_0  chDI_DD_RPwaveExists__x0_1  ...  \\\n",
       "0                           1.0                         0.0  ...   \n",
       "1                           1.0                         0.0  ...   \n",
       "2                           1.0                         0.0  ...   \n",
       "3                           1.0                         0.0  ...   \n",
       "4                           1.0                         0.0  ...   \n",
       "..                          ...                         ...  ...   \n",
       "447                         1.0                         0.0  ...   \n",
       "448                         1.0                         0.0  ...   \n",
       "449                         1.0                         0.0  ...   \n",
       "450                         1.0                         0.0  ...   \n",
       "451                         1.0                         0.0  ...   \n",
       "\n",
       "     chV6_JJwaveAmp  chV6_QwaveAmp  chV6_RwaveAmp  chV6_SwaveAmp  \\\n",
       "0              -0.3            0.0            9.0           -0.9   \n",
       "1              -0.5            0.0            8.5            0.0   \n",
       "2               0.9            0.0            9.5           -2.4   \n",
       "3               0.1            0.0           12.2           -2.2   \n",
       "4              -0.4            0.0           13.1           -3.6   \n",
       "..              ...            ...            ...            ...   \n",
       "447             0.0            0.0            4.3           -5.0   \n",
       "448            -0.5            0.0           15.6           -1.6   \n",
       "449             1.2            0.0           16.3          -28.6   \n",
       "450             0.2           -0.4           12.0           -0.7   \n",
       "451            -0.3            0.0           10.4           -1.8   \n",
       "\n",
       "     chV6_RPwaveAmp  chV6_SPwaveAmp  chV6_PwaveAmp  chV6_TwaveAmp  chV6_QRSA  \\\n",
       "0               0.0             0.0            0.9            2.9       23.3   \n",
       "1               0.0             0.0            0.2            2.1       20.4   \n",
       "2               0.0             0.0            0.3            3.4       12.3   \n",
       "3               0.0             0.0            0.4            2.6       34.6   \n",
       "4               0.0             0.0           -0.1            3.9       25.4   \n",
       "..              ...             ...            ...            ...        ...   \n",
       "447             0.0             0.0            0.7            0.6       -4.4   \n",
       "448             0.0             0.0            0.4            2.4       38.0   \n",
       "449             0.0             0.0            1.5            1.0      -44.2   \n",
       "450             0.0             0.0            0.5            2.4       25.0   \n",
       "451             0.0             0.0            0.5            1.6       21.3   \n",
       "\n",
       "     chV6_QRSTA  \n",
       "0          49.4  \n",
       "1          38.8  \n",
       "2          49.0  \n",
       "3          61.6  \n",
       "4          62.8  \n",
       "..          ...  \n",
       "447        -0.5  \n",
       "448        62.4  \n",
       "449       -33.2  \n",
       "450        46.6  \n",
       "451        32.8  \n",
       "\n",
       "[452 rows x 342 columns]"
      ]
     },
     "execution_count": 12,
     "metadata": {},
     "output_type": "execute_result"
    }
   ],
   "source": [
    "X_ohoe"
   ]
  },
  {
   "cell_type": "code",
   "execution_count": 19,
   "id": "d18b8244-a911-4a61-ba6e-750e65143dcc",
   "metadata": {},
   "outputs": [
    {
     "data": {
      "text/plain": [
       "<seaborn.axisgrid.FacetGrid at 0x7f606a4fb100>"
      ]
     },
     "execution_count": 19,
     "metadata": {},
     "output_type": "execute_result"
    },
    {
     "data": {
      "image/png": "[encoded data removed]",
      "text/plain": [
       "<Figure size 360x360 with 1 Axes>"
      ]
     },
     "metadata": {
      "needs_background": "light"
     },
     "output_type": "display_data"
    }
   ],
   "source": [
    "sns.displot(df['heartrate'])"
   ]
  },
  {
   "cell_type": "code",
   "execution_count": 20,
   "id": "abab7d87-7dd4-4ae9-b8ae-6d6ef5ca96e6",
   "metadata": {},
   "outputs": [],
   "source": [
    "from sklearn.svm import SVC\n",
    "from sklearn.neighbors import KNeighborsClassifier\n",
    "from sklearn.ensemble import RandomForestClassifier"
   ]
  },
  {
   "cell_type": "code",
   "execution_count": 15,
   "id": "753a6785-777a-450e-9811-e4a9c267048d",
   "metadata": {},
   "outputs": [],
   "source": [
    "#[('T', 8), ('P', 22), ('QRST', 1), ('J', 376), ('heartrate', 1)]"
   ]
  },
  {
   "cell_type": "code",
   "execution_count": 21,
   "id": "286f7257-b264-4fac-b4ef-dbc28419a576",
   "metadata": {},
   "outputs": [],
   "source": [
    "from sklearn.impute import SimpleImputer\n",
    "\n",
    "transformers = [(col, SimpleImputer(strategy='median'), [col] ) for col in ['T', 'P', 'QRST', 'heartrate']]\n",
    "\n",
    "ctimp = ColumnTransformer(transformers, remainder='passthrough', sparse_threshold=0)"
   ]
  },
  {
   "cell_type": "code",
   "execution_count": 22,
   "id": "5a1a6d6b-a337-47b9-af1d-d20cced64d11",
   "metadata": {},
   "outputs": [
    {
     "data": {
      "application/vnd.jupyter.widget-view+json": {
       "model_id": "93c20c917b0b434eb28922d23a73f311",
       "version_major": 2,
       "version_minor": 0
      },
      "text/plain": [
       "Folds avaliados:   0%|          | 0/10 [00:00<?, ?it/s]"
      ]
     },
     "metadata": {},
     "output_type": "display_data"
    },
    {
     "data": {
      "application/vnd.jupyter.widget-view+json": {
       "model_id": "ace8b9ffc4534d759a0f422e35a60486",
       "version_major": 2,
       "version_minor": 0
      },
      "text/plain": [
       "Folds avaliados:   0%|          | 0/10 [00:00<?, ?it/s]"
      ]
     },
     "metadata": {},
     "output_type": "display_data"
    },
    {
     "data": {
      "application/vnd.jupyter.widget-view+json": {
       "model_id": "f9335a9138a14b2da207e21e542bb0a7",
       "version_major": 2,
       "version_minor": 0
      },
      "text/plain": [
       "Folds avaliados:   0%|          | 0/10 [00:00<?, ?it/s]"
      ]
     },
     "metadata": {},
     "output_type": "display_data"
    }
   ],
   "source": [
    "f1_svm = do_cv(SVC, X_ohoe, y, 10, 10, 8, scale=True, imputer=ctimp, params={'C' : [1, 10, 100, 1000], 'gamma' : ['auto', 'scale']})\n",
    "f1_knn = do_cv(KNeighborsClassifier, X_ohoe, y, 10, 10, 8, scale=True, imputer=ctimp, params={'n_neighbors' : range(1,30,2)})\n",
    "f1_rf = do_cv(RandomForestClassifier, X_ohoe, y, 10, 10, 8, scale=False, imputer=ctimp, params={'criterion' : ['gini', 'entropy'], 'random_state' : [1]})"
   ]
  },
  {
   "cell_type": "code",
   "execution_count": 23,
   "id": "45bce5b9-e681-4c43-9429-63255c20d491",
   "metadata": {},
   "outputs": [
    {
     "name": "stdout",
     "output_type": "stream",
     "text": [
      "Resultados: 0.70 +- 0.11, min: 0.42, max: 0.85\n",
      "Resultados: 0.47 +- 0.10, min: 0.30, max: 0.65\n",
      "Resultados: 0.77 +- 0.09, min: 0.57, max: 0.87\n",
      "(True, 0.00011872357864760984)\n",
      "(False, 0.165654755212778)\n"
     ]
    }
   ],
   "source": [
    "imprimir_estatisticas(f1_svm)\n",
    "imprimir_estatisticas(f1_knn)\n",
    "imprimir_estatisticas(f1_rf)\n",
    "print(rejeitar_hip_nula(f1_svm, f1_knn))\n",
    "print(rejeitar_hip_nula(f1_svm, f1_rf))"
   ]
  },
  {
   "cell_type": "markdown",
   "id": "d24bba0f-e628-4bdb-9910-5d5ab688326d",
   "metadata": {},
   "source": [
    "# PCA para redução de dimensionalidade"
   ]
  },
  {
   "cell_type": "code",
   "execution_count": 24,
   "id": "915b8fc9-59a5-41a0-8fdb-2f363ad59ca8",
   "metadata": {},
   "outputs": [
    {
     "data": {
      "text/plain": [
       "<AxesSubplot:>"
      ]
     },
     "execution_count": 24,
     "metadata": {},
     "output_type": "execute_result"
    },
    {
     "data": {
      "image/png": "[encoded data removed]",
      "text/plain": [
       "<Figure size 432x288 with 1 Axes>"
      ]
     },
     "metadata": {
      "needs_background": "light"
     },
     "output_type": "display_data"
    }
   ],
   "source": [
    "from sklearn.decomposition import PCA\n",
    "from sklearn.preprocessing import StandardScaler\n",
    "\n",
    "X_pca_imp = ctimp.fit_transform(X_ohoe)\n",
    "\n",
    "ss_pca = StandardScaler()\n",
    "X_pca_ss = ss_pca.fit_transform(X_pca_imp)\n",
    "\n",
    "pca = PCA(n_components=2)\n",
    "\n",
    "X_pca = pca.fit_transform(X_pca_ss)\n",
    "\n",
    "sns.scatterplot(x=X_pca[:,0], y=X_pca[:,1], hue=y)"
   ]
  },
  {
   "cell_type": "code",
   "execution_count": 25,
   "id": "0ef6d022-1fd7-4deb-8bda-2a938a8defc9",
   "metadata": {},
   "outputs": [
    {
     "data": {
      "application/vnd.jupyter.widget-view+json": {
       "model_id": "1a0f6467ae81479a9eca488885a752aa",
       "version_major": 2,
       "version_minor": 0
      },
      "text/plain": [
       "Folds avaliados:   0%|          | 0/10 [00:00<?, ?it/s]"
      ]
     },
     "metadata": {},
     "output_type": "display_data"
    },
    {
     "data": {
      "application/vnd.jupyter.widget-view+json": {
       "model_id": "c9a11c989d7e4269bd59d7d6bce72ff9",
       "version_major": 2,
       "version_minor": 0
      },
      "text/plain": [
       "Folds avaliados:   0%|          | 0/10 [00:00<?, ?it/s]"
      ]
     },
     "metadata": {},
     "output_type": "display_data"
    },
    {
     "data": {
      "application/vnd.jupyter.widget-view+json": {
       "model_id": "a5d5db0979794a67a99b98c965d7068c",
       "version_major": 2,
       "version_minor": 0
      },
      "text/plain": [
       "Folds avaliados:   0%|          | 0/10 [00:00<?, ?it/s]"
      ]
     },
     "metadata": {},
     "output_type": "display_data"
    }
   ],
   "source": [
    "resultados = {}\n",
    "\n",
    "svm_teste = ('svm', SVC, True, {'C' : [1, 10, 100, 1000], 'gamma' : ['auto', 'scale']})\n",
    "knn_teste = ('knn', KNeighborsClassifier, True, {'n_neighbors' : range(1,30,2)})\n",
    "rf_teste = ('rf', RandomForestClassifier, False, {'criterion' : ['gini', 'entropy'], 'random_state' : [1]})\n",
    "\n",
    "testes = [svm_teste, knn_teste, rf_teste]\n",
    "\n",
    "for nome, classificador, scale, params in testes:\n",
    "    r = do_cv(classificador, X, y, 10, 10, 8, scale, ctimp, None, params)\n",
    "    resultados[nome] = r"
   ]
  },
  {
   "cell_type": "code",
   "execution_count": 26,
   "id": "d3ce25a8-0daf-4d62-bc46-e01c525b934a",
   "metadata": {},
   "outputs": [
    {
     "name": "stdout",
     "output_type": "stream",
     "text": [
      "       knn - Resultados: 0.48 +- 0.08, min: 0.36, max: 0.58\n",
      "        rf - Resultados: 0.75 +- 0.07, min: 0.60, max: 0.86\n",
      "       svm - Resultados: 0.71 +- 0.13, min: 0.38, max: 0.88\n",
      "\n",
      "                knn          rf         svm     \n",
      "    knn         1.00     0.00 (*<)   0.00 (*<)  \n",
      "     rf      0.00 (*>)      1.00        0.33    \n",
      "    svm      0.00 (*>)      0.33        1.00    \n"
     ]
    }
   ],
   "source": [
    "for teste in sorted(resultados):\n",
    "    print(teste.rjust(10), end=' - ')\n",
    "    imprimir_estatisticas(resultados[teste])\n",
    "\n",
    "print()\n",
    "\n",
    "print_t_tests(resultados)"
   ]
  },
  {
   "cell_type": "code",
   "execution_count": 27,
   "id": "b68c1895-d77a-4144-9beb-5282565f5e9c",
   "metadata": {},
   "outputs": [
    {
     "data": {
      "application/vnd.jupyter.widget-view+json": {
       "model_id": "40b1cebbb4b64af1b3f714289abda132",
       "version_major": 2,
       "version_minor": 0
      },
      "text/plain": [
       "Folds avaliados:   0%|          | 0/10 [00:00<?, ?it/s]"
      ]
     },
     "metadata": {},
     "output_type": "display_data"
    },
    {
     "data": {
      "application/vnd.jupyter.widget-view+json": {
       "model_id": "d0d81bf8b9694fb68b6dbf90599a7da4",
       "version_major": 2,
       "version_minor": 0
      },
      "text/plain": [
       "Folds avaliados:   0%|          | 0/10 [00:00<?, ?it/s]"
      ]
     },
     "metadata": {},
     "output_type": "display_data"
    },
    {
     "data": {
      "application/vnd.jupyter.widget-view+json": {
       "model_id": "91f3702a8df844939f280daccb983357",
       "version_major": 2,
       "version_minor": 0
      },
      "text/plain": [
       "Folds avaliados:   0%|          | 0/10 [00:00<?, ?it/s]"
      ]
     },
     "metadata": {},
     "output_type": "display_data"
    }
   ],
   "source": [
    "for nome, classificador, scale, params in testes:\n",
    "    r = do_cv(classificador, X, y, 10, 10, 8, scale, ctimp, PCA(n_components=8), params)\n",
    "    nome = \"%s_pca=08\" % (nome)\n",
    "    resultados[nome] = r"
   ]
  },
  {
   "cell_type": "code",
   "execution_count": 28,
   "id": "6654d286-85e3-45b6-8cb1-7b53629ceb5e",
   "metadata": {},
   "outputs": [
    {
     "name": "stdout",
     "output_type": "stream",
     "text": [
      "       knn - Resultados: 0.48 +- 0.08, min: 0.36, max: 0.58\n",
      "knn_pca=08 - Resultados: 0.59 +- 0.08, min: 0.46, max: 0.74\n",
      "        rf - Resultados: 0.75 +- 0.07, min: 0.60, max: 0.86\n",
      " rf_pca=08 - Resultados: 0.64 +- 0.11, min: 0.48, max: 0.81\n",
      "       svm - Resultados: 0.71 +- 0.13, min: 0.38, max: 0.88\n",
      "svm_pca=08 - Resultados: 0.71 +- 0.07, min: 0.62, max: 0.85\n",
      "\n",
      "                knn      knn_pca=08      rf      rf_pca=08      svm      svm_pca=08 \n",
      "    knn         1.00     0.01 (*<)   0.00 (*<)   0.00 (*<)   0.00 (*<)   0.00 (*<)  \n",
      " knn_pca=08  0.01 (*>)      1.00     0.00 (*<)      0.19     0.02 (*<)   0.00 (*<)  \n",
      "     rf      0.00 (*>)   0.00 (*>)      1.00     0.01 (*>)      0.33        0.19    \n",
      " rf_pca=08   0.00 (*>)      0.19     0.01 (*<)      1.00        0.26        0.12    \n",
      "    svm      0.00 (*>)   0.02 (*>)      0.33        0.26        1.00        0.92    \n",
      " svm_pca=08  0.00 (*>)   0.00 (*>)      0.19        0.12        0.92        1.00    \n"
     ]
    }
   ],
   "source": [
    "for teste in sorted(resultados):\n",
    "    print(teste.rjust(10), end=' - ')\n",
    "    imprimir_estatisticas(resultados[teste])\n",
    "\n",
    "print()\n",
    "\n",
    "print_t_tests(resultados)"
   ]
  },
  {
   "cell_type": "code",
   "execution_count": 29,
   "id": "755e01d9-1375-4a39-ba87-2734ae0b15c3",
   "metadata": {},
   "outputs": [
    {
     "data": {
      "application/vnd.jupyter.widget-view+json": {
       "model_id": "cbf562fefb154722a7f8d6d7f8a24d8a",
       "version_major": 2,
       "version_minor": 0
      },
      "text/plain": [
       "Folds avaliados:   0%|          | 0/10 [00:00<?, ?it/s]"
      ]
     },
     "metadata": {},
     "output_type": "display_data"
    },
    {
     "data": {
      "application/vnd.jupyter.widget-view+json": {
       "model_id": "5f1d67e2fc36483588f09ccdf8edb664",
       "version_major": 2,
       "version_minor": 0
      },
      "text/plain": [
       "Folds avaliados:   0%|          | 0/10 [00:00<?, ?it/s]"
      ]
     },
     "metadata": {},
     "output_type": "display_data"
    },
    {
     "data": {
      "application/vnd.jupyter.widget-view+json": {
       "model_id": "a024397bcce34d788e03c60af2d439b8",
       "version_major": 2,
       "version_minor": 0
      },
      "text/plain": [
       "Folds avaliados:   0%|          | 0/10 [00:00<?, ?it/s]"
      ]
     },
     "metadata": {},
     "output_type": "display_data"
    },
    {
     "data": {
      "application/vnd.jupyter.widget-view+json": {
       "model_id": "481091acc3e443a9b2f993999be97657",
       "version_major": 2,
       "version_minor": 0
      },
      "text/plain": [
       "Folds avaliados:   0%|          | 0/10 [00:00<?, ?it/s]"
      ]
     },
     "metadata": {},
     "output_type": "display_data"
    },
    {
     "data": {
      "application/vnd.jupyter.widget-view+json": {
       "model_id": "93112cab7b074c40b7dee16d3672acd9",
       "version_major": 2,
       "version_minor": 0
      },
      "text/plain": [
       "Folds avaliados:   0%|          | 0/10 [00:00<?, ?it/s]"
      ]
     },
     "metadata": {},
     "output_type": "display_data"
    },
    {
     "data": {
      "application/vnd.jupyter.widget-view+json": {
       "model_id": "758e5fab45f9473b82e0455494366936",
       "version_major": 2,
       "version_minor": 0
      },
      "text/plain": [
       "Folds avaliados:   0%|          | 0/10 [00:00<?, ?it/s]"
      ]
     },
     "metadata": {},
     "output_type": "display_data"
    },
    {
     "data": {
      "application/vnd.jupyter.widget-view+json": {
       "model_id": "b80d7100a8c54aeba69d2d64ab081931",
       "version_major": 2,
       "version_minor": 0
      },
      "text/plain": [
       "Folds avaliados:   0%|          | 0/10 [00:00<?, ?it/s]"
      ]
     },
     "metadata": {},
     "output_type": "display_data"
    },
    {
     "data": {
      "application/vnd.jupyter.widget-view+json": {
       "model_id": "080a7260a41944049a3abf77e2f9c513",
       "version_major": 2,
       "version_minor": 0
      },
      "text/plain": [
       "Folds avaliados:   0%|          | 0/10 [00:00<?, ?it/s]"
      ]
     },
     "metadata": {},
     "output_type": "display_data"
    },
    {
     "data": {
      "application/vnd.jupyter.widget-view+json": {
       "model_id": "c7975311bdd64cfa9f1ec0a0808ff801",
       "version_major": 2,
       "version_minor": 0
      },
      "text/plain": [
       "Folds avaliados:   0%|          | 0/10 [00:00<?, ?it/s]"
      ]
     },
     "metadata": {},
     "output_type": "display_data"
    }
   ],
   "source": [
    "for n_components in [16, 32, 64]:\n",
    "    pca = PCA(n_components=n_components)\n",
    "    for nome, classificador, scale, params in testes:\n",
    "        r = do_cv(classificador, X, y, 10, 10, 8, scale, ctimp, pca, params)\n",
    "        nome = \"%s_pca=%02d\" % (nome, n_components)\n",
    "        resultados[nome] = r"
   ]
  },
  {
   "cell_type": "code",
   "execution_count": 30,
   "id": "45871562-4a35-4498-8a75-7b26777cacaf",
   "metadata": {},
   "outputs": [
    {
     "name": "stdout",
     "output_type": "stream",
     "text": [
      "       knn - Resultados: 0.48 +- 0.08, min: 0.36, max: 0.58\n",
      "knn_pca=08 - Resultados: 0.59 +- 0.08, min: 0.46, max: 0.74\n",
      "knn_pca=16 - Resultados: 0.55 +- 0.11, min: 0.37, max: 0.77\n",
      "knn_pca=32 - Resultados: 0.57 +- 0.15, min: 0.29, max: 0.76\n",
      "knn_pca=64 - Resultados: 0.55 +- 0.12, min: 0.39, max: 0.72\n",
      "        rf - Resultados: 0.75 +- 0.07, min: 0.60, max: 0.86\n",
      " rf_pca=08 - Resultados: 0.64 +- 0.11, min: 0.48, max: 0.81\n",
      " rf_pca=16 - Resultados: 0.66 +- 0.12, min: 0.47, max: 0.78\n",
      " rf_pca=32 - Resultados: 0.71 +- 0.09, min: 0.51, max: 0.84\n",
      " rf_pca=64 - Resultados: 0.72 +- 0.07, min: 0.60, max: 0.86\n",
      "       svm - Resultados: 0.71 +- 0.13, min: 0.38, max: 0.88\n",
      "svm_pca=08 - Resultados: 0.71 +- 0.07, min: 0.62, max: 0.85\n",
      "svm_pca=16 - Resultados: 0.72 +- 0.11, min: 0.49, max: 0.90\n",
      "svm_pca=32 - Resultados: 0.70 +- 0.09, min: 0.51, max: 0.86\n",
      "svm_pca=64 - Resultados: 0.70 +- 0.08, min: 0.56, max: 0.84\n",
      "\n",
      "                knn          rf         svm     \n",
      "    knn         1.00     0.00 (*<)   0.00 (*<)  \n",
      " knn_pca=08  0.01 (*>)   0.00 (*<)   0.02 (*<)  \n",
      " knn_pca=16     0.13     0.00 (*<)   0.01 (*<)  \n",
      " knn_pca=32     0.09     0.00 (*<)   0.05 (*<)  \n",
      " knn_pca=64     0.10     0.00 (*<)   0.01 (*<)  \n",
      "     rf      0.00 (*>)      1.00        0.33    \n",
      " rf_pca=08   0.00 (*>)   0.01 (*<)      0.26    \n",
      " rf_pca=16   0.00 (*>)   0.04 (*<)      0.42    \n",
      " rf_pca=32   0.00 (*>)      0.27        0.89    \n",
      " rf_pca=64   0.00 (*>)      0.32        0.74    \n",
      "    svm      0.00 (*>)      0.33        1.00    \n",
      " svm_pca=08  0.00 (*>)      0.19        0.92    \n",
      " svm_pca=16  0.00 (*>)      0.43        0.78    \n",
      " svm_pca=32  0.00 (*>)      0.15        0.91    \n",
      " svm_pca=64  0.00 (*>)      0.16        0.96    \n"
     ]
    }
   ],
   "source": [
    "for teste in sorted(resultados):\n",
    "    print(teste.rjust(10), end=' - ')\n",
    "    imprimir_estatisticas(resultados[teste])\n",
    "\n",
    "print()\n",
    "\n",
    "print_t_tests(resultados, cols=['knn', 'rf', 'svm'])"
   ]
  },
  {
   "cell_type": "markdown",
   "id": "8b8c66cf-054d-4da1-8676-1c6c7080fbab",
   "metadata": {},
   "source": [
    "# Projeções aleatórias"
   ]
  },
  {
   "cell_type": "code",
   "execution_count": 27,
   "id": "a555d7aa-a670-491b-8f05-50253bd5ca6f",
   "metadata": {},
   "outputs": [],
   "source": [
    "from sklearn.random_projection import GaussianRandomProjection"
   ]
  },
  {
   "cell_type": "code",
   "execution_count": 28,
   "id": "b0d8555a-a916-402e-bf36-e5f17b3a81f2",
   "metadata": {},
   "outputs": [
    {
     "data": {
      "text/plain": [
       "<AxesSubplot:>"
      ]
     },
     "execution_count": 28,
     "metadata": {},
     "output_type": "execute_result"
    },
    {
     "data": {
      "image/png": "[encoded data removed]",
      "text/plain": [
       "<Figure size 432x288 with 1 Axes>"
      ]
     },
     "metadata": {
      "needs_background": "light"
     },
     "output_type": "display_data"
    }
   ],
   "source": [
    "X_rp_imp = ctimp.fit_transform(X_ohoe)\n",
    "\n",
    "ss_rp = StandardScaler()\n",
    "X_rp_ss = ss_rp.fit_transform(X_rp_imp)\n",
    "\n",
    "rp = GaussianRandomProjection(n_components=2)\n",
    "\n",
    "X_rp = rp.fit_transform(X_rp_ss)\n",
    "\n",
    "sns.scatterplot(x=X_rp[:,0], y=X_rp[:,1], hue=y)"
   ]
  },
  {
   "cell_type": "code",
   "execution_count": 29,
   "id": "1e51b9d9-74a8-4fa5-9c7e-663d3acba059",
   "metadata": {},
   "outputs": [
    {
     "data": {
      "application/vnd.jupyter.widget-view+json": {
       "model_id": "78e9e02bf5cf427eb1be2c1eaf056c5e",
       "version_major": 2,
       "version_minor": 0
      },
      "text/plain": [
       "Folds avaliados:   0%|          | 0/10 [00:00<?, ?it/s]"
      ]
     },
     "metadata": {},
     "output_type": "display_data"
    },
    {
     "data": {
      "application/vnd.jupyter.widget-view+json": {
       "model_id": "770a337a1faf4b0eb34853bf48b9796b",
       "version_major": 2,
       "version_minor": 0
      },
      "text/plain": [
       "Folds avaliados:   0%|          | 0/10 [00:00<?, ?it/s]"
      ]
     },
     "metadata": {},
     "output_type": "display_data"
    },
    {
     "data": {
      "application/vnd.jupyter.widget-view+json": {
       "model_id": "c51bee78d29e4b33901ac879fe8b1fc6",
       "version_major": 2,
       "version_minor": 0
      },
      "text/plain": [
       "Folds avaliados:   0%|          | 0/10 [00:00<?, ?it/s]"
      ]
     },
     "metadata": {},
     "output_type": "display_data"
    }
   ],
   "source": [
    "for nome, classificador, scale, params in testes:\n",
    "    r = do_cv(classificador, X, y, 10, 10, 8, scale, ctimp, GaussianRandomProjection(n_components=8), params)\n",
    "    nome = \"%s_rp=08\" % (nome)\n",
    "    resultados[nome] = r"
   ]
  },
  {
   "cell_type": "code",
   "execution_count": 30,
   "id": "78c00cd4-6449-4206-abe9-1effdf676f26",
   "metadata": {},
   "outputs": [
    {
     "name": "stdout",
     "output_type": "stream",
     "text": [
      "       knn - Resultados: 0.48 +- 0.08, min: 0.36, max: 0.58\n",
      "knn_pca=08 - Resultados: 0.59 +- 0.08, min: 0.46, max: 0.74\n",
      "knn_pca=16 - Resultados: 0.55 +- 0.11, min: 0.37, max: 0.77\n",
      "knn_pca=32 - Resultados: 0.57 +- 0.15, min: 0.29, max: 0.76\n",
      "knn_pca=64 - Resultados: 0.55 +- 0.12, min: 0.39, max: 0.72\n",
      " knn_rp=08 - Resultados: 0.55 +- 0.09, min: 0.38, max: 0.65\n",
      "        rf - Resultados: 0.75 +- 0.07, min: 0.60, max: 0.86\n",
      " rf_pca=08 - Resultados: 0.64 +- 0.11, min: 0.48, max: 0.81\n",
      " rf_pca=16 - Resultados: 0.66 +- 0.12, min: 0.47, max: 0.78\n",
      " rf_pca=32 - Resultados: 0.71 +- 0.09, min: 0.51, max: 0.84\n",
      " rf_pca=64 - Resultados: 0.72 +- 0.07, min: 0.60, max: 0.86\n",
      "  rf_rp=08 - Resultados: 0.58 +- 0.10, min: 0.36, max: 0.72\n",
      "       svm - Resultados: 0.71 +- 0.13, min: 0.38, max: 0.88\n",
      "svm_pca=08 - Resultados: 0.71 +- 0.07, min: 0.62, max: 0.85\n",
      "svm_pca=16 - Resultados: 0.72 +- 0.11, min: 0.49, max: 0.90\n",
      "svm_pca=32 - Resultados: 0.70 +- 0.09, min: 0.51, max: 0.86\n",
      "svm_pca=64 - Resultados: 0.70 +- 0.08, min: 0.56, max: 0.84\n",
      " svm_rp=08 - Resultados: 0.53 +- 0.07, min: 0.37, max: 0.63\n",
      "\n",
      "                knn          rf         svm     \n",
      "    knn         1.00     0.00 (*<)   0.00 (*<)  \n",
      " knn_pca=08  0.01 (*>)   0.00 (*<)   0.02 (*<)  \n",
      " knn_pca=16     0.13     0.00 (*<)   0.01 (*<)  \n",
      " knn_pca=32     0.09     0.00 (*<)   0.05 (*<)  \n",
      " knn_pca=64     0.10     0.00 (*<)   0.01 (*<)  \n",
      " knn_rp=08      0.06     0.00 (*<)   0.01 (*<)  \n",
      "     rf      0.00 (*>)      1.00        0.33    \n",
      " rf_pca=08   0.00 (*>)   0.01 (*<)      0.26    \n",
      " rf_pca=16   0.00 (*>)   0.04 (*<)      0.42    \n",
      " rf_pca=32   0.00 (*>)      0.27        0.89    \n",
      " rf_pca=64   0.00 (*>)      0.32        0.74    \n",
      "  rf_rp=08   0.02 (*>)   0.00 (*<)   0.03 (*<)  \n",
      "    svm      0.00 (*>)      0.33        1.00    \n",
      " svm_pca=08  0.00 (*>)      0.19        0.92    \n",
      " svm_pca=16  0.00 (*>)      0.43        0.78    \n",
      " svm_pca=32  0.00 (*>)      0.15        0.91    \n",
      " svm_pca=64  0.00 (*>)      0.16        0.96    \n",
      " svm_rp=08      0.14     0.00 (*<)   0.00 (*<)  \n"
     ]
    }
   ],
   "source": [
    "for teste in sorted(resultados):\n",
    "    print(teste.rjust(10), end=' - ')\n",
    "    imprimir_estatisticas(resultados[teste])\n",
    "\n",
    "print()\n",
    "\n",
    "print_t_tests(resultados, cols=['knn', 'rf', 'svm'])"
   ]
  },
  {
   "cell_type": "code",
   "execution_count": 31,
   "id": "942393a4-203a-4b91-b146-0889be578b06",
   "metadata": {},
   "outputs": [
    {
     "data": {
      "application/vnd.jupyter.widget-view+json": {
       "model_id": "3300786ed4f642898d92d13c67bdb480",
       "version_major": 2,
       "version_minor": 0
      },
      "text/plain": [
       "Folds avaliados:   0%|          | 0/10 [00:00<?, ?it/s]"
      ]
     },
     "metadata": {},
     "output_type": "display_data"
    },
    {
     "data": {
      "application/vnd.jupyter.widget-view+json": {
       "model_id": "200a1336ed424addbfdeea1f1a4a6fd3",
       "version_major": 2,
       "version_minor": 0
      },
      "text/plain": [
       "Folds avaliados:   0%|          | 0/10 [00:00<?, ?it/s]"
      ]
     },
     "metadata": {},
     "output_type": "display_data"
    },
    {
     "data": {
      "application/vnd.jupyter.widget-view+json": {
       "model_id": "eae1fb39f6b943f1a1c75bae6594f4f9",
       "version_major": 2,
       "version_minor": 0
      },
      "text/plain": [
       "Folds avaliados:   0%|          | 0/10 [00:00<?, ?it/s]"
      ]
     },
     "metadata": {},
     "output_type": "display_data"
    },
    {
     "data": {
      "application/vnd.jupyter.widget-view+json": {
       "model_id": "c9bb94af4447478fa01036980916ebac",
       "version_major": 2,
       "version_minor": 0
      },
      "text/plain": [
       "Folds avaliados:   0%|          | 0/10 [00:00<?, ?it/s]"
      ]
     },
     "metadata": {},
     "output_type": "display_data"
    },
    {
     "data": {
      "application/vnd.jupyter.widget-view+json": {
       "model_id": "3d7b051b345c4ec2927b37e3def4a715",
       "version_major": 2,
       "version_minor": 0
      },
      "text/plain": [
       "Folds avaliados:   0%|          | 0/10 [00:00<?, ?it/s]"
      ]
     },
     "metadata": {},
     "output_type": "display_data"
    },
    {
     "data": {
      "application/vnd.jupyter.widget-view+json": {
       "model_id": "785240d0a82d4faeb71a908820c2b7ec",
       "version_major": 2,
       "version_minor": 0
      },
      "text/plain": [
       "Folds avaliados:   0%|          | 0/10 [00:00<?, ?it/s]"
      ]
     },
     "metadata": {},
     "output_type": "display_data"
    },
    {
     "data": {
      "application/vnd.jupyter.widget-view+json": {
       "model_id": "e1888954c10a4315b45174d9b73e762b",
       "version_major": 2,
       "version_minor": 0
      },
      "text/plain": [
       "Folds avaliados:   0%|          | 0/10 [00:00<?, ?it/s]"
      ]
     },
     "metadata": {},
     "output_type": "display_data"
    },
    {
     "data": {
      "application/vnd.jupyter.widget-view+json": {
       "model_id": "a647f0a70c0740848873c9d42556c04d",
       "version_major": 2,
       "version_minor": 0
      },
      "text/plain": [
       "Folds avaliados:   0%|          | 0/10 [00:00<?, ?it/s]"
      ]
     },
     "metadata": {},
     "output_type": "display_data"
    },
    {
     "data": {
      "application/vnd.jupyter.widget-view+json": {
       "model_id": "846f11d4f39e40b397dca5d0207bcf43",
       "version_major": 2,
       "version_minor": 0
      },
      "text/plain": [
       "Folds avaliados:   0%|          | 0/10 [00:00<?, ?it/s]"
      ]
     },
     "metadata": {},
     "output_type": "display_data"
    }
   ],
   "source": [
    "for n_components in [16, 32, 64]:\n",
    "    rp = GaussianRandomProjection(n_components=n_components)\n",
    "    for nome, classificador, scale, params in testes:\n",
    "        r = do_cv(classificador, X, y, 10, 10, 8, scale, ctimp, rp, params)\n",
    "        nome = \"%s_rp=%02d\" % (nome, n_components)\n",
    "        resultados[nome] = r"
   ]
  },
  {
   "cell_type": "code",
   "execution_count": 32,
   "id": "e6fa02f5-44ba-4eca-aeaa-d2e6b92acfc6",
   "metadata": {},
   "outputs": [
    {
     "name": "stdout",
     "output_type": "stream",
     "text": [
      "       knn - Resultados: 0.48 +- 0.08, min: 0.36, max: 0.58\n",
      "knn_pca=08 - Resultados: 0.59 +- 0.08, min: 0.46, max: 0.74\n",
      "knn_pca=16 - Resultados: 0.55 +- 0.11, min: 0.37, max: 0.77\n",
      "knn_pca=32 - Resultados: 0.57 +- 0.15, min: 0.29, max: 0.76\n",
      "knn_pca=64 - Resultados: 0.55 +- 0.12, min: 0.39, max: 0.72\n",
      " knn_rp=08 - Resultados: 0.55 +- 0.09, min: 0.38, max: 0.65\n",
      " knn_rp=16 - Resultados: 0.53 +- 0.11, min: 0.36, max: 0.74\n",
      " knn_rp=32 - Resultados: 0.51 +- 0.12, min: 0.31, max: 0.69\n",
      " knn_rp=64 - Resultados: 0.51 +- 0.07, min: 0.40, max: 0.61\n",
      "        rf - Resultados: 0.75 +- 0.07, min: 0.60, max: 0.86\n",
      " rf_pca=08 - Resultados: 0.64 +- 0.11, min: 0.48, max: 0.81\n",
      " rf_pca=16 - Resultados: 0.66 +- 0.12, min: 0.47, max: 0.78\n",
      " rf_pca=32 - Resultados: 0.71 +- 0.09, min: 0.51, max: 0.84\n",
      " rf_pca=64 - Resultados: 0.72 +- 0.07, min: 0.60, max: 0.86\n",
      "  rf_rp=08 - Resultados: 0.58 +- 0.10, min: 0.36, max: 0.72\n",
      "  rf_rp=16 - Resultados: 0.67 +- 0.09, min: 0.53, max: 0.82\n",
      "  rf_rp=32 - Resultados: 0.63 +- 0.09, min: 0.50, max: 0.81\n",
      "  rf_rp=64 - Resultados: 0.69 +- 0.11, min: 0.50, max: 0.92\n",
      "       svm - Resultados: 0.71 +- 0.13, min: 0.38, max: 0.88\n",
      "svm_pca=08 - Resultados: 0.71 +- 0.07, min: 0.62, max: 0.85\n",
      "svm_pca=16 - Resultados: 0.72 +- 0.11, min: 0.49, max: 0.90\n",
      "svm_pca=32 - Resultados: 0.70 +- 0.09, min: 0.51, max: 0.86\n",
      "svm_pca=64 - Resultados: 0.70 +- 0.08, min: 0.56, max: 0.84\n",
      " svm_rp=08 - Resultados: 0.53 +- 0.07, min: 0.37, max: 0.63\n",
      " svm_rp=16 - Resultados: 0.63 +- 0.09, min: 0.50, max: 0.74\n",
      " svm_rp=32 - Resultados: 0.69 +- 0.09, min: 0.54, max: 0.81\n",
      " svm_rp=64 - Resultados: 0.67 +- 0.10, min: 0.48, max: 0.79\n",
      "\n",
      "                knn          rf         svm     \n",
      "    knn         1.00     0.00 (*<)   0.00 (*<)  \n",
      " knn_pca=08  0.01 (*>)   0.00 (*<)   0.02 (*<)  \n",
      " knn_pca=16     0.13     0.00 (*<)   0.01 (*<)  \n",
      " knn_pca=32     0.09     0.00 (*<)   0.05 (*<)  \n",
      " knn_pca=64     0.10     0.00 (*<)   0.01 (*<)  \n",
      " knn_rp=08      0.06     0.00 (*<)   0.01 (*<)  \n",
      " knn_rp=16      0.24     0.00 (*<)   0.00 (*<)  \n",
      " knn_rp=32      0.45     0.00 (*<)   0.00 (*<)  \n",
      " knn_rp=64      0.37     0.00 (*<)   0.00 (*<)  \n",
      "     rf      0.00 (*>)      1.00        0.33    \n",
      " rf_pca=08   0.00 (*>)   0.01 (*<)      0.26    \n",
      " rf_pca=16   0.00 (*>)   0.04 (*<)      0.42    \n",
      " rf_pca=32   0.00 (*>)      0.27        0.89    \n",
      " rf_pca=64   0.00 (*>)      0.32        0.74    \n",
      "  rf_rp=08   0.02 (*>)   0.00 (*<)   0.03 (*<)  \n",
      "  rf_rp=16   0.00 (*>)   0.02 (*<)      0.42    \n",
      "  rf_rp=32   0.00 (*>)   0.00 (*<)      0.14    \n",
      "  rf_rp=64   0.00 (*>)      0.11        0.71    \n",
      "    svm      0.00 (*>)      0.33        1.00    \n",
      " svm_pca=08  0.00 (*>)      0.19        0.92    \n",
      " svm_pca=16  0.00 (*>)      0.43        0.78    \n",
      " svm_pca=32  0.00 (*>)      0.15        0.91    \n",
      " svm_pca=64  0.00 (*>)      0.16        0.96    \n",
      " svm_rp=08      0.14     0.00 (*<)   0.00 (*<)  \n",
      " svm_rp=16   0.00 (*>)   0.00 (*<)      0.13    \n",
      " svm_rp=32   0.00 (*>)      0.08        0.74    \n",
      " svm_rp=64   0.00 (*>)   0.05 (*<)      0.52    \n"
     ]
    }
   ],
   "source": [
    "for teste in sorted(resultados):\n",
    "    print(teste.rjust(10), end=' - ')\n",
    "    imprimir_estatisticas(resultados[teste])\n",
    "\n",
    "print()\n",
    "\n",
    "print_t_tests(resultados, cols=['knn', 'rf', 'svm'])"
   ]
  },
  {
   "cell_type": "code",
   "execution_count": null,
   "id": "1bbdb073-b74a-4497-a258-0c95eb33368e",
   "metadata": {},
   "outputs": [],
   "source": []
  }
 ],
 "metadata": {
  "kernelspec": {
   "display_name": "Python 3",
   "language": "python",
   "name": "python3"
  },
  "language_info": {
   "codemirror_mode": {
    "name": "ipython",
    "version": 3
   },
   "file_extension": ".py",
   "mimetype": "text/x-python",
   "name": "python",
   "nbconvert_exporter": "python",
   "pygments_lexer": "ipython3",
   "version": "3.8.8"
  }
 },
 "nbformat": 4,
 "nbformat_minor": 5
}
